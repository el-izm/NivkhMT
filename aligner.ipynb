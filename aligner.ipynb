{
  "cells": [
    {
      "cell_type": "markdown",
      "metadata": {
        "id": "A2mevldzenr-"
      },
      "source": [
        "# Установка зависимостей"
      ]
    },
    {
      "cell_type": "code",
      "execution_count": null,
      "metadata": {
        "colab": {
          "base_uri": "https://localhost:8080/"
        },
        "id": "jeskYGB6Lkea",
        "outputId": "127109a2-8b3b-48e7-d618-d3ec54cd62fb"
      },
      "outputs": [
        {
          "output_type": "stream",
          "name": "stdout",
          "text": [
            "Mounted at /content/drive\n"
          ]
        }
      ],
      "source": [
        "from google.colab import drive\n",
        "drive.mount('/content/drive')"
      ]
    },
    {
      "cell_type": "code",
      "execution_count": null,
      "metadata": {
        "id": "I_Wtw7K5Q7be"
      },
      "outputs": [],
      "source": [
        "import numpy as np\n",
        "import matplotlib.pyplot as plt\n",
        "import seaborn as sns\n",
        "from IPython.display import clear_output\n",
        "from IPython.utils import io\n",
        "import torch\n",
        "import time\n",
        "from torch import optim\n",
        "from torch.nn import functional as F\n",
        "import shutil\n",
        "import pickle\n",
        "import os\n",
        "import re\n",
        "\n",
        "with io.capture_output() as captured:\n",
        "  !pip install transformers sentencepiece sentence_transformers xmltodict pypinyin pykakasi\n",
        "\n",
        "from sentence_transformers import SentenceTransformer, SentencesDataset, LoggingHandler, losses\n",
        "from sentence_transformers.readers import InputExample\n",
        "from sentence_transformers.evaluation import SentenceEvaluator\n",
        "from torch.utils.data import DataLoader\n",
        "from datetime import datetime\n",
        "import math\n",
        "\n",
        "from transformers import AutoTokenizer, AutoModel, get_linear_schedule_with_warmup\n",
        "from torch.optim import AdamW\n",
        "from tqdm.notebook import tqdm\n",
        "\n",
        "with io.capture_output() as captured:\n",
        "  !pip install lingtrain_aligner==1.0.2 dateparser razdel\n",
        "\n",
        "from razdel import sentenize\n",
        "from lingtrain_aligner import preprocessor, splitter, aligner, resolver, reader, helper, vis_helper, metrics\n",
        "from lingtrain_aligner.saver import save_plain_text\n",
        "from scipy.spatial.distance import cosine\n",
        "\n",
        "sns.set()"
      ]
    },
    {
      "cell_type": "markdown",
      "metadata": {
        "id": "UjFflIzaewwJ"
      },
      "source": [
        "# Вспомогательные функции"
      ]
    },
    {
      "cell_type": "code",
      "execution_count": null,
      "metadata": {
        "collapsed": true,
        "id": "MQ2hLCCT3oEL"
      },
      "outputs": [],
      "source": [
        "import razdel\n",
        "\n",
        "def split_sentences(text):\n",
        "    return [sentence.text for sentence in razdel.sentenize(text)]"
      ]
    },
    {
      "cell_type": "code",
      "execution_count": null,
      "metadata": {
        "id": "ShmHipzVjWG6"
      },
      "outputs": [],
      "source": [
        "def prepare_text(text):\n",
        "    text = re.sub(r'([!?\\.:,])(?!\\.)', r'\\1 ', text)\n",
        "    # text = re.sub(':\\n- ', '. ', text)\n",
        "    text = re.sub('\\s+', ' ', text)\n",
        "    return text.strip()"
      ]
    },
    {
      "cell_type": "code",
      "execution_count": null,
      "metadata": {
        "id": "YRHnYEmjYMQH"
      },
      "outputs": [],
      "source": [
        "def clean_up(sents):\n",
        "    map = {\n",
        "        'ь:': 'ь.', 'Ē~ӽ': 'Ех', 'ѵ': 'у', 'Ē': 'Е', 'ā': 'а', 'ñ': '', '×': 'у',\n",
        "        'ī': 'и', 'Ō': 'О', 'ō': 'о', 'р̃': 'р̌', 'р̆': 'р̌', '~': '-',\n",
        "        '§.': '', 'ÿ': 'у', 'ʻ': '', 'ʼ': \"'\", 'р˘': 'р̌', 'р̀': 'р̌',\n",
        "        '́': '', '̃': '', '̄': '', '̉': '', '̍': '', '̔': 'р', '̣': '',\n",
        "        '̥': '', '̨': '', '̬': '', '̓': '', 'џ': 'ц', 'ґ': 'г', 'Ҥ': 'Ӈ',\n",
        "        'Ң': 'Ӈ', 'ң': 'ӈ', 'Ӊ': 'Ӈ', 'ӊ': 'ӈ', 'ҧ': 'п', 'Ұ': 'ӻ',\n",
        "        'ӗ': 'е', 'Өа х': 'Х', 'ӯ': 'у', 'ӱ': 'у', 'ӧ': 'ё', 'ҳ': 'х',\n",
        "        '՚': \"'\", 'ḗ': 'е', 'ṓ': 'о', 'ṕ': 'р̌', '‑': '-', '‐': '-',\n",
        "        '–': '-', '—': '-', '‘': \"'\", '’': \"'\", '“': '\"', '”': '\"',\n",
        "        '«': '\"', '»': '\"', '•': '', '…': '...', '▸': '', 'Р̆': 'Р̌',\n",
        "        'ē': 'е', 'Ӿ ': '! ', 'Ӿ\" ': '!\" ', \"\\\\'\": \"'\"\n",
        "    }\n",
        "    cleaned_sents = []\n",
        "    for sent in sents:\n",
        "        for old, new in map.items():\n",
        "            sent = sent.replace(old, new)\n",
        "        cleaned_sents.append(sent.replace(\"\\\\\", \"\"))\n",
        "    return cleaned_sents"
      ]
    },
    {
      "cell_type": "code",
      "execution_count": null,
      "metadata": {
        "id": "dAr87csbfLVz"
      },
      "outputs": [],
      "source": [
        "def find_file(files, pattern):\n",
        "    for f in files:\n",
        "        if re.fullmatch(pattern, f):\n",
        "            return f\n",
        "    return None"
      ]
    },
    {
      "cell_type": "code",
      "execution_count": null,
      "metadata": {
        "id": "ZTQMaL1qWmnr"
      },
      "outputs": [],
      "source": [
        "#@title Главная функция\n",
        "\n",
        "def align_texts(path_n, path_r, output_dir):\n",
        "    with open(path_n, encoding='utf-8') as f:\n",
        "        text1 = prepare_text(f.read())\n",
        "    with open(path_r, encoding='utf-8') as f:\n",
        "        text2 = prepare_text(f.read())\n",
        "\n",
        "    # разбиваем на предложения, дополнительно чистим\n",
        "    sents1 = clean_up(split_sentences(text1))\n",
        "    sents2 = clean_up(split_sentences(text2))\n",
        "\n",
        "    # задаём путь к временному индексу\n",
        "    db_path = os.path.join(output_dir, 'alignment.db')\n",
        "    if os.path.exists(db_path):\n",
        "        os.unlink(db_path)  # удаляем, если остался с предыдущего запуска\n",
        "\n",
        "    # записываем предложения в индекс для выравнивания\n",
        "    aligner.fill_db(db_path, LANG_FROM, LANG_TO, sents1, sents2)\n",
        "\n",
        "    # вычисляем динамический размер окна\n",
        "    num_sents1 = len(sents1)\n",
        "    num_sents2 = len(sents2)\n",
        "    avg_len = (num_sents1 + num_sents2) / 2\n",
        "    window = int(min(50, max(10, avg_len * 0.1)))\n",
        "\n",
        "    # выравниваем с учётом окна и других параметров\n",
        "    aligner.align_db(db_path, model_name=MODEL_NAME, model=MODEL,\n",
        "                    batch_size=200, window=window, embed_batch_size=5,\n",
        "                    normalize_embeddings=True, show_progress_bar=False,\n",
        "                    shift=0)\n",
        "\n",
        "    # несколько проходов разрешения конфликтов\n",
        "    for step in range(3):\n",
        "        conflicts, rest = resolver.get_all_conflicts(\n",
        "            db_path,\n",
        "            min_chain_length=2 + step,           # увеличиваем допустимую цепочку\n",
        "            max_conflicts_len=6 * (step + 1),    # увеличиваем размер конфликтного блока\n",
        "            handle_start=True,\n",
        "            handle_finish=True\n",
        "        )\n",
        "        resolver.resolve_all_conflicts(db_path, conflicts, MODEL_NAME, model=MODEL)\n",
        "        if len(rest) == 0:\n",
        "            break  # если нечего решать — выходим раньше\n",
        "\n",
        "    # финальный проход разрешения конфликтов, на всякий\n",
        "    conflicts, _ = resolver.get_all_conflicts(\n",
        "        db_path,\n",
        "        min_chain_length=2,\n",
        "        max_conflicts_len=26,\n",
        "        handle_start=True,\n",
        "        handle_finish=True\n",
        "    )\n",
        "    resolver.resolve_all_conflicts(db_path, conflicts, MODEL_NAME, model=MODEL)\n",
        "\n",
        "    # визуализируем выравнивание для наглядной проверки\n",
        "    vis_helper.visualize_alignment_by_db(\n",
        "        db_path,\n",
        "        output_path=os.path.join(output_dir, 'alignment_vis.png'),\n",
        "        batch_size=800,\n",
        "        size=(900, 900),\n",
        "        lang_name_from=LANG_FROM,\n",
        "        lang_name_to=LANG_TO,\n",
        "        plt_show=False\n",
        "    )\n",
        "\n",
        "    # достаём финальные пары строк\n",
        "    lines_from, lines_to = helper.read_processing(db_path)\n",
        "\n",
        "    # фильтрация по относительной длине\n",
        "    MAX_LEN_RATIO = 1.5\n",
        "\n",
        "    length_ids = []\n",
        "    for i, (s1, s2) in enumerate(zip(lines_from, lines_to)):\n",
        "        len1 = len(s1.strip().split())\n",
        "        len2 = len(s2.strip().split())\n",
        "        if len1 == 0 or len2 == 0:\n",
        "            continue\n",
        "        ratio = max(len1 / len2, len2 / len1)\n",
        "        if ratio <= MAX_LEN_RATIO:\n",
        "            length_ids.append(i)\n",
        "\n",
        "    # оставляем только пары с допустимым соотношением длины\n",
        "    lines_from = np.array(lines_from)[length_ids]\n",
        "    lines_to = np.array(lines_to)[length_ids]\n",
        "\n",
        "    # считаем их косинусное сходство\n",
        "    vec_from = aligner.get_line_vectors(lines_from, model_name=MODEL_NAME, model=MODEL)\n",
        "    vec_to = aligner.get_line_vectors(lines_to, model_name=MODEL_NAME, model=MODEL)\n",
        "\n",
        "    # считаем сходство между векторами, отбрасываем те, что ниже порога\n",
        "    sims = [1 - cosine(x, y) if np.any(x) and np.any(y) else 0 for x, y in zip(vec_from, vec_to)]\n",
        "    ids = [i for i, sim in enumerate(sims) if sim >= SENT_SIM_THRESHOLD]\n",
        "\n",
        "    # фильтруем только те пары, которые прошли по порогу\n",
        "    lines_from_filtered = np.array(lines_from)[ids]\n",
        "    lines_to_filtered = np.array(lines_to)[ids]\n",
        "\n",
        "    # убираем повторно используемые переводы (один ко многим)\n",
        "    used_targets = set()\n",
        "    filtered_pairs = []\n",
        "    for s, t in zip(lines_from_filtered, lines_to_filtered):\n",
        "        if t not in used_targets:\n",
        "            filtered_pairs.append((s, t))\n",
        "            used_targets.add(t)\n",
        "    # перезапись\n",
        "    lines_from_filtered, lines_to_filtered = zip(*filtered_pairs)\n",
        "\n",
        "    print(f'N: {len(sents1)} --> {len(lines_from_filtered)}')\n",
        "    print(f'R: {len(sents2)} --> {len(lines_to_filtered)}')\n",
        "\n",
        "    # вычисляем chain_score\n",
        "    score = metrics.chain_score(db_path)\n",
        "    print(f'Chain score: {score:.4f}')\n",
        "\n",
        "    # задаём порог\n",
        "    CHAIN_SCORE_THRESHOLD = 0.7\n",
        "\n",
        "    if score < CHAIN_SCORE_THRESHOLD:\n",
        "        print(f'Skipping saving due to low chain_score: {score:.4f}')\n",
        "        return 0, len(sents1), len(sents2), ''\n",
        "\n",
        "    # сохраняем в нужном нам формате\n",
        "    out_path = os.path.join(output_dir, 'n_r_p.txt')\n",
        "    with open(out_path, 'w', encoding='utf-8') as f:\n",
        "        for i, (s, t) in enumerate(zip(lines_from_filtered, lines_to_filtered), 1):\n",
        "            f.write(f'{i}> {s}\\n{i}= {t}\\n\\n')\n",
        "\n",
        "    return len(lines_from_filtered), len(sents1), len(sents2), out_path"
      ]
    },
    {
      "cell_type": "markdown",
      "metadata": {
        "id": "_aJ-vx4EfQ-I"
      },
      "source": [
        "# Основной цикл"
      ]
    },
    {
      "cell_type": "code",
      "execution_count": null,
      "metadata": {
        "colab": {
          "base_uri": "https://localhost:8080/"
        },
        "id": "CQNqM7cz1Euq",
        "outputId": "43d3464f-f92e-4807-e123-4c3029c19c0e"
      },
      "outputs": [
        {
          "output_type": "stream",
          "name": "stdout",
          "text": [
            "Retrieving folder contents\n",
            "Processing file 1MIidLg2ZkBPeMbwD7tm--Q5x0fwHt_hO config.json\n",
            "Processing file 1RWx7ZnTDUDJgLn7d5q7EKslyIUst4YnM model.safetensors\n",
            "Processing file 1ZKeCVKDWSx0mNCa0eKO3JiStkVUbiQP2 special_tokens_map.json\n",
            "Processing file 1V5Q1Wil0tWumsBIMakgFNasQLv_nHWUp tokenizer_config.json\n",
            "Processing file 12X_PYHnvMLOhfmbbhnKU-BjFskMWDvku tokenizer.json\n",
            "Processing file 1kEfQ8sxO3vHajrMbVSu615PSu7VRziE- vocab.txt\n",
            "Retrieving folder contents completed\n",
            "Building directory structure\n",
            "Building directory structure completed\n",
            "Downloading...\n",
            "From: https://drive.google.com/uc?id=1MIidLg2ZkBPeMbwD7tm--Q5x0fwHt_hO\n",
            "To: /content/nivkh_v1/config.json\n",
            "100% 818/818 [00:00<00:00, 4.32MB/s]\n",
            "Downloading...\n",
            "From (original): https://drive.google.com/uc?id=1RWx7ZnTDUDJgLn7d5q7EKslyIUst4YnM\n",
            "From (redirected): https://drive.google.com/uc?id=1RWx7ZnTDUDJgLn7d5q7EKslyIUst4YnM&confirm=t&uuid=7f832acc-bcd0-45ef-9939-879bdca1fbe8\n",
            "To: /content/nivkh_v1/model.safetensors\n",
            "100% 541M/541M [00:06<00:00, 78.8MB/s]\n",
            "Downloading...\n",
            "From: https://drive.google.com/uc?id=1ZKeCVKDWSx0mNCa0eKO3JiStkVUbiQP2\n",
            "To: /content/nivkh_v1/special_tokens_map.json\n",
            "100% 695/695 [00:00<00:00, 4.12MB/s]\n",
            "Downloading...\n",
            "From: https://drive.google.com/uc?id=1V5Q1Wil0tWumsBIMakgFNasQLv_nHWUp\n",
            "To: /content/nivkh_v1/tokenizer_config.json\n",
            "100% 1.26k/1.26k [00:00<00:00, 5.99MB/s]\n",
            "Downloading...\n",
            "From: https://drive.google.com/uc?id=12X_PYHnvMLOhfmbbhnKU-BjFskMWDvku\n",
            "To: /content/nivkh_v1/tokenizer.json\n",
            "100% 1.63M/1.63M [00:00<00:00, 157MB/s]\n",
            "Downloading...\n",
            "From: https://drive.google.com/uc?id=1kEfQ8sxO3vHajrMbVSu615PSu7VRziE-\n",
            "To: /content/nivkh_v1/vocab.txt\n",
            "100% 623k/623k [00:00<00:00, 112MB/s]\n",
            "Download completed\n"
          ]
        }
      ],
      "source": [
        "!gdown --folder 1XMOKBmIwSDQkrn3WHmLZExRwOzOsGcQC"
      ]
    },
    {
      "cell_type": "code",
      "execution_count": null,
      "metadata": {
        "colab": {
          "base_uri": "https://localhost:8080/"
        },
        "id": "bha2UPA0P9mo",
        "outputId": "b6558634-8c82-4f7c-cbcb-f8fe440ac5da"
      },
      "outputs": [
        {
          "output_type": "stream",
          "name": "stderr",
          "text": [
            "WARNING:sentence_transformers.SentenceTransformer:No sentence-transformers model found with name /content/nivkh_v1. Creating a new one with mean pooling.\n"
          ]
        }
      ],
      "source": [
        "from sentence_transformers import SentenceTransformer\n",
        "\n",
        "model_path = '/content/nivkh_v1'\n",
        "model = SentenceTransformer(model_path)"
      ]
    },
    {
      "cell_type": "code",
      "execution_count": null,
      "metadata": {
        "id": "j-7gMgjEYEfo"
      },
      "outputs": [],
      "source": [
        "LANG_FROM = 'nivkh'\n",
        "LANG_TO = 'ru'\n",
        "MODEL_NAME = '/content/nivkh_v1'\n",
        "SENT_SIM_THRESHOLD = 0.7\n",
        "MODEL = model\n",
        "ROOT_FOLDER = '/content/drive/MyDrive/FilteredNivkhTxt'"
      ]
    },
    {
      "cell_type": "code",
      "execution_count": null,
      "metadata": {
        "colab": {
          "base_uri": "https://localhost:8080/",
          "referenced_widgets": [
            "efc151689d5e4564944930036407b998",
            "2a658e3e56d147c1af54bbd37b45dc44",
            "b99af33b459d4d569530f6bde6ce89ca",
            "0619499f6a1a41b5aae03c8962b9fb08",
            "6a148f5803954e26954a72c5a671df48",
            "53bf432d28984013ba46f0842c03e554",
            "fba701d6ed6f436e8fa9fd80f3262d67",
            "6726c104813a4ca99f44e6c62f069fb6",
            "be0dbfd575b04cd9992552be156b85a3",
            "492470d0de6b4f2498d813a02ce3ac67",
            "68fb7e50acae4a958808ed92c306b5ae"
          ],
          "height": 1000
        },
        "id": "WYe-cEBNd0Ac",
        "outputId": "495852dd-e943-4137-b04e-b25518423fa7"
      },
      "outputs": [
        {
          "output_type": "display_data",
          "data": {
            "text/plain": [
              "  0%|          | 0/338 [00:00<?, ?it/s]"
            ],
            "application/vnd.jupyter.widget-view+json": {
              "version_major": 2,
              "version_minor": 0,
              "model_id": "efc151689d5e4564944930036407b998"
            }
          },
          "metadata": {}
        },
        {
          "output_type": "stream",
          "name": "stdout",
          "text": [
            "\n",
            " ---------------------------------------------------------------------------------------------------------------------------------------------------------------------------------------------------------------------------------------------------------------------------------------------------------------------------------------------------------------------------------------------------------------------------------------------------------------------------------------------------------------------------------------------------------------------------------------------------------------------------------------------------------------------------------------------------------------------------------------------------------------------------------------------------------------------------------------------------------------------------------------------------------------------------------------------------------------------------------------------------------------------------------------- \n",
            "\n",
            "/content/drive/MyDrive/FilteredNivkhTxt/a245_nd/n.txt /content/drive/MyDrive/FilteredNivkhTxt/a245_nd/r.txt\n"
          ]
        },
        {
          "output_type": "stream",
          "name": "stderr",
          "text": [
            "WARNING:root:can not fetch index db\n"
          ]
        },
        {
          "output_type": "stream",
          "name": "stdout",
          "text": [
            "Aligning without segments.\n",
            "tasks amount: 1\n",
            "batch: 0 (0)\n",
            "conflicts to solve: 2\n",
            "total conflicts: 2\n"
          ]
        },
        {
          "output_type": "stream",
          "name": "stderr",
          "text": [
            "\n",
            "  0%|          | 0/2 [00:00<?, ?it/s]\u001b[A\n",
            " 50%|█████     | 1/2 [00:00<00:00,  5.81it/s]\u001b[A\n",
            "100%|██████████| 2/2 [00:00<00:00,  6.32it/s]\n"
          ]
        },
        {
          "output_type": "stream",
          "name": "stdout",
          "text": [
            "conflicts to solve: 0\n",
            "total conflicts: 0\n"
          ]
        },
        {
          "output_type": "stream",
          "name": "stderr",
          "text": [
            "\n",
            "0it [00:00, ?it/s]\n"
          ]
        },
        {
          "output_type": "stream",
          "name": "stdout",
          "text": [
            "N: 17 --> 7\n",
            "R: 14 --> 7\n",
            "Chain score: 0.8667\n",
            "\n",
            " ---------------------------------------------------------------------------------------------------------------------------------------------------------------------------------------------------------------------------------------------------------------------------------------------------------------------------------------------------------------------------------------------------------------------------------------------------------------------------------------------------------------------------------------------------------------------------------------------------------------------------------------------------------------------------------------------------------------------------------------------------------------------------------------------------------------------------------------------------------------------------------------------------------------------------------------------------------------------------------------------------------------------------------------- \n",
            "\n",
            "/content/drive/MyDrive/FilteredNivkhTxt/a354_nd/n.txt /content/drive/MyDrive/FilteredNivkhTxt/a354_nd/r.txt\n"
          ]
        },
        {
          "output_type": "stream",
          "name": "stderr",
          "text": [
            "WARNING:root:can not fetch index db\n"
          ]
        },
        {
          "output_type": "stream",
          "name": "stdout",
          "text": [
            "Aligning without segments.\n",
            "tasks amount: 1\n",
            "batch: 0 (0)\n",
            "conflicts to solve: 1\n",
            "total conflicts: 3\n"
          ]
        },
        {
          "output_type": "stream",
          "name": "stderr",
          "text": [
            "\n",
            "100%|██████████| 1/1 [00:00<00:00, 13.34it/s]\n"
          ]
        },
        {
          "output_type": "stream",
          "name": "stdout",
          "text": [
            "conflicts to solve: 0\n",
            "total conflicts: 1\n"
          ]
        },
        {
          "output_type": "stream",
          "name": "stderr",
          "text": [
            "\n",
            "0it [00:00, ?it/s]\n"
          ]
        },
        {
          "output_type": "stream",
          "name": "stdout",
          "text": [
            "conflicts to solve: 0\n",
            "total conflicts: 0\n"
          ]
        },
        {
          "output_type": "stream",
          "name": "stderr",
          "text": [
            "\n",
            "0it [00:00, ?it/s]\n"
          ]
        },
        {
          "output_type": "stream",
          "name": "stdout",
          "text": [
            "conflicts to solve: 1\n",
            "total conflicts: 2\n"
          ]
        },
        {
          "output_type": "stream",
          "name": "stderr",
          "text": [
            "\n",
            "  0%|          | 0/1 [00:00<?, ?it/s]\u001b[A\n",
            "100%|██████████| 1/1 [00:00<00:00,  4.10it/s]\n"
          ]
        },
        {
          "output_type": "stream",
          "name": "stdout",
          "text": [
            "N: 19 --> 3\n",
            "R: 14 --> 3\n",
            "Chain score: 0.8889\n",
            "\n",
            " ---------------------------------------------------------------------------------------------------------------------------------------------------------------------------------------------------------------------------------------------------------------------------------------------------------------------------------------------------------------------------------------------------------------------------------------------------------------------------------------------------------------------------------------------------------------------------------------------------------------------------------------------------------------------------------------------------------------------------------------------------------------------------------------------------------------------------------------------------------------------------------------------------------------------------------------------------------------------------------------------------------------------------------------- \n",
            "\n",
            "/content/drive/MyDrive/FilteredNivkhTxt/a271_nd/n.txt /content/drive/MyDrive/FilteredNivkhTxt/a271_nd/r.txt\n",
            "Aligning without segments.\n",
            "tasks amount: 1\n",
            "batch: 0 (0)\n"
          ]
        },
        {
          "output_type": "stream",
          "name": "stderr",
          "text": [
            "WARNING:root:can not fetch index db\n"
          ]
        },
        {
          "output_type": "stream",
          "name": "stdout",
          "text": [
            "conflicts to solve: 2\n",
            "total conflicts: 3\n"
          ]
        },
        {
          "output_type": "stream",
          "name": "stderr",
          "text": [
            "\n",
            "  0%|          | 0/2 [00:00<?, ?it/s]\u001b[A\n",
            " 50%|█████     | 1/2 [00:00<00:00,  7.44it/s]\u001b[A\n",
            "100%|██████████| 2/2 [00:00<00:00,  7.72it/s]\n"
          ]
        },
        {
          "output_type": "stream",
          "name": "stdout",
          "text": [
            "conflicts to solve: 0\n",
            "total conflicts: 1\n"
          ]
        },
        {
          "output_type": "stream",
          "name": "stderr",
          "text": [
            "\n",
            "0it [00:00, ?it/s]\n"
          ]
        },
        {
          "output_type": "stream",
          "name": "stdout",
          "text": [
            "conflicts to solve: 1\n",
            "total conflicts: 1\n"
          ]
        },
        {
          "output_type": "stream",
          "name": "stderr",
          "text": [
            "\n",
            "  0%|          | 0/1 [00:00<?, ?it/s]\u001b[A\n",
            "100%|██████████| 1/1 [00:01<00:00,  1.93s/it]\n"
          ]
        },
        {
          "output_type": "stream",
          "name": "stdout",
          "text": [
            "conflicts to solve: 0\n",
            "total conflicts: 0\n"
          ]
        },
        {
          "output_type": "stream",
          "name": "stderr",
          "text": [
            "\n",
            "0it [00:00, ?it/s]\n"
          ]
        },
        {
          "output_type": "stream",
          "name": "stdout",
          "text": [
            "N: 21 --> 12\n",
            "R: 26 --> 12\n",
            "Chain score: 0.8889\n",
            "\n",
            " ---------------------------------------------------------------------------------------------------------------------------------------------------------------------------------------------------------------------------------------------------------------------------------------------------------------------------------------------------------------------------------------------------------------------------------------------------------------------------------------------------------------------------------------------------------------------------------------------------------------------------------------------------------------------------------------------------------------------------------------------------------------------------------------------------------------------------------------------------------------------------------------------------------------------------------------------------------------------------------------------------------------------------------------- \n",
            "\n",
            "/content/drive/MyDrive/FilteredNivkhTxt/a393_nd/n.txt /content/drive/MyDrive/FilteredNivkhTxt/a393_nd/r.txt\n"
          ]
        },
        {
          "output_type": "stream",
          "name": "stderr",
          "text": [
            "WARNING:root:can not fetch index db\n"
          ]
        },
        {
          "output_type": "stream",
          "name": "stdout",
          "text": [
            "Aligning without segments.\n",
            "tasks amount: 1\n",
            "batch: 0 (0)\n",
            "conflicts to solve: 0\n",
            "total conflicts: 1\n"
          ]
        },
        {
          "output_type": "stream",
          "name": "stderr",
          "text": [
            "\n",
            "0it [00:00, ?it/s]\n"
          ]
        },
        {
          "output_type": "stream",
          "name": "stdout",
          "text": [
            "conflicts to solve: 0\n",
            "total conflicts: 1\n"
          ]
        },
        {
          "output_type": "stream",
          "name": "stderr",
          "text": [
            "\n",
            "0it [00:00, ?it/s]\n"
          ]
        },
        {
          "output_type": "stream",
          "name": "stdout",
          "text": [
            "conflicts to solve: 0\n",
            "total conflicts: 1\n"
          ]
        },
        {
          "output_type": "stream",
          "name": "stderr",
          "text": [
            "\n",
            "0it [00:00, ?it/s]\n"
          ]
        },
        {
          "output_type": "stream",
          "name": "stdout",
          "text": [
            "conflicts to solve: 0\n",
            "total conflicts: 1\n"
          ]
        },
        {
          "output_type": "stream",
          "name": "stderr",
          "text": [
            "\n",
            "0it [00:00, ?it/s]\n"
          ]
        },
        {
          "output_type": "stream",
          "name": "stdout",
          "text": [
            "N: 19 --> 4\n",
            "R: 27 --> 4\n",
            "Chain score: 0.0000\n",
            "Skipping saving due to low chain_score: 0.0000\n",
            "\n",
            " ---------------------------------------------------------------------------------------------------------------------------------------------------------------------------------------------------------------------------------------------------------------------------------------------------------------------------------------------------------------------------------------------------------------------------------------------------------------------------------------------------------------------------------------------------------------------------------------------------------------------------------------------------------------------------------------------------------------------------------------------------------------------------------------------------------------------------------------------------------------------------------------------------------------------------------------------------------------------------------------------------------------------------------------- \n",
            "\n",
            "/content/drive/MyDrive/FilteredNivkhTxt/a305_nd/n.txt /content/drive/MyDrive/FilteredNivkhTxt/a305_nd/r.txt\n"
          ]
        },
        {
          "output_type": "stream",
          "name": "stderr",
          "text": [
            "WARNING:root:can not fetch index db\n"
          ]
        },
        {
          "output_type": "stream",
          "name": "stdout",
          "text": [
            "Aligning without segments.\n",
            "tasks amount: 1\n",
            "batch: 0 (0)\n",
            "conflicts to solve: 1\n",
            "total conflicts: 2\n"
          ]
        },
        {
          "output_type": "stream",
          "name": "stderr",
          "text": [
            "\n",
            "100%|██████████| 1/1 [00:00<00:00, 21.61it/s]\n"
          ]
        },
        {
          "output_type": "stream",
          "name": "stdout",
          "text": [
            "conflicts to solve: 1\n",
            "total conflicts: 1\n"
          ]
        },
        {
          "output_type": "stream",
          "name": "stderr",
          "text": [
            "\n",
            "  0%|          | 0/1 [00:00<?, ?it/s]\u001b[A\n",
            "100%|██████████| 1/1 [00:00<00:00,  7.47it/s]\n"
          ]
        },
        {
          "output_type": "stream",
          "name": "stdout",
          "text": [
            "conflicts to solve: 0\n",
            "total conflicts: 0\n"
          ]
        },
        {
          "output_type": "stream",
          "name": "stderr",
          "text": [
            "\n",
            "0it [00:00, ?it/s]\n"
          ]
        },
        {
          "output_type": "stream",
          "name": "stdout",
          "text": [
            "N: 21 --> 9\n",
            "R: 19 --> 9\n",
            "Chain score: 1.0000\n",
            "\n",
            " ---------------------------------------------------------------------------------------------------------------------------------------------------------------------------------------------------------------------------------------------------------------------------------------------------------------------------------------------------------------------------------------------------------------------------------------------------------------------------------------------------------------------------------------------------------------------------------------------------------------------------------------------------------------------------------------------------------------------------------------------------------------------------------------------------------------------------------------------------------------------------------------------------------------------------------------------------------------------------------------------------------------------------------------- \n",
            "\n",
            "/content/drive/MyDrive/FilteredNivkhTxt/a282_nd/n.txt /content/drive/MyDrive/FilteredNivkhTxt/a282_nd/r.txt\n",
            "Aligning without segments.\n"
          ]
        },
        {
          "output_type": "stream",
          "name": "stderr",
          "text": [
            "WARNING:root:can not fetch index db\n"
          ]
        },
        {
          "output_type": "stream",
          "name": "stdout",
          "text": [
            "tasks amount: 1\n",
            "batch: 0 (0)\n",
            "conflicts to solve: 1\n",
            "total conflicts: 1\n"
          ]
        },
        {
          "output_type": "stream",
          "name": "stderr",
          "text": [
            "\n",
            "100%|██████████| 1/1 [00:00<00:00, 16.65it/s]\n"
          ]
        },
        {
          "output_type": "stream",
          "name": "stdout",
          "text": [
            "conflicts to solve: 0\n",
            "total conflicts: 0\n"
          ]
        },
        {
          "output_type": "stream",
          "name": "stderr",
          "text": [
            "\n",
            "0it [00:00, ?it/s]\n"
          ]
        },
        {
          "output_type": "stream",
          "name": "stdout",
          "text": [
            "N: 10 --> 3\n",
            "R: 10 --> 3\n",
            "Chain score: 0.5455\n",
            "Skipping saving due to low chain_score: 0.5455\n",
            "\n",
            " ---------------------------------------------------------------------------------------------------------------------------------------------------------------------------------------------------------------------------------------------------------------------------------------------------------------------------------------------------------------------------------------------------------------------------------------------------------------------------------------------------------------------------------------------------------------------------------------------------------------------------------------------------------------------------------------------------------------------------------------------------------------------------------------------------------------------------------------------------------------------------------------------------------------------------------------------------------------------------------------------------------------------------------------- \n",
            "\n",
            "/content/drive/MyDrive/FilteredNivkhTxt/94_nd/n.txt /content/drive/MyDrive/FilteredNivkhTxt/94_nd/r.txt\n",
            "Aligning without segments.\n",
            "tasks amount: 1\n",
            "batch: 0 (0)\n"
          ]
        },
        {
          "output_type": "stream",
          "name": "stderr",
          "text": [
            "WARNING:root:can not fetch index db\n"
          ]
        },
        {
          "output_type": "stream",
          "name": "stdout",
          "text": [
            "conflicts to solve: 2\n",
            "total conflicts: 7\n"
          ]
        },
        {
          "output_type": "stream",
          "name": "stderr",
          "text": [
            "\n",
            "  0%|          | 0/2 [00:00<?, ?it/s]\u001b[A\n",
            "100%|██████████| 2/2 [00:00<00:00, 12.45it/s]\n"
          ]
        },
        {
          "output_type": "stream",
          "name": "stdout",
          "text": [
            "conflicts to solve: 1\n",
            "total conflicts: 2\n"
          ]
        },
        {
          "output_type": "stream",
          "name": "stderr",
          "text": [
            "\n",
            "  0%|          | 0/1 [00:00<?, ?it/s]\u001b[A\n",
            "100%|██████████| 1/1 [00:00<00:00,  3.95it/s]\n"
          ]
        },
        {
          "output_type": "stream",
          "name": "stdout",
          "text": [
            "conflicts to solve: 0\n",
            "total conflicts: 1\n"
          ]
        },
        {
          "output_type": "stream",
          "name": "stderr",
          "text": [
            "\n",
            "0it [00:00, ?it/s]\n"
          ]
        },
        {
          "output_type": "stream",
          "name": "stdout",
          "text": [
            "conflicts to solve: 1\n",
            "total conflicts: 3\n"
          ]
        },
        {
          "output_type": "stream",
          "name": "stderr",
          "text": [
            "\n",
            "  0%|          | 0/1 [00:00<?, ?it/s]\u001b[A\n",
            "100%|██████████| 1/1 [00:00<00:00,  5.44it/s]\n"
          ]
        },
        {
          "output_type": "stream",
          "name": "stdout",
          "text": [
            "N: 67 --> 15\n",
            "R: 56 --> 15\n",
            "Chain score: 0.4638\n",
            "Skipping saving due to low chain_score: 0.4638\n",
            "\n",
            " ---------------------------------------------------------------------------------------------------------------------------------------------------------------------------------------------------------------------------------------------------------------------------------------------------------------------------------------------------------------------------------------------------------------------------------------------------------------------------------------------------------------------------------------------------------------------------------------------------------------------------------------------------------------------------------------------------------------------------------------------------------------------------------------------------------------------------------------------------------------------------------------------------------------------------------------------------------------------------------------------------------------------------------------- \n",
            "\n",
            "/content/drive/MyDrive/FilteredNivkhTxt/a172_bible/n_am.txt /content/drive/MyDrive/FilteredNivkhTxt/a172_bible/r.txt\n",
            "Aligning without segments.\n",
            "tasks amount: 1\n",
            "batch: 0 (0)\n"
          ]
        },
        {
          "output_type": "stream",
          "name": "stderr",
          "text": [
            "WARNING:root:can not fetch index db\n"
          ]
        },
        {
          "output_type": "stream",
          "name": "stdout",
          "text": [
            "conflicts to solve: 5\n",
            "total conflicts: 9\n"
          ]
        },
        {
          "output_type": "stream",
          "name": "stderr",
          "text": [
            "\n",
            "  0%|          | 0/5 [00:00<?, ?it/s]\u001b[A\n",
            "100%|██████████| 5/5 [00:00<00:00, 20.22it/s]\n"
          ]
        },
        {
          "output_type": "stream",
          "name": "stdout",
          "text": [
            "conflicts to solve: 0\n",
            "total conflicts: 2\n"
          ]
        },
        {
          "output_type": "stream",
          "name": "stderr",
          "text": [
            "\n",
            "0it [00:00, ?it/s]\n"
          ]
        },
        {
          "output_type": "stream",
          "name": "stdout",
          "text": [
            "conflicts to solve: 0\n",
            "total conflicts: 2\n"
          ]
        },
        {
          "output_type": "stream",
          "name": "stderr",
          "text": [
            "\n",
            "0it [00:00, ?it/s]\n"
          ]
        },
        {
          "output_type": "stream",
          "name": "stdout",
          "text": [
            "conflicts to solve: 3\n",
            "total conflicts: 4\n"
          ]
        },
        {
          "output_type": "stream",
          "name": "stderr",
          "text": [
            "\n",
            "  0%|          | 0/3 [00:00<?, ?it/s]\u001b[A\n",
            " 33%|███▎      | 1/3 [01:16<02:33, 76.86s/it]\u001b[A\n",
            " 67%|██████▋   | 2/3 [01:17<00:31, 31.91s/it]\u001b[A\n",
            "100%|██████████| 3/3 [01:17<00:00, 25.82s/it]\n"
          ]
        },
        {
          "output_type": "stream",
          "name": "stdout",
          "text": [
            "N: 78 --> 52\n",
            "R: 75 --> 52\n",
            "Chain score: 0.9383\n",
            "\n",
            " ---------------------------------------------------------------------------------------------------------------------------------------------------------------------------------------------------------------------------------------------------------------------------------------------------------------------------------------------------------------------------------------------------------------------------------------------------------------------------------------------------------------------------------------------------------------------------------------------------------------------------------------------------------------------------------------------------------------------------------------------------------------------------------------------------------------------------------------------------------------------------------------------------------------------------------------------------------------------------------------------------------------------------------------- \n",
            "\n",
            "/content/drive/MyDrive/FilteredNivkhTxt/67_nd/n.txt /content/drive/MyDrive/FilteredNivkhTxt/67_nd/r.txt\n"
          ]
        },
        {
          "output_type": "stream",
          "name": "stderr",
          "text": [
            "WARNING:root:can not fetch index db\n"
          ]
        },
        {
          "output_type": "stream",
          "name": "stdout",
          "text": [
            "Aligning without segments.\n",
            "tasks amount: 1\n",
            "batch: 0 (0)\n",
            "conflicts to solve: 1\n",
            "total conflicts: 3\n"
          ]
        },
        {
          "output_type": "stream",
          "name": "stderr",
          "text": [
            "\n",
            "100%|██████████| 1/1 [00:00<00:00, 10.40it/s]\n"
          ]
        },
        {
          "output_type": "stream",
          "name": "stdout",
          "text": [
            "conflicts to solve: 0\n",
            "total conflicts: 1\n"
          ]
        },
        {
          "output_type": "stream",
          "name": "stderr",
          "text": [
            "\n",
            "0it [00:00, ?it/s]\n"
          ]
        },
        {
          "output_type": "stream",
          "name": "stdout",
          "text": [
            "conflicts to solve: 1\n",
            "total conflicts: 1\n"
          ]
        },
        {
          "output_type": "stream",
          "name": "stderr",
          "text": [
            "\n",
            "  0%|          | 0/1 [00:00<?, ?it/s]\u001b[A\n",
            "100%|██████████| 1/1 [00:00<00:00,  2.82it/s]\n"
          ]
        },
        {
          "output_type": "stream",
          "name": "stdout",
          "text": [
            "conflicts to solve: 0\n",
            "total conflicts: 0\n"
          ]
        },
        {
          "output_type": "stream",
          "name": "stderr",
          "text": [
            "\n",
            "0it [00:00, ?it/s]\n"
          ]
        },
        {
          "output_type": "stream",
          "name": "stdout",
          "text": [
            "N: 16 --> 8\n",
            "R: 16 --> 8\n",
            "Chain score: 1.0000\n",
            "\n",
            " ---------------------------------------------------------------------------------------------------------------------------------------------------------------------------------------------------------------------------------------------------------------------------------------------------------------------------------------------------------------------------------------------------------------------------------------------------------------------------------------------------------------------------------------------------------------------------------------------------------------------------------------------------------------------------------------------------------------------------------------------------------------------------------------------------------------------------------------------------------------------------------------------------------------------------------------------------------------------------------------------------------------------------------------- \n",
            "\n",
            "/content/drive/MyDrive/FilteredNivkhTxt/a113_nd/n.txt /content/drive/MyDrive/FilteredNivkhTxt/a113_nd/r.txt\n",
            "Aligning without segments.\n"
          ]
        },
        {
          "output_type": "stream",
          "name": "stderr",
          "text": [
            "WARNING:root:can not fetch index db\n"
          ]
        },
        {
          "output_type": "stream",
          "name": "stdout",
          "text": [
            "tasks amount: 1\n",
            "batch: 0 (0)\n",
            "conflicts to solve: 0\n",
            "total conflicts: 2\n"
          ]
        },
        {
          "output_type": "stream",
          "name": "stderr",
          "text": [
            "\n",
            "0it [00:00, ?it/s]\n"
          ]
        },
        {
          "output_type": "stream",
          "name": "stdout",
          "text": [
            "conflicts to solve: 0\n",
            "total conflicts: 0\n"
          ]
        },
        {
          "output_type": "stream",
          "name": "stderr",
          "text": [
            "\n",
            "0it [00:00, ?it/s]\n"
          ]
        },
        {
          "output_type": "stream",
          "name": "stdout",
          "text": [
            "conflicts to solve: 2\n",
            "total conflicts: 2\n"
          ]
        },
        {
          "output_type": "stream",
          "name": "stderr",
          "text": [
            "\n",
            "  0%|          | 0/2 [00:00<?, ?it/s]\u001b[A\n",
            " 50%|█████     | 1/2 [00:00<00:00,  4.35it/s]\u001b[A\n",
            "100%|██████████| 2/2 [00:00<00:00,  3.51it/s]\n"
          ]
        },
        {
          "output_type": "stream",
          "name": "stdout",
          "text": [
            "N: 12 --> 3\n",
            "R: 14 --> 3\n",
            "Chain score: 1.0000\n",
            "\n",
            " ---------------------------------------------------------------------------------------------------------------------------------------------------------------------------------------------------------------------------------------------------------------------------------------------------------------------------------------------------------------------------------------------------------------------------------------------------------------------------------------------------------------------------------------------------------------------------------------------------------------------------------------------------------------------------------------------------------------------------------------------------------------------------------------------------------------------------------------------------------------------------------------------------------------------------------------------------------------------------------------------------------------------------------------- \n",
            "\n",
            "/content/drive/MyDrive/FilteredNivkhTxt/84_nd/n.txt /content/drive/MyDrive/FilteredNivkhTxt/84_nd/r.txt\n"
          ]
        },
        {
          "output_type": "stream",
          "name": "stderr",
          "text": [
            "WARNING:root:can not fetch index db\n"
          ]
        },
        {
          "output_type": "stream",
          "name": "stdout",
          "text": [
            "Aligning without segments.\n",
            "tasks amount: 1\n",
            "batch: 0 (0)\n",
            "conflicts to solve: 0\n",
            "total conflicts: 1\n"
          ]
        },
        {
          "output_type": "stream",
          "name": "stderr",
          "text": [
            "\n",
            "0it [00:00, ?it/s]\n"
          ]
        },
        {
          "output_type": "stream",
          "name": "stdout",
          "text": [
            "conflicts to solve: 0\n",
            "total conflicts: 0\n"
          ]
        },
        {
          "output_type": "stream",
          "name": "stderr",
          "text": [
            "\n",
            "0it [00:00, ?it/s]\n"
          ]
        },
        {
          "output_type": "stream",
          "name": "stdout",
          "text": [
            "conflicts to solve: 0\n",
            "total conflicts: 1\n"
          ]
        },
        {
          "output_type": "stream",
          "name": "stderr",
          "text": [
            "\n",
            "0it [00:00, ?it/s]\n"
          ]
        },
        {
          "output_type": "stream",
          "name": "stdout",
          "text": [
            "N: 9 --> 4\n",
            "R: 12 --> 4\n",
            "Chain score: 0.3750\n",
            "Skipping saving due to low chain_score: 0.3750\n",
            "\n",
            " ---------------------------------------------------------------------------------------------------------------------------------------------------------------------------------------------------------------------------------------------------------------------------------------------------------------------------------------------------------------------------------------------------------------------------------------------------------------------------------------------------------------------------------------------------------------------------------------------------------------------------------------------------------------------------------------------------------------------------------------------------------------------------------------------------------------------------------------------------------------------------------------------------------------------------------------------------------------------------------------------------------------------------------------- \n",
            "\n",
            "/content/drive/MyDrive/FilteredNivkhTxt/a360_nd/n.txt /content/drive/MyDrive/FilteredNivkhTxt/a360_nd/r.txt\n"
          ]
        },
        {
          "output_type": "stream",
          "name": "stderr",
          "text": [
            "WARNING:root:can not fetch index db\n"
          ]
        },
        {
          "output_type": "stream",
          "name": "stdout",
          "text": [
            "Aligning without segments.\n",
            "tasks amount: 1\n",
            "batch: 0 (0)\n",
            "conflicts to solve: 0\n",
            "total conflicts: 2\n"
          ]
        },
        {
          "output_type": "stream",
          "name": "stderr",
          "text": [
            "\n",
            "0it [00:00, ?it/s]\n"
          ]
        },
        {
          "output_type": "stream",
          "name": "stdout",
          "text": [
            "conflicts to solve: 0\n",
            "total conflicts: 1\n"
          ]
        },
        {
          "output_type": "stream",
          "name": "stderr",
          "text": [
            "\n",
            "0it [00:00, ?it/s]\n"
          ]
        },
        {
          "output_type": "stream",
          "name": "stdout",
          "text": [
            "conflicts to solve: 0\n",
            "total conflicts: 1\n"
          ]
        },
        {
          "output_type": "stream",
          "name": "stderr",
          "text": [
            "\n",
            "0it [00:00, ?it/s]\n"
          ]
        },
        {
          "output_type": "stream",
          "name": "stdout",
          "text": [
            "conflicts to solve: 2\n",
            "total conflicts: 2\n"
          ]
        },
        {
          "output_type": "stream",
          "name": "stderr",
          "text": [
            "\n",
            "  0%|          | 0/2 [00:00<?, ?it/s]\u001b[A\n",
            " 50%|█████     | 1/2 [00:00<00:00,  6.31it/s]\u001b[A\n",
            "100%|██████████| 2/2 [00:00<00:00,  2.28it/s]\n"
          ]
        },
        {
          "output_type": "stream",
          "name": "stdout",
          "text": [
            "N: 19 --> 7\n",
            "R: 14 --> 7\n",
            "Chain score: 1.0000\n",
            "\n",
            " ---------------------------------------------------------------------------------------------------------------------------------------------------------------------------------------------------------------------------------------------------------------------------------------------------------------------------------------------------------------------------------------------------------------------------------------------------------------------------------------------------------------------------------------------------------------------------------------------------------------------------------------------------------------------------------------------------------------------------------------------------------------------------------------------------------------------------------------------------------------------------------------------------------------------------------------------------------------------------------------------------------------------------------------- \n",
            "\n",
            "/content/drive/MyDrive/FilteredNivkhTxt/a103_nd/n.txt /content/drive/MyDrive/FilteredNivkhTxt/a103_nd/r.txt\n"
          ]
        },
        {
          "output_type": "stream",
          "name": "stderr",
          "text": [
            "WARNING:root:can not fetch index db\n"
          ]
        },
        {
          "output_type": "stream",
          "name": "stdout",
          "text": [
            "Aligning without segments.\n",
            "tasks amount: 1\n",
            "batch: 0 (0)\n",
            "conflicts to solve: 2\n",
            "total conflicts: 2\n"
          ]
        },
        {
          "output_type": "stream",
          "name": "stderr",
          "text": [
            "\n",
            "  0%|          | 0/2 [00:00<?, ?it/s]\u001b[A\n",
            "100%|██████████| 2/2 [00:00<00:00, 18.44it/s]\n"
          ]
        },
        {
          "output_type": "stream",
          "name": "stdout",
          "text": [
            "conflicts to solve: 0\n",
            "total conflicts: 0\n"
          ]
        },
        {
          "output_type": "stream",
          "name": "stderr",
          "text": [
            "\n",
            "0it [00:00, ?it/s]\n"
          ]
        },
        {
          "output_type": "stream",
          "name": "stdout",
          "text": [
            "N: 21 --> 10\n",
            "R: 23 --> 10\n",
            "Chain score: 0.5455\n",
            "Skipping saving due to low chain_score: 0.5455\n",
            "\n",
            " ---------------------------------------------------------------------------------------------------------------------------------------------------------------------------------------------------------------------------------------------------------------------------------------------------------------------------------------------------------------------------------------------------------------------------------------------------------------------------------------------------------------------------------------------------------------------------------------------------------------------------------------------------------------------------------------------------------------------------------------------------------------------------------------------------------------------------------------------------------------------------------------------------------------------------------------------------------------------------------------------------------------------------------------- \n",
            "\n",
            "/content/drive/MyDrive/FilteredNivkhTxt/a321_nd/n.txt /content/drive/MyDrive/FilteredNivkhTxt/a321_nd/r.txt\n"
          ]
        },
        {
          "output_type": "stream",
          "name": "stderr",
          "text": [
            "WARNING:root:can not fetch index db\n"
          ]
        },
        {
          "output_type": "stream",
          "name": "stdout",
          "text": [
            "Aligning without segments.\n",
            "tasks amount: 1\n",
            "batch: 0 (0)\n",
            "conflicts to solve: 0\n",
            "total conflicts: 2\n"
          ]
        },
        {
          "output_type": "stream",
          "name": "stderr",
          "text": [
            "\n",
            "0it [00:00, ?it/s]\n"
          ]
        },
        {
          "output_type": "stream",
          "name": "stdout",
          "text": [
            "conflicts to solve: 0\n",
            "total conflicts: 0\n"
          ]
        },
        {
          "output_type": "stream",
          "name": "stderr",
          "text": [
            "\n",
            "0it [00:00, ?it/s]\n"
          ]
        },
        {
          "output_type": "stream",
          "name": "stdout",
          "text": [
            "conflicts to solve: 2\n",
            "total conflicts: 2\n"
          ]
        },
        {
          "output_type": "stream",
          "name": "stderr",
          "text": [
            "\n",
            "  0%|          | 0/2 [00:00<?, ?it/s]\u001b[A\n",
            " 50%|█████     | 1/2 [00:00<00:00,  3.36it/s]\u001b[A\n",
            "100%|██████████| 2/2 [00:01<00:00,  1.13it/s]\n"
          ]
        },
        {
          "output_type": "stream",
          "name": "stdout",
          "text": [
            "N: 18 --> 3\n",
            "R: 16 --> 3\n",
            "Chain score: 1.0000\n",
            "\n",
            " ---------------------------------------------------------------------------------------------------------------------------------------------------------------------------------------------------------------------------------------------------------------------------------------------------------------------------------------------------------------------------------------------------------------------------------------------------------------------------------------------------------------------------------------------------------------------------------------------------------------------------------------------------------------------------------------------------------------------------------------------------------------------------------------------------------------------------------------------------------------------------------------------------------------------------------------------------------------------------------------------------------------------------------------- \n",
            "\n",
            "/content/drive/MyDrive/FilteredNivkhTxt/a255_nd/n.txt /content/drive/MyDrive/FilteredNivkhTxt/a255_nd/r.txt\n",
            "Aligning without segments.\n",
            "tasks amount: 1\n",
            "batch: 0 (0)\n"
          ]
        },
        {
          "output_type": "stream",
          "name": "stderr",
          "text": [
            "WARNING:root:can not fetch index db\n"
          ]
        },
        {
          "output_type": "stream",
          "name": "stdout",
          "text": [
            "conflicts to solve: 0\n",
            "total conflicts: 2\n"
          ]
        },
        {
          "output_type": "stream",
          "name": "stderr",
          "text": [
            "\n",
            "0it [00:00, ?it/s]\n"
          ]
        },
        {
          "output_type": "stream",
          "name": "stdout",
          "text": [
            "conflicts to solve: 0\n",
            "total conflicts: 2\n"
          ]
        },
        {
          "output_type": "stream",
          "name": "stderr",
          "text": [
            "\n",
            "0it [00:00, ?it/s]\n"
          ]
        },
        {
          "output_type": "stream",
          "name": "stdout",
          "text": [
            "conflicts to solve: 0\n",
            "total conflicts: 1\n"
          ]
        },
        {
          "output_type": "stream",
          "name": "stderr",
          "text": [
            "\n",
            "0it [00:00, ?it/s]\n"
          ]
        },
        {
          "output_type": "stream",
          "name": "stdout",
          "text": [
            "conflicts to solve: 1\n",
            "total conflicts: 2\n"
          ]
        },
        {
          "output_type": "stream",
          "name": "stderr",
          "text": [
            "\n",
            "  0%|          | 0/1 [00:00<?, ?it/s]\u001b[A\n",
            "100%|██████████| 1/1 [00:01<00:00,  1.14s/it]\n"
          ]
        },
        {
          "output_type": "stream",
          "name": "stdout",
          "text": [
            "N: 38 --> 21\n",
            "R: 48 --> 21\n",
            "Chain score: 0.4651\n",
            "Skipping saving due to low chain_score: 0.4651\n",
            "\n",
            " ---------------------------------------------------------------------------------------------------------------------------------------------------------------------------------------------------------------------------------------------------------------------------------------------------------------------------------------------------------------------------------------------------------------------------------------------------------------------------------------------------------------------------------------------------------------------------------------------------------------------------------------------------------------------------------------------------------------------------------------------------------------------------------------------------------------------------------------------------------------------------------------------------------------------------------------------------------------------------------------------------------------------------------------- \n",
            "\n",
            "/content/drive/MyDrive/FilteredNivkhTxt/a261_nd/n.txt /content/drive/MyDrive/FilteredNivkhTxt/a261_nd/r.txt\n",
            "Aligning without segments.\n"
          ]
        },
        {
          "output_type": "stream",
          "name": "stderr",
          "text": [
            "WARNING:root:can not fetch index db\n"
          ]
        },
        {
          "output_type": "stream",
          "name": "stdout",
          "text": [
            "tasks amount: 1\n",
            "batch: 0 (0)\n",
            "conflicts to solve: 2\n",
            "total conflicts: 4\n"
          ]
        },
        {
          "output_type": "stream",
          "name": "stderr",
          "text": [
            "\n",
            "  0%|          | 0/2 [00:00<?, ?it/s]\u001b[A\n",
            "100%|██████████| 2/2 [00:00<00:00, 16.43it/s]\n"
          ]
        },
        {
          "output_type": "stream",
          "name": "stdout",
          "text": [
            "conflicts to solve: 2\n",
            "total conflicts: 2\n"
          ]
        },
        {
          "output_type": "stream",
          "name": "stderr",
          "text": [
            "\n",
            "  0%|          | 0/2 [00:00<?, ?it/s]\u001b[A\n",
            "100%|██████████| 2/2 [00:00<00:00, 13.94it/s]\n"
          ]
        },
        {
          "output_type": "stream",
          "name": "stdout",
          "text": [
            "conflicts to solve: 0\n",
            "total conflicts: 0\n"
          ]
        },
        {
          "output_type": "stream",
          "name": "stderr",
          "text": [
            "\n",
            "0it [00:00, ?it/s]\n"
          ]
        },
        {
          "output_type": "stream",
          "name": "stdout",
          "text": [
            "N: 27 --> 7\n",
            "R: 27 --> 7\n",
            "Chain score: 1.0000\n",
            "\n",
            " ---------------------------------------------------------------------------------------------------------------------------------------------------------------------------------------------------------------------------------------------------------------------------------------------------------------------------------------------------------------------------------------------------------------------------------------------------------------------------------------------------------------------------------------------------------------------------------------------------------------------------------------------------------------------------------------------------------------------------------------------------------------------------------------------------------------------------------------------------------------------------------------------------------------------------------------------------------------------------------------------------------------------------------------- \n",
            "\n",
            "/content/drive/MyDrive/FilteredNivkhTxt/a370_nd/n.txt /content/drive/MyDrive/FilteredNivkhTxt/a370_nd/r.txt\n"
          ]
        },
        {
          "output_type": "stream",
          "name": "stderr",
          "text": [
            "WARNING:root:can not fetch index db\n"
          ]
        },
        {
          "output_type": "stream",
          "name": "stdout",
          "text": [
            "Aligning without segments.\n",
            "tasks amount: 1\n",
            "batch: 0 (0)\n",
            "conflicts to solve: 1\n",
            "total conflicts: 2\n"
          ]
        },
        {
          "output_type": "stream",
          "name": "stderr",
          "text": [
            "\n",
            "100%|██████████| 1/1 [00:00<00:00, 15.37it/s]\n"
          ]
        },
        {
          "output_type": "stream",
          "name": "stdout",
          "text": [
            "conflicts to solve: 0\n",
            "total conflicts: 1\n"
          ]
        },
        {
          "output_type": "stream",
          "name": "stderr",
          "text": [
            "\n",
            "0it [00:00, ?it/s]\n"
          ]
        },
        {
          "output_type": "stream",
          "name": "stdout",
          "text": [
            "conflicts to solve: 1\n",
            "total conflicts: 1\n"
          ]
        },
        {
          "output_type": "stream",
          "name": "stderr",
          "text": [
            "\n",
            "  0%|          | 0/1 [00:00<?, ?it/s]\u001b[A\n",
            "100%|██████████| 1/1 [00:00<00:00,  2.06it/s]\n"
          ]
        },
        {
          "output_type": "stream",
          "name": "stdout",
          "text": [
            "conflicts to solve: 0\n",
            "total conflicts: 0\n"
          ]
        },
        {
          "output_type": "stream",
          "name": "stderr",
          "text": [
            "\n",
            "0it [00:00, ?it/s]\n"
          ]
        },
        {
          "output_type": "stream",
          "name": "stdout",
          "text": [
            "N: 16 --> 5\n",
            "R: 15 --> 5\n",
            "Chain score: 1.0000\n",
            "\n",
            " ---------------------------------------------------------------------------------------------------------------------------------------------------------------------------------------------------------------------------------------------------------------------------------------------------------------------------------------------------------------------------------------------------------------------------------------------------------------------------------------------------------------------------------------------------------------------------------------------------------------------------------------------------------------------------------------------------------------------------------------------------------------------------------------------------------------------------------------------------------------------------------------------------------------------------------------------------------------------------------------------------------------------------------------- \n",
            "\n",
            "/content/drive/MyDrive/FilteredNivkhTxt/a292_nd/n.txt /content/drive/MyDrive/FilteredNivkhTxt/a292_nd/r.txt\n"
          ]
        },
        {
          "output_type": "stream",
          "name": "stderr",
          "text": [
            "WARNING:root:can not fetch index db\n"
          ]
        },
        {
          "output_type": "stream",
          "name": "stdout",
          "text": [
            "Aligning without segments.\n",
            "tasks amount: 1\n",
            "batch: 0 (0)\n",
            "conflicts to solve: 3\n",
            "total conflicts: 7\n"
          ]
        },
        {
          "output_type": "stream",
          "name": "stderr",
          "text": [
            "\n",
            "  0%|          | 0/3 [00:00<?, ?it/s]\u001b[A\n",
            "100%|██████████| 3/3 [00:00<00:00, 15.28it/s]\n"
          ]
        },
        {
          "output_type": "stream",
          "name": "stdout",
          "text": [
            "conflicts to solve: 2\n",
            "total conflicts: 3\n"
          ]
        },
        {
          "output_type": "stream",
          "name": "stderr",
          "text": [
            "\n",
            "  0%|          | 0/2 [00:00<?, ?it/s]\u001b[A\n",
            " 50%|█████     | 1/2 [00:00<00:00,  5.15it/s]\u001b[A\n",
            "100%|██████████| 2/2 [00:00<00:00,  4.67it/s]\n"
          ]
        },
        {
          "output_type": "stream",
          "name": "stdout",
          "text": [
            "conflicts to solve: 0\n",
            "total conflicts: 1\n"
          ]
        },
        {
          "output_type": "stream",
          "name": "stderr",
          "text": [
            "\n",
            "0it [00:00, ?it/s]\n"
          ]
        },
        {
          "output_type": "stream",
          "name": "stdout",
          "text": [
            "conflicts to solve: 0\n",
            "total conflicts: 1\n"
          ]
        },
        {
          "output_type": "stream",
          "name": "stderr",
          "text": [
            "\n",
            "0it [00:00, ?it/s]\n"
          ]
        },
        {
          "output_type": "stream",
          "name": "stdout",
          "text": [
            "N: 34 --> 13\n",
            "R: 31 --> 13\n",
            "Chain score: 0.8649\n",
            "\n",
            " ---------------------------------------------------------------------------------------------------------------------------------------------------------------------------------------------------------------------------------------------------------------------------------------------------------------------------------------------------------------------------------------------------------------------------------------------------------------------------------------------------------------------------------------------------------------------------------------------------------------------------------------------------------------------------------------------------------------------------------------------------------------------------------------------------------------------------------------------------------------------------------------------------------------------------------------------------------------------------------------------------------------------------------------- \n",
            "\n",
            "/content/drive/MyDrive/FilteredNivkhTxt/a383_nd/n.txt /content/drive/MyDrive/FilteredNivkhTxt/a383_nd/r.txt\n"
          ]
        },
        {
          "output_type": "stream",
          "name": "stderr",
          "text": [
            "WARNING:root:can not fetch index db\n"
          ]
        },
        {
          "output_type": "stream",
          "name": "stdout",
          "text": [
            "Aligning without segments.\n",
            "tasks amount: 1\n",
            "batch: 0 (0)\n",
            "conflicts to solve: 0\n",
            "total conflicts: 1\n"
          ]
        },
        {
          "output_type": "stream",
          "name": "stderr",
          "text": [
            "\n",
            "0it [00:00, ?it/s]\n"
          ]
        },
        {
          "output_type": "stream",
          "name": "stdout",
          "text": [
            "conflicts to solve: 1\n",
            "total conflicts: 1\n"
          ]
        },
        {
          "output_type": "stream",
          "name": "stderr",
          "text": [
            "\n",
            "  0%|          | 0/1 [00:00<?, ?it/s]\u001b[A\n",
            "100%|██████████| 1/1 [00:00<00:00,  5.86it/s]\n"
          ]
        },
        {
          "output_type": "stream",
          "name": "stdout",
          "text": [
            "conflicts to solve: 0\n",
            "total conflicts: 0\n"
          ]
        },
        {
          "output_type": "stream",
          "name": "stderr",
          "text": [
            "\n",
            "0it [00:00, ?it/s]\n"
          ]
        },
        {
          "output_type": "stream",
          "name": "stdout",
          "text": [
            "N: 11 --> 4\n",
            "R: 10 --> 4\n",
            "Chain score: 1.0000\n",
            "\n",
            " ---------------------------------------------------------------------------------------------------------------------------------------------------------------------------------------------------------------------------------------------------------------------------------------------------------------------------------------------------------------------------------------------------------------------------------------------------------------------------------------------------------------------------------------------------------------------------------------------------------------------------------------------------------------------------------------------------------------------------------------------------------------------------------------------------------------------------------------------------------------------------------------------------------------------------------------------------------------------------------------------------------------------------------------- \n",
            "\n",
            "/content/drive/MyDrive/FilteredNivkhTxt/a331_nd/n.txt /content/drive/MyDrive/FilteredNivkhTxt/a331_nd/r.txt\n",
            "Aligning without segments.\n",
            "tasks amount: 1\n",
            "batch: 0 (0)\n"
          ]
        },
        {
          "output_type": "stream",
          "name": "stderr",
          "text": [
            "WARNING:root:can not fetch index db\n"
          ]
        },
        {
          "output_type": "stream",
          "name": "stdout",
          "text": [
            "conflicts to solve: 4\n",
            "total conflicts: 5\n"
          ]
        },
        {
          "output_type": "stream",
          "name": "stderr",
          "text": [
            "\n",
            "  0%|          | 0/4 [00:00<?, ?it/s]\u001b[A\n",
            " 50%|█████     | 2/4 [00:00<00:00, 13.58it/s]\u001b[A\n",
            "100%|██████████| 4/4 [00:00<00:00, 12.35it/s]\n"
          ]
        },
        {
          "output_type": "stream",
          "name": "stdout",
          "text": [
            "conflicts to solve: 1\n",
            "total conflicts: 1\n"
          ]
        },
        {
          "output_type": "stream",
          "name": "stderr",
          "text": [
            "\n",
            "  0%|          | 0/1 [00:00<?, ?it/s]\u001b[A\n",
            "100%|██████████| 1/1 [00:00<00:00,  2.46it/s]\n"
          ]
        },
        {
          "output_type": "stream",
          "name": "stdout",
          "text": [
            "conflicts to solve: 0\n",
            "total conflicts: 0\n"
          ]
        },
        {
          "output_type": "stream",
          "name": "stderr",
          "text": [
            "\n",
            "0it [00:00, ?it/s]\n"
          ]
        },
        {
          "output_type": "stream",
          "name": "stdout",
          "text": [
            "N: 27 --> 6\n",
            "R: 23 --> 6\n",
            "Chain score: 0.9583\n",
            "\n",
            " ---------------------------------------------------------------------------------------------------------------------------------------------------------------------------------------------------------------------------------------------------------------------------------------------------------------------------------------------------------------------------------------------------------------------------------------------------------------------------------------------------------------------------------------------------------------------------------------------------------------------------------------------------------------------------------------------------------------------------------------------------------------------------------------------------------------------------------------------------------------------------------------------------------------------------------------------------------------------------------------------------------------------------------------- \n",
            "\n",
            "/content/drive/MyDrive/FilteredNivkhTxt/a286_nd/n.txt /content/drive/MyDrive/FilteredNivkhTxt/a286_nd/r.txt\n"
          ]
        },
        {
          "output_type": "stream",
          "name": "stderr",
          "text": [
            "WARNING:root:can not fetch index db\n"
          ]
        },
        {
          "output_type": "stream",
          "name": "stdout",
          "text": [
            "Aligning without segments.\n",
            "tasks amount: 1\n",
            "batch: 0 (0)\n",
            "conflicts to solve: 0\n",
            "total conflicts: 2\n"
          ]
        },
        {
          "output_type": "stream",
          "name": "stderr",
          "text": [
            "\n",
            "0it [00:00, ?it/s]\n"
          ]
        },
        {
          "output_type": "stream",
          "name": "stdout",
          "text": [
            "conflicts to solve: 0\n",
            "total conflicts: 1\n"
          ]
        },
        {
          "output_type": "stream",
          "name": "stderr",
          "text": [
            "\n",
            "0it [00:00, ?it/s]\n"
          ]
        },
        {
          "output_type": "stream",
          "name": "stdout",
          "text": [
            "conflicts to solve: 0\n",
            "total conflicts: 1\n"
          ]
        },
        {
          "output_type": "stream",
          "name": "stderr",
          "text": [
            "\n",
            "0it [00:00, ?it/s]\n"
          ]
        },
        {
          "output_type": "stream",
          "name": "stdout",
          "text": [
            "conflicts to solve: 2\n",
            "total conflicts: 2\n"
          ]
        },
        {
          "output_type": "stream",
          "name": "stderr",
          "text": [
            "\n",
            "  0%|          | 0/2 [00:00<?, ?it/s]\u001b[A\n",
            " 50%|█████     | 1/2 [00:00<00:00,  2.04it/s]\u001b[A\n",
            "100%|██████████| 2/2 [00:04<00:00,  2.34s/it]\n"
          ]
        },
        {
          "output_type": "stream",
          "name": "stdout",
          "text": [
            "N: 30 --> 3\n",
            "R: 10 --> 3\n",
            "Chain score: 1.0000\n",
            "\n",
            " ---------------------------------------------------------------------------------------------------------------------------------------------------------------------------------------------------------------------------------------------------------------------------------------------------------------------------------------------------------------------------------------------------------------------------------------------------------------------------------------------------------------------------------------------------------------------------------------------------------------------------------------------------------------------------------------------------------------------------------------------------------------------------------------------------------------------------------------------------------------------------------------------------------------------------------------------------------------------------------------------------------------------------------------- \n",
            "\n",
            "/content/drive/MyDrive/FilteredNivkhTxt/a397_nd/n.txt /content/drive/MyDrive/FilteredNivkhTxt/a397_nd/r.txt\n",
            "Aligning without segments.\n",
            "tasks amount: 1\n",
            "batch: 0 (0)\n"
          ]
        },
        {
          "output_type": "stream",
          "name": "stderr",
          "text": [
            "WARNING:root:can not fetch index db\n"
          ]
        },
        {
          "output_type": "stream",
          "name": "stdout",
          "text": [
            "conflicts to solve: 0\n",
            "total conflicts: 1\n"
          ]
        },
        {
          "output_type": "stream",
          "name": "stderr",
          "text": [
            "\n",
            "0it [00:00, ?it/s]\n"
          ]
        },
        {
          "output_type": "stream",
          "name": "stdout",
          "text": [
            "conflicts to solve: 0\n",
            "total conflicts: 1\n"
          ]
        },
        {
          "output_type": "stream",
          "name": "stderr",
          "text": [
            "\n",
            "0it [00:00, ?it/s]\n"
          ]
        },
        {
          "output_type": "stream",
          "name": "stdout",
          "text": [
            "conflicts to solve: 0\n",
            "total conflicts: 1\n"
          ]
        },
        {
          "output_type": "stream",
          "name": "stderr",
          "text": [
            "\n",
            "0it [00:00, ?it/s]\n"
          ]
        },
        {
          "output_type": "stream",
          "name": "stdout",
          "text": [
            "conflicts to solve: 1\n",
            "total conflicts: 1\n"
          ]
        },
        {
          "output_type": "stream",
          "name": "stderr",
          "text": [
            "\n",
            "  0%|          | 0/1 [00:00<?, ?it/s]\u001b[A\n",
            "100%|██████████| 1/1 [00:04<00:00,  4.19s/it]\n"
          ]
        },
        {
          "output_type": "stream",
          "name": "stdout",
          "text": [
            "N: 23 --> 2\n",
            "R: 33 --> 2\n",
            "Chain score: 1.0000\n",
            "\n",
            " ---------------------------------------------------------------------------------------------------------------------------------------------------------------------------------------------------------------------------------------------------------------------------------------------------------------------------------------------------------------------------------------------------------------------------------------------------------------------------------------------------------------------------------------------------------------------------------------------------------------------------------------------------------------------------------------------------------------------------------------------------------------------------------------------------------------------------------------------------------------------------------------------------------------------------------------------------------------------------------------------------------------------------------------- \n",
            "\n",
            "/content/drive/MyDrive/FilteredNivkhTxt/a156_bible/n.txt /content/drive/MyDrive/FilteredNivkhTxt/a156_bible/r.txt\n",
            "Aligning without segments.\n",
            "tasks amount: 1\n",
            "batch: 0 (0)\n"
          ]
        },
        {
          "output_type": "stream",
          "name": "stderr",
          "text": [
            "WARNING:root:can not fetch index db\n"
          ]
        },
        {
          "output_type": "stream",
          "name": "stdout",
          "text": [
            "conflicts to solve: 5\n",
            "total conflicts: 7\n"
          ]
        },
        {
          "output_type": "stream",
          "name": "stderr",
          "text": [
            "\n",
            "  0%|          | 0/5 [00:00<?, ?it/s]\u001b[A\n",
            " 40%|████      | 2/5 [00:00<00:00, 12.62it/s]\u001b[A\n",
            "100%|██████████| 5/5 [00:00<00:00, 13.07it/s]\n"
          ]
        },
        {
          "output_type": "stream",
          "name": "stdout",
          "text": [
            "conflicts to solve: 0\n",
            "total conflicts: 1\n"
          ]
        },
        {
          "output_type": "stream",
          "name": "stderr",
          "text": [
            "\n",
            "0it [00:00, ?it/s]\n"
          ]
        },
        {
          "output_type": "stream",
          "name": "stdout",
          "text": [
            "conflicts to solve: 0\n",
            "total conflicts: 1\n"
          ]
        },
        {
          "output_type": "stream",
          "name": "stderr",
          "text": [
            "\n",
            "0it [00:00, ?it/s]\n"
          ]
        },
        {
          "output_type": "stream",
          "name": "stdout",
          "text": [
            "conflicts to solve: 2\n",
            "total conflicts: 2\n"
          ]
        },
        {
          "output_type": "stream",
          "name": "stderr",
          "text": [
            "\n",
            "  0%|          | 0/2 [00:00<?, ?it/s]\u001b[A\n",
            " 50%|█████     | 1/2 [00:00<00:00,  2.79it/s]\u001b[A\n",
            "100%|██████████| 2/2 [00:00<00:00,  4.29it/s]\n"
          ]
        },
        {
          "output_type": "stream",
          "name": "stdout",
          "text": [
            "N: 49 --> 28\n",
            "R: 42 --> 28\n",
            "Chain score: 0.9512\n",
            "\n",
            " ---------------------------------------------------------------------------------------------------------------------------------------------------------------------------------------------------------------------------------------------------------------------------------------------------------------------------------------------------------------------------------------------------------------------------------------------------------------------------------------------------------------------------------------------------------------------------------------------------------------------------------------------------------------------------------------------------------------------------------------------------------------------------------------------------------------------------------------------------------------------------------------------------------------------------------------------------------------------------------------------------------------------------------------- \n",
            "\n",
            "/content/drive/MyDrive/FilteredNivkhTxt/57_nd/n.txt /content/drive/MyDrive/FilteredNivkhTxt/57_nd/r.txt\n",
            "Aligning without segments.\n",
            "tasks amount: 1\n",
            "batch: 0 (0)\n"
          ]
        },
        {
          "output_type": "stream",
          "name": "stderr",
          "text": [
            "WARNING:root:can not fetch index db\n"
          ]
        },
        {
          "output_type": "stream",
          "name": "stdout",
          "text": [
            "conflicts to solve: 5\n",
            "total conflicts: 8\n"
          ]
        },
        {
          "output_type": "stream",
          "name": "stderr",
          "text": [
            "\n",
            "  0%|          | 0/5 [00:00<?, ?it/s]\u001b[A\n",
            " 40%|████      | 2/5 [00:00<00:00, 18.54it/s]\u001b[A\n",
            "100%|██████████| 5/5 [00:00<00:00, 17.11it/s]\n"
          ]
        },
        {
          "output_type": "stream",
          "name": "stdout",
          "text": [
            "conflicts to solve: 2\n",
            "total conflicts: 2\n"
          ]
        },
        {
          "output_type": "stream",
          "name": "stderr",
          "text": [
            "\n",
            "  0%|          | 0/2 [00:00<?, ?it/s]\u001b[A\n",
            " 50%|█████     | 1/2 [00:00<00:00,  4.89it/s]\u001b[A\n",
            "100%|██████████| 2/2 [00:00<00:00,  3.31it/s]\n"
          ]
        },
        {
          "output_type": "stream",
          "name": "stdout",
          "text": [
            "conflicts to solve: 0\n",
            "total conflicts: 1\n"
          ]
        },
        {
          "output_type": "stream",
          "name": "stderr",
          "text": [
            "\n",
            "0it [00:00, ?it/s]\n"
          ]
        },
        {
          "output_type": "stream",
          "name": "stdout",
          "text": [
            "N: 55 --> 22\n",
            "R: 46 --> 22\n",
            "Chain score: 0.9583\n",
            "\n",
            " ---------------------------------------------------------------------------------------------------------------------------------------------------------------------------------------------------------------------------------------------------------------------------------------------------------------------------------------------------------------------------------------------------------------------------------------------------------------------------------------------------------------------------------------------------------------------------------------------------------------------------------------------------------------------------------------------------------------------------------------------------------------------------------------------------------------------------------------------------------------------------------------------------------------------------------------------------------------------------------------------------------------------------------------- \n",
            "\n",
            "/content/drive/MyDrive/FilteredNivkhTxt/04_hrn/n.txt /content/drive/MyDrive/FilteredNivkhTxt/04_hrn/r.txt\n",
            "Aligning without segments.\n",
            "tasks amount: 1\n",
            "batch: 0 (0)\n"
          ]
        },
        {
          "output_type": "stream",
          "name": "stderr",
          "text": [
            "WARNING:root:can not fetch index db\n"
          ]
        },
        {
          "output_type": "stream",
          "name": "stdout",
          "text": [
            "conflicts to solve: 1\n",
            "total conflicts: 9\n"
          ]
        },
        {
          "output_type": "stream",
          "name": "stderr",
          "text": [
            "\n",
            "100%|██████████| 1/1 [00:00<00:00, 19.52it/s]\n"
          ]
        },
        {
          "output_type": "stream",
          "name": "stdout",
          "text": [
            "conflicts to solve: 0\n",
            "total conflicts: 3\n"
          ]
        },
        {
          "output_type": "stream",
          "name": "stderr",
          "text": [
            "\n",
            "0it [00:00, ?it/s]\n"
          ]
        },
        {
          "output_type": "stream",
          "name": "stdout",
          "text": [
            "conflicts to solve: 0\n",
            "total conflicts: 1\n"
          ]
        },
        {
          "output_type": "stream",
          "name": "stderr",
          "text": [
            "\n",
            "0it [00:00, ?it/s]\n"
          ]
        },
        {
          "output_type": "stream",
          "name": "stdout",
          "text": [
            "conflicts to solve: 7\n",
            "total conflicts: 8\n"
          ]
        },
        {
          "output_type": "stream",
          "name": "stderr",
          "text": [
            "\n",
            "  0%|          | 0/7 [00:00<?, ?it/s]\u001b[A\n",
            " 14%|█▍        | 1/7 [00:00<00:00,  7.90it/s]\u001b[A\n",
            " 29%|██▊       | 2/7 [00:01<00:03,  1.47it/s]\u001b[A\n",
            " 43%|████▎     | 3/7 [00:01<00:01,  2.31it/s]\u001b[A\n",
            " 57%|█████▋    | 4/7 [00:01<00:01,  2.12it/s]\u001b[A\n",
            " 71%|███████▏  | 5/7 [00:02<00:00,  2.18it/s]\u001b[A\n",
            "100%|██████████| 7/7 [00:04<00:00,  1.74it/s]\n"
          ]
        },
        {
          "output_type": "stream",
          "name": "stdout",
          "text": [
            "N: 91 --> 36\n",
            "R: 81 --> 36\n",
            "Chain score: 0.9111\n",
            "\n",
            " ---------------------------------------------------------------------------------------------------------------------------------------------------------------------------------------------------------------------------------------------------------------------------------------------------------------------------------------------------------------------------------------------------------------------------------------------------------------------------------------------------------------------------------------------------------------------------------------------------------------------------------------------------------------------------------------------------------------------------------------------------------------------------------------------------------------------------------------------------------------------------------------------------------------------------------------------------------------------------------------------------------------------------------------- \n",
            "\n",
            "/content/drive/MyDrive/FilteredNivkhTxt/a117_nd/n.txt /content/drive/MyDrive/FilteredNivkhTxt/a117_nd/r.txt\n"
          ]
        },
        {
          "output_type": "stream",
          "name": "stderr",
          "text": [
            "WARNING:root:can not fetch index db\n"
          ]
        },
        {
          "output_type": "stream",
          "name": "stdout",
          "text": [
            "Aligning without segments.\n",
            "tasks amount: 1\n",
            "batch: 0 (0)\n",
            "conflicts to solve: 4\n",
            "total conflicts: 4\n"
          ]
        },
        {
          "output_type": "stream",
          "name": "stderr",
          "text": [
            "\n",
            "  0%|          | 0/4 [00:00<?, ?it/s]\u001b[A\n",
            " 25%|██▌       | 1/4 [00:00<00:00,  5.96it/s]\u001b[A\n",
            " 50%|█████     | 2/4 [00:00<00:00,  7.29it/s]\u001b[A\n",
            "100%|██████████| 4/4 [00:00<00:00,  8.99it/s]\n"
          ]
        },
        {
          "output_type": "stream",
          "name": "stdout",
          "text": [
            "conflicts to solve: 0\n",
            "total conflicts: 0\n"
          ]
        },
        {
          "output_type": "stream",
          "name": "stderr",
          "text": [
            "\n",
            "0it [00:00, ?it/s]\n"
          ]
        },
        {
          "output_type": "stream",
          "name": "stdout",
          "text": [
            "N: 20 --> 11\n",
            "R: 19 --> 11\n",
            "Chain score: 1.0000\n",
            "\n",
            " ---------------------------------------------------------------------------------------------------------------------------------------------------------------------------------------------------------------------------------------------------------------------------------------------------------------------------------------------------------------------------------------------------------------------------------------------------------------------------------------------------------------------------------------------------------------------------------------------------------------------------------------------------------------------------------------------------------------------------------------------------------------------------------------------------------------------------------------------------------------------------------------------------------------------------------------------------------------------------------------------------------------------------------------- \n",
            "\n",
            "/content/drive/MyDrive/FilteredNivkhTxt/a169_bible/n_am.txt /content/drive/MyDrive/FilteredNivkhTxt/a169_bible/r.txt\n"
          ]
        },
        {
          "output_type": "stream",
          "name": "stderr",
          "text": [
            "WARNING:root:can not fetch index db\n"
          ]
        },
        {
          "output_type": "stream",
          "name": "stdout",
          "text": [
            "Aligning without segments.\n",
            "tasks amount: 1\n",
            "batch: 0 (0)\n",
            "conflicts to solve: 1\n",
            "total conflicts: 2\n"
          ]
        },
        {
          "output_type": "stream",
          "name": "stderr",
          "text": [
            "\n",
            "100%|██████████| 1/1 [00:00<00:00, 17.78it/s]\n"
          ]
        },
        {
          "output_type": "stream",
          "name": "stdout",
          "text": [
            "conflicts to solve: 1\n",
            "total conflicts: 1\n"
          ]
        },
        {
          "output_type": "stream",
          "name": "stderr",
          "text": [
            "\n",
            "100%|██████████| 1/1 [00:00<00:00, 14.21it/s]\n"
          ]
        },
        {
          "output_type": "stream",
          "name": "stdout",
          "text": [
            "conflicts to solve: 0\n",
            "total conflicts: 0\n"
          ]
        },
        {
          "output_type": "stream",
          "name": "stderr",
          "text": [
            "\n",
            "0it [00:00, ?it/s]\n"
          ]
        },
        {
          "output_type": "stream",
          "name": "stdout",
          "text": [
            "N: 16 --> 9\n",
            "R: 16 --> 9\n",
            "Chain score: 1.0000\n",
            "\n",
            " ---------------------------------------------------------------------------------------------------------------------------------------------------------------------------------------------------------------------------------------------------------------------------------------------------------------------------------------------------------------------------------------------------------------------------------------------------------------------------------------------------------------------------------------------------------------------------------------------------------------------------------------------------------------------------------------------------------------------------------------------------------------------------------------------------------------------------------------------------------------------------------------------------------------------------------------------------------------------------------------------------------------------------------------- \n",
            "\n",
            "/content/drive/MyDrive/FilteredNivkhTxt/a344_nd/n.txt /content/drive/MyDrive/FilteredNivkhTxt/a344_nd/r.txt\n",
            "Aligning without segments.\n",
            "tasks amount: 1\n",
            "batch: 0 (0)\n"
          ]
        },
        {
          "output_type": "stream",
          "name": "stderr",
          "text": [
            "WARNING:root:can not fetch index db\n"
          ]
        },
        {
          "output_type": "stream",
          "name": "stdout",
          "text": [
            "conflicts to solve: 1\n",
            "total conflicts: 2\n"
          ]
        },
        {
          "output_type": "stream",
          "name": "stderr",
          "text": [
            "\n",
            "100%|██████████| 1/1 [00:00<00:00, 18.67it/s]\n"
          ]
        },
        {
          "output_type": "stream",
          "name": "stdout",
          "text": [
            "conflicts to solve: 0\n",
            "total conflicts: 0\n"
          ]
        },
        {
          "output_type": "stream",
          "name": "stderr",
          "text": [
            "\n",
            "0it [00:00, ?it/s]\n"
          ]
        },
        {
          "output_type": "stream",
          "name": "stdout",
          "text": [
            "conflicts to solve: 1\n",
            "total conflicts: 1\n"
          ]
        },
        {
          "output_type": "stream",
          "name": "stderr",
          "text": [
            "\n",
            "  0%|          | 0/1 [00:00<?, ?it/s]\u001b[A\n",
            "100%|██████████| 1/1 [00:00<00:00,  2.45it/s]\n"
          ]
        },
        {
          "output_type": "stream",
          "name": "stdout",
          "text": [
            "N: 17 --> 6\n",
            "R: 18 --> 6\n",
            "Chain score: 1.0000\n",
            "\n",
            " ---------------------------------------------------------------------------------------------------------------------------------------------------------------------------------------------------------------------------------------------------------------------------------------------------------------------------------------------------------------------------------------------------------------------------------------------------------------------------------------------------------------------------------------------------------------------------------------------------------------------------------------------------------------------------------------------------------------------------------------------------------------------------------------------------------------------------------------------------------------------------------------------------------------------------------------------------------------------------------------------------------------------------------------- \n",
            "\n",
            "/content/drive/MyDrive/FilteredNivkhTxt/a315_nd/n.txt /content/drive/MyDrive/FilteredNivkhTxt/a315_nd/r.txt\n"
          ]
        },
        {
          "output_type": "stream",
          "name": "stderr",
          "text": [
            "WARNING:root:can not fetch index db\n"
          ]
        },
        {
          "output_type": "stream",
          "name": "stdout",
          "text": [
            "Aligning without segments.\n",
            "tasks amount: 1\n",
            "batch: 0 (0)\n",
            "conflicts to solve: 1\n",
            "total conflicts: 1\n"
          ]
        },
        {
          "output_type": "stream",
          "name": "stderr",
          "text": [
            "\n",
            "100%|██████████| 1/1 [00:00<00:00, 21.71it/s]\n"
          ]
        },
        {
          "output_type": "stream",
          "name": "stdout",
          "text": [
            "conflicts to solve: 0\n",
            "total conflicts: 0\n"
          ]
        },
        {
          "output_type": "stream",
          "name": "stderr",
          "text": [
            "\n",
            "0it [00:00, ?it/s]\n"
          ]
        },
        {
          "output_type": "stream",
          "name": "stdout",
          "text": [
            "N: 9 --> 3\n",
            "R: 8 --> 3\n",
            "Chain score: 0.5556\n",
            "Skipping saving due to low chain_score: 0.5556\n",
            "\n",
            " ---------------------------------------------------------------------------------------------------------------------------------------------------------------------------------------------------------------------------------------------------------------------------------------------------------------------------------------------------------------------------------------------------------------------------------------------------------------------------------------------------------------------------------------------------------------------------------------------------------------------------------------------------------------------------------------------------------------------------------------------------------------------------------------------------------------------------------------------------------------------------------------------------------------------------------------------------------------------------------------------------------------------------------------- \n",
            "\n",
            "/content/drive/MyDrive/FilteredNivkhTxt/80_shklg/n.txt /content/drive/MyDrive/FilteredNivkhTxt/80_shklg/r.txt\n"
          ]
        },
        {
          "output_type": "stream",
          "name": "stderr",
          "text": [
            "WARNING:root:can not fetch index db\n"
          ]
        },
        {
          "output_type": "stream",
          "name": "stdout",
          "text": [
            "Aligning without segments.\n",
            "tasks amount: 1\n",
            "batch: 0 (0)\n",
            "conflicts to solve: 1\n",
            "total conflicts: 3\n"
          ]
        },
        {
          "output_type": "stream",
          "name": "stderr",
          "text": [
            "\n",
            "100%|██████████| 1/1 [00:00<00:00, 14.11it/s]\n"
          ]
        },
        {
          "output_type": "stream",
          "name": "stdout",
          "text": [
            "conflicts to solve: 1\n",
            "total conflicts: 1\n"
          ]
        },
        {
          "output_type": "stream",
          "name": "stderr",
          "text": [
            "\n",
            "  0%|          | 0/1 [00:00<?, ?it/s]\u001b[A\n",
            "100%|██████████| 1/1 [00:00<00:00,  3.95it/s]\n"
          ]
        },
        {
          "output_type": "stream",
          "name": "stdout",
          "text": [
            "conflicts to solve: 0\n",
            "total conflicts: 0\n"
          ]
        },
        {
          "output_type": "stream",
          "name": "stderr",
          "text": [
            "\n",
            "0it [00:00, ?it/s]\n"
          ]
        },
        {
          "output_type": "stream",
          "name": "stdout",
          "text": [
            "N: 15 --> 7\n",
            "R: 12 --> 7\n",
            "Chain score: 0.7500\n",
            "\n",
            " ---------------------------------------------------------------------------------------------------------------------------------------------------------------------------------------------------------------------------------------------------------------------------------------------------------------------------------------------------------------------------------------------------------------------------------------------------------------------------------------------------------------------------------------------------------------------------------------------------------------------------------------------------------------------------------------------------------------------------------------------------------------------------------------------------------------------------------------------------------------------------------------------------------------------------------------------------------------------------------------------------------------------------------------- \n",
            "\n",
            "/content/drive/MyDrive/FilteredNivkhTxt/a301_nd/n.txt /content/drive/MyDrive/FilteredNivkhTxt/a301_nd/r.txt\n"
          ]
        },
        {
          "output_type": "stream",
          "name": "stderr",
          "text": [
            "WARNING:root:can not fetch index db\n"
          ]
        },
        {
          "output_type": "stream",
          "name": "stdout",
          "text": [
            "Aligning without segments.\n",
            "tasks amount: 1\n",
            "batch: 0 (0)\n",
            "conflicts to solve: 2\n",
            "total conflicts: 2\n"
          ]
        },
        {
          "output_type": "stream",
          "name": "stderr",
          "text": [
            "\n",
            "  0%|          | 0/2 [00:00<?, ?it/s]\u001b[A\n",
            "100%|██████████| 2/2 [00:00<00:00, 14.52it/s]\n"
          ]
        },
        {
          "output_type": "stream",
          "name": "stdout",
          "text": [
            "conflicts to solve: 0\n",
            "total conflicts: 0\n"
          ]
        },
        {
          "output_type": "stream",
          "name": "stderr",
          "text": [
            "\n",
            "0it [00:00, ?it/s]\n"
          ]
        },
        {
          "output_type": "stream",
          "name": "stdout",
          "text": [
            "N: 10 --> 1\n",
            "R: 9 --> 1\n",
            "Chain score: 1.0000\n",
            "\n",
            " ---------------------------------------------------------------------------------------------------------------------------------------------------------------------------------------------------------------------------------------------------------------------------------------------------------------------------------------------------------------------------------------------------------------------------------------------------------------------------------------------------------------------------------------------------------------------------------------------------------------------------------------------------------------------------------------------------------------------------------------------------------------------------------------------------------------------------------------------------------------------------------------------------------------------------------------------------------------------------------------------------------------------------------------- \n",
            "\n",
            "/content/drive/MyDrive/FilteredNivkhTxt/a364_nd/n.txt /content/drive/MyDrive/FilteredNivkhTxt/a364_nd/r.txt\n",
            "Aligning without segments.\n",
            "tasks amount: 1\n",
            "batch: 0 (0)\n"
          ]
        },
        {
          "output_type": "stream",
          "name": "stderr",
          "text": [
            "WARNING:root:can not fetch index db\n"
          ]
        },
        {
          "output_type": "stream",
          "name": "stdout",
          "text": [
            "conflicts to solve: 0\n",
            "total conflicts: 4\n"
          ]
        },
        {
          "output_type": "stream",
          "name": "stderr",
          "text": [
            "\n",
            "0it [00:00, ?it/s]\n"
          ]
        },
        {
          "output_type": "stream",
          "name": "stdout",
          "text": [
            "conflicts to solve: 0\n",
            "total conflicts: 1\n"
          ]
        },
        {
          "output_type": "stream",
          "name": "stderr",
          "text": [
            "\n",
            "0it [00:00, ?it/s]\n"
          ]
        },
        {
          "output_type": "stream",
          "name": "stdout",
          "text": [
            "conflicts to solve: 1\n",
            "total conflicts: 1\n"
          ]
        },
        {
          "output_type": "stream",
          "name": "stderr",
          "text": [
            "\n",
            "  0%|          | 0/1 [00:00<?, ?it/s]\u001b[A\n",
            "100%|██████████| 1/1 [00:00<00:00,  1.79it/s]\n"
          ]
        },
        {
          "output_type": "stream",
          "name": "stdout",
          "text": [
            "conflicts to solve: 1\n",
            "total conflicts: 1\n"
          ]
        },
        {
          "output_type": "stream",
          "name": "stderr",
          "text": [
            "\n",
            "  0%|          | 0/1 [00:00<?, ?it/s]\u001b[A\n",
            "100%|██████████| 1/1 [00:00<00:00,  8.20it/s]\n"
          ]
        },
        {
          "output_type": "stream",
          "name": "stdout",
          "text": [
            "N: 32 --> 9\n",
            "R: 29 --> 9\n",
            "Chain score: 0.9310\n",
            "\n",
            " ---------------------------------------------------------------------------------------------------------------------------------------------------------------------------------------------------------------------------------------------------------------------------------------------------------------------------------------------------------------------------------------------------------------------------------------------------------------------------------------------------------------------------------------------------------------------------------------------------------------------------------------------------------------------------------------------------------------------------------------------------------------------------------------------------------------------------------------------------------------------------------------------------------------------------------------------------------------------------------------------------------------------------------------- \n",
            "\n",
            "/content/drive/MyDrive/FilteredNivkhTxt/a340_nd/n.txt /content/drive/MyDrive/FilteredNivkhTxt/a340_nd/r.txt\n"
          ]
        },
        {
          "output_type": "stream",
          "name": "stderr",
          "text": [
            "WARNING:root:can not fetch index db\n"
          ]
        },
        {
          "output_type": "stream",
          "name": "stdout",
          "text": [
            "Aligning without segments.\n",
            "tasks amount: 1\n",
            "batch: 0 (0)\n",
            "conflicts to solve: 3\n",
            "total conflicts: 4\n"
          ]
        },
        {
          "output_type": "stream",
          "name": "stderr",
          "text": [
            "\n",
            "  0%|          | 0/3 [00:00<?, ?it/s]\u001b[A\n",
            "100%|██████████| 3/3 [00:00<00:00, 19.31it/s]\n"
          ]
        },
        {
          "output_type": "stream",
          "name": "stdout",
          "text": [
            "conflicts to solve: 1\n",
            "total conflicts: 1\n"
          ]
        },
        {
          "output_type": "stream",
          "name": "stderr",
          "text": [
            "\n",
            "  0%|          | 0/1 [00:00<?, ?it/s]\u001b[A\n",
            "100%|██████████| 1/1 [00:00<00:00,  7.69it/s]\n"
          ]
        },
        {
          "output_type": "stream",
          "name": "stdout",
          "text": [
            "conflicts to solve: 0\n",
            "total conflicts: 0\n"
          ]
        },
        {
          "output_type": "stream",
          "name": "stderr",
          "text": [
            "\n",
            "0it [00:00, ?it/s]\n"
          ]
        },
        {
          "output_type": "stream",
          "name": "stdout",
          "text": [
            "N: 20 --> 6\n",
            "R: 21 --> 6\n",
            "Chain score: 1.0000\n",
            "\n",
            " ---------------------------------------------------------------------------------------------------------------------------------------------------------------------------------------------------------------------------------------------------------------------------------------------------------------------------------------------------------------------------------------------------------------------------------------------------------------------------------------------------------------------------------------------------------------------------------------------------------------------------------------------------------------------------------------------------------------------------------------------------------------------------------------------------------------------------------------------------------------------------------------------------------------------------------------------------------------------------------------------------------------------------------------- \n",
            "\n",
            "/content/drive/MyDrive/FilteredNivkhTxt/73_nd/n.txt /content/drive/MyDrive/FilteredNivkhTxt/73_nd/r.txt\n",
            "Aligning without segments.\n",
            "tasks amount: 1\n",
            "batch: 0 (0)\n"
          ]
        },
        {
          "output_type": "stream",
          "name": "stderr",
          "text": [
            "WARNING:root:can not fetch index db\n"
          ]
        },
        {
          "output_type": "stream",
          "name": "stdout",
          "text": [
            "conflicts to solve: 3\n",
            "total conflicts: 4\n"
          ]
        },
        {
          "output_type": "stream",
          "name": "stderr",
          "text": [
            "\n",
            "  0%|          | 0/3 [00:00<?, ?it/s]\u001b[A\n",
            "100%|██████████| 3/3 [00:00<00:00, 17.15it/s]\n"
          ]
        },
        {
          "output_type": "stream",
          "name": "stdout",
          "text": [
            "conflicts to solve: 0\n",
            "total conflicts: 1\n"
          ]
        },
        {
          "output_type": "stream",
          "name": "stderr",
          "text": [
            "\n",
            "0it [00:00, ?it/s]\n"
          ]
        },
        {
          "output_type": "stream",
          "name": "stdout",
          "text": [
            "conflicts to solve: 0\n",
            "total conflicts: 1\n"
          ]
        },
        {
          "output_type": "stream",
          "name": "stderr",
          "text": [
            "\n",
            "0it [00:00, ?it/s]\n"
          ]
        },
        {
          "output_type": "stream",
          "name": "stdout",
          "text": [
            "conflicts to solve: 1\n",
            "total conflicts: 1\n"
          ]
        },
        {
          "output_type": "stream",
          "name": "stderr",
          "text": [
            "\n",
            "  0%|          | 0/1 [00:00<?, ?it/s]\u001b[A\n",
            "100%|██████████| 1/1 [00:02<00:00,  2.12s/it]\n"
          ]
        },
        {
          "output_type": "stream",
          "name": "stdout",
          "text": [
            "N: 37 --> 11\n",
            "R: 25 --> 11\n",
            "Chain score: 0.7586\n",
            "\n",
            " ---------------------------------------------------------------------------------------------------------------------------------------------------------------------------------------------------------------------------------------------------------------------------------------------------------------------------------------------------------------------------------------------------------------------------------------------------------------------------------------------------------------------------------------------------------------------------------------------------------------------------------------------------------------------------------------------------------------------------------------------------------------------------------------------------------------------------------------------------------------------------------------------------------------------------------------------------------------------------------------------------------------------------------------- \n",
            "\n",
            "/content/drive/MyDrive/FilteredNivkhTxt/a350_nd/n.txt /content/drive/MyDrive/FilteredNivkhTxt/a350_nd/r.txt\n"
          ]
        },
        {
          "output_type": "stream",
          "name": "stderr",
          "text": [
            "WARNING:root:can not fetch index db\n"
          ]
        },
        {
          "output_type": "stream",
          "name": "stdout",
          "text": [
            "Aligning without segments.\n",
            "tasks amount: 1\n",
            "batch: 0 (0)\n",
            "conflicts to solve: 0\n",
            "total conflicts: 1\n"
          ]
        },
        {
          "output_type": "stream",
          "name": "stderr",
          "text": [
            "\n",
            "0it [00:00, ?it/s]\n"
          ]
        },
        {
          "output_type": "stream",
          "name": "stdout",
          "text": [
            "conflicts to solve: 0\n",
            "total conflicts: 0\n"
          ]
        },
        {
          "output_type": "stream",
          "name": "stderr",
          "text": [
            "\n",
            "0it [00:00, ?it/s]\n"
          ]
        },
        {
          "output_type": "stream",
          "name": "stdout",
          "text": [
            "conflicts to solve: 1\n",
            "total conflicts: 1\n"
          ]
        },
        {
          "output_type": "stream",
          "name": "stderr",
          "text": [
            "\n",
            "  0%|          | 0/1 [00:00<?, ?it/s]\u001b[A\n",
            "100%|██████████| 1/1 [00:00<00:00,  4.32it/s]\n"
          ]
        },
        {
          "output_type": "stream",
          "name": "stdout",
          "text": [
            "N: 6 --> 3\n",
            "R: 8 --> 3\n",
            "Chain score: 1.0000\n",
            "\n",
            " ---------------------------------------------------------------------------------------------------------------------------------------------------------------------------------------------------------------------------------------------------------------------------------------------------------------------------------------------------------------------------------------------------------------------------------------------------------------------------------------------------------------------------------------------------------------------------------------------------------------------------------------------------------------------------------------------------------------------------------------------------------------------------------------------------------------------------------------------------------------------------------------------------------------------------------------------------------------------------------------------------------------------------------------- \n",
            "\n",
            "/content/drive/MyDrive/FilteredNivkhTxt/a335_nd/n.txt /content/drive/MyDrive/FilteredNivkhTxt/a335_nd/r.txt\n"
          ]
        },
        {
          "output_type": "stream",
          "name": "stderr",
          "text": [
            "WARNING:root:can not fetch index db\n"
          ]
        },
        {
          "output_type": "stream",
          "name": "stdout",
          "text": [
            "Aligning without segments.\n",
            "tasks amount: 1\n",
            "batch: 0 (0)\n",
            "conflicts to solve: 0\n",
            "total conflicts: 1\n"
          ]
        },
        {
          "output_type": "stream",
          "name": "stderr",
          "text": [
            "\n",
            "0it [00:00, ?it/s]\n"
          ]
        },
        {
          "output_type": "stream",
          "name": "stdout",
          "text": [
            "conflicts to solve: 0\n",
            "total conflicts: 0\n"
          ]
        },
        {
          "output_type": "stream",
          "name": "stderr",
          "text": [
            "\n",
            "0it [00:00, ?it/s]\n"
          ]
        },
        {
          "output_type": "stream",
          "name": "stdout",
          "text": [
            "conflicts to solve: 1\n",
            "total conflicts: 1\n"
          ]
        },
        {
          "output_type": "stream",
          "name": "stderr",
          "text": [
            "\n",
            "  0%|          | 0/1 [00:00<?, ?it/s]\u001b[A\n",
            "100%|██████████| 1/1 [00:00<00:00,  2.52it/s]\n"
          ]
        },
        {
          "output_type": "stream",
          "name": "stdout",
          "text": [
            "N: 14 --> 10\n",
            "R: 11 --> 10\n",
            "Chain score: 1.0000\n",
            "\n",
            " ---------------------------------------------------------------------------------------------------------------------------------------------------------------------------------------------------------------------------------------------------------------------------------------------------------------------------------------------------------------------------------------------------------------------------------------------------------------------------------------------------------------------------------------------------------------------------------------------------------------------------------------------------------------------------------------------------------------------------------------------------------------------------------------------------------------------------------------------------------------------------------------------------------------------------------------------------------------------------------------------------------------------------------------- \n",
            "\n",
            "/content/drive/MyDrive/FilteredNivkhTxt/a275_nd/n.txt /content/drive/MyDrive/FilteredNivkhTxt/a275_nd/r.txt\n"
          ]
        },
        {
          "output_type": "stream",
          "name": "stderr",
          "text": [
            "WARNING:root:can not fetch index db\n"
          ]
        },
        {
          "output_type": "stream",
          "name": "stdout",
          "text": [
            "Aligning without segments.\n",
            "tasks amount: 1\n",
            "batch: 0 (0)\n",
            "conflicts to solve: 0\n",
            "total conflicts: 1\n"
          ]
        },
        {
          "output_type": "stream",
          "name": "stderr",
          "text": [
            "\n",
            "0it [00:00, ?it/s]\n"
          ]
        },
        {
          "output_type": "stream",
          "name": "stdout",
          "text": [
            "conflicts to solve: 0\n",
            "total conflicts: 0\n"
          ]
        },
        {
          "output_type": "stream",
          "name": "stderr",
          "text": [
            "\n",
            "0it [00:00, ?it/s]\n"
          ]
        },
        {
          "output_type": "stream",
          "name": "stdout",
          "text": [
            "conflicts to solve: 1\n",
            "total conflicts: 1\n"
          ]
        },
        {
          "output_type": "stream",
          "name": "stderr",
          "text": [
            "\n",
            "  0%|          | 0/1 [00:00<?, ?it/s]\u001b[A\n",
            "100%|██████████| 1/1 [00:00<00:00,  5.38it/s]\n"
          ]
        },
        {
          "output_type": "stream",
          "name": "stdout",
          "text": [
            "N: 8 --> 3\n",
            "R: 6 --> 3\n",
            "Chain score: 1.0000\n",
            "\n",
            " ---------------------------------------------------------------------------------------------------------------------------------------------------------------------------------------------------------------------------------------------------------------------------------------------------------------------------------------------------------------------------------------------------------------------------------------------------------------------------------------------------------------------------------------------------------------------------------------------------------------------------------------------------------------------------------------------------------------------------------------------------------------------------------------------------------------------------------------------------------------------------------------------------------------------------------------------------------------------------------------------------------------------------------------- \n",
            "\n",
            "/content/drive/MyDrive/FilteredNivkhTxt/a251_nd/n.txt /content/drive/MyDrive/FilteredNivkhTxt/a251_nd/r.txt\n"
          ]
        },
        {
          "output_type": "stream",
          "name": "stderr",
          "text": [
            "WARNING:root:can not fetch index db\n"
          ]
        },
        {
          "output_type": "stream",
          "name": "stdout",
          "text": [
            "Aligning without segments.\n",
            "tasks amount: 1\n",
            "batch: 0 (0)\n",
            "conflicts to solve: 2\n",
            "total conflicts: 2\n"
          ]
        },
        {
          "output_type": "stream",
          "name": "stderr",
          "text": [
            "\n",
            "  0%|          | 0/2 [00:00<?, ?it/s]\u001b[A\n",
            "100%|██████████| 2/2 [00:00<00:00,  7.43it/s]\n"
          ]
        },
        {
          "output_type": "stream",
          "name": "stdout",
          "text": [
            "conflicts to solve: 0\n",
            "total conflicts: 0\n"
          ]
        },
        {
          "output_type": "stream",
          "name": "stderr",
          "text": [
            "\n",
            "0it [00:00, ?it/s]\n"
          ]
        },
        {
          "output_type": "stream",
          "name": "stdout",
          "text": [
            "N: 11 --> 5\n",
            "R: 8 --> 5\n",
            "Chain score: 1.0000\n",
            "\n",
            " ---------------------------------------------------------------------------------------------------------------------------------------------------------------------------------------------------------------------------------------------------------------------------------------------------------------------------------------------------------------------------------------------------------------------------------------------------------------------------------------------------------------------------------------------------------------------------------------------------------------------------------------------------------------------------------------------------------------------------------------------------------------------------------------------------------------------------------------------------------------------------------------------------------------------------------------------------------------------------------------------------------------------------------------- \n",
            "\n",
            "/content/drive/MyDrive/FilteredNivkhTxt/90_nd/n.txt /content/drive/MyDrive/FilteredNivkhTxt/90_nd/r.txt\n"
          ]
        },
        {
          "output_type": "stream",
          "name": "stderr",
          "text": [
            "WARNING:root:can not fetch index db\n"
          ]
        },
        {
          "output_type": "stream",
          "name": "stdout",
          "text": [
            "Aligning without segments.\n",
            "tasks amount: 1\n",
            "batch: 0 (0)\n",
            "conflicts to solve: 0\n",
            "total conflicts: 0\n"
          ]
        },
        {
          "output_type": "stream",
          "name": "stderr",
          "text": [
            "\n",
            "0it [00:00, ?it/s]\n"
          ]
        },
        {
          "output_type": "stream",
          "name": "stdout",
          "text": [
            "conflicts to solve: 0\n",
            "total conflicts: 0\n"
          ]
        },
        {
          "output_type": "stream",
          "name": "stderr",
          "text": [
            "\n",
            "0it [00:00, ?it/s]\n"
          ]
        },
        {
          "output_type": "stream",
          "name": "stdout",
          "text": [
            "N: 10 --> 2\n",
            "R: 10 --> 2\n",
            "Chain score: 0.1111\n",
            "Skipping saving due to low chain_score: 0.1111\n",
            "\n",
            " ---------------------------------------------------------------------------------------------------------------------------------------------------------------------------------------------------------------------------------------------------------------------------------------------------------------------------------------------------------------------------------------------------------------------------------------------------------------------------------------------------------------------------------------------------------------------------------------------------------------------------------------------------------------------------------------------------------------------------------------------------------------------------------------------------------------------------------------------------------------------------------------------------------------------------------------------------------------------------------------------------------------------------------------- \n",
            "\n",
            "/content/drive/MyDrive/FilteredNivkhTxt/a311_nd/n.txt /content/drive/MyDrive/FilteredNivkhTxt/a311_nd/r.txt\n"
          ]
        },
        {
          "output_type": "stream",
          "name": "stderr",
          "text": [
            "WARNING:root:can not fetch index db\n"
          ]
        },
        {
          "output_type": "stream",
          "name": "stdout",
          "text": [
            "Aligning without segments.\n",
            "tasks amount: 1\n",
            "batch: 0 (0)\n",
            "conflicts to solve: 1\n",
            "total conflicts: 1\n"
          ]
        },
        {
          "output_type": "stream",
          "name": "stderr",
          "text": [
            "\n",
            "100%|██████████| 1/1 [00:00<00:00, 11.85it/s]\n"
          ]
        },
        {
          "output_type": "stream",
          "name": "stdout",
          "text": [
            "conflicts to solve: 0\n",
            "total conflicts: 0\n"
          ]
        },
        {
          "output_type": "stream",
          "name": "stderr",
          "text": [
            "\n",
            "0it [00:00, ?it/s]\n"
          ]
        },
        {
          "output_type": "stream",
          "name": "stdout",
          "text": [
            "N: 9 --> 4\n",
            "R: 9 --> 4\n",
            "Chain score: 1.0000\n",
            "\n",
            " ---------------------------------------------------------------------------------------------------------------------------------------------------------------------------------------------------------------------------------------------------------------------------------------------------------------------------------------------------------------------------------------------------------------------------------------------------------------------------------------------------------------------------------------------------------------------------------------------------------------------------------------------------------------------------------------------------------------------------------------------------------------------------------------------------------------------------------------------------------------------------------------------------------------------------------------------------------------------------------------------------------------------------------------- \n",
            "\n",
            "/content/drive/MyDrive/FilteredNivkhTxt/a387_nd/n.txt /content/drive/MyDrive/FilteredNivkhTxt/a387_nd/r.txt\n"
          ]
        },
        {
          "output_type": "stream",
          "name": "stderr",
          "text": [
            "WARNING:root:can not fetch index db\n"
          ]
        },
        {
          "output_type": "stream",
          "name": "stdout",
          "text": [
            "Aligning without segments.\n",
            "tasks amount: 1\n",
            "batch: 0 (0)\n",
            "conflicts to solve: 1\n",
            "total conflicts: 2\n"
          ]
        },
        {
          "output_type": "stream",
          "name": "stderr",
          "text": [
            "\n",
            "100%|██████████| 1/1 [00:00<00:00, 18.11it/s]\n"
          ]
        },
        {
          "output_type": "stream",
          "name": "stdout",
          "text": [
            "conflicts to solve: 0\n",
            "total conflicts: 1\n"
          ]
        },
        {
          "output_type": "stream",
          "name": "stderr",
          "text": [
            "\n",
            "0it [00:00, ?it/s]\n"
          ]
        },
        {
          "output_type": "stream",
          "name": "stdout",
          "text": [
            "conflicts to solve: 0\n",
            "total conflicts: 0\n"
          ]
        },
        {
          "output_type": "stream",
          "name": "stderr",
          "text": [
            "\n",
            "0it [00:00, ?it/s]\n"
          ]
        },
        {
          "output_type": "stream",
          "name": "stdout",
          "text": [
            "conflicts to solve: 1\n",
            "total conflicts: 1\n"
          ]
        },
        {
          "output_type": "stream",
          "name": "stderr",
          "text": [
            "\n",
            "  0%|          | 0/1 [00:00<?, ?it/s]\u001b[A\n",
            "100%|██████████| 1/1 [00:00<00:00,  3.67it/s]\n"
          ]
        },
        {
          "output_type": "stream",
          "name": "stdout",
          "text": [
            "N: 16 --> 1\n",
            "R: 16 --> 1\n",
            "Chain score: 1.0000\n",
            "\n",
            " ---------------------------------------------------------------------------------------------------------------------------------------------------------------------------------------------------------------------------------------------------------------------------------------------------------------------------------------------------------------------------------------------------------------------------------------------------------------------------------------------------------------------------------------------------------------------------------------------------------------------------------------------------------------------------------------------------------------------------------------------------------------------------------------------------------------------------------------------------------------------------------------------------------------------------------------------------------------------------------------------------------------------------------------- \n",
            "\n",
            "/content/drive/MyDrive/FilteredNivkhTxt/a287_nd/n.txt /content/drive/MyDrive/FilteredNivkhTxt/a287_nd/r.txt\n"
          ]
        },
        {
          "output_type": "stream",
          "name": "stderr",
          "text": [
            "WARNING:root:can not fetch index db\n"
          ]
        },
        {
          "output_type": "stream",
          "name": "stdout",
          "text": [
            "Aligning without segments.\n",
            "tasks amount: 1\n",
            "batch: 0 (0)\n",
            "conflicts to solve: 0\n",
            "total conflicts: 0\n"
          ]
        },
        {
          "output_type": "stream",
          "name": "stderr",
          "text": [
            "\n",
            "0it [00:00, ?it/s]\n"
          ]
        },
        {
          "output_type": "stream",
          "name": "stdout",
          "text": [
            "conflicts to solve: 0\n",
            "total conflicts: 0\n"
          ]
        },
        {
          "output_type": "stream",
          "name": "stderr",
          "text": [
            "\n",
            "0it [00:00, ?it/s]\n"
          ]
        },
        {
          "output_type": "stream",
          "name": "stdout",
          "text": [
            "N: 25 --> 10\n",
            "R: 21 --> 10\n",
            "Chain score: 0.1250\n",
            "Skipping saving due to low chain_score: 0.1250\n",
            "\n",
            " ---------------------------------------------------------------------------------------------------------------------------------------------------------------------------------------------------------------------------------------------------------------------------------------------------------------------------------------------------------------------------------------------------------------------------------------------------------------------------------------------------------------------------------------------------------------------------------------------------------------------------------------------------------------------------------------------------------------------------------------------------------------------------------------------------------------------------------------------------------------------------------------------------------------------------------------------------------------------------------------------------------------------------------------- \n",
            "\n",
            "/content/drive/MyDrive/FilteredNivkhTxt/a296_nd/n.txt /content/drive/MyDrive/FilteredNivkhTxt/a296_nd/r.txt\n"
          ]
        },
        {
          "output_type": "stream",
          "name": "stderr",
          "text": [
            "WARNING:root:can not fetch index db\n"
          ]
        },
        {
          "output_type": "stream",
          "name": "stdout",
          "text": [
            "Aligning without segments.\n",
            "tasks amount: 1\n",
            "batch: 0 (0)\n",
            "conflicts to solve: 2\n",
            "total conflicts: 4\n"
          ]
        },
        {
          "output_type": "stream",
          "name": "stderr",
          "text": [
            "\n",
            "  0%|          | 0/2 [00:00<?, ?it/s]\u001b[A\n",
            "100%|██████████| 2/2 [00:00<00:00, 18.55it/s]\n"
          ]
        },
        {
          "output_type": "stream",
          "name": "stdout",
          "text": [
            "conflicts to solve: 1\n",
            "total conflicts: 1\n"
          ]
        },
        {
          "output_type": "stream",
          "name": "stderr",
          "text": [
            "\n",
            "  0%|          | 0/1 [00:00<?, ?it/s]\u001b[A\n",
            "100%|██████████| 1/1 [00:00<00:00,  7.84it/s]\n"
          ]
        },
        {
          "output_type": "stream",
          "name": "stdout",
          "text": [
            "conflicts to solve: 0\n",
            "total conflicts: 0\n"
          ]
        },
        {
          "output_type": "stream",
          "name": "stderr",
          "text": [
            "\n",
            "0it [00:00, ?it/s]\n"
          ]
        },
        {
          "output_type": "stream",
          "name": "stdout",
          "text": [
            "N: 14 --> 3\n",
            "R: 12 --> 3\n",
            "Chain score: 1.0000\n",
            "\n",
            " ---------------------------------------------------------------------------------------------------------------------------------------------------------------------------------------------------------------------------------------------------------------------------------------------------------------------------------------------------------------------------------------------------------------------------------------------------------------------------------------------------------------------------------------------------------------------------------------------------------------------------------------------------------------------------------------------------------------------------------------------------------------------------------------------------------------------------------------------------------------------------------------------------------------------------------------------------------------------------------------------------------------------------------------- \n",
            "\n",
            "/content/drive/MyDrive/FilteredNivkhTxt/a325_nd/n.txt /content/drive/MyDrive/FilteredNivkhTxt/a325_nd/r.txt\n",
            "Aligning without segments.\n",
            "tasks amount: 1\n",
            "batch: 0 (0)\n"
          ]
        },
        {
          "output_type": "stream",
          "name": "stderr",
          "text": [
            "WARNING:root:can not fetch index db\n"
          ]
        },
        {
          "output_type": "stream",
          "name": "stdout",
          "text": [
            "conflicts to solve: 0\n",
            "total conflicts: 1\n"
          ]
        },
        {
          "output_type": "stream",
          "name": "stderr",
          "text": [
            "\n",
            "0it [00:00, ?it/s]\n"
          ]
        },
        {
          "output_type": "stream",
          "name": "stdout",
          "text": [
            "conflicts to solve: 0\n",
            "total conflicts: 1\n"
          ]
        },
        {
          "output_type": "stream",
          "name": "stderr",
          "text": [
            "\n",
            "0it [00:00, ?it/s]\n"
          ]
        },
        {
          "output_type": "stream",
          "name": "stdout",
          "text": [
            "conflicts to solve: 0\n",
            "total conflicts: 1\n"
          ]
        },
        {
          "output_type": "stream",
          "name": "stderr",
          "text": [
            "\n",
            "0it [00:00, ?it/s]\n"
          ]
        },
        {
          "output_type": "stream",
          "name": "stdout",
          "text": [
            "conflicts to solve: 0\n",
            "total conflicts: 1\n"
          ]
        },
        {
          "output_type": "stream",
          "name": "stderr",
          "text": [
            "\n",
            "0it [00:00, ?it/s]\n"
          ]
        },
        {
          "output_type": "stream",
          "name": "stdout",
          "text": [
            "N: 38 --> 6\n",
            "R: 31 --> 6\n",
            "Chain score: 0.0270\n",
            "Skipping saving due to low chain_score: 0.0270\n",
            "\n",
            " ---------------------------------------------------------------------------------------------------------------------------------------------------------------------------------------------------------------------------------------------------------------------------------------------------------------------------------------------------------------------------------------------------------------------------------------------------------------------------------------------------------------------------------------------------------------------------------------------------------------------------------------------------------------------------------------------------------------------------------------------------------------------------------------------------------------------------------------------------------------------------------------------------------------------------------------------------------------------------------------------------------------------------------------- \n",
            "\n",
            "/content/drive/MyDrive/FilteredNivkhTxt/a374_nd/n.txt /content/drive/MyDrive/FilteredNivkhTxt/a374_nd/r.txt\n",
            "Aligning without segments.\n",
            "tasks amount: 1\n",
            "batch: 0 (0)\n"
          ]
        },
        {
          "output_type": "stream",
          "name": "stderr",
          "text": [
            "WARNING:root:can not fetch index db\n"
          ]
        },
        {
          "output_type": "stream",
          "name": "stdout",
          "text": [
            "conflicts to solve: 5\n",
            "total conflicts: 13\n"
          ]
        },
        {
          "output_type": "stream",
          "name": "stderr",
          "text": [
            "\n",
            "  0%|          | 0/5 [00:00<?, ?it/s]\u001b[A\n",
            " 20%|██        | 1/5 [00:00<00:00,  9.68it/s]\u001b[A\n",
            " 60%|██████    | 3/5 [00:00<00:00, 13.03it/s]\u001b[A\n",
            "100%|██████████| 5/5 [00:00<00:00,  9.03it/s]\n"
          ]
        },
        {
          "output_type": "stream",
          "name": "stdout",
          "text": [
            "conflicts to solve: 0\n",
            "total conflicts: 4\n"
          ]
        },
        {
          "output_type": "stream",
          "name": "stderr",
          "text": [
            "\n",
            "0it [00:00, ?it/s]\n"
          ]
        },
        {
          "output_type": "stream",
          "name": "stdout",
          "text": [
            "conflicts to solve: 1\n",
            "total conflicts: 4\n"
          ]
        },
        {
          "output_type": "stream",
          "name": "stderr",
          "text": [
            "\n",
            "  0%|          | 0/1 [00:00<?, ?it/s]\u001b[A\n",
            "100%|██████████| 1/1 [00:00<00:00,  1.80it/s]\n"
          ]
        },
        {
          "output_type": "stream",
          "name": "stdout",
          "text": [
            "conflicts to solve: 6\n",
            "total conflicts: 7\n"
          ]
        },
        {
          "output_type": "stream",
          "name": "stderr",
          "text": [
            "\n",
            "  0%|          | 0/6 [00:00<?, ?it/s]\u001b[A\n",
            " 17%|█▋        | 1/6 [00:01<00:08,  1.68s/it]\u001b[A\n",
            " 33%|███▎      | 2/6 [00:02<00:04,  1.03s/it]\u001b[A\n",
            " 50%|█████     | 3/6 [00:02<00:01,  1.58it/s]\u001b[A\n",
            " 67%|██████▋   | 4/6 [01:47<01:23, 41.84s/it]\u001b[A\n",
            " 83%|████████▎ | 5/6 [01:47<00:26, 26.79s/it]\u001b[A\n",
            "100%|██████████| 6/6 [01:48<00:00, 18.05s/it]\n"
          ]
        },
        {
          "output_type": "stream",
          "name": "stdout",
          "text": [
            "N: 168 --> 29\n",
            "R: 112 --> 29\n",
            "Chain score: 0.7769\n",
            "\n",
            " ---------------------------------------------------------------------------------------------------------------------------------------------------------------------------------------------------------------------------------------------------------------------------------------------------------------------------------------------------------------------------------------------------------------------------------------------------------------------------------------------------------------------------------------------------------------------------------------------------------------------------------------------------------------------------------------------------------------------------------------------------------------------------------------------------------------------------------------------------------------------------------------------------------------------------------------------------------------------------------------------------------------------------------------- \n",
            "\n",
            "/content/drive/MyDrive/FilteredNivkhTxt/a170_bible/n_am.txt /content/drive/MyDrive/FilteredNivkhTxt/a170_bible/r.txt\n"
          ]
        },
        {
          "output_type": "stream",
          "name": "stderr",
          "text": [
            "WARNING:root:can not fetch index db\n"
          ]
        },
        {
          "output_type": "stream",
          "name": "stdout",
          "text": [
            "Aligning without segments.\n",
            "tasks amount: 1\n",
            "batch: 0 (0)\n",
            "conflicts to solve: 3\n",
            "total conflicts: 6\n"
          ]
        },
        {
          "output_type": "stream",
          "name": "stderr",
          "text": [
            "\n",
            "  0%|          | 0/3 [00:00<?, ?it/s]\u001b[A\n",
            "100%|██████████| 3/3 [00:00<00:00, 18.78it/s]\n"
          ]
        },
        {
          "output_type": "stream",
          "name": "stdout",
          "text": [
            "conflicts to solve: 2\n",
            "total conflicts: 2\n"
          ]
        },
        {
          "output_type": "stream",
          "name": "stderr",
          "text": [
            "\n",
            "  0%|          | 0/2 [00:00<?, ?it/s]\u001b[A\n",
            "100%|██████████| 2/2 [00:00<00:00, 14.46it/s]\n"
          ]
        },
        {
          "output_type": "stream",
          "name": "stdout",
          "text": [
            "conflicts to solve: 0\n",
            "total conflicts: 0\n"
          ]
        },
        {
          "output_type": "stream",
          "name": "stderr",
          "text": [
            "\n",
            "0it [00:00, ?it/s]\n"
          ]
        },
        {
          "output_type": "stream",
          "name": "stdout",
          "text": [
            "N: 31 --> 25\n",
            "R: 31 --> 25\n",
            "Chain score: 1.0000\n",
            "\n",
            " ---------------------------------------------------------------------------------------------------------------------------------------------------------------------------------------------------------------------------------------------------------------------------------------------------------------------------------------------------------------------------------------------------------------------------------------------------------------------------------------------------------------------------------------------------------------------------------------------------------------------------------------------------------------------------------------------------------------------------------------------------------------------------------------------------------------------------------------------------------------------------------------------------------------------------------------------------------------------------------------------------------------------------------------- \n",
            "\n",
            "/content/drive/MyDrive/FilteredNivkhTxt/a265_nd/n.txt /content/drive/MyDrive/FilteredNivkhTxt/a265_nd/r.txt\n"
          ]
        },
        {
          "output_type": "stream",
          "name": "stderr",
          "text": [
            "WARNING:root:can not fetch index db\n"
          ]
        },
        {
          "output_type": "stream",
          "name": "stdout",
          "text": [
            "Aligning without segments.\n",
            "tasks amount: 1\n",
            "batch: 0 (0)\n",
            "conflicts to solve: 1\n",
            "total conflicts: 3\n"
          ]
        },
        {
          "output_type": "stream",
          "name": "stderr",
          "text": [
            "\n",
            "100%|██████████| 1/1 [00:00<00:00, 11.38it/s]\n"
          ]
        },
        {
          "output_type": "stream",
          "name": "stdout",
          "text": [
            "conflicts to solve: 1\n",
            "total conflicts: 1\n"
          ]
        },
        {
          "output_type": "stream",
          "name": "stderr",
          "text": [
            "\n",
            "100%|██████████| 1/1 [00:00<00:00, 12.37it/s]\n"
          ]
        },
        {
          "output_type": "stream",
          "name": "stdout",
          "text": [
            "conflicts to solve: 0\n",
            "total conflicts: 0\n"
          ]
        },
        {
          "output_type": "stream",
          "name": "stderr",
          "text": [
            "\n",
            "0it [00:00, ?it/s]\n"
          ]
        },
        {
          "output_type": "stream",
          "name": "stdout",
          "text": [
            "N: 16 --> 4\n",
            "R: 16 --> 4\n",
            "Chain score: 0.8235\n",
            "\n",
            " ---------------------------------------------------------------------------------------------------------------------------------------------------------------------------------------------------------------------------------------------------------------------------------------------------------------------------------------------------------------------------------------------------------------------------------------------------------------------------------------------------------------------------------------------------------------------------------------------------------------------------------------------------------------------------------------------------------------------------------------------------------------------------------------------------------------------------------------------------------------------------------------------------------------------------------------------------------------------------------------------------------------------------------------- \n",
            "\n",
            "/content/drive/MyDrive/FilteredNivkhTxt/a107_nd/n.txt /content/drive/MyDrive/FilteredNivkhTxt/a107_nd/r.txt\n",
            "Aligning without segments.\n",
            "tasks amount: 1\n",
            "batch: 0 (0)\n"
          ]
        },
        {
          "output_type": "stream",
          "name": "stderr",
          "text": [
            "WARNING:root:can not fetch index db\n"
          ]
        },
        {
          "output_type": "stream",
          "name": "stdout",
          "text": [
            "conflicts to solve: 0\n",
            "total conflicts: 2\n"
          ]
        },
        {
          "output_type": "stream",
          "name": "stderr",
          "text": [
            "\n",
            "0it [00:00, ?it/s]\n"
          ]
        },
        {
          "output_type": "stream",
          "name": "stdout",
          "text": [
            "conflicts to solve: 0\n",
            "total conflicts: 1\n"
          ]
        },
        {
          "output_type": "stream",
          "name": "stderr",
          "text": [
            "\n",
            "0it [00:00, ?it/s]\n"
          ]
        },
        {
          "output_type": "stream",
          "name": "stdout",
          "text": [
            "conflicts to solve: 0\n",
            "total conflicts: 0\n"
          ]
        },
        {
          "output_type": "stream",
          "name": "stderr",
          "text": [
            "\n",
            "0it [00:00, ?it/s]\n"
          ]
        },
        {
          "output_type": "stream",
          "name": "stdout",
          "text": [
            "conflicts to solve: 2\n",
            "total conflicts: 2\n"
          ]
        },
        {
          "output_type": "stream",
          "name": "stderr",
          "text": [
            "\n",
            "  0%|          | 0/2 [00:00<?, ?it/s]\u001b[A\n",
            " 50%|█████     | 1/2 [00:00<00:00,  4.44it/s]\u001b[A\n",
            "100%|██████████| 2/2 [00:15<00:00,  7.58s/it]\n"
          ]
        },
        {
          "output_type": "stream",
          "name": "stdout",
          "text": [
            "N: 24 --> 6\n",
            "R: 41 --> 6\n",
            "Chain score: 0.9500\n",
            "\n",
            " ---------------------------------------------------------------------------------------------------------------------------------------------------------------------------------------------------------------------------------------------------------------------------------------------------------------------------------------------------------------------------------------------------------------------------------------------------------------------------------------------------------------------------------------------------------------------------------------------------------------------------------------------------------------------------------------------------------------------------------------------------------------------------------------------------------------------------------------------------------------------------------------------------------------------------------------------------------------------------------------------------------------------------------------- \n",
            "\n",
            "/content/drive/MyDrive/FilteredNivkhTxt/60_shklg/n.txt /content/drive/MyDrive/FilteredNivkhTxt/60_shklg/r.txt\n"
          ]
        },
        {
          "output_type": "stream",
          "name": "stderr",
          "text": [
            "WARNING:root:can not fetch index db\n"
          ]
        },
        {
          "output_type": "stream",
          "name": "stdout",
          "text": [
            "Aligning without segments.\n",
            "tasks amount: 1\n",
            "batch: 0 (0)\n",
            "conflicts to solve: 1\n",
            "total conflicts: 1\n"
          ]
        },
        {
          "output_type": "stream",
          "name": "stderr",
          "text": [
            "\n",
            "100%|██████████| 1/1 [00:00<00:00, 10.67it/s]\n"
          ]
        },
        {
          "output_type": "stream",
          "name": "stdout",
          "text": [
            "conflicts to solve: 0\n",
            "total conflicts: 0\n"
          ]
        },
        {
          "output_type": "stream",
          "name": "stderr",
          "text": [
            "\n",
            "0it [00:00, ?it/s]\n"
          ]
        },
        {
          "output_type": "stream",
          "name": "stdout",
          "text": [
            "Error in /content/drive/MyDrive/FilteredNivkhTxt/60_shklg: not enough values to unpack (expected 2, got 0)\n",
            "\n",
            " ---------------------------------------------------------------------------------------------------------------------------------------------------------------------------------------------------------------------------------------------------------------------------------------------------------------------------------------------------------------------------------------------------------------------------------------------------------------------------------------------------------------------------------------------------------------------------------------------------------------------------------------------------------------------------------------------------------------------------------------------------------------------------------------------------------------------------------------------------------------------------------------------------------------------------------------------------------------------------------------------------------------------------------------- \n",
            "\n",
            "/content/drive/MyDrive/FilteredNivkhTxt/a116_nd/n.txt /content/drive/MyDrive/FilteredNivkhTxt/a116_nd/r.txt\n"
          ]
        },
        {
          "output_type": "stream",
          "name": "stderr",
          "text": [
            "WARNING:root:can not fetch index db\n"
          ]
        },
        {
          "output_type": "stream",
          "name": "stdout",
          "text": [
            "Aligning without segments.\n",
            "tasks amount: 1\n",
            "batch: 0 (0)\n",
            "conflicts to solve: 0\n",
            "total conflicts: 0\n"
          ]
        },
        {
          "output_type": "stream",
          "name": "stderr",
          "text": [
            "\n",
            "0it [00:00, ?it/s]\n"
          ]
        },
        {
          "output_type": "stream",
          "name": "stdout",
          "text": [
            "conflicts to solve: 0\n",
            "total conflicts: 0\n"
          ]
        },
        {
          "output_type": "stream",
          "name": "stderr",
          "text": [
            "\n",
            "0it [00:00, ?it/s]\n"
          ]
        },
        {
          "output_type": "stream",
          "name": "stdout",
          "text": [
            "N: 11 --> 4\n",
            "R: 15 --> 4\n",
            "Chain score: 0.1000\n",
            "Skipping saving due to low chain_score: 0.1000\n",
            "\n",
            " ---------------------------------------------------------------------------------------------------------------------------------------------------------------------------------------------------------------------------------------------------------------------------------------------------------------------------------------------------------------------------------------------------------------------------------------------------------------------------------------------------------------------------------------------------------------------------------------------------------------------------------------------------------------------------------------------------------------------------------------------------------------------------------------------------------------------------------------------------------------------------------------------------------------------------------------------------------------------------------------------------------------------------------------- \n",
            "\n",
            "/content/drive/MyDrive/FilteredNivkhTxt/a341_nd/n.txt /content/drive/MyDrive/FilteredNivkhTxt/a341_nd/r.txt\n"
          ]
        },
        {
          "output_type": "stream",
          "name": "stderr",
          "text": [
            "WARNING:root:can not fetch index db\n"
          ]
        },
        {
          "output_type": "stream",
          "name": "stdout",
          "text": [
            "Aligning without segments.\n",
            "tasks amount: 1\n",
            "batch: 0 (0)\n",
            "conflicts to solve: 0\n",
            "total conflicts: 1\n"
          ]
        },
        {
          "output_type": "stream",
          "name": "stderr",
          "text": [
            "\n",
            "0it [00:00, ?it/s]\n"
          ]
        },
        {
          "output_type": "stream",
          "name": "stdout",
          "text": [
            "conflicts to solve: 0\n",
            "total conflicts: 1\n"
          ]
        },
        {
          "output_type": "stream",
          "name": "stderr",
          "text": [
            "\n",
            "0it [00:00, ?it/s]\n"
          ]
        },
        {
          "output_type": "stream",
          "name": "stdout",
          "text": [
            "conflicts to solve: 1\n",
            "total conflicts: 1\n"
          ]
        },
        {
          "output_type": "stream",
          "name": "stderr",
          "text": [
            "\n",
            "  0%|          | 0/1 [00:00<?, ?it/s]\u001b[A\n",
            "100%|██████████| 1/1 [00:01<00:00,  1.50s/it]\n"
          ]
        },
        {
          "output_type": "stream",
          "name": "stdout",
          "text": [
            "conflicts to solve: 0\n",
            "total conflicts: 0\n"
          ]
        },
        {
          "output_type": "stream",
          "name": "stderr",
          "text": [
            "\n",
            "0it [00:00, ?it/s]\n"
          ]
        },
        {
          "output_type": "stream",
          "name": "stdout",
          "text": [
            "N: 15 --> 6\n",
            "R: 18 --> 6\n",
            "Chain score: 1.0000\n",
            "\n",
            " ---------------------------------------------------------------------------------------------------------------------------------------------------------------------------------------------------------------------------------------------------------------------------------------------------------------------------------------------------------------------------------------------------------------------------------------------------------------------------------------------------------------------------------------------------------------------------------------------------------------------------------------------------------------------------------------------------------------------------------------------------------------------------------------------------------------------------------------------------------------------------------------------------------------------------------------------------------------------------------------------------------------------------------------- \n",
            "\n",
            "/content/drive/MyDrive/FilteredNivkhTxt/91_nd/n.txt /content/drive/MyDrive/FilteredNivkhTxt/91_nd/r.txt\n"
          ]
        },
        {
          "output_type": "stream",
          "name": "stderr",
          "text": [
            "WARNING:root:can not fetch index db\n"
          ]
        },
        {
          "output_type": "stream",
          "name": "stdout",
          "text": [
            "Aligning without segments.\n",
            "tasks amount: 1\n",
            "batch: 0 (0)\n",
            "conflicts to solve: 0\n",
            "total conflicts: 1\n"
          ]
        },
        {
          "output_type": "stream",
          "name": "stderr",
          "text": [
            "\n",
            "0it [00:00, ?it/s]\n"
          ]
        },
        {
          "output_type": "stream",
          "name": "stdout",
          "text": [
            "conflicts to solve: 0\n",
            "total conflicts: 0\n"
          ]
        },
        {
          "output_type": "stream",
          "name": "stderr",
          "text": [
            "\n",
            "0it [00:00, ?it/s]\n"
          ]
        },
        {
          "output_type": "stream",
          "name": "stdout",
          "text": [
            "conflicts to solve: 1\n",
            "total conflicts: 1\n"
          ]
        },
        {
          "output_type": "stream",
          "name": "stderr",
          "text": [
            "\n",
            "  0%|          | 0/1 [00:00<?, ?it/s]\u001b[A\n",
            "100%|██████████| 1/1 [00:00<00:00,  5.59it/s]\n"
          ]
        },
        {
          "output_type": "stream",
          "name": "stdout",
          "text": [
            "N: 14 --> 4\n",
            "R: 16 --> 4\n",
            "Chain score: 0.5000\n",
            "Skipping saving due to low chain_score: 0.5000\n",
            "\n",
            " ---------------------------------------------------------------------------------------------------------------------------------------------------------------------------------------------------------------------------------------------------------------------------------------------------------------------------------------------------------------------------------------------------------------------------------------------------------------------------------------------------------------------------------------------------------------------------------------------------------------------------------------------------------------------------------------------------------------------------------------------------------------------------------------------------------------------------------------------------------------------------------------------------------------------------------------------------------------------------------------------------------------------------------------- \n",
            "\n",
            "/content/drive/MyDrive/FilteredNivkhTxt/a300_nd/n.txt /content/drive/MyDrive/FilteredNivkhTxt/a300_nd/r.txt\n"
          ]
        },
        {
          "output_type": "stream",
          "name": "stderr",
          "text": [
            "WARNING:root:can not fetch index db\n"
          ]
        },
        {
          "output_type": "stream",
          "name": "stdout",
          "text": [
            "Aligning without segments.\n",
            "tasks amount: 1\n",
            "batch: 0 (0)\n",
            "conflicts to solve: 1\n",
            "total conflicts: 1\n"
          ]
        },
        {
          "output_type": "stream",
          "name": "stderr",
          "text": [
            "\n",
            "100%|██████████| 1/1 [00:00<00:00, 12.13it/s]\n"
          ]
        },
        {
          "output_type": "stream",
          "name": "stdout",
          "text": [
            "conflicts to solve: 0\n",
            "total conflicts: 0\n"
          ]
        },
        {
          "output_type": "stream",
          "name": "stderr",
          "text": [
            "\n",
            "0it [00:00, ?it/s]\n"
          ]
        },
        {
          "output_type": "stream",
          "name": "stdout",
          "text": [
            "N: 8 --> 6\n",
            "R: 8 --> 6\n",
            "Chain score: 1.0000\n",
            "\n",
            " ---------------------------------------------------------------------------------------------------------------------------------------------------------------------------------------------------------------------------------------------------------------------------------------------------------------------------------------------------------------------------------------------------------------------------------------------------------------------------------------------------------------------------------------------------------------------------------------------------------------------------------------------------------------------------------------------------------------------------------------------------------------------------------------------------------------------------------------------------------------------------------------------------------------------------------------------------------------------------------------------------------------------------------------- \n",
            "\n",
            "/content/drive/MyDrive/FilteredNivkhTxt/25_shklg/n.txt /content/drive/MyDrive/FilteredNivkhTxt/25_shklg/r.txt\n",
            "Aligning without segments.\n",
            "tasks amount: 1\n",
            "batch: 0 (0)\n"
          ]
        },
        {
          "output_type": "stream",
          "name": "stderr",
          "text": [
            "WARNING:root:can not fetch index db\n"
          ]
        },
        {
          "output_type": "stream",
          "name": "stdout",
          "text": [
            "conflicts to solve: 0\n",
            "total conflicts: 1\n"
          ]
        },
        {
          "output_type": "stream",
          "name": "stderr",
          "text": [
            "\n",
            "0it [00:00, ?it/s]\n"
          ]
        },
        {
          "output_type": "stream",
          "name": "stdout",
          "text": [
            "conflicts to solve: 0\n",
            "total conflicts: 1\n"
          ]
        },
        {
          "output_type": "stream",
          "name": "stderr",
          "text": [
            "\n",
            "0it [00:00, ?it/s]\n"
          ]
        },
        {
          "output_type": "stream",
          "name": "stdout",
          "text": [
            "conflicts to solve: 0\n",
            "total conflicts: 1\n"
          ]
        },
        {
          "output_type": "stream",
          "name": "stderr",
          "text": [
            "\n",
            "0it [00:00, ?it/s]\n"
          ]
        },
        {
          "output_type": "stream",
          "name": "stdout",
          "text": [
            "conflicts to solve: 0\n",
            "total conflicts: 1\n"
          ]
        },
        {
          "output_type": "stream",
          "name": "stderr",
          "text": [
            "\n",
            "0it [00:00, ?it/s]\n"
          ]
        },
        {
          "output_type": "stream",
          "name": "stdout",
          "text": [
            "N: 18 --> 8\n",
            "R: 53 --> 8\n",
            "Chain score: 0.0000\n",
            "Skipping saving due to low chain_score: 0.0000\n",
            "\n",
            " ---------------------------------------------------------------------------------------------------------------------------------------------------------------------------------------------------------------------------------------------------------------------------------------------------------------------------------------------------------------------------------------------------------------------------------------------------------------------------------------------------------------------------------------------------------------------------------------------------------------------------------------------------------------------------------------------------------------------------------------------------------------------------------------------------------------------------------------------------------------------------------------------------------------------------------------------------------------------------------------------------------------------------------------- \n",
            "\n",
            "/content/drive/MyDrive/FilteredNivkhTxt/a274_nd/n.txt /content/drive/MyDrive/FilteredNivkhTxt/a274_nd/r.txt\n",
            "Aligning without segments.\n",
            "tasks amount: 1\n",
            "batch: 0 (0)\n"
          ]
        },
        {
          "output_type": "stream",
          "name": "stderr",
          "text": [
            "WARNING:root:can not fetch index db\n"
          ]
        },
        {
          "output_type": "stream",
          "name": "stdout",
          "text": [
            "conflicts to solve: 1\n",
            "total conflicts: 3\n"
          ]
        },
        {
          "output_type": "stream",
          "name": "stderr",
          "text": [
            "\n",
            "100%|██████████| 1/1 [00:00<00:00, 19.80it/s]\n"
          ]
        },
        {
          "output_type": "stream",
          "name": "stdout",
          "text": [
            "conflicts to solve: 0\n",
            "total conflicts: 1\n"
          ]
        },
        {
          "output_type": "stream",
          "name": "stderr",
          "text": [
            "\n",
            "0it [00:00, ?it/s]\n"
          ]
        },
        {
          "output_type": "stream",
          "name": "stdout",
          "text": [
            "conflicts to solve: 0\n",
            "total conflicts: 0\n"
          ]
        },
        {
          "output_type": "stream",
          "name": "stderr",
          "text": [
            "\n",
            "0it [00:00, ?it/s]\n"
          ]
        },
        {
          "output_type": "stream",
          "name": "stdout",
          "text": [
            "conflicts to solve: 2\n",
            "total conflicts: 2\n"
          ]
        },
        {
          "output_type": "stream",
          "name": "stderr",
          "text": [
            "\n",
            "  0%|          | 0/2 [00:00<?, ?it/s]\u001b[A\n",
            " 50%|█████     | 1/2 [00:00<00:00,  1.83it/s]\u001b[A\n",
            "100%|██████████| 2/2 [00:00<00:00,  2.86it/s]\n"
          ]
        },
        {
          "output_type": "stream",
          "name": "stdout",
          "text": [
            "N: 23 --> 5\n",
            "R: 19 --> 5\n",
            "Chain score: 1.0000\n",
            "\n",
            " ---------------------------------------------------------------------------------------------------------------------------------------------------------------------------------------------------------------------------------------------------------------------------------------------------------------------------------------------------------------------------------------------------------------------------------------------------------------------------------------------------------------------------------------------------------------------------------------------------------------------------------------------------------------------------------------------------------------------------------------------------------------------------------------------------------------------------------------------------------------------------------------------------------------------------------------------------------------------------------------------------------------------------------------- \n",
            "\n",
            "/content/drive/MyDrive/FilteredNivkhTxt/a351_nd/n.txt /content/drive/MyDrive/FilteredNivkhTxt/a351_nd/r.txt\n"
          ]
        },
        {
          "output_type": "stream",
          "name": "stderr",
          "text": [
            "WARNING:root:can not fetch index db\n"
          ]
        },
        {
          "output_type": "stream",
          "name": "stdout",
          "text": [
            "Aligning without segments.\n",
            "tasks amount: 1\n",
            "batch: 0 (0)\n",
            "conflicts to solve: 0\n",
            "total conflicts: 0\n"
          ]
        },
        {
          "output_type": "stream",
          "name": "stderr",
          "text": [
            "\n",
            "0it [00:00, ?it/s]\n"
          ]
        },
        {
          "output_type": "stream",
          "name": "stdout",
          "text": [
            "conflicts to solve: 0\n",
            "total conflicts: 0\n"
          ]
        },
        {
          "output_type": "stream",
          "name": "stderr",
          "text": [
            "\n",
            "0it [00:00, ?it/s]\n"
          ]
        },
        {
          "output_type": "stream",
          "name": "stdout",
          "text": [
            "N: 6 --> 1\n",
            "R: 6 --> 1\n",
            "Chain score: 0.2000\n",
            "Skipping saving due to low chain_score: 0.2000\n",
            "\n",
            " ---------------------------------------------------------------------------------------------------------------------------------------------------------------------------------------------------------------------------------------------------------------------------------------------------------------------------------------------------------------------------------------------------------------------------------------------------------------------------------------------------------------------------------------------------------------------------------------------------------------------------------------------------------------------------------------------------------------------------------------------------------------------------------------------------------------------------------------------------------------------------------------------------------------------------------------------------------------------------------------------------------------------------------------- \n",
            "\n",
            "/content/drive/MyDrive/FilteredNivkhTxt/a174_bible/n_am.txt /content/drive/MyDrive/FilteredNivkhTxt/a174_bible/r.txt\n",
            "Aligning without segments.\n",
            "tasks amount: 1\n",
            "batch: 0 (0)\n"
          ]
        },
        {
          "output_type": "stream",
          "name": "stderr",
          "text": [
            "WARNING:root:can not fetch index db\n"
          ]
        },
        {
          "output_type": "stream",
          "name": "stdout",
          "text": [
            "conflicts to solve: 3\n",
            "total conflicts: 5\n"
          ]
        },
        {
          "output_type": "stream",
          "name": "stderr",
          "text": [
            "\n",
            "  0%|          | 0/3 [00:00<?, ?it/s]\u001b[A\n",
            "100%|██████████| 3/3 [00:00<00:00, 16.56it/s]\n"
          ]
        },
        {
          "output_type": "stream",
          "name": "stdout",
          "text": [
            "conflicts to solve: 1\n",
            "total conflicts: 1\n"
          ]
        },
        {
          "output_type": "stream",
          "name": "stderr",
          "text": [
            "\n",
            "  0%|          | 0/1 [00:00<?, ?it/s]\u001b[A\n",
            "100%|██████████| 1/1 [00:00<00:00,  9.03it/s]\n"
          ]
        },
        {
          "output_type": "stream",
          "name": "stdout",
          "text": [
            "conflicts to solve: 0\n",
            "total conflicts: 0\n"
          ]
        },
        {
          "output_type": "stream",
          "name": "stderr",
          "text": [
            "\n",
            "0it [00:00, ?it/s]\n"
          ]
        },
        {
          "output_type": "stream",
          "name": "stdout",
          "text": [
            "N: 33 --> 17\n",
            "R: 34 --> 17\n",
            "Chain score: 0.9394\n",
            "\n",
            " ---------------------------------------------------------------------------------------------------------------------------------------------------------------------------------------------------------------------------------------------------------------------------------------------------------------------------------------------------------------------------------------------------------------------------------------------------------------------------------------------------------------------------------------------------------------------------------------------------------------------------------------------------------------------------------------------------------------------------------------------------------------------------------------------------------------------------------------------------------------------------------------------------------------------------------------------------------------------------------------------------------------------------------------- \n",
            "\n",
            "/content/drive/MyDrive/FilteredNivkhTxt/a365_nd/n.txt /content/drive/MyDrive/FilteredNivkhTxt/a365_nd/r.txt\n"
          ]
        },
        {
          "output_type": "stream",
          "name": "stderr",
          "text": [
            "WARNING:root:can not fetch index db\n"
          ]
        },
        {
          "output_type": "stream",
          "name": "stdout",
          "text": [
            "Aligning without segments.\n",
            "tasks amount: 1\n",
            "batch: 0 (0)\n",
            "conflicts to solve: 1\n",
            "total conflicts: 3\n"
          ]
        },
        {
          "output_type": "stream",
          "name": "stderr",
          "text": [
            "\n",
            "100%|██████████| 1/1 [00:00<00:00, 19.21it/s]\n"
          ]
        },
        {
          "output_type": "stream",
          "name": "stdout",
          "text": [
            "conflicts to solve: 0\n",
            "total conflicts: 1\n"
          ]
        },
        {
          "output_type": "stream",
          "name": "stderr",
          "text": [
            "\n",
            "0it [00:00, ?it/s]\n"
          ]
        },
        {
          "output_type": "stream",
          "name": "stdout",
          "text": [
            "conflicts to solve: 0\n",
            "total conflicts: 1\n"
          ]
        },
        {
          "output_type": "stream",
          "name": "stderr",
          "text": [
            "\n",
            "0it [00:00, ?it/s]\n"
          ]
        },
        {
          "output_type": "stream",
          "name": "stdout",
          "text": [
            "conflicts to solve: 2\n",
            "total conflicts: 2\n"
          ]
        },
        {
          "output_type": "stream",
          "name": "stderr",
          "text": [
            "\n",
            "  0%|          | 0/2 [00:00<?, ?it/s]\u001b[A\n",
            " 50%|█████     | 1/2 [00:00<00:00,  5.41it/s]\u001b[A\n",
            "100%|██████████| 2/2 [00:00<00:00,  3.76it/s]\n"
          ]
        },
        {
          "output_type": "stream",
          "name": "stdout",
          "text": [
            "N: 29 --> 16\n",
            "R: 24 --> 16\n",
            "Chain score: 1.0000\n",
            "\n",
            " ---------------------------------------------------------------------------------------------------------------------------------------------------------------------------------------------------------------------------------------------------------------------------------------------------------------------------------------------------------------------------------------------------------------------------------------------------------------------------------------------------------------------------------------------------------------------------------------------------------------------------------------------------------------------------------------------------------------------------------------------------------------------------------------------------------------------------------------------------------------------------------------------------------------------------------------------------------------------------------------------------------------------------------------- \n",
            "\n",
            "/content/drive/MyDrive/FilteredNivkhTxt/a396_nd/n.txt /content/drive/MyDrive/FilteredNivkhTxt/a396_nd/r.txt\n"
          ]
        },
        {
          "output_type": "stream",
          "name": "stderr",
          "text": [
            "WARNING:root:can not fetch index db\n"
          ]
        },
        {
          "output_type": "stream",
          "name": "stdout",
          "text": [
            "Aligning without segments.\n",
            "tasks amount: 1\n",
            "batch: 0 (0)\n",
            "conflicts to solve: 2\n",
            "total conflicts: 2\n"
          ]
        },
        {
          "output_type": "stream",
          "name": "stderr",
          "text": [
            "\n",
            "  0%|          | 0/2 [00:00<?, ?it/s]\u001b[A\n",
            "100%|██████████| 2/2 [00:00<00:00,  8.97it/s]\n"
          ]
        },
        {
          "output_type": "stream",
          "name": "stdout",
          "text": [
            "conflicts to solve: 0\n",
            "total conflicts: 0\n"
          ]
        },
        {
          "output_type": "stream",
          "name": "stderr",
          "text": [
            "\n",
            "0it [00:00, ?it/s]\n"
          ]
        },
        {
          "output_type": "stream",
          "name": "stdout",
          "text": [
            "N: 9 --> 2\n",
            "R: 8 --> 2\n",
            "Chain score: 1.0000\n",
            "\n",
            " ---------------------------------------------------------------------------------------------------------------------------------------------------------------------------------------------------------------------------------------------------------------------------------------------------------------------------------------------------------------------------------------------------------------------------------------------------------------------------------------------------------------------------------------------------------------------------------------------------------------------------------------------------------------------------------------------------------------------------------------------------------------------------------------------------------------------------------------------------------------------------------------------------------------------------------------------------------------------------------------------------------------------------------------- \n",
            "\n",
            "/content/drive/MyDrive/FilteredNivkhTxt/a334_nd/n.txt /content/drive/MyDrive/FilteredNivkhTxt/a334_nd/r.txt\n"
          ]
        },
        {
          "output_type": "stream",
          "name": "stderr",
          "text": [
            "WARNING:root:can not fetch index db\n"
          ]
        },
        {
          "output_type": "stream",
          "name": "stdout",
          "text": [
            "Aligning without segments.\n",
            "tasks amount: 1\n",
            "batch: 0 (0)\n",
            "conflicts to solve: 1\n",
            "total conflicts: 1\n"
          ]
        },
        {
          "output_type": "stream",
          "name": "stderr",
          "text": [
            "\n",
            "100%|██████████| 1/1 [00:00<00:00, 11.90it/s]\n"
          ]
        },
        {
          "output_type": "stream",
          "name": "stdout",
          "text": [
            "conflicts to solve: 0\n",
            "total conflicts: 0\n"
          ]
        },
        {
          "output_type": "stream",
          "name": "stderr",
          "text": [
            "\n",
            "0it [00:00, ?it/s]\n"
          ]
        },
        {
          "output_type": "stream",
          "name": "stdout",
          "text": [
            "N: 6 --> 1\n",
            "R: 4 --> 1\n",
            "Chain score: 0.8000\n",
            "\n",
            " ---------------------------------------------------------------------------------------------------------------------------------------------------------------------------------------------------------------------------------------------------------------------------------------------------------------------------------------------------------------------------------------------------------------------------------------------------------------------------------------------------------------------------------------------------------------------------------------------------------------------------------------------------------------------------------------------------------------------------------------------------------------------------------------------------------------------------------------------------------------------------------------------------------------------------------------------------------------------------------------------------------------------------------------- \n",
            "\n",
            "/content/drive/MyDrive/FilteredNivkhTxt/a106_nd/n.txt /content/drive/MyDrive/FilteredNivkhTxt/a106_nd/r.txt\n",
            "Aligning without segments.\n",
            "tasks amount: 1\n",
            "batch: 0 (0)\n"
          ]
        },
        {
          "output_type": "stream",
          "name": "stderr",
          "text": [
            "WARNING:root:can not fetch index db\n"
          ]
        },
        {
          "output_type": "stream",
          "name": "stdout",
          "text": [
            "conflicts to solve: 1\n",
            "total conflicts: 4\n"
          ]
        },
        {
          "output_type": "stream",
          "name": "stderr",
          "text": [
            "\n",
            "  0%|          | 0/1 [00:00<?, ?it/s]\u001b[A\n",
            "100%|██████████| 1/1 [00:00<00:00,  8.06it/s]\n"
          ]
        },
        {
          "output_type": "stream",
          "name": "stdout",
          "text": [
            "conflicts to solve: 1\n",
            "total conflicts: 1\n"
          ]
        },
        {
          "output_type": "stream",
          "name": "stderr",
          "text": [
            "\n",
            "  0%|          | 0/1 [00:00<?, ?it/s]\u001b[A\n",
            "100%|██████████| 1/1 [00:00<00:00,  1.85it/s]\n"
          ]
        },
        {
          "output_type": "stream",
          "name": "stdout",
          "text": [
            "conflicts to solve: 1\n",
            "total conflicts: 2\n"
          ]
        },
        {
          "output_type": "stream",
          "name": "stderr",
          "text": [
            "\n",
            "  0%|          | 0/1 [00:00<?, ?it/s]\u001b[A\n",
            "100%|██████████| 1/1 [00:00<00:00,  7.84it/s]\n"
          ]
        },
        {
          "output_type": "stream",
          "name": "stdout",
          "text": [
            "N: 33 --> 11\n",
            "R: 24 --> 11\n",
            "Chain score: 0.9000\n",
            "\n",
            " ---------------------------------------------------------------------------------------------------------------------------------------------------------------------------------------------------------------------------------------------------------------------------------------------------------------------------------------------------------------------------------------------------------------------------------------------------------------------------------------------------------------------------------------------------------------------------------------------------------------------------------------------------------------------------------------------------------------------------------------------------------------------------------------------------------------------------------------------------------------------------------------------------------------------------------------------------------------------------------------------------------------------------------------- \n",
            "\n",
            "/content/drive/MyDrive/FilteredNivkhTxt/72_nd/n.txt /content/drive/MyDrive/FilteredNivkhTxt/72_nd/r.txt\n"
          ]
        },
        {
          "output_type": "stream",
          "name": "stderr",
          "text": [
            "WARNING:root:can not fetch index db\n"
          ]
        },
        {
          "output_type": "stream",
          "name": "stdout",
          "text": [
            "Aligning without segments.\n",
            "tasks amount: 1\n",
            "batch: 0 (0)\n",
            "conflicts to solve: 0\n",
            "total conflicts: 0\n"
          ]
        },
        {
          "output_type": "stream",
          "name": "stderr",
          "text": [
            "\n",
            "0it [00:00, ?it/s]\n"
          ]
        },
        {
          "output_type": "stream",
          "name": "stdout",
          "text": [
            "conflicts to solve: 0\n",
            "total conflicts: 0\n"
          ]
        },
        {
          "output_type": "stream",
          "name": "stderr",
          "text": [
            "\n",
            "0it [00:00, ?it/s]\n"
          ]
        },
        {
          "output_type": "stream",
          "name": "stdout",
          "text": [
            "N: 15 --> 7\n",
            "R: 21 --> 7\n",
            "Chain score: 0.0714\n",
            "Skipping saving due to low chain_score: 0.0714\n",
            "\n",
            " ---------------------------------------------------------------------------------------------------------------------------------------------------------------------------------------------------------------------------------------------------------------------------------------------------------------------------------------------------------------------------------------------------------------------------------------------------------------------------------------------------------------------------------------------------------------------------------------------------------------------------------------------------------------------------------------------------------------------------------------------------------------------------------------------------------------------------------------------------------------------------------------------------------------------------------------------------------------------------------------------------------------------------------------- \n",
            "\n",
            "/content/drive/MyDrive/FilteredNivkhTxt/a324_nd/n.txt /content/drive/MyDrive/FilteredNivkhTxt/a324_nd/r.txt\n",
            "Aligning without segments.\n",
            "tasks amount: 1\n",
            "batch: 0 (0)\n"
          ]
        },
        {
          "output_type": "stream",
          "name": "stderr",
          "text": [
            "WARNING:root:can not fetch index db\n"
          ]
        },
        {
          "output_type": "stream",
          "name": "stdout",
          "text": [
            "conflicts to solve: 1\n",
            "total conflicts: 2\n"
          ]
        },
        {
          "output_type": "stream",
          "name": "stderr",
          "text": [
            "\n",
            "100%|██████████| 1/1 [00:00<00:00, 21.40it/s]\n"
          ]
        },
        {
          "output_type": "stream",
          "name": "stdout",
          "text": [
            "conflicts to solve: 0\n",
            "total conflicts: 0\n"
          ]
        },
        {
          "output_type": "stream",
          "name": "stderr",
          "text": [
            "\n",
            "0it [00:00, ?it/s]\n"
          ]
        },
        {
          "output_type": "stream",
          "name": "stdout",
          "text": [
            "conflicts to solve: 0\n",
            "total conflicts: 1\n"
          ]
        },
        {
          "output_type": "stream",
          "name": "stderr",
          "text": [
            "\n",
            "0it [00:00, ?it/s]\n"
          ]
        },
        {
          "output_type": "stream",
          "name": "stdout",
          "text": [
            "N: 13 --> 3\n",
            "R: 30 --> 3\n",
            "Chain score: 0.1818\n",
            "Skipping saving due to low chain_score: 0.1818\n",
            "\n",
            " ---------------------------------------------------------------------------------------------------------------------------------------------------------------------------------------------------------------------------------------------------------------------------------------------------------------------------------------------------------------------------------------------------------------------------------------------------------------------------------------------------------------------------------------------------------------------------------------------------------------------------------------------------------------------------------------------------------------------------------------------------------------------------------------------------------------------------------------------------------------------------------------------------------------------------------------------------------------------------------------------------------------------------------------- \n",
            "\n",
            "/content/drive/MyDrive/FilteredNivkhTxt/a375_nd/n.txt /content/drive/MyDrive/FilteredNivkhTxt/a375_nd/r.txt\n"
          ]
        },
        {
          "output_type": "stream",
          "name": "stderr",
          "text": [
            "WARNING:root:can not fetch index db\n"
          ]
        },
        {
          "output_type": "stream",
          "name": "stdout",
          "text": [
            "Aligning without segments.\n",
            "tasks amount: 1\n",
            "batch: 0 (0)\n",
            "conflicts to solve: 4\n",
            "total conflicts: 5\n"
          ]
        },
        {
          "output_type": "stream",
          "name": "stderr",
          "text": [
            "\n",
            "  0%|          | 0/4 [00:00<?, ?it/s]\u001b[A\n",
            " 50%|█████     | 2/4 [00:00<00:00, 15.59it/s]\u001b[A\n",
            "100%|██████████| 4/4 [00:00<00:00, 14.33it/s]\n"
          ]
        },
        {
          "output_type": "stream",
          "name": "stdout",
          "text": [
            "conflicts to solve: 1\n",
            "total conflicts: 1\n"
          ]
        },
        {
          "output_type": "stream",
          "name": "stderr",
          "text": [
            "\n",
            "  0%|          | 0/1 [00:00<?, ?it/s]\u001b[A\n",
            "100%|██████████| 1/1 [00:00<00:00,  6.90it/s]\n"
          ]
        },
        {
          "output_type": "stream",
          "name": "stdout",
          "text": [
            "conflicts to solve: 0\n",
            "total conflicts: 0\n"
          ]
        },
        {
          "output_type": "stream",
          "name": "stderr",
          "text": [
            "\n",
            "0it [00:00, ?it/s]\n"
          ]
        },
        {
          "output_type": "stream",
          "name": "stdout",
          "text": [
            "N: 30 --> 15\n",
            "R: 28 --> 15\n",
            "Chain score: 1.0000\n",
            "\n",
            " ---------------------------------------------------------------------------------------------------------------------------------------------------------------------------------------------------------------------------------------------------------------------------------------------------------------------------------------------------------------------------------------------------------------------------------------------------------------------------------------------------------------------------------------------------------------------------------------------------------------------------------------------------------------------------------------------------------------------------------------------------------------------------------------------------------------------------------------------------------------------------------------------------------------------------------------------------------------------------------------------------------------------------------------- \n",
            "\n",
            "/content/drive/MyDrive/FilteredNivkhTxt/a250_nd/n.txt /content/drive/MyDrive/FilteredNivkhTxt/a250_nd/r.txt\n",
            "Aligning without segments.\n",
            "tasks amount: 1\n",
            "batch: 0 (0)\n"
          ]
        },
        {
          "output_type": "stream",
          "name": "stderr",
          "text": [
            "WARNING:root:can not fetch index db\n"
          ]
        },
        {
          "output_type": "stream",
          "name": "stdout",
          "text": [
            "conflicts to solve: 1\n",
            "total conflicts: 3\n"
          ]
        },
        {
          "output_type": "stream",
          "name": "stderr",
          "text": [
            "\n",
            "  0%|          | 0/1 [00:00<?, ?it/s]\u001b[A\n",
            "100%|██████████| 1/1 [00:00<00:00,  4.37it/s]\n"
          ]
        },
        {
          "output_type": "stream",
          "name": "stdout",
          "text": [
            "conflicts to solve: 0\n",
            "total conflicts: 1\n"
          ]
        },
        {
          "output_type": "stream",
          "name": "stderr",
          "text": [
            "\n",
            "0it [00:00, ?it/s]\n"
          ]
        },
        {
          "output_type": "stream",
          "name": "stdout",
          "text": [
            "conflicts to solve: 0\n",
            "total conflicts: 1\n"
          ]
        },
        {
          "output_type": "stream",
          "name": "stderr",
          "text": [
            "\n",
            "0it [00:00, ?it/s]\n"
          ]
        },
        {
          "output_type": "stream",
          "name": "stdout",
          "text": [
            "conflicts to solve: 2\n",
            "total conflicts: 2\n"
          ]
        },
        {
          "output_type": "stream",
          "name": "stderr",
          "text": [
            "\n",
            "  0%|          | 0/2 [00:00<?, ?it/s]\u001b[A\n",
            " 50%|█████     | 1/2 [00:00<00:00,  2.28it/s]\u001b[A\n",
            "100%|██████████| 2/2 [00:09<00:00,  4.67s/it]\n"
          ]
        },
        {
          "output_type": "stream",
          "name": "stdout",
          "text": [
            "N: 28 --> 5\n",
            "R: 25 --> 5\n",
            "Chain score: 1.0000\n",
            "\n",
            " ---------------------------------------------------------------------------------------------------------------------------------------------------------------------------------------------------------------------------------------------------------------------------------------------------------------------------------------------------------------------------------------------------------------------------------------------------------------------------------------------------------------------------------------------------------------------------------------------------------------------------------------------------------------------------------------------------------------------------------------------------------------------------------------------------------------------------------------------------------------------------------------------------------------------------------------------------------------------------------------------------------------------------------------- \n",
            "\n",
            "/content/drive/MyDrive/FilteredNivkhTxt/a386_nd/n.txt /content/drive/MyDrive/FilteredNivkhTxt/a386_nd/r.txt\n"
          ]
        },
        {
          "output_type": "stream",
          "name": "stderr",
          "text": [
            "WARNING:root:can not fetch index db\n"
          ]
        },
        {
          "output_type": "stream",
          "name": "stdout",
          "text": [
            "Aligning without segments.\n",
            "tasks amount: 1\n",
            "batch: 0 (0)\n",
            "conflicts to solve: 0\n",
            "total conflicts: 0\n"
          ]
        },
        {
          "output_type": "stream",
          "name": "stderr",
          "text": [
            "\n",
            "0it [00:00, ?it/s]\n"
          ]
        },
        {
          "output_type": "stream",
          "name": "stdout",
          "text": [
            "conflicts to solve: 0\n",
            "total conflicts: 0\n"
          ]
        },
        {
          "output_type": "stream",
          "name": "stderr",
          "text": [
            "\n",
            "0it [00:00, ?it/s]\n"
          ]
        },
        {
          "output_type": "stream",
          "name": "stdout",
          "text": [
            "N: 4 --> 3\n",
            "R: 5 --> 3\n",
            "Chain score: 1.0000\n",
            "\n",
            " ---------------------------------------------------------------------------------------------------------------------------------------------------------------------------------------------------------------------------------------------------------------------------------------------------------------------------------------------------------------------------------------------------------------------------------------------------------------------------------------------------------------------------------------------------------------------------------------------------------------------------------------------------------------------------------------------------------------------------------------------------------------------------------------------------------------------------------------------------------------------------------------------------------------------------------------------------------------------------------------------------------------------------------------- \n",
            "\n",
            "/content/drive/MyDrive/FilteredNivkhTxt/a310_nd/n.txt /content/drive/MyDrive/FilteredNivkhTxt/a310_nd/r.txt\n"
          ]
        },
        {
          "output_type": "stream",
          "name": "stderr",
          "text": [
            "WARNING:root:can not fetch index db\n"
          ]
        },
        {
          "output_type": "stream",
          "name": "stdout",
          "text": [
            "Aligning without segments.\n",
            "tasks amount: 1\n",
            "batch: 0 (0)\n",
            "conflicts to solve: 0\n",
            "total conflicts: 1\n"
          ]
        },
        {
          "output_type": "stream",
          "name": "stderr",
          "text": [
            "\n",
            "0it [00:00, ?it/s]\n"
          ]
        },
        {
          "output_type": "stream",
          "name": "stdout",
          "text": [
            "conflicts to solve: 1\n",
            "total conflicts: 1\n"
          ]
        },
        {
          "output_type": "stream",
          "name": "stderr",
          "text": [
            "\n",
            "  0%|          | 0/1 [00:00<?, ?it/s]\u001b[A\n",
            "100%|██████████| 1/1 [00:00<00:00,  2.93it/s]\n"
          ]
        },
        {
          "output_type": "stream",
          "name": "stdout",
          "text": [
            "conflicts to solve: 0\n",
            "total conflicts: 0\n"
          ]
        },
        {
          "output_type": "stream",
          "name": "stderr",
          "text": [
            "\n",
            "0it [00:00, ?it/s]\n"
          ]
        },
        {
          "output_type": "stream",
          "name": "stdout",
          "text": [
            "N: 10 --> 1\n",
            "R: 8 --> 1\n",
            "Chain score: 1.0000\n",
            "\n",
            " ---------------------------------------------------------------------------------------------------------------------------------------------------------------------------------------------------------------------------------------------------------------------------------------------------------------------------------------------------------------------------------------------------------------------------------------------------------------------------------------------------------------------------------------------------------------------------------------------------------------------------------------------------------------------------------------------------------------------------------------------------------------------------------------------------------------------------------------------------------------------------------------------------------------------------------------------------------------------------------------------------------------------------------------- \n",
            "\n",
            "/content/drive/MyDrive/FilteredNivkhTxt/a264_nd/n.txt /content/drive/MyDrive/FilteredNivkhTxt/a264_nd/r.txt\n"
          ]
        },
        {
          "output_type": "stream",
          "name": "stderr",
          "text": [
            "WARNING:root:can not fetch index db\n"
          ]
        },
        {
          "output_type": "stream",
          "name": "stdout",
          "text": [
            "Aligning without segments.\n",
            "tasks amount: 1\n",
            "batch: 0 (0)\n",
            "conflicts to solve: 3\n",
            "total conflicts: 3\n"
          ]
        },
        {
          "output_type": "stream",
          "name": "stderr",
          "text": [
            "\n",
            "  0%|          | 0/3 [00:00<?, ?it/s]\u001b[A\n",
            " 33%|███▎      | 1/3 [00:00<00:00,  5.78it/s]\u001b[A\n",
            "100%|██████████| 3/3 [00:00<00:00, 10.01it/s]\n"
          ]
        },
        {
          "output_type": "stream",
          "name": "stdout",
          "text": [
            "conflicts to solve: 0\n",
            "total conflicts: 0\n"
          ]
        },
        {
          "output_type": "stream",
          "name": "stderr",
          "text": [
            "\n",
            "0it [00:00, ?it/s]\n"
          ]
        },
        {
          "output_type": "stream",
          "name": "stdout",
          "text": [
            "N: 19 --> 12\n",
            "R: 20 --> 12\n",
            "Chain score: 1.0000\n",
            "\n",
            " ---------------------------------------------------------------------------------------------------------------------------------------------------------------------------------------------------------------------------------------------------------------------------------------------------------------------------------------------------------------------------------------------------------------------------------------------------------------------------------------------------------------------------------------------------------------------------------------------------------------------------------------------------------------------------------------------------------------------------------------------------------------------------------------------------------------------------------------------------------------------------------------------------------------------------------------------------------------------------------------------------------------------------------------- \n",
            "\n",
            "/content/drive/MyDrive/FilteredNivkhTxt/81_nd/n.txt /content/drive/MyDrive/FilteredNivkhTxt/81_nd/r.txt\n"
          ]
        },
        {
          "output_type": "stream",
          "name": "stderr",
          "text": [
            "WARNING:root:can not fetch index db\n"
          ]
        },
        {
          "output_type": "stream",
          "name": "stdout",
          "text": [
            "Aligning without segments.\n",
            "tasks amount: 1\n",
            "batch: 0 (0)\n",
            "conflicts to solve: 0\n",
            "total conflicts: 0\n"
          ]
        },
        {
          "output_type": "stream",
          "name": "stderr",
          "text": [
            "\n",
            "0it [00:00, ?it/s]\n"
          ]
        },
        {
          "output_type": "stream",
          "name": "stdout",
          "text": [
            "conflicts to solve: 0\n",
            "total conflicts: 0\n"
          ]
        },
        {
          "output_type": "stream",
          "name": "stderr",
          "text": [
            "\n",
            "0it [00:00, ?it/s]\n"
          ]
        },
        {
          "output_type": "stream",
          "name": "stdout",
          "text": [
            "N: 13 --> 1\n",
            "R: 10 --> 1\n",
            "Chain score: 0.0833\n",
            "Skipping saving due to low chain_score: 0.0833\n",
            "\n",
            " ---------------------------------------------------------------------------------------------------------------------------------------------------------------------------------------------------------------------------------------------------------------------------------------------------------------------------------------------------------------------------------------------------------------------------------------------------------------------------------------------------------------------------------------------------------------------------------------------------------------------------------------------------------------------------------------------------------------------------------------------------------------------------------------------------------------------------------------------------------------------------------------------------------------------------------------------------------------------------------------------------------------------------------------- \n",
            "\n",
            "/content/drive/MyDrive/FilteredNivkhTxt/a120_shklg/n.txt /content/drive/MyDrive/FilteredNivkhTxt/a120_shklg/r.txt\n",
            "Aligning without segments.\n",
            "tasks amount: 1\n",
            "batch: 0 (0)\n"
          ]
        },
        {
          "output_type": "stream",
          "name": "stderr",
          "text": [
            "WARNING:root:can not fetch index db\n"
          ]
        },
        {
          "output_type": "stream",
          "name": "stdout",
          "text": [
            "conflicts to solve: 0\n",
            "total conflicts: 2\n"
          ]
        },
        {
          "output_type": "stream",
          "name": "stderr",
          "text": [
            "\n",
            "0it [00:00, ?it/s]\n"
          ]
        },
        {
          "output_type": "stream",
          "name": "stdout",
          "text": [
            "conflicts to solve: 0\n",
            "total conflicts: 1\n"
          ]
        },
        {
          "output_type": "stream",
          "name": "stderr",
          "text": [
            "\n",
            "0it [00:00, ?it/s]\n"
          ]
        },
        {
          "output_type": "stream",
          "name": "stdout",
          "text": [
            "conflicts to solve: 0\n",
            "total conflicts: 1\n"
          ]
        },
        {
          "output_type": "stream",
          "name": "stderr",
          "text": [
            "\n",
            "0it [00:00, ?it/s]\n"
          ]
        },
        {
          "output_type": "stream",
          "name": "stdout",
          "text": [
            "conflicts to solve: 0\n",
            "total conflicts: 2\n"
          ]
        },
        {
          "output_type": "stream",
          "name": "stderr",
          "text": [
            "\n",
            "0it [00:00, ?it/s]\n"
          ]
        },
        {
          "output_type": "stream",
          "name": "stdout",
          "text": [
            "N: 89 --> 23\n",
            "R: 98 --> 23\n",
            "Chain score: 0.0227\n",
            "Skipping saving due to low chain_score: 0.0227\n",
            "\n",
            " ---------------------------------------------------------------------------------------------------------------------------------------------------------------------------------------------------------------------------------------------------------------------------------------------------------------------------------------------------------------------------------------------------------------------------------------------------------------------------------------------------------------------------------------------------------------------------------------------------------------------------------------------------------------------------------------------------------------------------------------------------------------------------------------------------------------------------------------------------------------------------------------------------------------------------------------------------------------------------------------------------------------------------------------- \n",
            "\n",
            "/content/drive/MyDrive/FilteredNivkhTxt/a244_nd/n.txt /content/drive/MyDrive/FilteredNivkhTxt/a244_nd/r.txt\n"
          ]
        },
        {
          "output_type": "stream",
          "name": "stderr",
          "text": [
            "WARNING:root:can not fetch index db\n"
          ]
        },
        {
          "output_type": "stream",
          "name": "stdout",
          "text": [
            "Aligning without segments.\n",
            "tasks amount: 1\n",
            "batch: 0 (0)\n",
            "conflicts to solve: 0\n",
            "total conflicts: 1\n"
          ]
        },
        {
          "output_type": "stream",
          "name": "stderr",
          "text": [
            "\n",
            "0it [00:00, ?it/s]\n"
          ]
        },
        {
          "output_type": "stream",
          "name": "stdout",
          "text": [
            "conflicts to solve: 0\n",
            "total conflicts: 0\n"
          ]
        },
        {
          "output_type": "stream",
          "name": "stderr",
          "text": [
            "\n",
            "0it [00:00, ?it/s]\n"
          ]
        },
        {
          "output_type": "stream",
          "name": "stdout",
          "text": [
            "conflicts to solve: 1\n",
            "total conflicts: 1\n"
          ]
        },
        {
          "output_type": "stream",
          "name": "stderr",
          "text": [
            "\n",
            "  0%|          | 0/1 [00:00<?, ?it/s]\u001b[A\n",
            "100%|██████████| 1/1 [00:00<00:00,  3.21it/s]\n"
          ]
        },
        {
          "output_type": "stream",
          "name": "stdout",
          "text": [
            "N: 11 --> 3\n",
            "R: 13 --> 3\n",
            "Chain score: 1.0000\n",
            "\n",
            " ---------------------------------------------------------------------------------------------------------------------------------------------------------------------------------------------------------------------------------------------------------------------------------------------------------------------------------------------------------------------------------------------------------------------------------------------------------------------------------------------------------------------------------------------------------------------------------------------------------------------------------------------------------------------------------------------------------------------------------------------------------------------------------------------------------------------------------------------------------------------------------------------------------------------------------------------------------------------------------------------------------------------------------------- \n",
            "\n",
            "/content/drive/MyDrive/FilteredNivkhTxt/95_nd/n.txt /content/drive/MyDrive/FilteredNivkhTxt/95_nd/r.txt\n",
            "Aligning without segments.\n",
            "tasks amount: 1\n",
            "batch: 0 (0)\n"
          ]
        },
        {
          "output_type": "stream",
          "name": "stderr",
          "text": [
            "WARNING:root:can not fetch index db\n"
          ]
        },
        {
          "output_type": "stream",
          "name": "stdout",
          "text": [
            "conflicts to solve: 0\n",
            "total conflicts: 1\n"
          ]
        },
        {
          "output_type": "stream",
          "name": "stderr",
          "text": [
            "\n",
            "0it [00:00, ?it/s]\n"
          ]
        },
        {
          "output_type": "stream",
          "name": "stdout",
          "text": [
            "conflicts to solve: 0\n",
            "total conflicts: 1\n"
          ]
        },
        {
          "output_type": "stream",
          "name": "stderr",
          "text": [
            "\n",
            "0it [00:00, ?it/s]\n"
          ]
        },
        {
          "output_type": "stream",
          "name": "stdout",
          "text": [
            "conflicts to solve: 0\n",
            "total conflicts: 1\n"
          ]
        },
        {
          "output_type": "stream",
          "name": "stderr",
          "text": [
            "\n",
            "0it [00:00, ?it/s]\n"
          ]
        },
        {
          "output_type": "stream",
          "name": "stdout",
          "text": [
            "conflicts to solve: 0\n",
            "total conflicts: 1\n"
          ]
        },
        {
          "output_type": "stream",
          "name": "stderr",
          "text": [
            "\n",
            "0it [00:00, ?it/s]\n"
          ]
        },
        {
          "output_type": "stream",
          "name": "stdout",
          "text": [
            "N: 28 --> 5\n",
            "R: 28 --> 5\n",
            "Chain score: 0.0000\n",
            "Skipping saving due to low chain_score: 0.0000\n",
            "\n",
            " ---------------------------------------------------------------------------------------------------------------------------------------------------------------------------------------------------------------------------------------------------------------------------------------------------------------------------------------------------------------------------------------------------------------------------------------------------------------------------------------------------------------------------------------------------------------------------------------------------------------------------------------------------------------------------------------------------------------------------------------------------------------------------------------------------------------------------------------------------------------------------------------------------------------------------------------------------------------------------------------------------------------------------------------- \n",
            "\n",
            "/content/drive/MyDrive/FilteredNivkhTxt/a112_nd/n.txt /content/drive/MyDrive/FilteredNivkhTxt/a112_nd/r.txt\n"
          ]
        },
        {
          "output_type": "stream",
          "name": "stderr",
          "text": [
            "WARNING:root:can not fetch index db\n"
          ]
        },
        {
          "output_type": "stream",
          "name": "stdout",
          "text": [
            "Aligning without segments.\n",
            "tasks amount: 1\n",
            "batch: 0 (0)\n",
            "conflicts to solve: 0\n",
            "total conflicts: 1\n"
          ]
        },
        {
          "output_type": "stream",
          "name": "stderr",
          "text": [
            "\n",
            "0it [00:00, ?it/s]\n"
          ]
        },
        {
          "output_type": "stream",
          "name": "stdout",
          "text": [
            "conflicts to solve: 0\n",
            "total conflicts: 1\n"
          ]
        },
        {
          "output_type": "stream",
          "name": "stderr",
          "text": [
            "\n",
            "0it [00:00, ?it/s]\n"
          ]
        },
        {
          "output_type": "stream",
          "name": "stdout",
          "text": [
            "conflicts to solve: 1\n",
            "total conflicts: 1\n"
          ]
        },
        {
          "output_type": "stream",
          "name": "stderr",
          "text": [
            "\n",
            "  0%|          | 0/1 [00:00<?, ?it/s]\u001b[A\n",
            "100%|██████████| 1/1 [00:00<00:00,  2.43it/s]\n"
          ]
        },
        {
          "output_type": "stream",
          "name": "stdout",
          "text": [
            "conflicts to solve: 0\n",
            "total conflicts: 0\n"
          ]
        },
        {
          "output_type": "stream",
          "name": "stderr",
          "text": [
            "\n",
            "0it [00:00, ?it/s]\n"
          ]
        },
        {
          "output_type": "stream",
          "name": "stdout",
          "text": [
            "N: 16 --> 6\n",
            "R: 20 --> 6\n",
            "Chain score: 0.9444\n",
            "\n",
            " ---------------------------------------------------------------------------------------------------------------------------------------------------------------------------------------------------------------------------------------------------------------------------------------------------------------------------------------------------------------------------------------------------------------------------------------------------------------------------------------------------------------------------------------------------------------------------------------------------------------------------------------------------------------------------------------------------------------------------------------------------------------------------------------------------------------------------------------------------------------------------------------------------------------------------------------------------------------------------------------------------------------------------------------- \n",
            "\n",
            "/content/drive/MyDrive/FilteredNivkhTxt/a304_nd/n.txt /content/drive/MyDrive/FilteredNivkhTxt/a304_nd/r.txt\n"
          ]
        },
        {
          "output_type": "stream",
          "name": "stderr",
          "text": [
            "WARNING:root:can not fetch index db\n"
          ]
        },
        {
          "output_type": "stream",
          "name": "stdout",
          "text": [
            "Aligning without segments.\n",
            "tasks amount: 1\n",
            "batch: 0 (0)\n",
            "conflicts to solve: 0\n",
            "total conflicts: 0\n"
          ]
        },
        {
          "output_type": "stream",
          "name": "stderr",
          "text": [
            "\n",
            "0it [00:00, ?it/s]\n"
          ]
        },
        {
          "output_type": "stream",
          "name": "stdout",
          "text": [
            "conflicts to solve: 0\n",
            "total conflicts: 0\n"
          ]
        },
        {
          "output_type": "stream",
          "name": "stderr",
          "text": [
            "\n",
            "0it [00:00, ?it/s]\n"
          ]
        },
        {
          "output_type": "stream",
          "name": "stdout",
          "text": [
            "N: 17 --> 3\n",
            "R: 15 --> 3\n",
            "Chain score: 0.1250\n",
            "Skipping saving due to low chain_score: 0.1250\n",
            "\n",
            " ---------------------------------------------------------------------------------------------------------------------------------------------------------------------------------------------------------------------------------------------------------------------------------------------------------------------------------------------------------------------------------------------------------------------------------------------------------------------------------------------------------------------------------------------------------------------------------------------------------------------------------------------------------------------------------------------------------------------------------------------------------------------------------------------------------------------------------------------------------------------------------------------------------------------------------------------------------------------------------------------------------------------------------------- \n",
            "\n",
            "\n",
            " ---------------------------------------------------------------------------------------------------------------------------------------------------------------------------------------------------------------------------------------------------------------------------------------------------------------------------------------------------------------------------------------------------------------------------------------------------------------------------------------------------------------------------------------------------------------------------------------------------------------------------------------------------------------------------------------------------------------------------------------------------------------------------------------------------------------------------------------------------------------------------------------------------------------------------------------------------------------------------------------------------------------------------------------- \n",
            "\n",
            "/content/drive/MyDrive/FilteredNivkhTxt/66_nd/n.txt /content/drive/MyDrive/FilteredNivkhTxt/66_nd/r.txt\n",
            "Aligning without segments.\n",
            "tasks amount: 1\n",
            "batch: 0 (0)\n"
          ]
        },
        {
          "output_type": "stream",
          "name": "stderr",
          "text": [
            "WARNING:root:can not fetch index db\n"
          ]
        },
        {
          "output_type": "stream",
          "name": "stdout",
          "text": [
            "conflicts to solve: 1\n",
            "total conflicts: 6\n"
          ]
        },
        {
          "output_type": "stream",
          "name": "stderr",
          "text": [
            "\n",
            "100%|██████████| 1/1 [00:00<00:00, 14.99it/s]\n"
          ]
        },
        {
          "output_type": "stream",
          "name": "stdout",
          "text": [
            "conflicts to solve: 0\n",
            "total conflicts: 1\n"
          ]
        },
        {
          "output_type": "stream",
          "name": "stderr",
          "text": [
            "\n",
            "0it [00:00, ?it/s]\n"
          ]
        },
        {
          "output_type": "stream",
          "name": "stdout",
          "text": [
            "conflicts to solve: 0\n",
            "total conflicts: 1\n"
          ]
        },
        {
          "output_type": "stream",
          "name": "stderr",
          "text": [
            "\n",
            "0it [00:00, ?it/s]\n"
          ]
        },
        {
          "output_type": "stream",
          "name": "stdout",
          "text": [
            "conflicts to solve: 5\n",
            "total conflicts: 5\n"
          ]
        },
        {
          "output_type": "stream",
          "name": "stderr",
          "text": [
            "\n",
            "  0%|          | 0/5 [00:00<?, ?it/s]\u001b[A\n",
            " 20%|██        | 1/5 [00:00<00:02,  1.47it/s]\u001b[A\n",
            " 40%|████      | 2/5 [00:01<00:02,  1.37it/s]\u001b[A\n",
            " 60%|██████    | 3/5 [00:01<00:00,  2.23it/s]\u001b[A\n",
            "100%|██████████| 5/5 [00:01<00:00,  2.88it/s]\n"
          ]
        },
        {
          "output_type": "stream",
          "name": "stdout",
          "text": [
            "N: 53 --> 13\n",
            "R: 54 --> 13\n",
            "Chain score: 0.9455\n",
            "\n",
            " ---------------------------------------------------------------------------------------------------------------------------------------------------------------------------------------------------------------------------------------------------------------------------------------------------------------------------------------------------------------------------------------------------------------------------------------------------------------------------------------------------------------------------------------------------------------------------------------------------------------------------------------------------------------------------------------------------------------------------------------------------------------------------------------------------------------------------------------------------------------------------------------------------------------------------------------------------------------------------------------------------------------------------------------- \n",
            "\n",
            "/content/drive/MyDrive/FilteredNivkhTxt/a392_nd/n.txt /content/drive/MyDrive/FilteredNivkhTxt/a392_nd/r.txt\n"
          ]
        },
        {
          "output_type": "stream",
          "name": "stderr",
          "text": [
            "WARNING:root:can not fetch index db\n"
          ]
        },
        {
          "output_type": "stream",
          "name": "stdout",
          "text": [
            "Aligning without segments.\n",
            "tasks amount: 1\n",
            "batch: 0 (0)\n",
            "conflicts to solve: 0\n",
            "total conflicts: 0\n"
          ]
        },
        {
          "output_type": "stream",
          "name": "stderr",
          "text": [
            "\n",
            "0it [00:00, ?it/s]\n"
          ]
        },
        {
          "output_type": "stream",
          "name": "stdout",
          "text": [
            "conflicts to solve: 0\n",
            "total conflicts: 0\n"
          ]
        },
        {
          "output_type": "stream",
          "name": "stderr",
          "text": [
            "\n",
            "0it [00:00, ?it/s]\n"
          ]
        },
        {
          "output_type": "stream",
          "name": "stdout",
          "text": [
            "N: 24 --> 5\n",
            "R: 28 --> 5\n",
            "Chain score: 0.0435\n",
            "Skipping saving due to low chain_score: 0.0435\n",
            "\n",
            " ---------------------------------------------------------------------------------------------------------------------------------------------------------------------------------------------------------------------------------------------------------------------------------------------------------------------------------------------------------------------------------------------------------------------------------------------------------------------------------------------------------------------------------------------------------------------------------------------------------------------------------------------------------------------------------------------------------------------------------------------------------------------------------------------------------------------------------------------------------------------------------------------------------------------------------------------------------------------------------------------------------------------------------------- \n",
            "\n",
            "/content/drive/MyDrive/FilteredNivkhTxt/a355_nd/n.txt /content/drive/MyDrive/FilteredNivkhTxt/a355_nd/r.txt\n"
          ]
        },
        {
          "output_type": "stream",
          "name": "stderr",
          "text": [
            "WARNING:root:can not fetch index db\n"
          ]
        },
        {
          "output_type": "stream",
          "name": "stdout",
          "text": [
            "Aligning without segments.\n",
            "tasks amount: 1\n",
            "batch: 0 (0)\n",
            "conflicts to solve: 0\n",
            "total conflicts: 0\n"
          ]
        },
        {
          "output_type": "stream",
          "name": "stderr",
          "text": [
            "\n",
            "0it [00:00, ?it/s]\n"
          ]
        },
        {
          "output_type": "stream",
          "name": "stdout",
          "text": [
            "conflicts to solve: 0\n",
            "total conflicts: 0\n"
          ]
        },
        {
          "output_type": "stream",
          "name": "stderr",
          "text": [
            "\n",
            "0it [00:00, ?it/s]\n"
          ]
        },
        {
          "output_type": "stream",
          "name": "stdout",
          "text": [
            "N: 7 --> 1\n",
            "R: 7 --> 1\n",
            "Chain score: 0.1667\n",
            "Skipping saving due to low chain_score: 0.1667\n",
            "\n",
            " ---------------------------------------------------------------------------------------------------------------------------------------------------------------------------------------------------------------------------------------------------------------------------------------------------------------------------------------------------------------------------------------------------------------------------------------------------------------------------------------------------------------------------------------------------------------------------------------------------------------------------------------------------------------------------------------------------------------------------------------------------------------------------------------------------------------------------------------------------------------------------------------------------------------------------------------------------------------------------------------------------------------------------------------- \n",
            "\n",
            "/content/drive/MyDrive/FilteredNivkhTxt/a297_nd/n.txt /content/drive/MyDrive/FilteredNivkhTxt/a297_nd/r.txt\n",
            "Aligning without segments.\n",
            "tasks amount: 1\n",
            "batch: 0 (0)\n"
          ]
        },
        {
          "output_type": "stream",
          "name": "stderr",
          "text": [
            "WARNING:root:can not fetch index db\n"
          ]
        },
        {
          "output_type": "stream",
          "name": "stdout",
          "text": [
            "conflicts to solve: 4\n",
            "total conflicts: 6\n"
          ]
        },
        {
          "output_type": "stream",
          "name": "stderr",
          "text": [
            "\n",
            "  0%|          | 0/4 [00:00<?, ?it/s]\u001b[A\n",
            " 50%|█████     | 2/4 [00:00<00:00, 19.94it/s]\u001b[A\n",
            "100%|██████████| 4/4 [00:00<00:00, 12.89it/s]\n"
          ]
        },
        {
          "output_type": "stream",
          "name": "stdout",
          "text": [
            "conflicts to solve: 1\n",
            "total conflicts: 1\n"
          ]
        },
        {
          "output_type": "stream",
          "name": "stderr",
          "text": [
            "\n",
            "  0%|          | 0/1 [00:00<?, ?it/s]\u001b[A\n",
            "100%|██████████| 1/1 [00:00<00:00,  2.90it/s]\n"
          ]
        },
        {
          "output_type": "stream",
          "name": "stdout",
          "text": [
            "conflicts to solve: 0\n",
            "total conflicts: 0\n"
          ]
        },
        {
          "output_type": "stream",
          "name": "stderr",
          "text": [
            "\n",
            "0it [00:00, ?it/s]\n"
          ]
        },
        {
          "output_type": "stream",
          "name": "stdout",
          "text": [
            "N: 27 --> 6\n",
            "R: 27 --> 6\n",
            "Chain score: 0.9643\n",
            "\n",
            " ---------------------------------------------------------------------------------------------------------------------------------------------------------------------------------------------------------------------------------------------------------------------------------------------------------------------------------------------------------------------------------------------------------------------------------------------------------------------------------------------------------------------------------------------------------------------------------------------------------------------------------------------------------------------------------------------------------------------------------------------------------------------------------------------------------------------------------------------------------------------------------------------------------------------------------------------------------------------------------------------------------------------------------------- \n",
            "\n",
            "/content/drive/MyDrive/FilteredNivkhTxt/46_shklg/n.txt /content/drive/MyDrive/FilteredNivkhTxt/46_shklg/r.txt\n",
            "Aligning without segments.\n",
            "tasks amount: 1\n",
            "batch: 0 (0)\n"
          ]
        },
        {
          "output_type": "stream",
          "name": "stderr",
          "text": [
            "WARNING:root:can not fetch index db\n"
          ]
        },
        {
          "output_type": "stream",
          "name": "stdout",
          "text": [
            "conflicts to solve: 1\n",
            "total conflicts: 5\n"
          ]
        },
        {
          "output_type": "stream",
          "name": "stderr",
          "text": [
            "\n",
            "100%|██████████| 1/1 [00:00<00:00, 17.97it/s]\n"
          ]
        },
        {
          "output_type": "stream",
          "name": "stdout",
          "text": [
            "conflicts to solve: 0\n",
            "total conflicts: 1\n"
          ]
        },
        {
          "output_type": "stream",
          "name": "stderr",
          "text": [
            "\n",
            "0it [00:00, ?it/s]\n"
          ]
        },
        {
          "output_type": "stream",
          "name": "stdout",
          "text": [
            "conflicts to solve: 0\n",
            "total conflicts: 1\n"
          ]
        },
        {
          "output_type": "stream",
          "name": "stderr",
          "text": [
            "\n",
            "0it [00:00, ?it/s]\n"
          ]
        },
        {
          "output_type": "stream",
          "name": "stdout",
          "text": [
            "conflicts to solve: 1\n",
            "total conflicts: 4\n"
          ]
        },
        {
          "output_type": "stream",
          "name": "stderr",
          "text": [
            "\n",
            "  0%|          | 0/1 [00:00<?, ?it/s]\u001b[A\n",
            "100%|██████████| 1/1 [00:00<00:00,  3.29it/s]\n"
          ]
        },
        {
          "output_type": "stream",
          "name": "stdout",
          "text": [
            "N: 37 --> 8\n",
            "R: 58 --> 8\n",
            "Chain score: 0.3721\n",
            "Skipping saving due to low chain_score: 0.3721\n",
            "\n",
            " ---------------------------------------------------------------------------------------------------------------------------------------------------------------------------------------------------------------------------------------------------------------------------------------------------------------------------------------------------------------------------------------------------------------------------------------------------------------------------------------------------------------------------------------------------------------------------------------------------------------------------------------------------------------------------------------------------------------------------------------------------------------------------------------------------------------------------------------------------------------------------------------------------------------------------------------------------------------------------------------------------------------------------------------- \n",
            "\n",
            "/content/drive/MyDrive/FilteredNivkhTxt/a330_nd/n.txt /content/drive/MyDrive/FilteredNivkhTxt/a330_nd/r.txt\n"
          ]
        },
        {
          "output_type": "stream",
          "name": "stderr",
          "text": [
            "WARNING:root:can not fetch index db\n"
          ]
        },
        {
          "output_type": "stream",
          "name": "stdout",
          "text": [
            "Aligning without segments.\n",
            "tasks amount: 1\n",
            "batch: 0 (0)\n",
            "conflicts to solve: 0\n",
            "total conflicts: 2\n"
          ]
        },
        {
          "output_type": "stream",
          "name": "stderr",
          "text": [
            "\n",
            "0it [00:00, ?it/s]\n"
          ]
        },
        {
          "output_type": "stream",
          "name": "stdout",
          "text": [
            "conflicts to solve: 0\n",
            "total conflicts: 2\n"
          ]
        },
        {
          "output_type": "stream",
          "name": "stderr",
          "text": [
            "\n",
            "0it [00:00, ?it/s]\n"
          ]
        },
        {
          "output_type": "stream",
          "name": "stdout",
          "text": [
            "conflicts to solve: 2\n",
            "total conflicts: 2\n"
          ]
        },
        {
          "output_type": "stream",
          "name": "stderr",
          "text": [
            "\n",
            "  0%|          | 0/2 [00:00<?, ?it/s]\u001b[A\n",
            " 50%|█████     | 1/2 [00:00<00:00,  2.27it/s]\u001b[A\n",
            "100%|██████████| 2/2 [00:02<00:00,  1.16s/it]\n"
          ]
        },
        {
          "output_type": "stream",
          "name": "stdout",
          "text": [
            "conflicts to solve: 0\n",
            "total conflicts: 0\n"
          ]
        },
        {
          "output_type": "stream",
          "name": "stderr",
          "text": [
            "\n",
            "0it [00:00, ?it/s]\n"
          ]
        },
        {
          "output_type": "stream",
          "name": "stdout",
          "text": [
            "N: 34 --> 7\n",
            "R: 26 --> 7\n",
            "Chain score: 1.0000\n",
            "\n",
            " ---------------------------------------------------------------------------------------------------------------------------------------------------------------------------------------------------------------------------------------------------------------------------------------------------------------------------------------------------------------------------------------------------------------------------------------------------------------------------------------------------------------------------------------------------------------------------------------------------------------------------------------------------------------------------------------------------------------------------------------------------------------------------------------------------------------------------------------------------------------------------------------------------------------------------------------------------------------------------------------------------------------------------------------- \n",
            "\n",
            "/content/drive/MyDrive/FilteredNivkhTxt/a320_nd/n.txt /content/drive/MyDrive/FilteredNivkhTxt/a320_nd/r.txt\n"
          ]
        },
        {
          "output_type": "stream",
          "name": "stderr",
          "text": [
            "WARNING:root:can not fetch index db\n"
          ]
        },
        {
          "output_type": "stream",
          "name": "stdout",
          "text": [
            "Aligning without segments.\n",
            "tasks amount: 1\n",
            "batch: 0 (0)\n",
            "conflicts to solve: 0\n",
            "total conflicts: 2\n"
          ]
        },
        {
          "output_type": "stream",
          "name": "stderr",
          "text": [
            "\n",
            "0it [00:00, ?it/s]\n"
          ]
        },
        {
          "output_type": "stream",
          "name": "stdout",
          "text": [
            "conflicts to solve: 0\n",
            "total conflicts: 0\n"
          ]
        },
        {
          "output_type": "stream",
          "name": "stderr",
          "text": [
            "\n",
            "0it [00:00, ?it/s]"
          ]
        },
        {
          "output_type": "stream",
          "name": "stdout",
          "text": [
            "conflicts to solve:"
          ]
        },
        {
          "output_type": "stream",
          "name": "stderr",
          "text": [
            "\n"
          ]
        },
        {
          "output_type": "stream",
          "name": "stdout",
          "text": [
            " 2\n",
            "total conflicts: 2\n"
          ]
        },
        {
          "output_type": "stream",
          "name": "stderr",
          "text": [
            "\n",
            "  0%|          | 0/2 [00:00<?, ?it/s]\u001b[A\n",
            " 50%|█████     | 1/2 [00:00<00:00,  5.17it/s]\u001b[A\n",
            "100%|██████████| 2/2 [00:00<00:00,  3.10it/s]\n"
          ]
        },
        {
          "output_type": "stream",
          "name": "stdout",
          "text": [
            "N: 18 --> 5\n",
            "R: 16 --> 5\n",
            "Chain score: 1.0000\n",
            "\n",
            " ---------------------------------------------------------------------------------------------------------------------------------------------------------------------------------------------------------------------------------------------------------------------------------------------------------------------------------------------------------------------------------------------------------------------------------------------------------------------------------------------------------------------------------------------------------------------------------------------------------------------------------------------------------------------------------------------------------------------------------------------------------------------------------------------------------------------------------------------------------------------------------------------------------------------------------------------------------------------------------------------------------------------------------------- \n",
            "\n",
            "/content/drive/MyDrive/FilteredNivkhTxt/a361_nd/n.txt /content/drive/MyDrive/FilteredNivkhTxt/a361_nd/r.txt\n"
          ]
        },
        {
          "output_type": "stream",
          "name": "stderr",
          "text": [
            "WARNING:root:can not fetch index db\n"
          ]
        },
        {
          "output_type": "stream",
          "name": "stdout",
          "text": [
            "Aligning without segments.\n",
            "tasks amount: 1\n",
            "batch: 0 (0)\n",
            "conflicts to solve: 0\n",
            "total conflicts: 0\n"
          ]
        },
        {
          "output_type": "stream",
          "name": "stderr",
          "text": [
            "\n",
            "0it [00:00, ?it/s]\n"
          ]
        },
        {
          "output_type": "stream",
          "name": "stdout",
          "text": [
            "conflicts to solve: 0\n",
            "total conflicts: 0\n"
          ]
        },
        {
          "output_type": "stream",
          "name": "stderr",
          "text": [
            "\n",
            "0it [00:00, ?it/s]\n"
          ]
        },
        {
          "output_type": "stream",
          "name": "stdout",
          "text": [
            "N: 11 --> 3\n",
            "R: 21 --> 3\n",
            "Chain score: 0.1000\n",
            "Skipping saving due to low chain_score: 0.1000\n",
            "\n",
            " ---------------------------------------------------------------------------------------------------------------------------------------------------------------------------------------------------------------------------------------------------------------------------------------------------------------------------------------------------------------------------------------------------------------------------------------------------------------------------------------------------------------------------------------------------------------------------------------------------------------------------------------------------------------------------------------------------------------------------------------------------------------------------------------------------------------------------------------------------------------------------------------------------------------------------------------------------------------------------------------------------------------------------------------- \n",
            "\n",
            "/content/drive/MyDrive/FilteredNivkhTxt/a102_nd/n.txt /content/drive/MyDrive/FilteredNivkhTxt/a102_nd/r.txt\n",
            "Aligning without segments.\n",
            "tasks amount: 1\n",
            "batch: 0 (0)\n"
          ]
        },
        {
          "output_type": "stream",
          "name": "stderr",
          "text": [
            "WARNING:root:can not fetch index db\n"
          ]
        },
        {
          "output_type": "stream",
          "name": "stdout",
          "text": [
            "conflicts to solve: 5\n",
            "total conflicts: 8\n"
          ]
        },
        {
          "output_type": "stream",
          "name": "stderr",
          "text": [
            "\n",
            "  0%|          | 0/5 [00:00<?, ?it/s]\u001b[A\n",
            " 20%|██        | 1/5 [00:00<00:00,  6.19it/s]\u001b[A\n",
            " 60%|██████    | 3/5 [00:00<00:00, 12.01it/s]\u001b[A\n",
            "100%|██████████| 5/5 [00:00<00:00, 11.87it/s]\n"
          ]
        },
        {
          "output_type": "stream",
          "name": "stdout",
          "text": [
            "conflicts to solve: 1\n",
            "total conflicts: 2\n"
          ]
        },
        {
          "output_type": "stream",
          "name": "stderr",
          "text": [
            "\n",
            "  0%|          | 0/1 [00:00<?, ?it/s]\u001b[A\n",
            "100%|██████████| 1/1 [00:00<00:00,  4.40it/s]\n"
          ]
        },
        {
          "output_type": "stream",
          "name": "stdout",
          "text": [
            "conflicts to solve: 1\n",
            "total conflicts: 1\n"
          ]
        },
        {
          "output_type": "stream",
          "name": "stderr",
          "text": [
            "\n",
            "  0%|          | 0/1 [00:00<?, ?it/s]\u001b[A\n",
            "100%|██████████| 1/1 [00:00<00:00,  5.73it/s]\n"
          ]
        },
        {
          "output_type": "stream",
          "name": "stdout",
          "text": [
            "conflicts to solve: 0\n",
            "total conflicts: 0\n"
          ]
        },
        {
          "output_type": "stream",
          "name": "stderr",
          "text": [
            "\n",
            "0it [00:00, ?it/s]\n"
          ]
        },
        {
          "output_type": "stream",
          "name": "stdout",
          "text": [
            "N: 46 --> 16\n",
            "R: 44 --> 16\n",
            "Chain score: 1.0000\n",
            "\n",
            " ---------------------------------------------------------------------------------------------------------------------------------------------------------------------------------------------------------------------------------------------------------------------------------------------------------------------------------------------------------------------------------------------------------------------------------------------------------------------------------------------------------------------------------------------------------------------------------------------------------------------------------------------------------------------------------------------------------------------------------------------------------------------------------------------------------------------------------------------------------------------------------------------------------------------------------------------------------------------------------------------------------------------------------------- \n",
            "\n",
            "/content/drive/MyDrive/FilteredNivkhTxt/a371_nd/n.txt /content/drive/MyDrive/FilteredNivkhTxt/a371_nd/r.txt\n"
          ]
        },
        {
          "output_type": "stream",
          "name": "stderr",
          "text": [
            "WARNING:root:can not fetch index db\n"
          ]
        },
        {
          "output_type": "stream",
          "name": "stdout",
          "text": [
            "Aligning without segments.\n",
            "tasks amount: 1\n",
            "batch: 0 (0)\n",
            "conflicts to solve: 2\n",
            "total conflicts: 4\n"
          ]
        },
        {
          "output_type": "stream",
          "name": "stderr",
          "text": [
            "\n",
            "  0%|          | 0/2 [00:00<?, ?it/s]\u001b[A\n",
            "100%|██████████| 2/2 [00:00<00:00, 14.04it/s]\n"
          ]
        },
        {
          "output_type": "stream",
          "name": "stdout",
          "text": [
            "conflicts to solve: 1\n",
            "total conflicts: 1\n"
          ]
        },
        {
          "output_type": "stream",
          "name": "stderr",
          "text": [
            "\n",
            "  0%|          | 0/1 [00:00<?, ?it/s]\u001b[A\n",
            "100%|██████████| 1/1 [00:00<00:00,  2.00it/s]\n"
          ]
        },
        {
          "output_type": "stream",
          "name": "stdout",
          "text": [
            "conflicts to solve: 0\n",
            "total conflicts: 0\n"
          ]
        },
        {
          "output_type": "stream",
          "name": "stderr",
          "text": [
            "\n",
            "0it [00:00, ?it/s]\n"
          ]
        },
        {
          "output_type": "stream",
          "name": "stdout",
          "text": [
            "N: 25 --> 7\n",
            "R: 20 --> 7\n",
            "Chain score: 1.0000\n",
            "\n",
            " ---------------------------------------------------------------------------------------------------------------------------------------------------------------------------------------------------------------------------------------------------------------------------------------------------------------------------------------------------------------------------------------------------------------------------------------------------------------------------------------------------------------------------------------------------------------------------------------------------------------------------------------------------------------------------------------------------------------------------------------------------------------------------------------------------------------------------------------------------------------------------------------------------------------------------------------------------------------------------------------------------------------------------------------- \n",
            "\n",
            "/content/drive/MyDrive/FilteredNivkhTxt/a283_nd/n.txt /content/drive/MyDrive/FilteredNivkhTxt/a283_nd/r.txt\n",
            "Aligning without segments.\n",
            "tasks amount: 1\n",
            "batch: 0 (0)\n"
          ]
        },
        {
          "output_type": "stream",
          "name": "stderr",
          "text": [
            "WARNING:root:can not fetch index db\n"
          ]
        },
        {
          "output_type": "stream",
          "name": "stdout",
          "text": [
            "conflicts to solve: 4\n",
            "total conflicts: 6\n"
          ]
        },
        {
          "output_type": "stream",
          "name": "stderr",
          "text": [
            "\n",
            "  0%|          | 0/4 [00:00<?, ?it/s]\u001b[A\n",
            " 50%|█████     | 2/4 [00:00<00:00, 11.36it/s]\u001b[A\n",
            "100%|██████████| 4/4 [00:00<00:00, 11.15it/s]\n"
          ]
        },
        {
          "output_type": "stream",
          "name": "stdout",
          "text": [
            "conflicts to solve: 2\n",
            "total conflicts: 2\n"
          ]
        },
        {
          "output_type": "stream",
          "name": "stderr",
          "text": [
            "\n",
            "  0%|          | 0/2 [00:00<?, ?it/s]\u001b[A\n",
            " 50%|█████     | 1/2 [00:00<00:00,  5.08it/s]\u001b[A\n",
            "100%|██████████| 2/2 [00:00<00:00,  6.56it/s]\n"
          ]
        },
        {
          "output_type": "stream",
          "name": "stdout",
          "text": [
            "conflicts to solve: 0\n",
            "total conflicts: 0\n"
          ]
        },
        {
          "output_type": "stream",
          "name": "stderr",
          "text": [
            "\n",
            "0it [00:00, ?it/s]\n"
          ]
        },
        {
          "output_type": "stream",
          "name": "stdout",
          "text": [
            "N: 38 --> 10\n",
            "R: 36 --> 10\n",
            "Chain score: 1.0000\n",
            "\n",
            " ---------------------------------------------------------------------------------------------------------------------------------------------------------------------------------------------------------------------------------------------------------------------------------------------------------------------------------------------------------------------------------------------------------------------------------------------------------------------------------------------------------------------------------------------------------------------------------------------------------------------------------------------------------------------------------------------------------------------------------------------------------------------------------------------------------------------------------------------------------------------------------------------------------------------------------------------------------------------------------------------------------------------------------------- \n",
            "\n",
            "/content/drive/MyDrive/FilteredNivkhTxt/a176_bible/n_am.txt /content/drive/MyDrive/FilteredNivkhTxt/a176_bible/r.txt\n",
            "Aligning without segments.\n",
            "tasks amount: 1\n",
            "batch: 0 (0)\n"
          ]
        },
        {
          "output_type": "stream",
          "name": "stderr",
          "text": [
            "WARNING:root:can not fetch index db\n"
          ]
        },
        {
          "output_type": "stream",
          "name": "stdout",
          "text": [
            "conflicts to solve: 4\n",
            "total conflicts: 6\n"
          ]
        },
        {
          "output_type": "stream",
          "name": "stderr",
          "text": [
            "\n",
            "  0%|          | 0/4 [00:00<?, ?it/s]\u001b[A\n",
            "100%|██████████| 4/4 [00:00<00:00, 19.64it/s]\n"
          ]
        },
        {
          "output_type": "stream",
          "name": "stdout",
          "text": [
            "conflicts to solve: 2\n",
            "total conflicts: 2\n"
          ]
        },
        {
          "output_type": "stream",
          "name": "stderr",
          "text": [
            "\n",
            "  0%|          | 0/2 [00:00<?, ?it/s]\u001b[A\n",
            "100%|██████████| 2/2 [00:00<00:00, 13.04it/s]\n"
          ]
        },
        {
          "output_type": "stream",
          "name": "stdout",
          "text": [
            "conflicts to solve: 0\n",
            "total conflicts: 0\n"
          ]
        },
        {
          "output_type": "stream",
          "name": "stderr",
          "text": [
            "\n",
            "0it [00:00, ?it/s]\n"
          ]
        },
        {
          "output_type": "stream",
          "name": "stdout",
          "text": [
            "N: 40 --> 26\n",
            "R: 40 --> 26\n",
            "Chain score: 1.0000\n",
            "\n",
            " ---------------------------------------------------------------------------------------------------------------------------------------------------------------------------------------------------------------------------------------------------------------------------------------------------------------------------------------------------------------------------------------------------------------------------------------------------------------------------------------------------------------------------------------------------------------------------------------------------------------------------------------------------------------------------------------------------------------------------------------------------------------------------------------------------------------------------------------------------------------------------------------------------------------------------------------------------------------------------------------------------------------------------------------- \n",
            "\n",
            "/content/drive/MyDrive/FilteredNivkhTxt/a260_nd/n.txt /content/drive/MyDrive/FilteredNivkhTxt/a260_nd/r.txt\n",
            "Aligning without segments.\n",
            "tasks amount: 1\n",
            "batch: 0 (0)\n"
          ]
        },
        {
          "output_type": "stream",
          "name": "stderr",
          "text": [
            "WARNING:root:can not fetch index db\n"
          ]
        },
        {
          "output_type": "stream",
          "name": "stdout",
          "text": [
            "conflicts to solve: 4\n",
            "total conflicts: 4\n"
          ]
        },
        {
          "output_type": "stream",
          "name": "stderr",
          "text": [
            "\n",
            "  0%|          | 0/4 [00:00<?, ?it/s]\u001b[A\n",
            " 50%|█████     | 2/4 [00:00<00:00, 14.04it/s]\u001b[A\n",
            "100%|██████████| 4/4 [00:00<00:00, 12.92it/s]\n"
          ]
        },
        {
          "output_type": "stream",
          "name": "stdout",
          "text": [
            "conflicts to solve: 0\n",
            "total conflicts: 0\n"
          ]
        },
        {
          "output_type": "stream",
          "name": "stderr",
          "text": [
            "\n",
            "0it [00:00, ?it/s]\n"
          ]
        },
        {
          "output_type": "stream",
          "name": "stdout",
          "text": [
            "N: 17 --> 5\n",
            "R: 16 --> 5\n",
            "Chain score: 1.0000\n",
            "\n",
            " ---------------------------------------------------------------------------------------------------------------------------------------------------------------------------------------------------------------------------------------------------------------------------------------------------------------------------------------------------------------------------------------------------------------------------------------------------------------------------------------------------------------------------------------------------------------------------------------------------------------------------------------------------------------------------------------------------------------------------------------------------------------------------------------------------------------------------------------------------------------------------------------------------------------------------------------------------------------------------------------------------------------------------------------- \n",
            "\n",
            "/content/drive/MyDrive/FilteredNivkhTxt/a293_nd/n.txt /content/drive/MyDrive/FilteredNivkhTxt/a293_nd/r.txt\n"
          ]
        },
        {
          "output_type": "stream",
          "name": "stderr",
          "text": [
            "WARNING:root:can not fetch index db\n"
          ]
        },
        {
          "output_type": "stream",
          "name": "stdout",
          "text": [
            "Aligning without segments.\n",
            "tasks amount: 1\n",
            "batch: 0 (0)\n",
            "conflicts to solve: 1\n",
            "total conflicts: 1\n"
          ]
        },
        {
          "output_type": "stream",
          "name": "stderr",
          "text": [
            "\n",
            "100%|██████████| 1/1 [00:00<00:00, 13.86it/s]\n"
          ]
        },
        {
          "output_type": "stream",
          "name": "stdout",
          "text": [
            "conflicts to solve: 0\n",
            "total conflicts: 0\n"
          ]
        },
        {
          "output_type": "stream",
          "name": "stderr",
          "text": [
            "\n",
            "0it [00:00, ?it/s]\n"
          ]
        },
        {
          "output_type": "stream",
          "name": "stdout",
          "text": [
            "N: 8 --> 4\n",
            "R: 6 --> 4\n",
            "Chain score: 0.8571\n",
            "\n",
            " ---------------------------------------------------------------------------------------------------------------------------------------------------------------------------------------------------------------------------------------------------------------------------------------------------------------------------------------------------------------------------------------------------------------------------------------------------------------------------------------------------------------------------------------------------------------------------------------------------------------------------------------------------------------------------------------------------------------------------------------------------------------------------------------------------------------------------------------------------------------------------------------------------------------------------------------------------------------------------------------------------------------------------------------- \n",
            "\n",
            "/content/drive/MyDrive/FilteredNivkhTxt/a270_nd/n.txt /content/drive/MyDrive/FilteredNivkhTxt/a270_nd/r.txt\n"
          ]
        },
        {
          "output_type": "stream",
          "name": "stderr",
          "text": [
            "WARNING:root:can not fetch index db\n"
          ]
        },
        {
          "output_type": "stream",
          "name": "stdout",
          "text": [
            "Aligning without segments.\n",
            "tasks amount: 1\n",
            "batch: 0 (0)\n",
            "conflicts to solve: 2\n",
            "total conflicts: 2\n"
          ]
        },
        {
          "output_type": "stream",
          "name": "stderr",
          "text": [
            "\n",
            "  0%|          | 0/2 [00:00<?, ?it/s]\u001b[A\n",
            "100%|██████████| 2/2 [00:00<00:00, 10.82it/s]\n"
          ]
        },
        {
          "output_type": "stream",
          "name": "stdout",
          "text": [
            "conflicts to solve: 0\n",
            "total conflicts: 0\n"
          ]
        },
        {
          "output_type": "stream",
          "name": "stderr",
          "text": [
            "\n",
            "0it [00:00, ?it/s]\n"
          ]
        },
        {
          "output_type": "stream",
          "name": "stdout",
          "text": [
            "N: 11 --> 4\n",
            "R: 9 --> 4\n",
            "Chain score: 1.0000\n",
            "\n",
            " ---------------------------------------------------------------------------------------------------------------------------------------------------------------------------------------------------------------------------------------------------------------------------------------------------------------------------------------------------------------------------------------------------------------------------------------------------------------------------------------------------------------------------------------------------------------------------------------------------------------------------------------------------------------------------------------------------------------------------------------------------------------------------------------------------------------------------------------------------------------------------------------------------------------------------------------------------------------------------------------------------------------------------------------- \n",
            "\n",
            "/content/drive/MyDrive/FilteredNivkhTxt/76_nd/n.txt /content/drive/MyDrive/FilteredNivkhTxt/76_nd/r.txt\n",
            "Aligning without segments.\n",
            "tasks amount: 1\n",
            "batch: 0 (0)\n"
          ]
        },
        {
          "output_type": "stream",
          "name": "stderr",
          "text": [
            "WARNING:root:can not fetch index db\n"
          ]
        },
        {
          "output_type": "stream",
          "name": "stdout",
          "text": [
            "conflicts to solve: 2\n",
            "total conflicts: 4\n"
          ]
        },
        {
          "output_type": "stream",
          "name": "stderr",
          "text": [
            "\n",
            "100%|██████████| 2/2 [00:00<00:00, 21.15it/s]\n"
          ]
        },
        {
          "output_type": "stream",
          "name": "stdout",
          "text": [
            "conflicts to solve: 0\n",
            "total conflicts: 1\n"
          ]
        },
        {
          "output_type": "stream",
          "name": "stderr",
          "text": [
            "\n",
            "0it [00:00, ?it/s]\n"
          ]
        },
        {
          "output_type": "stream",
          "name": "stdout",
          "text": [
            "conflicts to solve: 0\n",
            "total conflicts: 1\n"
          ]
        },
        {
          "output_type": "stream",
          "name": "stderr",
          "text": [
            "\n",
            "0it [00:00, ?it/s]\n"
          ]
        },
        {
          "output_type": "stream",
          "name": "stdout",
          "text": [
            "conflicts to solve: 0\n",
            "total conflicts: 2\n"
          ]
        },
        {
          "output_type": "stream",
          "name": "stderr",
          "text": [
            "\n",
            "0it [00:00, ?it/s]\n"
          ]
        },
        {
          "output_type": "stream",
          "name": "stdout",
          "text": [
            "N: 40 --> 12\n",
            "R: 39 --> 12\n",
            "Chain score: 0.2439\n",
            "Skipping saving due to low chain_score: 0.2439\n",
            "\n",
            " ---------------------------------------------------------------------------------------------------------------------------------------------------------------------------------------------------------------------------------------------------------------------------------------------------------------------------------------------------------------------------------------------------------------------------------------------------------------------------------------------------------------------------------------------------------------------------------------------------------------------------------------------------------------------------------------------------------------------------------------------------------------------------------------------------------------------------------------------------------------------------------------------------------------------------------------------------------------------------------------------------------------------------------------- \n",
            "\n",
            "/content/drive/MyDrive/FilteredNivkhTxt/a399_nd/n.txt /content/drive/MyDrive/FilteredNivkhTxt/a399_nd/r.txt\n"
          ]
        },
        {
          "output_type": "stream",
          "name": "stderr",
          "text": [
            "WARNING:root:can not fetch index db\n"
          ]
        },
        {
          "output_type": "stream",
          "name": "stdout",
          "text": [
            "Aligning without segments.\n",
            "tasks amount: 1\n",
            "batch: 0 (0)\n",
            "conflicts to solve: 0\n",
            "total conflicts: 2\n"
          ]
        },
        {
          "output_type": "stream",
          "name": "stderr",
          "text": [
            "\n",
            "0it [00:00, ?it/s]\n"
          ]
        },
        {
          "output_type": "stream",
          "name": "stdout",
          "text": [
            "conflicts to solve: 0\n",
            "total conflicts: 1\n"
          ]
        },
        {
          "output_type": "stream",
          "name": "stderr",
          "text": [
            "\n",
            "0it [00:00, ?it/s]\n"
          ]
        },
        {
          "output_type": "stream",
          "name": "stdout",
          "text": [
            "conflicts to solve: 0\n",
            "total conflicts: 0\n"
          ]
        },
        {
          "output_type": "stream",
          "name": "stderr",
          "text": [
            "\n",
            "0it [00:00, ?it/s]\n"
          ]
        },
        {
          "output_type": "stream",
          "name": "stdout",
          "text": [
            "conflicts to solve: 1\n",
            "total conflicts: 2\n"
          ]
        },
        {
          "output_type": "stream",
          "name": "stderr",
          "text": [
            "\n",
            "  0%|          | 0/1 [00:00<?, ?it/s]\u001b[A\n",
            "100%|██████████| 1/1 [00:53<00:00, 53.58s/it]\n"
          ]
        },
        {
          "output_type": "stream",
          "name": "stdout",
          "text": [
            "N: 17 --> 4\n",
            "R: 33 --> 4\n",
            "Chain score: 0.8529\n",
            "\n",
            " ---------------------------------------------------------------------------------------------------------------------------------------------------------------------------------------------------------------------------------------------------------------------------------------------------------------------------------------------------------------------------------------------------------------------------------------------------------------------------------------------------------------------------------------------------------------------------------------------------------------------------------------------------------------------------------------------------------------------------------------------------------------------------------------------------------------------------------------------------------------------------------------------------------------------------------------------------------------------------------------------------------------------------------------- \n",
            "\n",
            "/content/drive/MyDrive/FilteredNivkhTxt/a314_nd/n.txt /content/drive/MyDrive/FilteredNivkhTxt/a314_nd/r.txt\n",
            "Aligning without segments.\n",
            "tasks amount: 1\n",
            "batch: 0 (0)\n"
          ]
        },
        {
          "output_type": "stream",
          "name": "stderr",
          "text": [
            "WARNING:root:can not fetch index db\n"
          ]
        },
        {
          "output_type": "stream",
          "name": "stdout",
          "text": [
            "conflicts to solve: 3\n",
            "total conflicts: 5\n"
          ]
        },
        {
          "output_type": "stream",
          "name": "stderr",
          "text": [
            "\n",
            "  0%|          | 0/3 [00:00<?, ?it/s]\u001b[A\n",
            "100%|██████████| 3/3 [00:00<00:00, 10.30it/s]\n"
          ]
        },
        {
          "output_type": "stream",
          "name": "stdout",
          "text": [
            "conflicts to solve: 0\n",
            "total conflicts: 1\n"
          ]
        },
        {
          "output_type": "stream",
          "name": "stderr",
          "text": [
            "\n",
            "0it [00:00, ?it/s]\n"
          ]
        },
        {
          "output_type": "stream",
          "name": "stdout",
          "text": [
            "conflicts to solve: 0\n",
            "total conflicts: 1\n"
          ]
        },
        {
          "output_type": "stream",
          "name": "stderr",
          "text": [
            "\n",
            "0it [00:00, ?it/s]\n"
          ]
        },
        {
          "output_type": "stream",
          "name": "stdout",
          "text": [
            "conflicts to solve: 2\n",
            "total conflicts: 2\n"
          ]
        },
        {
          "output_type": "stream",
          "name": "stderr",
          "text": [
            "\n",
            "  0%|          | 0/2 [00:00<?, ?it/s]\u001b[A\n",
            " 50%|█████     | 1/2 [00:00<00:00,  4.97it/s]\u001b[A\n",
            "100%|██████████| 2/2 [00:00<00:00,  2.29it/s]\n"
          ]
        },
        {
          "output_type": "stream",
          "name": "stdout",
          "text": [
            "N: 37 --> 16\n",
            "R: 43 --> 16\n",
            "Chain score: 1.0000\n",
            "\n",
            " ---------------------------------------------------------------------------------------------------------------------------------------------------------------------------------------------------------------------------------------------------------------------------------------------------------------------------------------------------------------------------------------------------------------------------------------------------------------------------------------------------------------------------------------------------------------------------------------------------------------------------------------------------------------------------------------------------------------------------------------------------------------------------------------------------------------------------------------------------------------------------------------------------------------------------------------------------------------------------------------------------------------------------------------- \n",
            "\n",
            "/content/drive/MyDrive/FilteredNivkhTxt/85_nd/n.txt /content/drive/MyDrive/FilteredNivkhTxt/85_nd/r.txt\n"
          ]
        },
        {
          "output_type": "stream",
          "name": "stderr",
          "text": [
            "WARNING:root:can not fetch index db\n"
          ]
        },
        {
          "output_type": "stream",
          "name": "stdout",
          "text": [
            "Aligning without segments.\n",
            "tasks amount: 1\n",
            "batch: 0 (0)\n",
            "conflicts to solve: 3\n",
            "total conflicts: 4\n"
          ]
        },
        {
          "output_type": "stream",
          "name": "stderr",
          "text": [
            "\n",
            "  0%|          | 0/3 [00:00<?, ?it/s]\u001b[A\n",
            "100%|██████████| 3/3 [00:00<00:00, 17.74it/s]\n"
          ]
        },
        {
          "output_type": "stream",
          "name": "stdout",
          "text": [
            "conflicts to solve: 1\n",
            "total conflicts: 1\n"
          ]
        },
        {
          "output_type": "stream",
          "name": "stderr",
          "text": [
            "\n",
            "  0%|          | 0/1 [00:00<?, ?it/s]\u001b[A\n",
            "100%|██████████| 1/1 [00:00<00:00,  6.75it/s]\n"
          ]
        },
        {
          "output_type": "stream",
          "name": "stdout",
          "text": [
            "conflicts to solve: 0\n",
            "total conflicts: 0\n"
          ]
        },
        {
          "output_type": "stream",
          "name": "stderr",
          "text": [
            "\n",
            "0it [00:00, ?it/s]\n"
          ]
        },
        {
          "output_type": "stream",
          "name": "stdout",
          "text": [
            "N: 19 --> 6\n",
            "R: 15 --> 6\n",
            "Chain score: 1.0000\n",
            "\n",
            " ---------------------------------------------------------------------------------------------------------------------------------------------------------------------------------------------------------------------------------------------------------------------------------------------------------------------------------------------------------------------------------------------------------------------------------------------------------------------------------------------------------------------------------------------------------------------------------------------------------------------------------------------------------------------------------------------------------------------------------------------------------------------------------------------------------------------------------------------------------------------------------------------------------------------------------------------------------------------------------------------------------------------------------------- \n",
            "\n",
            "/content/drive/MyDrive/FilteredNivkhTxt/62_shklg/n.txt /content/drive/MyDrive/FilteredNivkhTxt/62_shklg/r.txt\n",
            "Aligning without segments.\n",
            "tasks amount: 1\n",
            "batch: 0 (0)\n"
          ]
        },
        {
          "output_type": "stream",
          "name": "stderr",
          "text": [
            "WARNING:root:can not fetch index db\n"
          ]
        },
        {
          "output_type": "stream",
          "name": "stdout",
          "text": [
            "conflicts to solve: 0\n",
            "total conflicts: 1\n"
          ]
        },
        {
          "output_type": "stream",
          "name": "stderr",
          "text": [
            "\n",
            "0it [00:00, ?it/s]\n"
          ]
        },
        {
          "output_type": "stream",
          "name": "stdout",
          "text": [
            "conflicts to solve: 0\n",
            "total conflicts: 0\n"
          ]
        },
        {
          "output_type": "stream",
          "name": "stderr",
          "text": [
            "\n",
            "0it [00:00, ?it/s]\n"
          ]
        },
        {
          "output_type": "stream",
          "name": "stdout",
          "text": [
            "conflicts to solve: 0\n",
            "total conflicts: 1\n"
          ]
        },
        {
          "output_type": "stream",
          "name": "stderr",
          "text": [
            "\n",
            "0it [00:00, ?it/s]\n"
          ]
        },
        {
          "output_type": "stream",
          "name": "stdout",
          "text": [
            "N: 27 --> 5\n",
            "R: 77 --> 5\n",
            "Chain score: 0.0769\n",
            "Skipping saving due to low chain_score: 0.0769\n",
            "\n",
            " ---------------------------------------------------------------------------------------------------------------------------------------------------------------------------------------------------------------------------------------------------------------------------------------------------------------------------------------------------------------------------------------------------------------------------------------------------------------------------------------------------------------------------------------------------------------------------------------------------------------------------------------------------------------------------------------------------------------------------------------------------------------------------------------------------------------------------------------------------------------------------------------------------------------------------------------------------------------------------------------------------------------------------------------- \n",
            "\n",
            "/content/drive/MyDrive/FilteredNivkhTxt/a254_nd/n.txt /content/drive/MyDrive/FilteredNivkhTxt/a254_nd/r.txt\n"
          ]
        },
        {
          "output_type": "stream",
          "name": "stderr",
          "text": [
            "WARNING:root:can not fetch index db\n"
          ]
        },
        {
          "output_type": "stream",
          "name": "stdout",
          "text": [
            "Aligning without segments.\n",
            "tasks amount: 1\n",
            "batch: 0 (0)\n",
            "conflicts to solve: 2\n",
            "total conflicts: 3\n"
          ]
        },
        {
          "output_type": "stream",
          "name": "stderr",
          "text": [
            "\n",
            "  0%|          | 0/2 [00:00<?, ?it/s]\u001b[A\n",
            "100%|██████████| 2/2 [00:00<00:00,  9.91it/s]\n"
          ]
        },
        {
          "output_type": "stream",
          "name": "stdout",
          "text": [
            "conflicts to solve: 1\n",
            "total conflicts: 1\n"
          ]
        },
        {
          "output_type": "stream",
          "name": "stderr",
          "text": [
            "\n",
            "  0%|          | 0/1 [00:00<?, ?it/s]\u001b[A\n",
            "100%|██████████| 1/1 [00:00<00:00,  5.13it/s]\n"
          ]
        },
        {
          "output_type": "stream",
          "name": "stdout",
          "text": [
            "conflicts to solve: 0\n",
            "total conflicts: 0\n"
          ]
        },
        {
          "output_type": "stream",
          "name": "stderr",
          "text": [
            "\n",
            "0it [00:00, ?it/s]\n"
          ]
        },
        {
          "output_type": "stream",
          "name": "stdout",
          "text": [
            "N: 15 --> 5\n",
            "R: 17 --> 5\n",
            "Chain score: 1.0000\n",
            "\n",
            " ---------------------------------------------------------------------------------------------------------------------------------------------------------------------------------------------------------------------------------------------------------------------------------------------------------------------------------------------------------------------------------------------------------------------------------------------------------------------------------------------------------------------------------------------------------------------------------------------------------------------------------------------------------------------------------------------------------------------------------------------------------------------------------------------------------------------------------------------------------------------------------------------------------------------------------------------------------------------------------------------------------------------------------------- \n",
            "\n",
            "/content/drive/MyDrive/FilteredNivkhTxt/39_sng/n.txt /content/drive/MyDrive/FilteredNivkhTxt/39_sng/r.txt\n"
          ]
        },
        {
          "output_type": "stream",
          "name": "stderr",
          "text": [
            "WARNING:root:can not fetch index db\n"
          ]
        },
        {
          "output_type": "stream",
          "name": "stdout",
          "text": [
            "Aligning without segments.\n",
            "tasks amount: 1\n",
            "batch: 0 (0)\n",
            "conflicts to solve: 0\n",
            "total conflicts: 1\n"
          ]
        },
        {
          "output_type": "stream",
          "name": "stderr",
          "text": [
            "\n",
            "0it [00:00, ?it/s]\n"
          ]
        },
        {
          "output_type": "stream",
          "name": "stdout",
          "text": [
            "conflicts to solve: 0\n",
            "total conflicts: 0\n"
          ]
        },
        {
          "output_type": "stream",
          "name": "stderr",
          "text": [
            "\n",
            "0it [00:00, ?it/s]\n"
          ]
        },
        {
          "output_type": "stream",
          "name": "stdout",
          "text": [
            "conflicts to solve: 1\n",
            "total conflicts: 1\n"
          ]
        },
        {
          "output_type": "stream",
          "name": "stderr",
          "text": [
            "\n",
            "  0%|          | 0/1 [00:00<?, ?it/s]\u001b[A\n",
            "100%|██████████| 1/1 [00:00<00:00,  1.75it/s]\n"
          ]
        },
        {
          "output_type": "stream",
          "name": "stdout",
          "text": [
            "N: 9 --> 5\n",
            "R: 13 --> 5\n",
            "Chain score: 1.0000\n",
            "\n",
            " ---------------------------------------------------------------------------------------------------------------------------------------------------------------------------------------------------------------------------------------------------------------------------------------------------------------------------------------------------------------------------------------------------------------------------------------------------------------------------------------------------------------------------------------------------------------------------------------------------------------------------------------------------------------------------------------------------------------------------------------------------------------------------------------------------------------------------------------------------------------------------------------------------------------------------------------------------------------------------------------------------------------------------------------- \n",
            "\n",
            "/content/drive/MyDrive/FilteredNivkhTxt/a382_nd/n.txt /content/drive/MyDrive/FilteredNivkhTxt/a382_nd/r.txt\n",
            "Aligning without segments.\n",
            "tasks amount: 1\n",
            "batch: 0 (0)\n"
          ]
        },
        {
          "output_type": "stream",
          "name": "stderr",
          "text": [
            "WARNING:root:can not fetch index db\n"
          ]
        },
        {
          "output_type": "stream",
          "name": "stdout",
          "text": [
            "conflicts to solve: 6\n",
            "total conflicts: 9\n"
          ]
        },
        {
          "output_type": "stream",
          "name": "stderr",
          "text": [
            "\n",
            "  0%|          | 0/6 [00:00<?, ?it/s]\u001b[A\n",
            " 33%|███▎      | 2/6 [00:00<00:00, 13.28it/s]\u001b[A\n",
            "100%|██████████| 6/6 [00:00<00:00, 17.21it/s]\n"
          ]
        },
        {
          "output_type": "stream",
          "name": "stdout",
          "text": [
            "conflicts to solve: 0\n",
            "total conflicts: 2\n"
          ]
        },
        {
          "output_type": "stream",
          "name": "stderr",
          "text": [
            "\n",
            "0it [00:00, ?it/s]\n"
          ]
        },
        {
          "output_type": "stream",
          "name": "stdout",
          "text": [
            "conflicts to solve: 2\n",
            "total conflicts: 2\n"
          ]
        },
        {
          "output_type": "stream",
          "name": "stderr",
          "text": [
            "\n",
            "  0%|          | 0/2 [00:00<?, ?it/s]\u001b[A\n",
            " 50%|█████     | 1/2 [00:00<00:00,  4.60it/s]\u001b[A\n",
            "100%|██████████| 2/2 [00:01<00:00,  1.66it/s]\n"
          ]
        },
        {
          "output_type": "stream",
          "name": "stdout",
          "text": [
            "conflicts to solve: 0\n",
            "total conflicts: 0\n"
          ]
        },
        {
          "output_type": "stream",
          "name": "stderr",
          "text": [
            "\n",
            "0it [00:00, ?it/s]\n"
          ]
        },
        {
          "output_type": "stream",
          "name": "stdout",
          "text": [
            "N: 70 --> 40\n",
            "R: 72 --> 40\n",
            "Chain score: 1.0000\n",
            "\n",
            " ---------------------------------------------------------------------------------------------------------------------------------------------------------------------------------------------------------------------------------------------------------------------------------------------------------------------------------------------------------------------------------------------------------------------------------------------------------------------------------------------------------------------------------------------------------------------------------------------------------------------------------------------------------------------------------------------------------------------------------------------------------------------------------------------------------------------------------------------------------------------------------------------------------------------------------------------------------------------------------------------------------------------------------------- \n",
            "\n",
            "/content/drive/MyDrive/FilteredNivkhTxt/a345_nd/n.txt /content/drive/MyDrive/FilteredNivkhTxt/a345_nd/r.txt\n"
          ]
        },
        {
          "output_type": "stream",
          "name": "stderr",
          "text": [
            "WARNING:root:can not fetch index db\n"
          ]
        },
        {
          "output_type": "stream",
          "name": "stdout",
          "text": [
            "Aligning without segments.\n",
            "tasks amount: 1\n",
            "batch: 0 (0)\n",
            "conflicts to solve: 1\n",
            "total conflicts: 3\n"
          ]
        },
        {
          "output_type": "stream",
          "name": "stderr",
          "text": [
            "\n",
            "  0%|          | 0/1 [00:00<?, ?it/s]\u001b[A\n",
            "100%|██████████| 1/1 [00:00<00:00,  9.73it/s]\n"
          ]
        },
        {
          "output_type": "stream",
          "name": "stdout",
          "text": [
            "conflicts to solve: 1\n",
            "total conflicts: 1\n"
          ]
        },
        {
          "output_type": "stream",
          "name": "stderr",
          "text": [
            "\n",
            "  0%|          | 0/1 [00:00<?, ?it/s]\u001b[A\n",
            "100%|██████████| 1/1 [00:00<00:00,  6.71it/s]\n"
          ]
        },
        {
          "output_type": "stream",
          "name": "stdout",
          "text": [
            "conflicts to solve: 0\n",
            "total conflicts: 0\n"
          ]
        },
        {
          "output_type": "stream",
          "name": "stderr",
          "text": [
            "\n",
            "0it [00:00, ?it/s]\n"
          ]
        },
        {
          "output_type": "stream",
          "name": "stdout",
          "text": [
            "N: 15 --> 2\n",
            "R: 10 --> 2\n",
            "Chain score: 0.7500\n",
            "\n",
            " ---------------------------------------------------------------------------------------------------------------------------------------------------------------------------------------------------------------------------------------------------------------------------------------------------------------------------------------------------------------------------------------------------------------------------------------------------------------------------------------------------------------------------------------------------------------------------------------------------------------------------------------------------------------------------------------------------------------------------------------------------------------------------------------------------------------------------------------------------------------------------------------------------------------------------------------------------------------------------------------------------------------------------------------- \n",
            "\n",
            "/content/drive/MyDrive/FilteredNivkhTxt/a168_bible/n_am.txt /content/drive/MyDrive/FilteredNivkhTxt/a168_bible/r.txt\n",
            "Aligning without segments.\n",
            "tasks amount: 1\n",
            "batch: 0 (0)\n"
          ]
        },
        {
          "output_type": "stream",
          "name": "stderr",
          "text": [
            "WARNING:root:can not fetch index db\n"
          ]
        },
        {
          "output_type": "stream",
          "name": "stdout",
          "text": [
            "conflicts to solve: 6\n",
            "total conflicts: 6\n"
          ]
        },
        {
          "output_type": "stream",
          "name": "stderr",
          "text": [
            "\n",
            "  0%|          | 0/6 [00:00<?, ?it/s]\u001b[A\n",
            " 33%|███▎      | 2/6 [00:00<00:00, 11.13it/s]\u001b[A\n",
            " 67%|██████▋   | 4/6 [00:00<00:00, 12.95it/s]\u001b[A\n",
            "100%|██████████| 6/6 [00:00<00:00, 13.51it/s]\n"
          ]
        },
        {
          "output_type": "stream",
          "name": "stdout",
          "text": [
            "conflicts to solve: 0\n",
            "total conflicts: 0\n"
          ]
        },
        {
          "output_type": "stream",
          "name": "stderr",
          "text": [
            "\n",
            "0it [00:00, ?it/s]\n"
          ]
        },
        {
          "output_type": "stream",
          "name": "stdout",
          "text": [
            "N: 32 --> 17\n",
            "R: 29 --> 17\n",
            "Chain score: 1.0000\n",
            "\n",
            " ---------------------------------------------------------------------------------------------------------------------------------------------------------------------------------------------------------------------------------------------------------------------------------------------------------------------------------------------------------------------------------------------------------------------------------------------------------------------------------------------------------------------------------------------------------------------------------------------------------------------------------------------------------------------------------------------------------------------------------------------------------------------------------------------------------------------------------------------------------------------------------------------------------------------------------------------------------------------------------------------------------------------------------------- \n",
            "\n",
            "/content/drive/MyDrive/FilteredNivkhTxt/a424_nd/n.txt /content/drive/MyDrive/FilteredNivkhTxt/a424_nd/r.txt\n"
          ]
        },
        {
          "output_type": "stream",
          "name": "stderr",
          "text": [
            "WARNING:root:can not fetch index db\n"
          ]
        },
        {
          "output_type": "stream",
          "name": "stdout",
          "text": [
            "Aligning without segments.\n",
            "tasks amount: 1\n",
            "batch: 0 (0)\n",
            "conflicts to solve: 2\n",
            "total conflicts: 3\n"
          ]
        },
        {
          "output_type": "stream",
          "name": "stderr",
          "text": [
            "\n",
            "  0%|          | 0/2 [00:00<?, ?it/s]\u001b[A\n",
            "100%|██████████| 2/2 [00:00<00:00, 15.14it/s]\n"
          ]
        },
        {
          "output_type": "stream",
          "name": "stdout",
          "text": [
            "conflicts to solve: 1\n",
            "total conflicts: 1\n"
          ]
        },
        {
          "output_type": "stream",
          "name": "stderr",
          "text": [
            "\n",
            "100%|██████████| 1/1 [00:00<00:00, 17.30it/s]\n"
          ]
        },
        {
          "output_type": "stream",
          "name": "stdout",
          "text": [
            "conflicts to solve: 0\n",
            "total conflicts: 0\n"
          ]
        },
        {
          "output_type": "stream",
          "name": "stderr",
          "text": [
            "\n",
            "0it [00:00, ?it/s]\n"
          ]
        },
        {
          "output_type": "stream",
          "name": "stdout",
          "text": [
            "N: 21 --> 4\n",
            "R: 18 --> 4\n",
            "Chain score: 0.9474\n",
            "\n",
            " ---------------------------------------------------------------------------------------------------------------------------------------------------------------------------------------------------------------------------------------------------------------------------------------------------------------------------------------------------------------------------------------------------------------------------------------------------------------------------------------------------------------------------------------------------------------------------------------------------------------------------------------------------------------------------------------------------------------------------------------------------------------------------------------------------------------------------------------------------------------------------------------------------------------------------------------------------------------------------------------------------------------------------------------- \n",
            "\n",
            "/content/drive/MyDrive/FilteredNivkhTxt/a410_nd/n.txt /content/drive/MyDrive/FilteredNivkhTxt/a410_nd/r.txt\n"
          ]
        },
        {
          "output_type": "stream",
          "name": "stderr",
          "text": [
            "WARNING:root:can not fetch index db\n"
          ]
        },
        {
          "output_type": "stream",
          "name": "stdout",
          "text": [
            "Aligning without segments.\n",
            "tasks amount: 1\n",
            "batch: 0 (0)\n",
            "conflicts to solve: 3\n",
            "total conflicts: 4\n"
          ]
        },
        {
          "output_type": "stream",
          "name": "stderr",
          "text": [
            "\n",
            "  0%|          | 0/3 [00:00<?, ?it/s]\u001b[A\n",
            "100%|██████████| 3/3 [00:00<00:00, 19.36it/s]\n"
          ]
        },
        {
          "output_type": "stream",
          "name": "stdout",
          "text": [
            "conflicts to solve: 1\n",
            "total conflicts: 1\n"
          ]
        },
        {
          "output_type": "stream",
          "name": "stderr",
          "text": [
            "\n",
            "100%|██████████| 1/1 [00:00<00:00, 11.61it/s]\n"
          ]
        },
        {
          "output_type": "stream",
          "name": "stdout",
          "text": [
            "conflicts to solve: 0\n",
            "total conflicts: 0\n"
          ]
        },
        {
          "output_type": "stream",
          "name": "stderr",
          "text": [
            "\n",
            "0it [00:00, ?it/s]\n"
          ]
        },
        {
          "output_type": "stream",
          "name": "stdout",
          "text": [
            "N: 20 --> 7\n",
            "R: 18 --> 7\n",
            "Chain score: 0.9474\n",
            "\n",
            " ---------------------------------------------------------------------------------------------------------------------------------------------------------------------------------------------------------------------------------------------------------------------------------------------------------------------------------------------------------------------------------------------------------------------------------------------------------------------------------------------------------------------------------------------------------------------------------------------------------------------------------------------------------------------------------------------------------------------------------------------------------------------------------------------------------------------------------------------------------------------------------------------------------------------------------------------------------------------------------------------------------------------------------------- \n",
            "\n",
            "/content/drive/MyDrive/FilteredNivkhTxt/a400_nd/n.txt /content/drive/MyDrive/FilteredNivkhTxt/a400_nd/r.txt\n",
            "Aligning without segments.\n",
            "tasks amount: 1\n",
            "batch: 0 (0)\n"
          ]
        },
        {
          "output_type": "stream",
          "name": "stderr",
          "text": [
            "WARNING:root:can not fetch index db\n"
          ]
        },
        {
          "output_type": "stream",
          "name": "stdout",
          "text": [
            "conflicts to solve: 2\n",
            "total conflicts: 6\n"
          ]
        },
        {
          "output_type": "stream",
          "name": "stderr",
          "text": [
            "\n",
            "  0%|          | 0/2 [00:00<?, ?it/s]\u001b[A\n",
            "100%|██████████| 2/2 [00:00<00:00, 15.89it/s]\n"
          ]
        },
        {
          "output_type": "stream",
          "name": "stdout",
          "text": [
            "conflicts to solve: 0\n",
            "total conflicts: 2\n"
          ]
        },
        {
          "output_type": "stream",
          "name": "stderr",
          "text": [
            "\n",
            "0it [00:00, ?it/s]\n"
          ]
        },
        {
          "output_type": "stream",
          "name": "stdout",
          "text": [
            "conflicts to solve: 0\n",
            "total conflicts: 1\n"
          ]
        },
        {
          "output_type": "stream",
          "name": "stderr",
          "text": [
            "\n",
            "0it [00:00, ?it/s]\n"
          ]
        },
        {
          "output_type": "stream",
          "name": "stdout",
          "text": [
            "conflicts to solve: 4\n",
            "total conflicts: 4\n"
          ]
        },
        {
          "output_type": "stream",
          "name": "stderr",
          "text": [
            "\n",
            "  0%|          | 0/4 [00:00<?, ?it/s]\u001b[A\n",
            " 50%|█████     | 2/4 [00:00<00:00, 10.25it/s]\u001b[A\n",
            "100%|██████████| 4/4 [00:00<00:00,  4.56it/s]\n"
          ]
        },
        {
          "output_type": "stream",
          "name": "stdout",
          "text": [
            "N: 57 --> 18\n",
            "R: 53 --> 18\n",
            "Chain score: 1.0000\n",
            "\n",
            " ---------------------------------------------------------------------------------------------------------------------------------------------------------------------------------------------------------------------------------------------------------------------------------------------------------------------------------------------------------------------------------------------------------------------------------------------------------------------------------------------------------------------------------------------------------------------------------------------------------------------------------------------------------------------------------------------------------------------------------------------------------------------------------------------------------------------------------------------------------------------------------------------------------------------------------------------------------------------------------------------------------------------------------------- \n",
            "\n",
            "/content/drive/MyDrive/FilteredNivkhTxt/a221_sng/n.txt /content/drive/MyDrive/FilteredNivkhTxt/a221_sng/r.txt\n"
          ]
        },
        {
          "output_type": "stream",
          "name": "stderr",
          "text": [
            "WARNING:root:can not fetch index db\n"
          ]
        },
        {
          "output_type": "stream",
          "name": "stdout",
          "text": [
            "Aligning without segments.\n",
            "tasks amount: 1\n",
            "batch: 0 (0)\n",
            "conflicts to solve: 1\n",
            "total conflicts: 2\n"
          ]
        },
        {
          "output_type": "stream",
          "name": "stderr",
          "text": [
            "\n",
            "100%|██████████| 1/1 [00:00<00:00, 18.90it/s]\n"
          ]
        },
        {
          "output_type": "stream",
          "name": "stdout",
          "text": [
            "conflicts to solve: 1\n",
            "total conflicts: 1\n"
          ]
        },
        {
          "output_type": "stream",
          "name": "stderr",
          "text": [
            "\n",
            "  0%|          | 0/1 [00:00<?, ?it/s]\u001b[A\n",
            "100%|██████████| 1/1 [00:00<00:00,  7.04it/s]\n"
          ]
        },
        {
          "output_type": "stream",
          "name": "stdout",
          "text": [
            "conflicts to solve: 0\n",
            "total conflicts: 0\n"
          ]
        },
        {
          "output_type": "stream",
          "name": "stderr",
          "text": [
            "\n",
            "0it [00:00, ?it/s]\n"
          ]
        },
        {
          "output_type": "stream",
          "name": "stdout",
          "text": [
            "N: 10 --> 6\n",
            "R: 10 --> 6\n",
            "Chain score: 1.0000\n",
            "\n",
            " ---------------------------------------------------------------------------------------------------------------------------------------------------------------------------------------------------------------------------------------------------------------------------------------------------------------------------------------------------------------------------------------------------------------------------------------------------------------------------------------------------------------------------------------------------------------------------------------------------------------------------------------------------------------------------------------------------------------------------------------------------------------------------------------------------------------------------------------------------------------------------------------------------------------------------------------------------------------------------------------------------------------------------------------- \n",
            "\n",
            "/content/drive/MyDrive/FilteredNivkhTxt/a288_nd/n.txt /content/drive/MyDrive/FilteredNivkhTxt/a288_nd/r.txt\n",
            "Aligning without segments.\n",
            "tasks amount: 1\n",
            "batch: 0 (0)\n"
          ]
        },
        {
          "output_type": "stream",
          "name": "stderr",
          "text": [
            "WARNING:root:can not fetch index db\n"
          ]
        },
        {
          "output_type": "stream",
          "name": "stdout",
          "text": [
            "conflicts to solve: 2\n",
            "total conflicts: 3\n"
          ]
        },
        {
          "output_type": "stream",
          "name": "stderr",
          "text": [
            "\n",
            "  0%|          | 0/2 [00:00<?, ?it/s]\u001b[A\n",
            "100%|██████████| 2/2 [00:00<00:00, 12.68it/s]\n"
          ]
        },
        {
          "output_type": "stream",
          "name": "stdout",
          "text": [
            "conflicts to solve: 0\n",
            "total conflicts: 1\n"
          ]
        },
        {
          "output_type": "stream",
          "name": "stderr",
          "text": [
            "\n",
            "0it [00:00, ?it/s]\n"
          ]
        },
        {
          "output_type": "stream",
          "name": "stdout",
          "text": [
            "conflicts to solve: 0\n",
            "total conflicts: 0\n"
          ]
        },
        {
          "output_type": "stream",
          "name": "stderr",
          "text": [
            "\n",
            "0it [00:00, ?it/s]\n"
          ]
        },
        {
          "output_type": "stream",
          "name": "stdout",
          "text": [
            "conflicts to solve: 1\n",
            "total conflicts: 1\n"
          ]
        },
        {
          "output_type": "stream",
          "name": "stderr",
          "text": [
            "\n",
            "  0%|          | 0/1 [00:00<?, ?it/s]\u001b[A\n",
            "100%|██████████| 1/1 [00:00<00:00,  3.00it/s]\n"
          ]
        },
        {
          "output_type": "stream",
          "name": "stdout",
          "text": [
            "N: 27 --> 9\n",
            "R: 25 --> 9\n",
            "Chain score: 1.0000\n",
            "\n",
            " ---------------------------------------------------------------------------------------------------------------------------------------------------------------------------------------------------------------------------------------------------------------------------------------------------------------------------------------------------------------------------------------------------------------------------------------------------------------------------------------------------------------------------------------------------------------------------------------------------------------------------------------------------------------------------------------------------------------------------------------------------------------------------------------------------------------------------------------------------------------------------------------------------------------------------------------------------------------------------------------------------------------------------------------- \n",
            "\n",
            "/content/drive/MyDrive/FilteredNivkhTxt/a434_nd/n.txt /content/drive/MyDrive/FilteredNivkhTxt/a434_nd/r.txt\n"
          ]
        },
        {
          "output_type": "stream",
          "name": "stderr",
          "text": [
            "WARNING:root:can not fetch index db\n"
          ]
        },
        {
          "output_type": "stream",
          "name": "stdout",
          "text": [
            "Aligning without segments.\n",
            "tasks amount: 1\n",
            "batch: 0 (0)\n",
            "conflicts to solve: 1\n",
            "total conflicts: 2\n"
          ]
        },
        {
          "output_type": "stream",
          "name": "stderr",
          "text": [
            "\n",
            "100%|██████████| 1/1 [00:00<00:00, 14.99it/s]\n"
          ]
        },
        {
          "output_type": "stream",
          "name": "stdout",
          "text": [
            "conflicts to solve: 1\n",
            "total conflicts: 1\n"
          ]
        },
        {
          "output_type": "stream",
          "name": "stderr",
          "text": [
            "\n",
            "  0%|          | 0/1 [00:00<?, ?it/s]\u001b[A\n",
            "100%|██████████| 1/1 [00:00<00:00,  2.52it/s]\n"
          ]
        },
        {
          "output_type": "stream",
          "name": "stdout",
          "text": [
            "conflicts to solve: 0\n",
            "total conflicts: 0\n"
          ]
        },
        {
          "output_type": "stream",
          "name": "stderr",
          "text": [
            "\n",
            "0it [00:00, ?it/s]\n"
          ]
        },
        {
          "output_type": "stream",
          "name": "stdout",
          "text": [
            "N: 16 --> 1\n",
            "R: 13 --> 1\n",
            "Chain score: 1.0000\n",
            "\n",
            " ---------------------------------------------------------------------------------------------------------------------------------------------------------------------------------------------------------------------------------------------------------------------------------------------------------------------------------------------------------------------------------------------------------------------------------------------------------------------------------------------------------------------------------------------------------------------------------------------------------------------------------------------------------------------------------------------------------------------------------------------------------------------------------------------------------------------------------------------------------------------------------------------------------------------------------------------------------------------------------------------------------------------------------------- \n",
            "\n",
            "/content/drive/MyDrive/FilteredNivkhTxt/a171_bible/n_am.txt /content/drive/MyDrive/FilteredNivkhTxt/a171_bible/r.txt\n",
            "Aligning without segments.\n",
            "tasks amount: 1\n",
            "batch: 0 (0)\n"
          ]
        },
        {
          "output_type": "stream",
          "name": "stderr",
          "text": [
            "WARNING:root:can not fetch index db\n"
          ]
        },
        {
          "output_type": "stream",
          "name": "stdout",
          "text": [
            "conflicts to solve: 5\n",
            "total conflicts: 7\n"
          ]
        },
        {
          "output_type": "stream",
          "name": "stderr",
          "text": [
            "\n",
            "  0%|          | 0/5 [00:00<?, ?it/s]\u001b[A\n",
            " 60%|██████    | 3/5 [00:00<00:00, 18.82it/s]\u001b[A\n",
            "100%|██████████| 5/5 [00:00<00:00, 18.44it/s]\n"
          ]
        },
        {
          "output_type": "stream",
          "name": "stdout",
          "text": [
            "conflicts to solve: 2\n",
            "total conflicts: 2\n"
          ]
        },
        {
          "output_type": "stream",
          "name": "stderr",
          "text": [
            "\n",
            "  0%|          | 0/2 [00:00<?, ?it/s]\u001b[A\n",
            "100%|██████████| 2/2 [00:00<00:00,  8.67it/s]\n"
          ]
        },
        {
          "output_type": "stream",
          "name": "stdout",
          "text": [
            "conflicts to solve: 0\n",
            "total conflicts: 0\n"
          ]
        },
        {
          "output_type": "stream",
          "name": "stderr",
          "text": [
            "\n",
            "0it [00:00, ?it/s]\n"
          ]
        },
        {
          "output_type": "stream",
          "name": "stdout",
          "text": [
            "N: 48 --> 26\n",
            "R: 47 --> 26\n",
            "Chain score: 0.9362\n",
            "\n",
            " ---------------------------------------------------------------------------------------------------------------------------------------------------------------------------------------------------------------------------------------------------------------------------------------------------------------------------------------------------------------------------------------------------------------------------------------------------------------------------------------------------------------------------------------------------------------------------------------------------------------------------------------------------------------------------------------------------------------------------------------------------------------------------------------------------------------------------------------------------------------------------------------------------------------------------------------------------------------------------------------------------------------------------------------- \n",
            "\n",
            "/content/drive/MyDrive/FilteredNivkhTxt/a441_nd/n.txt /content/drive/MyDrive/FilteredNivkhTxt/a441_nd/r.txt\n",
            "Aligning without segments.\n",
            "tasks amount: 1\n",
            "batch: 0 (0)\n"
          ]
        },
        {
          "output_type": "stream",
          "name": "stderr",
          "text": [
            "WARNING:root:can not fetch index db\n"
          ]
        },
        {
          "output_type": "stream",
          "name": "stdout",
          "text": [
            "conflicts to solve: 1\n",
            "total conflicts: 2\n"
          ]
        },
        {
          "output_type": "stream",
          "name": "stderr",
          "text": [
            "\n",
            "100%|██████████| 1/1 [00:00<00:00, 12.31it/s]\n"
          ]
        },
        {
          "output_type": "stream",
          "name": "stdout",
          "text": [
            "conflicts to solve: 1\n",
            "total conflicts: 1\n"
          ]
        },
        {
          "output_type": "stream",
          "name": "stderr",
          "text": [
            "\n",
            "  0%|          | 0/1 [00:00<?, ?it/s]\u001b[A\n",
            "100%|██████████| 1/1 [00:00<00:00,  6.33it/s]\n"
          ]
        },
        {
          "output_type": "stream",
          "name": "stdout",
          "text": [
            "conflicts to solve: 0\n",
            "total conflicts: 0\n"
          ]
        },
        {
          "output_type": "stream",
          "name": "stderr",
          "text": [
            "\n",
            "0it [00:00, ?it/s]\n"
          ]
        },
        {
          "output_type": "stream",
          "name": "stdout",
          "text": [
            "N: 28 --> 6\n",
            "R: 28 --> 6\n",
            "Chain score: 0.6786\n",
            "Skipping saving due to low chain_score: 0.6786\n",
            "\n",
            " ---------------------------------------------------------------------------------------------------------------------------------------------------------------------------------------------------------------------------------------------------------------------------------------------------------------------------------------------------------------------------------------------------------------------------------------------------------------------------------------------------------------------------------------------------------------------------------------------------------------------------------------------------------------------------------------------------------------------------------------------------------------------------------------------------------------------------------------------------------------------------------------------------------------------------------------------------------------------------------------------------------------------------------------- \n",
            "\n",
            "/content/drive/MyDrive/FilteredNivkhTxt/a451_nd/n.txt /content/drive/MyDrive/FilteredNivkhTxt/a451_nd/r.txt\n"
          ]
        },
        {
          "output_type": "stream",
          "name": "stderr",
          "text": [
            "WARNING:root:can not fetch index db\n"
          ]
        },
        {
          "output_type": "stream",
          "name": "stdout",
          "text": [
            "Aligning without segments.\n",
            "tasks amount: 1\n",
            "batch: 0 (0)\n",
            "conflicts to solve: 1\n",
            "total conflicts: 4\n"
          ]
        },
        {
          "output_type": "stream",
          "name": "stderr",
          "text": [
            "\n",
            "100%|██████████| 1/1 [00:00<00:00, 11.38it/s]\n"
          ]
        },
        {
          "output_type": "stream",
          "name": "stdout",
          "text": [
            "conflicts to solve: 1\n",
            "total conflicts: 1\n"
          ]
        },
        {
          "output_type": "stream",
          "name": "stderr",
          "text": [
            "\n",
            "  0%|          | 0/1 [00:00<?, ?it/s]\u001b[A\n",
            "100%|██████████| 1/1 [00:00<00:00,  2.99it/s]\n"
          ]
        },
        {
          "output_type": "stream",
          "name": "stdout",
          "text": [
            "conflicts to solve: 0\n",
            "total conflicts: 2\n"
          ]
        },
        {
          "output_type": "stream",
          "name": "stderr",
          "text": [
            "\n",
            "0it [00:00, ?it/s]\n"
          ]
        },
        {
          "output_type": "stream",
          "name": "stdout",
          "text": [
            "N: 20 --> 3\n",
            "R: 6 --> 3\n",
            "Chain score: 0.7273\n",
            "\n",
            " ---------------------------------------------------------------------------------------------------------------------------------------------------------------------------------------------------------------------------------------------------------------------------------------------------------------------------------------------------------------------------------------------------------------------------------------------------------------------------------------------------------------------------------------------------------------------------------------------------------------------------------------------------------------------------------------------------------------------------------------------------------------------------------------------------------------------------------------------------------------------------------------------------------------------------------------------------------------------------------------------------------------------------------------- \n",
            "\n",
            "/content/drive/MyDrive/FilteredNivkhTxt/59_nd/n.txt /content/drive/MyDrive/FilteredNivkhTxt/59_nd/r.txt\n",
            "Aligning without segments.\n",
            "tasks amount: 1\n",
            "batch: 0 (0)\n"
          ]
        },
        {
          "output_type": "stream",
          "name": "stderr",
          "text": [
            "WARNING:root:can not fetch index db\n"
          ]
        },
        {
          "output_type": "stream",
          "name": "stdout",
          "text": [
            "conflicts to solve: 1\n",
            "total conflicts: 3\n"
          ]
        },
        {
          "output_type": "stream",
          "name": "stderr",
          "text": [
            "\n",
            "100%|██████████| 1/1 [00:00<00:00, 14.82it/s]\n"
          ]
        },
        {
          "output_type": "stream",
          "name": "stdout",
          "text": [
            "conflicts to solve: 2\n",
            "total conflicts: 2\n"
          ]
        },
        {
          "output_type": "stream",
          "name": "stderr",
          "text": [
            "\n",
            "  0%|          | 0/2 [00:00<?, ?it/s]\u001b[A\n",
            " 50%|█████     | 1/2 [00:00<00:00,  6.86it/s]\u001b[A\n",
            "100%|██████████| 2/2 [00:00<00:00,  5.61it/s]\n"
          ]
        },
        {
          "output_type": "stream",
          "name": "stdout",
          "text": [
            "conflicts to solve: 0\n",
            "total conflicts: 0\n"
          ]
        },
        {
          "output_type": "stream",
          "name": "stderr",
          "text": [
            "\n",
            "0it [00:00, ?it/s]\n"
          ]
        },
        {
          "output_type": "stream",
          "name": "stdout",
          "text": [
            "N: 34 --> 8\n",
            "R: 28 --> 8\n",
            "Chain score: 0.6000\n",
            "Skipping saving due to low chain_score: 0.6000\n",
            "\n",
            " ---------------------------------------------------------------------------------------------------------------------------------------------------------------------------------------------------------------------------------------------------------------------------------------------------------------------------------------------------------------------------------------------------------------------------------------------------------------------------------------------------------------------------------------------------------------------------------------------------------------------------------------------------------------------------------------------------------------------------------------------------------------------------------------------------------------------------------------------------------------------------------------------------------------------------------------------------------------------------------------------------------------------------------------- \n",
            "\n",
            "/content/drive/MyDrive/FilteredNivkhTxt/a220_sng/n.txt /content/drive/MyDrive/FilteredNivkhTxt/a220_sng/r.txt\n"
          ]
        },
        {
          "output_type": "stream",
          "name": "stderr",
          "text": [
            "WARNING:root:can not fetch index db\n"
          ]
        },
        {
          "output_type": "stream",
          "name": "stdout",
          "text": [
            "Aligning without segments.\n",
            "tasks amount: 1\n",
            "batch: 0 (0)\n",
            "conflicts to solve: 0\n",
            "total conflicts: 1\n"
          ]
        },
        {
          "output_type": "stream",
          "name": "stderr",
          "text": [
            "\n",
            "0it [00:00, ?it/s]\n"
          ]
        },
        {
          "output_type": "stream",
          "name": "stdout",
          "text": [
            "conflicts to solve: 0\n",
            "total conflicts: 1\n"
          ]
        },
        {
          "output_type": "stream",
          "name": "stderr",
          "text": [
            "\n",
            "0it [00:00, ?it/s]\n"
          ]
        },
        {
          "output_type": "stream",
          "name": "stdout",
          "text": [
            "conflicts to solve: 1\n",
            "total conflicts: 1\n"
          ]
        },
        {
          "output_type": "stream",
          "name": "stderr",
          "text": [
            "\n",
            "  0%|          | 0/1 [00:00<?, ?it/s]\u001b[A\n",
            "100%|██████████| 1/1 [00:00<00:00,  4.94it/s]\n"
          ]
        },
        {
          "output_type": "stream",
          "name": "stdout",
          "text": [
            "conflicts to solve: 0\n",
            "total conflicts: 0\n"
          ]
        },
        {
          "output_type": "stream",
          "name": "stderr",
          "text": [
            "\n",
            "0it [00:00, ?it/s]\n"
          ]
        },
        {
          "output_type": "stream",
          "name": "stdout",
          "text": [
            "N: 12 --> 2\n",
            "R: 13 --> 2\n",
            "Chain score: 1.0000\n",
            "\n",
            " ---------------------------------------------------------------------------------------------------------------------------------------------------------------------------------------------------------------------------------------------------------------------------------------------------------------------------------------------------------------------------------------------------------------------------------------------------------------------------------------------------------------------------------------------------------------------------------------------------------------------------------------------------------------------------------------------------------------------------------------------------------------------------------------------------------------------------------------------------------------------------------------------------------------------------------------------------------------------------------------------------------------------------------------- \n",
            "\n",
            "/content/drive/MyDrive/FilteredNivkhTxt/a109_nd/n.txt /content/drive/MyDrive/FilteredNivkhTxt/a109_nd/r.txt\n"
          ]
        },
        {
          "output_type": "stream",
          "name": "stderr",
          "text": [
            "WARNING:root:can not fetch index db\n"
          ]
        },
        {
          "output_type": "stream",
          "name": "stdout",
          "text": [
            "Aligning without segments.\n",
            "tasks amount: 1\n",
            "batch: 0 (0)\n",
            "conflicts to solve: 0\n",
            "total conflicts: 0\n"
          ]
        },
        {
          "output_type": "stream",
          "name": "stderr",
          "text": [
            "\n",
            "0it [00:00, ?it/s]\n"
          ]
        },
        {
          "output_type": "stream",
          "name": "stdout",
          "text": [
            "conflicts to solve: 0\n",
            "total conflicts: 0\n"
          ]
        },
        {
          "output_type": "stream",
          "name": "stderr",
          "text": [
            "\n",
            "0it [00:00, ?it/s]\n"
          ]
        },
        {
          "output_type": "stream",
          "name": "stdout",
          "text": [
            "N: 16 --> 5\n",
            "R: 18 --> 5\n",
            "Chain score: 0.0667\n",
            "Skipping saving due to low chain_score: 0.0667\n",
            "\n",
            " ---------------------------------------------------------------------------------------------------------------------------------------------------------------------------------------------------------------------------------------------------------------------------------------------------------------------------------------------------------------------------------------------------------------------------------------------------------------------------------------------------------------------------------------------------------------------------------------------------------------------------------------------------------------------------------------------------------------------------------------------------------------------------------------------------------------------------------------------------------------------------------------------------------------------------------------------------------------------------------------------------------------------------------------- \n",
            "\n",
            "/content/drive/MyDrive/FilteredNivkhTxt/a445_nd/n.txt /content/drive/MyDrive/FilteredNivkhTxt/a445_nd/r.txt\n"
          ]
        },
        {
          "output_type": "stream",
          "name": "stderr",
          "text": [
            "WARNING:root:can not fetch index db\n"
          ]
        },
        {
          "output_type": "stream",
          "name": "stdout",
          "text": [
            "Aligning without segments.\n",
            "tasks amount: 1\n",
            "batch: 0 (0)\n",
            "conflicts to solve: 1\n",
            "total conflicts: 2\n"
          ]
        },
        {
          "output_type": "stream",
          "name": "stderr",
          "text": [
            "\n",
            "100%|██████████| 1/1 [00:00<00:00, 11.93it/s]\n"
          ]
        },
        {
          "output_type": "stream",
          "name": "stdout",
          "text": [
            "conflicts to solve: 1\n",
            "total conflicts: 1\n"
          ]
        },
        {
          "output_type": "stream",
          "name": "stderr",
          "text": [
            "\n",
            "  0%|          | 0/1 [00:00<?, ?it/s]\u001b[A\n",
            "100%|██████████| 1/1 [00:00<00:00,  6.75it/s]\n"
          ]
        },
        {
          "output_type": "stream",
          "name": "stdout",
          "text": [
            "conflicts to solve: 0\n",
            "total conflicts: 0\n"
          ]
        },
        {
          "output_type": "stream",
          "name": "stderr",
          "text": [
            "\n",
            "0it [00:00, ?it/s]\n"
          ]
        },
        {
          "output_type": "stream",
          "name": "stdout",
          "text": [
            "N: 26 --> 10\n",
            "R: 23 --> 10\n",
            "Chain score: 0.6000\n",
            "Skipping saving due to low chain_score: 0.6000\n",
            "\n",
            " ---------------------------------------------------------------------------------------------------------------------------------------------------------------------------------------------------------------------------------------------------------------------------------------------------------------------------------------------------------------------------------------------------------------------------------------------------------------------------------------------------------------------------------------------------------------------------------------------------------------------------------------------------------------------------------------------------------------------------------------------------------------------------------------------------------------------------------------------------------------------------------------------------------------------------------------------------------------------------------------------------------------------------------------- \n",
            "\n",
            "/content/drive/MyDrive/FilteredNivkhTxt/a173_bible/n_am.txt /content/drive/MyDrive/FilteredNivkhTxt/a173_bible/r.txt\n",
            "Aligning without segments.\n",
            "tasks amount: 1\n",
            "batch: 0 (0)\n"
          ]
        },
        {
          "output_type": "stream",
          "name": "stderr",
          "text": [
            "WARNING:root:can not fetch index db\n"
          ]
        },
        {
          "output_type": "stream",
          "name": "stdout",
          "text": [
            "conflicts to solve: 1\n",
            "total conflicts: 2\n"
          ]
        },
        {
          "output_type": "stream",
          "name": "stderr",
          "text": [
            "\n",
            "100%|██████████| 1/1 [00:00<00:00, 16.50it/s]\n"
          ]
        },
        {
          "output_type": "stream",
          "name": "stdout",
          "text": [
            "conflicts to solve: 0\n",
            "total conflicts: 0\n"
          ]
        },
        {
          "output_type": "stream",
          "name": "stderr",
          "text": [
            "\n",
            "0it [00:00, ?it/s]\n"
          ]
        },
        {
          "output_type": "stream",
          "name": "stdout",
          "text": [
            "conflicts to solve: 1\n",
            "total conflicts: 1\n"
          ]
        },
        {
          "output_type": "stream",
          "name": "stderr",
          "text": [
            "\n",
            "  0%|          | 0/1 [00:00<?, ?it/s]\u001b[A\n",
            "100%|██████████| 1/1 [00:06<00:00,  6.56s/it]\n"
          ]
        },
        {
          "output_type": "stream",
          "name": "stdout",
          "text": [
            "N: 25 --> 12\n",
            "R: 25 --> 12\n",
            "Chain score: 0.7353\n",
            "\n",
            " ---------------------------------------------------------------------------------------------------------------------------------------------------------------------------------------------------------------------------------------------------------------------------------------------------------------------------------------------------------------------------------------------------------------------------------------------------------------------------------------------------------------------------------------------------------------------------------------------------------------------------------------------------------------------------------------------------------------------------------------------------------------------------------------------------------------------------------------------------------------------------------------------------------------------------------------------------------------------------------------------------------------------------------------- \n",
            "\n",
            "/content/drive/MyDrive/FilteredNivkhTxt/a222_sng/n.txt /content/drive/MyDrive/FilteredNivkhTxt/a222_sng/r.txt\n"
          ]
        },
        {
          "output_type": "stream",
          "name": "stderr",
          "text": [
            "WARNING:root:can not fetch index db\n"
          ]
        },
        {
          "output_type": "stream",
          "name": "stdout",
          "text": [
            "Aligning without segments.\n",
            "tasks amount: 1\n",
            "batch: 0 (0)\n",
            "conflicts to solve: 4\n",
            "total conflicts: 6\n"
          ]
        },
        {
          "output_type": "stream",
          "name": "stderr",
          "text": [
            "\n",
            "  0%|          | 0/4 [00:00<?, ?it/s]\u001b[A\n",
            " 50%|█████     | 2/4 [00:00<00:00, 15.15it/s]\u001b[A\n",
            "100%|██████████| 4/4 [00:00<00:00, 16.62it/s]\n"
          ]
        },
        {
          "output_type": "stream",
          "name": "stdout",
          "text": [
            "conflicts to solve: 0\n",
            "total conflicts: 2\n"
          ]
        },
        {
          "output_type": "stream",
          "name": "stderr",
          "text": [
            "\n",
            "0it [00:00, ?it/s]\n"
          ]
        },
        {
          "output_type": "stream",
          "name": "stdout",
          "text": [
            "conflicts to solve: 0\n",
            "total conflicts: 1\n"
          ]
        },
        {
          "output_type": "stream",
          "name": "stderr",
          "text": [
            "\n",
            "0it [00:00, ?it/s]\n"
          ]
        },
        {
          "output_type": "stream",
          "name": "stdout",
          "text": [
            "conflicts to solve: 0\n",
            "total conflicts: 2\n"
          ]
        },
        {
          "output_type": "stream",
          "name": "stderr",
          "text": [
            "\n",
            "0it [00:00, ?it/s]\n"
          ]
        },
        {
          "output_type": "stream",
          "name": "stdout",
          "text": [
            "N: 20 --> 10\n",
            "R: 18 --> 10\n",
            "Chain score: 0.9000\n",
            "\n",
            " ---------------------------------------------------------------------------------------------------------------------------------------------------------------------------------------------------------------------------------------------------------------------------------------------------------------------------------------------------------------------------------------------------------------------------------------------------------------------------------------------------------------------------------------------------------------------------------------------------------------------------------------------------------------------------------------------------------------------------------------------------------------------------------------------------------------------------------------------------------------------------------------------------------------------------------------------------------------------------------------------------------------------------------------- \n",
            "\n",
            "/content/drive/MyDrive/FilteredNivkhTxt/a414_nd/n.txt /content/drive/MyDrive/FilteredNivkhTxt/a414_nd/r.txt\n",
            "Aligning without segments.\n",
            "tasks amount: 1\n",
            "batch: 0 (0)\n"
          ]
        },
        {
          "output_type": "stream",
          "name": "stderr",
          "text": [
            "WARNING:root:can not fetch index db\n"
          ]
        },
        {
          "output_type": "stream",
          "name": "stdout",
          "text": [
            "conflicts to solve: 0\n",
            "total conflicts: 0\n"
          ]
        },
        {
          "output_type": "stream",
          "name": "stderr",
          "text": [
            "\n",
            "0it [00:00, ?it/s]\n"
          ]
        },
        {
          "output_type": "stream",
          "name": "stdout",
          "text": [
            "conflicts to solve: 0\n",
            "total conflicts: 0\n"
          ]
        },
        {
          "output_type": "stream",
          "name": "stderr",
          "text": [
            "\n",
            "0it [00:00, ?it/s]\n"
          ]
        },
        {
          "output_type": "stream",
          "name": "stdout",
          "text": [
            "N: 21 --> 4\n",
            "R: 25 --> 4\n",
            "Chain score: 0.0500\n",
            "Skipping saving due to low chain_score: 0.0500\n",
            "\n",
            " ---------------------------------------------------------------------------------------------------------------------------------------------------------------------------------------------------------------------------------------------------------------------------------------------------------------------------------------------------------------------------------------------------------------------------------------------------------------------------------------------------------------------------------------------------------------------------------------------------------------------------------------------------------------------------------------------------------------------------------------------------------------------------------------------------------------------------------------------------------------------------------------------------------------------------------------------------------------------------------------------------------------------------------------- \n",
            "\n",
            "/content/drive/MyDrive/FilteredNivkhTxt/a389_nd/n.txt /content/drive/MyDrive/FilteredNivkhTxt/a389_nd/r.txt\n",
            "Aligning without segments.\n",
            "tasks amount: 1\n",
            "batch: 0 (0)\n"
          ]
        },
        {
          "output_type": "stream",
          "name": "stderr",
          "text": [
            "WARNING:root:can not fetch index db\n"
          ]
        },
        {
          "output_type": "stream",
          "name": "stdout",
          "text": [
            "conflicts to solve: 8\n",
            "total conflicts: 14\n"
          ]
        },
        {
          "output_type": "stream",
          "name": "stderr",
          "text": [
            "\n",
            "  0%|          | 0/8 [00:00<?, ?it/s]\u001b[A\n",
            " 25%|██▌       | 2/8 [00:00<00:00, 15.64it/s]\u001b[A\n",
            " 50%|█████     | 4/8 [00:00<00:00, 13.03it/s]\u001b[A\n",
            " 75%|███████▌  | 6/8 [00:00<00:00, 15.34it/s]\u001b[A\n",
            "100%|██████████| 8/8 [00:00<00:00, 14.81it/s]\n"
          ]
        },
        {
          "output_type": "stream",
          "name": "stdout",
          "text": [
            "conflicts to solve: 2\n",
            "total conflicts: 3\n"
          ]
        },
        {
          "output_type": "stream",
          "name": "stderr",
          "text": [
            "\n",
            "  0%|          | 0/2 [00:00<?, ?it/s]\u001b[A\n",
            "100%|██████████| 2/2 [00:00<00:00,  7.85it/s]\n"
          ]
        },
        {
          "output_type": "stream",
          "name": "stdout",
          "text": [
            "conflicts to solve: 1\n",
            "total conflicts: 1\n"
          ]
        },
        {
          "output_type": "stream",
          "name": "stderr",
          "text": [
            "\n",
            "  0%|          | 0/1 [00:00<?, ?it/s]\u001b[A\n",
            "100%|██████████| 1/1 [00:03<00:00,  3.18s/it]\n"
          ]
        },
        {
          "output_type": "stream",
          "name": "stdout",
          "text": [
            "conflicts to solve: 1\n",
            "total conflicts: 1\n"
          ]
        },
        {
          "output_type": "stream",
          "name": "stderr",
          "text": [
            "\n",
            "  0%|          | 0/1 [00:00<?, ?it/s]\u001b[A\n",
            "100%|██████████| 1/1 [00:00<00:00,  4.92it/s]\n"
          ]
        },
        {
          "output_type": "stream",
          "name": "stdout",
          "text": [
            "N: 81 --> 23\n",
            "R: 63 --> 23\n",
            "Chain score: 0.9683\n",
            "\n",
            " ---------------------------------------------------------------------------------------------------------------------------------------------------------------------------------------------------------------------------------------------------------------------------------------------------------------------------------------------------------------------------------------------------------------------------------------------------------------------------------------------------------------------------------------------------------------------------------------------------------------------------------------------------------------------------------------------------------------------------------------------------------------------------------------------------------------------------------------------------------------------------------------------------------------------------------------------------------------------------------------------------------------------------------------- \n",
            "\n",
            "/content/drive/MyDrive/FilteredNivkhTxt/69_nd/n.txt /content/drive/MyDrive/FilteredNivkhTxt/69_nd/r.txt\n"
          ]
        },
        {
          "output_type": "stream",
          "name": "stderr",
          "text": [
            "WARNING:root:can not fetch index db\n"
          ]
        },
        {
          "output_type": "stream",
          "name": "stdout",
          "text": [
            "Aligning without segments.\n",
            "tasks amount: 1\n",
            "batch: 0 (0)\n",
            "conflicts to solve: 2\n",
            "total conflicts: 4\n"
          ]
        },
        {
          "output_type": "stream",
          "name": "stderr",
          "text": [
            "\n",
            "  0%|          | 0/2 [00:00<?, ?it/s]\u001b[A\n",
            "100%|██████████| 2/2 [00:00<00:00, 14.15it/s]\n"
          ]
        },
        {
          "output_type": "stream",
          "name": "stdout",
          "text": [
            "conflicts to solve: 2\n",
            "total conflicts: 2\n"
          ]
        },
        {
          "output_type": "stream",
          "name": "stderr",
          "text": [
            "\n",
            "  0%|          | 0/2 [00:00<?, ?it/s]\u001b[A\n",
            " 50%|█████     | 1/2 [00:00<00:00,  2.35it/s]\u001b[A\n",
            "100%|██████████| 2/2 [00:00<00:00,  2.90it/s]\n"
          ]
        },
        {
          "output_type": "stream",
          "name": "stdout",
          "text": [
            "conflicts to solve: 0\n",
            "total conflicts: 0\n"
          ]
        },
        {
          "output_type": "stream",
          "name": "stderr",
          "text": [
            "\n",
            "0it [00:00, ?it/s]\n"
          ]
        },
        {
          "output_type": "stream",
          "name": "stdout",
          "text": [
            "N: 25 --> 8\n",
            "R: 24 --> 8\n",
            "Chain score: 1.0000\n",
            "\n",
            " ---------------------------------------------------------------------------------------------------------------------------------------------------------------------------------------------------------------------------------------------------------------------------------------------------------------------------------------------------------------------------------------------------------------------------------------------------------------------------------------------------------------------------------------------------------------------------------------------------------------------------------------------------------------------------------------------------------------------------------------------------------------------------------------------------------------------------------------------------------------------------------------------------------------------------------------------------------------------------------------------------------------------------------------- \n",
            "\n",
            "/content/drive/MyDrive/FilteredNivkhTxt/a420_nd/n.txt /content/drive/MyDrive/FilteredNivkhTxt/a420_nd/r.txt\n",
            "Aligning without segments.\n",
            "tasks amount: 1\n",
            "batch: 0 (0)\n"
          ]
        },
        {
          "output_type": "stream",
          "name": "stderr",
          "text": [
            "WARNING:root:can not fetch index db\n"
          ]
        },
        {
          "output_type": "stream",
          "name": "stdout",
          "text": [
            "conflicts to solve: 0\n",
            "total conflicts: 3\n"
          ]
        },
        {
          "output_type": "stream",
          "name": "stderr",
          "text": [
            "\n",
            "0it [00:00, ?it/s]\n"
          ]
        },
        {
          "output_type": "stream",
          "name": "stdout",
          "text": [
            "conflicts to solve: 0\n",
            "total conflicts: 0\n"
          ]
        },
        {
          "output_type": "stream",
          "name": "stderr",
          "text": [
            "\n",
            "0it [00:00, ?it/s]\n"
          ]
        },
        {
          "output_type": "stream",
          "name": "stdout",
          "text": [
            "conflicts to solve: 2\n",
            "total conflicts: 3\n"
          ]
        },
        {
          "output_type": "stream",
          "name": "stderr",
          "text": [
            "\n",
            "  0%|          | 0/2 [00:00<?, ?it/s]\u001b[A\n",
            " 50%|█████     | 1/2 [00:00<00:00,  2.78it/s]\u001b[A\n",
            "100%|██████████| 2/2 [00:00<00:00,  2.06it/s]\n"
          ]
        },
        {
          "output_type": "stream",
          "name": "stdout",
          "text": [
            "N: 16 --> 9\n",
            "R: 19 --> 9\n",
            "Chain score: 0.9167\n",
            "\n",
            " ---------------------------------------------------------------------------------------------------------------------------------------------------------------------------------------------------------------------------------------------------------------------------------------------------------------------------------------------------------------------------------------------------------------------------------------------------------------------------------------------------------------------------------------------------------------------------------------------------------------------------------------------------------------------------------------------------------------------------------------------------------------------------------------------------------------------------------------------------------------------------------------------------------------------------------------------------------------------------------------------------------------------------------------- \n",
            "\n",
            "/content/drive/MyDrive/FilteredNivkhTxt/a298_nd/n.txt /content/drive/MyDrive/FilteredNivkhTxt/a298_nd/r.txt\n",
            "Aligning without segments.\n",
            "tasks amount: 1\n",
            "batch: 0 (0)\n"
          ]
        },
        {
          "output_type": "stream",
          "name": "stderr",
          "text": [
            "WARNING:root:can not fetch index db\n"
          ]
        },
        {
          "output_type": "stream",
          "name": "stdout",
          "text": [
            "conflicts to solve: 3\n",
            "total conflicts: 5\n"
          ]
        },
        {
          "output_type": "stream",
          "name": "stderr",
          "text": [
            "\n",
            "  0%|          | 0/3 [00:00<?, ?it/s]\u001b[A\n",
            "100%|██████████| 3/3 [00:00<00:00, 12.42it/s]\n"
          ]
        },
        {
          "output_type": "stream",
          "name": "stdout",
          "text": [
            "conflicts to solve: 2\n",
            "total conflicts: 2\n"
          ]
        },
        {
          "output_type": "stream",
          "name": "stderr",
          "text": [
            "\n",
            "  0%|          | 0/2 [00:00<?, ?it/s]\u001b[A\n",
            " 50%|█████     | 1/2 [00:00<00:00,  6.32it/s]\u001b[A\n",
            "100%|██████████| 2/2 [00:00<00:00,  6.89it/s]\n"
          ]
        },
        {
          "output_type": "stream",
          "name": "stdout",
          "text": [
            "conflicts to solve: 0\n",
            "total conflicts: 0\n"
          ]
        },
        {
          "output_type": "stream",
          "name": "stderr",
          "text": [
            "\n",
            "0it [00:00, ?it/s]\n"
          ]
        },
        {
          "output_type": "stream",
          "name": "stdout",
          "text": [
            "N: 30 --> 8\n",
            "R: 29 --> 8\n",
            "Chain score: 1.0000\n",
            "\n",
            " ---------------------------------------------------------------------------------------------------------------------------------------------------------------------------------------------------------------------------------------------------------------------------------------------------------------------------------------------------------------------------------------------------------------------------------------------------------------------------------------------------------------------------------------------------------------------------------------------------------------------------------------------------------------------------------------------------------------------------------------------------------------------------------------------------------------------------------------------------------------------------------------------------------------------------------------------------------------------------------------------------------------------------------------- \n",
            "\n",
            "/content/drive/MyDrive/FilteredNivkhTxt/a431_nd/n.txt /content/drive/MyDrive/FilteredNivkhTxt/a431_nd/r.txt\n"
          ]
        },
        {
          "output_type": "stream",
          "name": "stderr",
          "text": [
            "WARNING:root:can not fetch index db\n"
          ]
        },
        {
          "output_type": "stream",
          "name": "stdout",
          "text": [
            "Aligning without segments.\n",
            "tasks amount: 1\n",
            "batch: 0 (0)\n",
            "conflicts to solve: 4\n",
            "total conflicts: 4\n"
          ]
        },
        {
          "output_type": "stream",
          "name": "stderr",
          "text": [
            "\n",
            "  0%|          | 0/4 [00:00<?, ?it/s]\u001b[A\n",
            "100%|██████████| 4/4 [00:00<00:00, 18.39it/s]\n"
          ]
        },
        {
          "output_type": "stream",
          "name": "stdout",
          "text": [
            "conflicts to solve: 0\n",
            "total conflicts: 0\n"
          ]
        },
        {
          "output_type": "stream",
          "name": "stderr",
          "text": [
            "\n",
            "0it [00:00, ?it/s]\n"
          ]
        },
        {
          "output_type": "stream",
          "name": "stdout",
          "text": [
            "N: 18 --> 10\n",
            "R: 19 --> 10\n",
            "Chain score: 1.0000\n",
            "\n",
            " ---------------------------------------------------------------------------------------------------------------------------------------------------------------------------------------------------------------------------------------------------------------------------------------------------------------------------------------------------------------------------------------------------------------------------------------------------------------------------------------------------------------------------------------------------------------------------------------------------------------------------------------------------------------------------------------------------------------------------------------------------------------------------------------------------------------------------------------------------------------------------------------------------------------------------------------------------------------------------------------------------------------------------------------- \n",
            "\n",
            "/content/drive/MyDrive/FilteredNivkhTxt/a444_nd/n.txt /content/drive/MyDrive/FilteredNivkhTxt/a444_nd/r.txt\n"
          ]
        },
        {
          "output_type": "stream",
          "name": "stderr",
          "text": [
            "WARNING:root:can not fetch index db\n"
          ]
        },
        {
          "output_type": "stream",
          "name": "stdout",
          "text": [
            "Aligning without segments.\n",
            "tasks amount: 1\n",
            "batch: 0 (0)\n",
            "conflicts to solve: 0\n",
            "total conflicts: 1\n"
          ]
        },
        {
          "output_type": "stream",
          "name": "stderr",
          "text": [
            "\n",
            "0it [00:00, ?it/s]\n"
          ]
        },
        {
          "output_type": "stream",
          "name": "stdout",
          "text": [
            "conflicts to solve: 1\n",
            "total conflicts: 1\n"
          ]
        },
        {
          "output_type": "stream",
          "name": "stderr",
          "text": [
            "\n",
            "100%|██████████| 1/1 [00:00<00:00, 11.97it/s]\n"
          ]
        },
        {
          "output_type": "stream",
          "name": "stdout",
          "text": [
            "conflicts to solve: 0\n",
            "total conflicts: 0\n"
          ]
        },
        {
          "output_type": "stream",
          "name": "stderr",
          "text": [
            "\n",
            "0it [00:00, ?it/s]\n"
          ]
        },
        {
          "output_type": "stream",
          "name": "stdout",
          "text": [
            "N: 9 --> 4\n",
            "R: 9 --> 4\n",
            "Chain score: 1.0000\n",
            "\n",
            " ---------------------------------------------------------------------------------------------------------------------------------------------------------------------------------------------------------------------------------------------------------------------------------------------------------------------------------------------------------------------------------------------------------------------------------------------------------------------------------------------------------------------------------------------------------------------------------------------------------------------------------------------------------------------------------------------------------------------------------------------------------------------------------------------------------------------------------------------------------------------------------------------------------------------------------------------------------------------------------------------------------------------------------------- \n",
            "\n",
            "/content/drive/MyDrive/FilteredNivkhTxt/a455_nd/n.txt /content/drive/MyDrive/FilteredNivkhTxt/a455_nd/r.txt\n",
            "Aligning without segments.\n",
            "tasks amount: 1\n",
            "batch: 0 (0)\n"
          ]
        },
        {
          "output_type": "stream",
          "name": "stderr",
          "text": [
            "WARNING:root:can not fetch index db\n"
          ]
        },
        {
          "output_type": "stream",
          "name": "stdout",
          "text": [
            "conflicts to solve: 4\n",
            "total conflicts: 5\n"
          ]
        },
        {
          "output_type": "stream",
          "name": "stderr",
          "text": [
            "\n",
            "  0%|          | 0/4 [00:00<?, ?it/s]\u001b[A\n",
            " 50%|█████     | 2/4 [00:00<00:00, 12.64it/s]\u001b[A\n",
            "100%|██████████| 4/4 [00:00<00:00, 12.42it/s]\n"
          ]
        },
        {
          "output_type": "stream",
          "name": "stdout",
          "text": [
            "conflicts to solve: 1\n",
            "total conflicts: 1\n"
          ]
        },
        {
          "output_type": "stream",
          "name": "stderr",
          "text": [
            "\n",
            "100%|██████████| 1/1 [00:00<00:00, 13.70it/s]\n"
          ]
        },
        {
          "output_type": "stream",
          "name": "stdout",
          "text": [
            "conflicts to solve: 0\n",
            "total conflicts: 0\n"
          ]
        },
        {
          "output_type": "stream",
          "name": "stderr",
          "text": [
            "\n",
            "0it [00:00, ?it/s]\n"
          ]
        },
        {
          "output_type": "stream",
          "name": "stdout",
          "text": [
            "N: 28 --> 12\n",
            "R: 25 --> 12\n",
            "Chain score: 1.0000\n",
            "\n",
            " ---------------------------------------------------------------------------------------------------------------------------------------------------------------------------------------------------------------------------------------------------------------------------------------------------------------------------------------------------------------------------------------------------------------------------------------------------------------------------------------------------------------------------------------------------------------------------------------------------------------------------------------------------------------------------------------------------------------------------------------------------------------------------------------------------------------------------------------------------------------------------------------------------------------------------------------------------------------------------------------------------------------------------------------- \n",
            "\n",
            "/content/drive/MyDrive/FilteredNivkhTxt/a404_nd/n.txt /content/drive/MyDrive/FilteredNivkhTxt/a404_nd/r.txt\n"
          ]
        },
        {
          "output_type": "stream",
          "name": "stderr",
          "text": [
            "WARNING:root:can not fetch index db\n"
          ]
        },
        {
          "output_type": "stream",
          "name": "stdout",
          "text": [
            "Aligning without segments.\n",
            "tasks amount: 1\n",
            "batch: 0 (0)\n",
            "conflicts to solve: 0\n",
            "total conflicts: 0\n"
          ]
        },
        {
          "output_type": "stream",
          "name": "stderr",
          "text": [
            "\n",
            "0it [00:00, ?it/s]\n"
          ]
        },
        {
          "output_type": "stream",
          "name": "stdout",
          "text": [
            "conflicts to solve: 0\n",
            "total conflicts: 0\n"
          ]
        },
        {
          "output_type": "stream",
          "name": "stderr",
          "text": [
            "\n",
            "0it [00:00, ?it/s]\n"
          ]
        },
        {
          "output_type": "stream",
          "name": "stdout",
          "text": [
            "N: 8 --> 2\n",
            "R: 7 --> 2\n",
            "Chain score: 0.1429\n",
            "Skipping saving due to low chain_score: 0.1429\n",
            "\n",
            " ---------------------------------------------------------------------------------------------------------------------------------------------------------------------------------------------------------------------------------------------------------------------------------------------------------------------------------------------------------------------------------------------------------------------------------------------------------------------------------------------------------------------------------------------------------------------------------------------------------------------------------------------------------------------------------------------------------------------------------------------------------------------------------------------------------------------------------------------------------------------------------------------------------------------------------------------------------------------------------------------------------------------------------------- \n",
            "\n",
            "/content/drive/MyDrive/FilteredNivkhTxt/a430_nd/n.txt /content/drive/MyDrive/FilteredNivkhTxt/a430_nd/r.txt\n",
            "Aligning without segments.\n",
            "tasks amount: 1\n",
            "batch: 0 (0)\n"
          ]
        },
        {
          "output_type": "stream",
          "name": "stderr",
          "text": [
            "WARNING:root:can not fetch index db\n"
          ]
        },
        {
          "output_type": "stream",
          "name": "stdout",
          "text": [
            "conflicts to solve: 3\n",
            "total conflicts: 4\n"
          ]
        },
        {
          "output_type": "stream",
          "name": "stderr",
          "text": [
            "\n",
            "  0%|          | 0/3 [00:00<?, ?it/s]\u001b[A\n",
            "100%|██████████| 3/3 [00:00<00:00, 13.14it/s]\n"
          ]
        },
        {
          "output_type": "stream",
          "name": "stdout",
          "text": [
            "conflicts to solve: 1\n",
            "total conflicts: 1\n"
          ]
        },
        {
          "output_type": "stream",
          "name": "stderr",
          "text": [
            "\n",
            "  0%|          | 0/1 [00:00<?, ?it/s]\u001b[A\n",
            "100%|██████████| 1/1 [00:00<00:00,  1.97it/s]\n"
          ]
        },
        {
          "output_type": "stream",
          "name": "stdout",
          "text": [
            "conflicts to solve: 0\n",
            "total conflicts: 0\n"
          ]
        },
        {
          "output_type": "stream",
          "name": "stderr",
          "text": [
            "\n",
            "0it [00:00, ?it/s]\n"
          ]
        },
        {
          "output_type": "stream",
          "name": "stdout",
          "text": [
            "N: 28 --> 8\n",
            "R: 19 --> 8\n",
            "Chain score: 1.0000\n",
            "\n",
            " ---------------------------------------------------------------------------------------------------------------------------------------------------------------------------------------------------------------------------------------------------------------------------------------------------------------------------------------------------------------------------------------------------------------------------------------------------------------------------------------------------------------------------------------------------------------------------------------------------------------------------------------------------------------------------------------------------------------------------------------------------------------------------------------------------------------------------------------------------------------------------------------------------------------------------------------------------------------------------------------------------------------------------------------- \n",
            "\n",
            "/content/drive/MyDrive/FilteredNivkhTxt/47_shklg/n.txt /content/drive/MyDrive/FilteredNivkhTxt/47_shklg/r.txt\n"
          ]
        },
        {
          "output_type": "stream",
          "name": "stderr",
          "text": [
            "WARNING:root:can not fetch index db\n"
          ]
        },
        {
          "output_type": "stream",
          "name": "stdout",
          "text": [
            "Aligning without segments.\n",
            "tasks amount: 1\n",
            "batch: 0 (0)\n",
            "conflicts to solve: 0\n",
            "total conflicts: 1\n"
          ]
        },
        {
          "output_type": "stream",
          "name": "stderr",
          "text": [
            "\n",
            "0it [00:00, ?it/s]\n"
          ]
        },
        {
          "output_type": "stream",
          "name": "stdout",
          "text": [
            "conflicts to solve: 0\n",
            "total conflicts: 1\n"
          ]
        },
        {
          "output_type": "stream",
          "name": "stderr",
          "text": [
            "\n",
            "0it [00:00, ?it/s]\n"
          ]
        },
        {
          "output_type": "stream",
          "name": "stdout",
          "text": [
            "conflicts to solve: 0\n",
            "total conflicts: 1\n"
          ]
        },
        {
          "output_type": "stream",
          "name": "stderr",
          "text": [
            "\n",
            "0it [00:00, ?it/s]\n"
          ]
        },
        {
          "output_type": "stream",
          "name": "stdout",
          "text": [
            "conflicts to solve: 1\n",
            "total conflicts: 1\n"
          ]
        },
        {
          "output_type": "stream",
          "name": "stderr",
          "text": [
            "\n",
            "  0%|          | 0/1 [00:00<?, ?it/s]\u001b[A\n",
            "100%|██████████| 1/1 [00:02<00:00,  2.12s/it]\n"
          ]
        },
        {
          "output_type": "stream",
          "name": "stdout",
          "text": [
            "N: 16 --> 9\n",
            "R: 20 --> 9\n",
            "Chain score: 1.0000\n",
            "\n",
            " ---------------------------------------------------------------------------------------------------------------------------------------------------------------------------------------------------------------------------------------------------------------------------------------------------------------------------------------------------------------------------------------------------------------------------------------------------------------------------------------------------------------------------------------------------------------------------------------------------------------------------------------------------------------------------------------------------------------------------------------------------------------------------------------------------------------------------------------------------------------------------------------------------------------------------------------------------------------------------------------------------------------------------------------- \n",
            "\n",
            "/content/drive/MyDrive/FilteredNivkhTxt/a421_nd/n.txt /content/drive/MyDrive/FilteredNivkhTxt/a421_nd/r.txt\n"
          ]
        },
        {
          "output_type": "stream",
          "name": "stderr",
          "text": [
            "WARNING:root:can not fetch index db\n"
          ]
        },
        {
          "output_type": "stream",
          "name": "stdout",
          "text": [
            "Aligning without segments.\n",
            "tasks amount: 1\n",
            "batch: 0 (0)\n",
            "conflicts to solve: 2\n",
            "total conflicts: 3\n"
          ]
        },
        {
          "output_type": "stream",
          "name": "stderr",
          "text": [
            "\n",
            "  0%|          | 0/2 [00:00<?, ?it/s]\u001b[A\n",
            "100%|██████████| 2/2 [00:00<00:00, 18.64it/s]\n"
          ]
        },
        {
          "output_type": "stream",
          "name": "stdout",
          "text": [
            "conflicts to solve: 1\n",
            "total conflicts: 1\n"
          ]
        },
        {
          "output_type": "stream",
          "name": "stderr",
          "text": [
            "\n",
            "  0%|          | 0/1 [00:00<?, ?it/s]\u001b[A\n",
            "100%|██████████| 1/1 [00:00<00:00,  8.84it/s]\n"
          ]
        },
        {
          "output_type": "stream",
          "name": "stdout",
          "text": [
            "conflicts to solve: 0\n",
            "total conflicts: 0\n"
          ]
        },
        {
          "output_type": "stream",
          "name": "stderr",
          "text": [
            "\n",
            "0it [00:00, ?it/s]\n"
          ]
        },
        {
          "output_type": "stream",
          "name": "stdout",
          "text": [
            "N: 16 --> 6\n",
            "R: 17 --> 6\n",
            "Chain score: 1.0000\n",
            "\n",
            " ---------------------------------------------------------------------------------------------------------------------------------------------------------------------------------------------------------------------------------------------------------------------------------------------------------------------------------------------------------------------------------------------------------------------------------------------------------------------------------------------------------------------------------------------------------------------------------------------------------------------------------------------------------------------------------------------------------------------------------------------------------------------------------------------------------------------------------------------------------------------------------------------------------------------------------------------------------------------------------------------------------------------------------------- \n",
            "\n",
            "/content/drive/MyDrive/FilteredNivkhTxt/a415_nd/n.txt /content/drive/MyDrive/FilteredNivkhTxt/a415_nd/r.txt\n"
          ]
        },
        {
          "output_type": "stream",
          "name": "stderr",
          "text": [
            "WARNING:root:can not fetch index db\n"
          ]
        },
        {
          "output_type": "stream",
          "name": "stdout",
          "text": [
            "Aligning without segments.\n",
            "tasks amount: 1\n",
            "batch: 0 (0)\n",
            "conflicts to solve: 2\n",
            "total conflicts: 2\n"
          ]
        },
        {
          "output_type": "stream",
          "name": "stderr",
          "text": [
            "\n",
            "  0%|          | 0/2 [00:00<?, ?it/s]\u001b[A\n",
            "100%|██████████| 2/2 [00:00<00:00, 10.48it/s]\n"
          ]
        },
        {
          "output_type": "stream",
          "name": "stdout",
          "text": [
            "conflicts to solve: 0\n",
            "total conflicts: 0\n"
          ]
        },
        {
          "output_type": "stream",
          "name": "stderr",
          "text": [
            "\n",
            "0it [00:00, ?it/s]\n"
          ]
        },
        {
          "output_type": "stream",
          "name": "stdout",
          "text": [
            "N: 10 --> 3\n",
            "R: 10 --> 3\n",
            "Chain score: 1.0000\n",
            "\n",
            " ---------------------------------------------------------------------------------------------------------------------------------------------------------------------------------------------------------------------------------------------------------------------------------------------------------------------------------------------------------------------------------------------------------------------------------------------------------------------------------------------------------------------------------------------------------------------------------------------------------------------------------------------------------------------------------------------------------------------------------------------------------------------------------------------------------------------------------------------------------------------------------------------------------------------------------------------------------------------------------------------------------------------------------------- \n",
            "\n",
            "/content/drive/MyDrive/FilteredNivkhTxt/a461_nd/n.txt /content/drive/MyDrive/FilteredNivkhTxt/a461_nd/r.txt\n",
            "Aligning without segments.\n",
            "tasks amount: 1\n",
            "batch: 0 (0)\n"
          ]
        },
        {
          "output_type": "stream",
          "name": "stderr",
          "text": [
            "WARNING:root:can not fetch index db\n"
          ]
        },
        {
          "output_type": "stream",
          "name": "stdout",
          "text": [
            "conflicts to solve: 0\n",
            "total conflicts: 1\n"
          ]
        },
        {
          "output_type": "stream",
          "name": "stderr",
          "text": [
            "\n",
            "0it [00:00, ?it/s]\n"
          ]
        },
        {
          "output_type": "stream",
          "name": "stdout",
          "text": [
            "conflicts to solve: 0\n",
            "total conflicts: 1\n"
          ]
        },
        {
          "output_type": "stream",
          "name": "stderr",
          "text": [
            "\n",
            "0it [00:00, ?it/s]\n"
          ]
        },
        {
          "output_type": "stream",
          "name": "stdout",
          "text": [
            "conflicts to solve: 0\n",
            "total conflicts: 0\n"
          ]
        },
        {
          "output_type": "stream",
          "name": "stderr",
          "text": [
            "\n",
            "0it [00:00, ?it/s]\n"
          ]
        },
        {
          "output_type": "stream",
          "name": "stdout",
          "text": [
            "conflicts to solve: 1\n",
            "total conflicts: 1\n"
          ]
        },
        {
          "output_type": "stream",
          "name": "stderr",
          "text": [
            "\n",
            "  0%|          | 0/1 [00:00<?, ?it/s]\u001b[A\n",
            "100%|██████████| 1/1 [00:18<00:00, 18.46s/it]\n"
          ]
        },
        {
          "output_type": "stream",
          "name": "stdout",
          "text": [
            "N: 24 --> 18\n",
            "R: 26 --> 18\n",
            "Chain score: 1.0000\n",
            "\n",
            " ---------------------------------------------------------------------------------------------------------------------------------------------------------------------------------------------------------------------------------------------------------------------------------------------------------------------------------------------------------------------------------------------------------------------------------------------------------------------------------------------------------------------------------------------------------------------------------------------------------------------------------------------------------------------------------------------------------------------------------------------------------------------------------------------------------------------------------------------------------------------------------------------------------------------------------------------------------------------------------------------------------------------------------------- \n",
            "\n",
            "/content/drive/MyDrive/FilteredNivkhTxt/a460_nd/n.txt /content/drive/MyDrive/FilteredNivkhTxt/a460_nd/r.txt\n"
          ]
        },
        {
          "output_type": "stream",
          "name": "stderr",
          "text": [
            "WARNING:root:can not fetch index db\n"
          ]
        },
        {
          "output_type": "stream",
          "name": "stdout",
          "text": [
            "Aligning without segments.\n",
            "tasks amount: 1\n",
            "batch: 0 (0)\n",
            "conflicts to solve: 0\n",
            "total conflicts: 2\n"
          ]
        },
        {
          "output_type": "stream",
          "name": "stderr",
          "text": [
            "\n",
            "0it [00:00, ?it/s]\n"
          ]
        },
        {
          "output_type": "stream",
          "name": "stdout",
          "text": [
            "conflicts to solve: 0\n",
            "total conflicts: 1\n"
          ]
        },
        {
          "output_type": "stream",
          "name": "stderr",
          "text": [
            "\n",
            "0it [00:00, ?it/s]\n"
          ]
        },
        {
          "output_type": "stream",
          "name": "stdout",
          "text": [
            "conflicts to solve: 0\n",
            "total conflicts: 1\n"
          ]
        },
        {
          "output_type": "stream",
          "name": "stderr",
          "text": [
            "\n",
            "0it [00:00, ?it/s]\n"
          ]
        },
        {
          "output_type": "stream",
          "name": "stdout",
          "text": [
            "conflicts to solve: 2\n",
            "total conflicts: 2\n"
          ]
        },
        {
          "output_type": "stream",
          "name": "stderr",
          "text": [
            "\n",
            "  0%|          | 0/2 [00:00<?, ?it/s]\u001b[A\n",
            " 50%|█████     | 1/2 [00:00<00:00,  6.04it/s]\u001b[A\n",
            "100%|██████████| 2/2 [00:01<00:00,  1.78it/s]\n"
          ]
        },
        {
          "output_type": "stream",
          "name": "stdout",
          "text": [
            "N: 21 --> 10\n",
            "R: 24 --> 10\n",
            "Chain score: 1.0000\n",
            "\n",
            " ---------------------------------------------------------------------------------------------------------------------------------------------------------------------------------------------------------------------------------------------------------------------------------------------------------------------------------------------------------------------------------------------------------------------------------------------------------------------------------------------------------------------------------------------------------------------------------------------------------------------------------------------------------------------------------------------------------------------------------------------------------------------------------------------------------------------------------------------------------------------------------------------------------------------------------------------------------------------------------------------------------------------------------------- \n",
            "\n",
            "/content/drive/MyDrive/FilteredNivkhTxt/a175_bible/n_am.txt /content/drive/MyDrive/FilteredNivkhTxt/a175_bible/r.txt\n",
            "Aligning without segments.\n",
            "tasks amount: 1\n",
            "batch: 0 (0)\n"
          ]
        },
        {
          "output_type": "stream",
          "name": "stderr",
          "text": [
            "WARNING:root:can not fetch index db\n"
          ]
        },
        {
          "output_type": "stream",
          "name": "stdout",
          "text": [
            "conflicts to solve: 2\n",
            "total conflicts: 7\n"
          ]
        },
        {
          "output_type": "stream",
          "name": "stderr",
          "text": [
            "\n",
            "  0%|          | 0/2 [00:00<?, ?it/s]\u001b[A\n",
            "100%|██████████| 2/2 [00:00<00:00, 11.25it/s]\n"
          ]
        },
        {
          "output_type": "stream",
          "name": "stdout",
          "text": [
            "conflicts to solve: 2\n",
            "total conflicts: 3\n"
          ]
        },
        {
          "output_type": "stream",
          "name": "stderr",
          "text": [
            "\n",
            "  0%|          | 0/2 [00:00<?, ?it/s]\u001b[A\n",
            "100%|██████████| 2/2 [00:00<00:00, 12.23it/s]\n"
          ]
        },
        {
          "output_type": "stream",
          "name": "stdout",
          "text": [
            "conflicts to solve: 1\n",
            "total conflicts: 1\n"
          ]
        },
        {
          "output_type": "stream",
          "name": "stderr",
          "text": [
            "\n",
            "  0%|          | 0/1 [00:00<?, ?it/s]\u001b[A\n",
            "100%|██████████| 1/1 [00:00<00:00,  3.88it/s]\n"
          ]
        },
        {
          "output_type": "stream",
          "name": "stdout",
          "text": [
            "conflicts to solve: 0\n",
            "total conflicts: 0\n"
          ]
        },
        {
          "output_type": "stream",
          "name": "stderr",
          "text": [
            "\n",
            "0it [00:00, ?it/s]\n"
          ]
        },
        {
          "output_type": "stream",
          "name": "stdout",
          "text": [
            "N: 43 --> 24\n",
            "R: 40 --> 24\n",
            "Chain score: 1.0000\n",
            "\n",
            " ---------------------------------------------------------------------------------------------------------------------------------------------------------------------------------------------------------------------------------------------------------------------------------------------------------------------------------------------------------------------------------------------------------------------------------------------------------------------------------------------------------------------------------------------------------------------------------------------------------------------------------------------------------------------------------------------------------------------------------------------------------------------------------------------------------------------------------------------------------------------------------------------------------------------------------------------------------------------------------------------------------------------------------------- \n",
            "\n",
            "/content/drive/MyDrive/FilteredNivkhTxt/61_shklg/n.txt /content/drive/MyDrive/FilteredNivkhTxt/61_shklg/r.txt\n"
          ]
        },
        {
          "output_type": "stream",
          "name": "stderr",
          "text": [
            "WARNING:root:can not fetch index db\n"
          ]
        },
        {
          "output_type": "stream",
          "name": "stdout",
          "text": [
            "Aligning without segments.\n",
            "tasks amount: 1\n",
            "batch: 0 (0)\n",
            "conflicts to solve: 1\n",
            "total conflicts: 2\n"
          ]
        },
        {
          "output_type": "stream",
          "name": "stderr",
          "text": [
            "\n",
            "  0%|          | 0/1 [00:00<?, ?it/s]\u001b[A\n",
            "100%|██████████| 1/1 [00:00<00:00,  5.13it/s]\n"
          ]
        },
        {
          "output_type": "stream",
          "name": "stdout",
          "text": [
            "conflicts to solve: 0\n",
            "total conflicts: 0\n"
          ]
        },
        {
          "output_type": "stream",
          "name": "stderr",
          "text": [
            "\n",
            "0it [00:00, ?it/s]\n"
          ]
        },
        {
          "output_type": "stream",
          "name": "stdout",
          "text": [
            "conflicts to solve: 1\n",
            "total conflicts: 1\n"
          ]
        },
        {
          "output_type": "stream",
          "name": "stderr",
          "text": [
            "\n",
            "  0%|          | 0/1 [00:00<?, ?it/s]\u001b[A\n",
            "100%|██████████| 1/1 [00:00<00:00,  4.58it/s]\n"
          ]
        },
        {
          "output_type": "stream",
          "name": "stdout",
          "text": [
            "N: 14 --> 5\n",
            "R: 17 --> 5\n",
            "Chain score: 1.0000\n",
            "\n",
            " ---------------------------------------------------------------------------------------------------------------------------------------------------------------------------------------------------------------------------------------------------------------------------------------------------------------------------------------------------------------------------------------------------------------------------------------------------------------------------------------------------------------------------------------------------------------------------------------------------------------------------------------------------------------------------------------------------------------------------------------------------------------------------------------------------------------------------------------------------------------------------------------------------------------------------------------------------------------------------------------------------------------------------------------- \n",
            "\n",
            "/content/drive/MyDrive/FilteredNivkhTxt/a454_nd/n.txt /content/drive/MyDrive/FilteredNivkhTxt/a454_nd/r.txt\n"
          ]
        },
        {
          "output_type": "stream",
          "name": "stderr",
          "text": [
            "WARNING:root:can not fetch index db\n"
          ]
        },
        {
          "output_type": "stream",
          "name": "stdout",
          "text": [
            "Aligning without segments.\n",
            "tasks amount: 1\n",
            "batch: 0 (0)\n",
            "conflicts to solve: 1\n",
            "total conflicts: 2\n"
          ]
        },
        {
          "output_type": "stream",
          "name": "stderr",
          "text": [
            "\n",
            "  0%|          | 0/1 [00:00<?, ?it/s]\u001b[A\n",
            "100%|██████████| 1/1 [00:00<00:00,  7.97it/s]\n"
          ]
        },
        {
          "output_type": "stream",
          "name": "stdout",
          "text": [
            "conflicts to solve: 1\n",
            "total conflicts: 1\n"
          ]
        },
        {
          "output_type": "stream",
          "name": "stderr",
          "text": [
            "\n",
            "  0%|          | 0/1 [00:00<?, ?it/s]\u001b[A\n",
            "100%|██████████| 1/1 [00:00<00:00,  5.79it/s]\n"
          ]
        },
        {
          "output_type": "stream",
          "name": "stdout",
          "text": [
            "conflicts to solve: 0\n",
            "total conflicts: 0\n"
          ]
        },
        {
          "output_type": "stream",
          "name": "stderr",
          "text": [
            "\n",
            "0it [00:00, ?it/s]\n"
          ]
        },
        {
          "output_type": "stream",
          "name": "stdout",
          "text": [
            "N: 15 --> 7\n",
            "R: 12 --> 7\n",
            "Chain score: 1.0000\n",
            "\n",
            " ---------------------------------------------------------------------------------------------------------------------------------------------------------------------------------------------------------------------------------------------------------------------------------------------------------------------------------------------------------------------------------------------------------------------------------------------------------------------------------------------------------------------------------------------------------------------------------------------------------------------------------------------------------------------------------------------------------------------------------------------------------------------------------------------------------------------------------------------------------------------------------------------------------------------------------------------------------------------------------------------------------------------------------------- \n",
            "\n",
            "/content/drive/MyDrive/FilteredNivkhTxt/a425_nd/n.txt /content/drive/MyDrive/FilteredNivkhTxt/a425_nd/r.txt\n"
          ]
        },
        {
          "output_type": "stream",
          "name": "stderr",
          "text": [
            "WARNING:root:can not fetch index db\n"
          ]
        },
        {
          "output_type": "stream",
          "name": "stdout",
          "text": [
            "Aligning without segments.\n",
            "tasks amount: 1\n",
            "batch: 0 (0)\n",
            "conflicts to solve: 3\n",
            "total conflicts: 3\n"
          ]
        },
        {
          "output_type": "stream",
          "name": "stderr",
          "text": [
            "\n",
            "  0%|          | 0/3 [00:00<?, ?it/s]\u001b[A\n",
            "100%|██████████| 3/3 [00:00<00:00, 16.87it/s]\n"
          ]
        },
        {
          "output_type": "stream",
          "name": "stdout",
          "text": [
            "conflicts to solve: 0\n",
            "total conflicts: 0\n"
          ]
        },
        {
          "output_type": "stream",
          "name": "stderr",
          "text": [
            "\n",
            "0it [00:00, ?it/s]\n"
          ]
        },
        {
          "output_type": "stream",
          "name": "stdout",
          "text": [
            "N: 14 --> 7\n",
            "R: 14 --> 7\n",
            "Chain score: 1.0000\n",
            "\n",
            " ---------------------------------------------------------------------------------------------------------------------------------------------------------------------------------------------------------------------------------------------------------------------------------------------------------------------------------------------------------------------------------------------------------------------------------------------------------------------------------------------------------------------------------------------------------------------------------------------------------------------------------------------------------------------------------------------------------------------------------------------------------------------------------------------------------------------------------------------------------------------------------------------------------------------------------------------------------------------------------------------------------------------------------------- \n",
            "\n",
            "/content/drive/MyDrive/FilteredNivkhTxt/a398_nd/n.txt /content/drive/MyDrive/FilteredNivkhTxt/a398_nd/r.txt\n",
            "Aligning without segments.\n",
            "tasks amount: 1\n",
            "batch: 0 (0)\n"
          ]
        },
        {
          "output_type": "stream",
          "name": "stderr",
          "text": [
            "WARNING:root:can not fetch index db\n"
          ]
        },
        {
          "output_type": "stream",
          "name": "stdout",
          "text": [
            "conflicts to solve: 6\n",
            "total conflicts: 7\n"
          ]
        },
        {
          "output_type": "stream",
          "name": "stderr",
          "text": [
            "\n",
            "  0%|          | 0/6 [00:00<?, ?it/s]\u001b[A\n",
            " 33%|███▎      | 2/6 [00:00<00:00, 15.27it/s]\u001b[A\n",
            " 67%|██████▋   | 4/6 [00:00<00:00, 17.32it/s]\u001b[A\n",
            "100%|██████████| 6/6 [00:00<00:00, 15.15it/s]\n"
          ]
        },
        {
          "output_type": "stream",
          "name": "stdout",
          "text": [
            "conflicts to solve: 1\n",
            "total conflicts: 1\n"
          ]
        },
        {
          "output_type": "stream",
          "name": "stderr",
          "text": [
            "\n",
            "  0%|          | 0/1 [00:00<?, ?it/s]\u001b[A\n",
            "100%|██████████| 1/1 [00:00<00:00,  6.69it/s]\n"
          ]
        },
        {
          "output_type": "stream",
          "name": "stdout",
          "text": [
            "conflicts to solve: 0\n",
            "total conflicts: 0\n"
          ]
        },
        {
          "output_type": "stream",
          "name": "stderr",
          "text": [
            "\n",
            "0it [00:00, ?it/s]\n"
          ]
        },
        {
          "output_type": "stream",
          "name": "stdout",
          "text": [
            "N: 33 --> 18\n",
            "R: 37 --> 18\n",
            "Chain score: 1.0000\n",
            "\n",
            " ---------------------------------------------------------------------------------------------------------------------------------------------------------------------------------------------------------------------------------------------------------------------------------------------------------------------------------------------------------------------------------------------------------------------------------------------------------------------------------------------------------------------------------------------------------------------------------------------------------------------------------------------------------------------------------------------------------------------------------------------------------------------------------------------------------------------------------------------------------------------------------------------------------------------------------------------------------------------------------------------------------------------------------------- \n",
            "\n",
            "/content/drive/MyDrive/FilteredNivkhTxt/58_nd/n.txt /content/drive/MyDrive/FilteredNivkhTxt/58_nd/r.txt\n"
          ]
        },
        {
          "output_type": "stream",
          "name": "stderr",
          "text": [
            "WARNING:root:can not fetch index db\n"
          ]
        },
        {
          "output_type": "stream",
          "name": "stdout",
          "text": [
            "Aligning without segments.\n",
            "tasks amount: 1\n",
            "batch: 0 (0)\n",
            "conflicts to solve: 0\n",
            "total conflicts: 1\n"
          ]
        },
        {
          "output_type": "stream",
          "name": "stderr",
          "text": [
            "\n",
            "0it [00:00, ?it/s]\n"
          ]
        },
        {
          "output_type": "stream",
          "name": "stdout",
          "text": [
            "conflicts to solve: 0\n",
            "total conflicts: 1\n"
          ]
        },
        {
          "output_type": "stream",
          "name": "stderr",
          "text": [
            "\n",
            "0it [00:00, ?it/s]\n"
          ]
        },
        {
          "output_type": "stream",
          "name": "stdout",
          "text": [
            "conflicts to solve: 1\n",
            "total conflicts: 1\n"
          ]
        },
        {
          "output_type": "stream",
          "name": "stderr",
          "text": [
            "\n",
            "  0%|          | 0/1 [00:00<?, ?it/s]\u001b[A\n",
            "100%|██████████| 1/1 [00:00<00:00,  2.10it/s]\n"
          ]
        },
        {
          "output_type": "stream",
          "name": "stdout",
          "text": [
            "conflicts to solve: 0\n",
            "total conflicts: 0\n"
          ]
        },
        {
          "output_type": "stream",
          "name": "stderr",
          "text": [
            "\n",
            "0it [00:00, ?it/s]\n"
          ]
        },
        {
          "output_type": "stream",
          "name": "stdout",
          "text": [
            "N: 16 --> 6\n",
            "R: 14 --> 6\n",
            "Chain score: 1.0000\n",
            "\n",
            " ---------------------------------------------------------------------------------------------------------------------------------------------------------------------------------------------------------------------------------------------------------------------------------------------------------------------------------------------------------------------------------------------------------------------------------------------------------------------------------------------------------------------------------------------------------------------------------------------------------------------------------------------------------------------------------------------------------------------------------------------------------------------------------------------------------------------------------------------------------------------------------------------------------------------------------------------------------------------------------------------------------------------------------------- \n",
            "\n",
            "/content/drive/MyDrive/FilteredNivkhTxt/a118_nd/n.txt /content/drive/MyDrive/FilteredNivkhTxt/a118_nd/r.txt\n"
          ]
        },
        {
          "output_type": "stream",
          "name": "stderr",
          "text": [
            "WARNING:root:can not fetch index db\n"
          ]
        },
        {
          "output_type": "stream",
          "name": "stdout",
          "text": [
            "Aligning without segments.\n",
            "tasks amount: 1\n",
            "batch: 0 (0)\n",
            "conflicts to solve: 0\n",
            "total conflicts: 1\n"
          ]
        },
        {
          "output_type": "stream",
          "name": "stderr",
          "text": [
            "\n",
            "0it [00:00, ?it/s]\n"
          ]
        },
        {
          "output_type": "stream",
          "name": "stdout",
          "text": [
            "conflicts to solve: 0\n",
            "total conflicts: 0\n"
          ]
        },
        {
          "output_type": "stream",
          "name": "stderr",
          "text": [
            "\n",
            "0it [00:00, ?it/s]\n"
          ]
        },
        {
          "output_type": "stream",
          "name": "stdout",
          "text": [
            "conflicts to solve: 1\n",
            "total conflicts: 1\n"
          ]
        },
        {
          "output_type": "stream",
          "name": "stderr",
          "text": [
            "\n",
            "  0%|          | 0/1 [00:00<?, ?it/s]\u001b[A\n",
            "100%|██████████| 1/1 [00:00<00:00,  4.17it/s]\n"
          ]
        },
        {
          "output_type": "stream",
          "name": "stdout",
          "text": [
            "N: 11 --> 2\n",
            "R: 12 --> 2\n",
            "Chain score: 1.0000\n",
            "\n",
            " ---------------------------------------------------------------------------------------------------------------------------------------------------------------------------------------------------------------------------------------------------------------------------------------------------------------------------------------------------------------------------------------------------------------------------------------------------------------------------------------------------------------------------------------------------------------------------------------------------------------------------------------------------------------------------------------------------------------------------------------------------------------------------------------------------------------------------------------------------------------------------------------------------------------------------------------------------------------------------------------------------------------------------------------- \n",
            "\n",
            "/content/drive/MyDrive/FilteredNivkhTxt/a289_nd/n.txt /content/drive/MyDrive/FilteredNivkhTxt/a289_nd/r.txt\n"
          ]
        },
        {
          "output_type": "stream",
          "name": "stderr",
          "text": [
            "WARNING:root:can not fetch index db\n"
          ]
        },
        {
          "output_type": "stream",
          "name": "stdout",
          "text": [
            "Aligning without segments.\n",
            "tasks amount: 1\n",
            "batch: 0 (0)\n",
            "conflicts to solve: 2\n",
            "total conflicts: 2\n"
          ]
        },
        {
          "output_type": "stream",
          "name": "stderr",
          "text": [
            "\n",
            "  0%|          | 0/2 [00:00<?, ?it/s]\u001b[A\n",
            "100%|██████████| 2/2 [00:00<00:00,  7.22it/s]\n"
          ]
        },
        {
          "output_type": "stream",
          "name": "stdout",
          "text": [
            "conflicts to solve: 0\n",
            "total conflicts: 0\n"
          ]
        },
        {
          "output_type": "stream",
          "name": "stderr",
          "text": [
            "\n",
            "0it [00:00, ?it/s]\n"
          ]
        },
        {
          "output_type": "stream",
          "name": "stdout",
          "text": [
            "N: 11 --> 3\n",
            "R: 10 --> 3\n",
            "Chain score: 1.0000\n",
            "\n",
            " ---------------------------------------------------------------------------------------------------------------------------------------------------------------------------------------------------------------------------------------------------------------------------------------------------------------------------------------------------------------------------------------------------------------------------------------------------------------------------------------------------------------------------------------------------------------------------------------------------------------------------------------------------------------------------------------------------------------------------------------------------------------------------------------------------------------------------------------------------------------------------------------------------------------------------------------------------------------------------------------------------------------------------------------- \n",
            "\n",
            "/content/drive/MyDrive/FilteredNivkhTxt/a177_bible/n_am.txt /content/drive/MyDrive/FilteredNivkhTxt/a177_bible/r.txt\n",
            "Aligning without segments.\n",
            "tasks amount: 1\n",
            "batch: 0 (0)\n"
          ]
        },
        {
          "output_type": "stream",
          "name": "stderr",
          "text": [
            "WARNING:root:can not fetch index db\n"
          ]
        },
        {
          "output_type": "stream",
          "name": "stdout",
          "text": [
            "conflicts to solve: 4\n",
            "total conflicts: 6\n"
          ]
        },
        {
          "output_type": "stream",
          "name": "stderr",
          "text": [
            "\n",
            "  0%|          | 0/4 [00:00<?, ?it/s]\u001b[A\n",
            " 25%|██▌       | 1/4 [00:00<00:00,  6.42it/s]\u001b[A\n",
            "100%|██████████| 4/4 [00:00<00:00, 11.41it/s]\n"
          ]
        },
        {
          "output_type": "stream",
          "name": "stdout",
          "text": [
            "conflicts to solve: 2\n",
            "total conflicts: 2\n"
          ]
        },
        {
          "output_type": "stream",
          "name": "stderr",
          "text": [
            "\n",
            "  0%|          | 0/2 [00:00<?, ?it/s]\u001b[A\n",
            " 50%|█████     | 1/2 [00:00<00:00,  9.81it/s]\u001b[A\n",
            "100%|██████████| 2/2 [00:00<00:00,  5.15it/s]\n"
          ]
        },
        {
          "output_type": "stream",
          "name": "stdout",
          "text": [
            "conflicts to solve: 0\n",
            "total conflicts: 0\n"
          ]
        },
        {
          "output_type": "stream",
          "name": "stderr",
          "text": [
            "\n",
            "0it [00:00, ?it/s]\n"
          ]
        },
        {
          "output_type": "stream",
          "name": "stdout",
          "text": [
            "N: 43 --> 24\n",
            "R: 37 --> 24\n",
            "Chain score: 1.0000\n",
            "\n",
            " ---------------------------------------------------------------------------------------------------------------------------------------------------------------------------------------------------------------------------------------------------------------------------------------------------------------------------------------------------------------------------------------------------------------------------------------------------------------------------------------------------------------------------------------------------------------------------------------------------------------------------------------------------------------------------------------------------------------------------------------------------------------------------------------------------------------------------------------------------------------------------------------------------------------------------------------------------------------------------------------------------------------------------------------- \n",
            "\n",
            "/content/drive/MyDrive/FilteredNivkhTxt/a405_nd/n.txt /content/drive/MyDrive/FilteredNivkhTxt/a405_nd/r.txt\n"
          ]
        },
        {
          "output_type": "stream",
          "name": "stderr",
          "text": [
            "WARNING:root:can not fetch index db\n"
          ]
        },
        {
          "output_type": "stream",
          "name": "stdout",
          "text": [
            "Aligning without segments.\n",
            "tasks amount: 1\n",
            "batch: 0 (0)\n",
            "conflicts to solve: 3\n",
            "total conflicts: 5\n"
          ]
        },
        {
          "output_type": "stream",
          "name": "stderr",
          "text": [
            "\n",
            "  0%|          | 0/3 [00:00<?, ?it/s]\u001b[A\n",
            "100%|██████████| 3/3 [00:00<00:00, 15.25it/s]\n"
          ]
        },
        {
          "output_type": "stream",
          "name": "stdout",
          "text": [
            "conflicts to solve: 1\n",
            "total conflicts: 1\n"
          ]
        },
        {
          "output_type": "stream",
          "name": "stderr",
          "text": [
            "\n",
            "  0%|          | 0/1 [00:00<?, ?it/s]\u001b[A\n",
            "100%|██████████| 1/1 [00:00<00:00,  4.74it/s]\n"
          ]
        },
        {
          "output_type": "stream",
          "name": "stdout",
          "text": [
            "conflicts to solve: 0\n",
            "total conflicts: 0\n"
          ]
        },
        {
          "output_type": "stream",
          "name": "stderr",
          "text": [
            "\n",
            "0it [00:00, ?it/s]\n"
          ]
        },
        {
          "output_type": "stream",
          "name": "stdout",
          "text": [
            "N: 21 --> 4\n",
            "R: 12 --> 4\n",
            "Chain score: 1.0000\n",
            "\n",
            " ---------------------------------------------------------------------------------------------------------------------------------------------------------------------------------------------------------------------------------------------------------------------------------------------------------------------------------------------------------------------------------------------------------------------------------------------------------------------------------------------------------------------------------------------------------------------------------------------------------------------------------------------------------------------------------------------------------------------------------------------------------------------------------------------------------------------------------------------------------------------------------------------------------------------------------------------------------------------------------------------------------------------------------------- \n",
            "\n",
            "/content/drive/MyDrive/FilteredNivkhTxt/78_shklg/n.txt /content/drive/MyDrive/FilteredNivkhTxt/78_shklg/r.txt\n"
          ]
        },
        {
          "output_type": "stream",
          "name": "stderr",
          "text": [
            "WARNING:root:can not fetch index db\n"
          ]
        },
        {
          "output_type": "stream",
          "name": "stdout",
          "text": [
            "Aligning without segments.\n",
            "tasks amount: 1\n",
            "batch: 0 (0)\n",
            "conflicts to solve: 0\n",
            "total conflicts: 2\n"
          ]
        },
        {
          "output_type": "stream",
          "name": "stderr",
          "text": [
            "\n",
            "0it [00:00, ?it/s]\n"
          ]
        },
        {
          "output_type": "stream",
          "name": "stdout",
          "text": [
            "conflicts to solve: 0\n",
            "total conflicts: 0\n"
          ]
        },
        {
          "output_type": "stream",
          "name": "stderr",
          "text": [
            "\n",
            "0it [00:00, ?it/s]\n"
          ]
        },
        {
          "output_type": "stream",
          "name": "stdout",
          "text": [
            "conflicts to solve: 1\n",
            "total conflicts: 2\n"
          ]
        },
        {
          "output_type": "stream",
          "name": "stderr",
          "text": [
            "\n",
            "  0%|          | 0/1 [00:00<?, ?it/s]\u001b[A\n",
            "100%|██████████| 1/1 [00:00<00:00,  4.84it/s]\n"
          ]
        },
        {
          "output_type": "stream",
          "name": "stdout",
          "text": [
            "N: 14 --> 3\n",
            "R: 15 --> 3\n",
            "Chain score: 0.6250\n",
            "Skipping saving due to low chain_score: 0.6250\n",
            "\n",
            " ---------------------------------------------------------------------------------------------------------------------------------------------------------------------------------------------------------------------------------------------------------------------------------------------------------------------------------------------------------------------------------------------------------------------------------------------------------------------------------------------------------------------------------------------------------------------------------------------------------------------------------------------------------------------------------------------------------------------------------------------------------------------------------------------------------------------------------------------------------------------------------------------------------------------------------------------------------------------------------------------------------------------------------------- \n",
            "\n",
            "/content/drive/MyDrive/FilteredNivkhTxt/09_agm/n.txt /content/drive/MyDrive/FilteredNivkhTxt/09_agm/r.txt\n"
          ]
        },
        {
          "output_type": "stream",
          "name": "stderr",
          "text": [
            "WARNING:root:can not fetch index db\n"
          ]
        },
        {
          "output_type": "stream",
          "name": "stdout",
          "text": [
            "Aligning without segments.\n",
            "tasks amount: 1\n",
            "batch: 0 (0)\n",
            "conflicts to solve: 0\n",
            "total conflicts: 0\n"
          ]
        },
        {
          "output_type": "stream",
          "name": "stderr",
          "text": [
            "\n",
            "0it [00:00, ?it/s]\n"
          ]
        },
        {
          "output_type": "stream",
          "name": "stdout",
          "text": [
            "conflicts to solve: 0\n",
            "total conflicts: 0\n"
          ]
        },
        {
          "output_type": "stream",
          "name": "stderr",
          "text": [
            "\n",
            "0it [00:00, ?it/s]\n"
          ]
        },
        {
          "output_type": "stream",
          "name": "stdout",
          "text": [
            "N: 26 --> 7\n",
            "R: 35 --> 7\n",
            "Chain score: 0.0400\n",
            "Skipping saving due to low chain_score: 0.0400\n",
            "\n",
            " ---------------------------------------------------------------------------------------------------------------------------------------------------------------------------------------------------------------------------------------------------------------------------------------------------------------------------------------------------------------------------------------------------------------------------------------------------------------------------------------------------------------------------------------------------------------------------------------------------------------------------------------------------------------------------------------------------------------------------------------------------------------------------------------------------------------------------------------------------------------------------------------------------------------------------------------------------------------------------------------------------------------------------------------- \n",
            "\n",
            "/content/drive/MyDrive/FilteredNivkhTxt/a219_sng/n.txt /content/drive/MyDrive/FilteredNivkhTxt/a219_sng/r.txt\n"
          ]
        },
        {
          "output_type": "stream",
          "name": "stderr",
          "text": [
            "WARNING:root:can not fetch index db\n"
          ]
        },
        {
          "output_type": "stream",
          "name": "stdout",
          "text": [
            "Aligning without segments.\n",
            "tasks amount: 1\n",
            "batch: 0 (0)\n",
            "conflicts to solve: 0\n",
            "total conflicts: 0\n"
          ]
        },
        {
          "output_type": "stream",
          "name": "stderr",
          "text": [
            "\n",
            "0it [00:00, ?it/s]\n"
          ]
        },
        {
          "output_type": "stream",
          "name": "stdout",
          "text": [
            "conflicts to solve: 0\n",
            "total conflicts: 0\n"
          ]
        },
        {
          "output_type": "stream",
          "name": "stderr",
          "text": [
            "\n",
            "0it [00:00, ?it/s]\n"
          ]
        },
        {
          "output_type": "stream",
          "name": "stdout",
          "text": [
            "N: 10 --> 2\n",
            "R: 17 --> 2\n",
            "Chain score: 0.1111\n",
            "Skipping saving due to low chain_score: 0.1111\n",
            "\n",
            " ---------------------------------------------------------------------------------------------------------------------------------------------------------------------------------------------------------------------------------------------------------------------------------------------------------------------------------------------------------------------------------------------------------------------------------------------------------------------------------------------------------------------------------------------------------------------------------------------------------------------------------------------------------------------------------------------------------------------------------------------------------------------------------------------------------------------------------------------------------------------------------------------------------------------------------------------------------------------------------------------------------------------------------------- \n",
            "\n",
            "/content/drive/MyDrive/FilteredNivkhTxt/08_agm/n.txt /content/drive/MyDrive/FilteredNivkhTxt/08_agm/r.txt\n",
            "Aligning without segments.\n",
            "tasks amount: 1\n",
            "batch: 0 (0)\n"
          ]
        },
        {
          "output_type": "stream",
          "name": "stderr",
          "text": [
            "WARNING:root:can not fetch index db\n"
          ]
        },
        {
          "output_type": "stream",
          "name": "stdout",
          "text": [
            "conflicts to solve: 0\n",
            "total conflicts: 1\n"
          ]
        },
        {
          "output_type": "stream",
          "name": "stderr",
          "text": [
            "\n",
            "0it [00:00, ?it/s]\n"
          ]
        },
        {
          "output_type": "stream",
          "name": "stdout",
          "text": [
            "conflicts to solve: 0\n",
            "total conflicts: 0\n"
          ]
        },
        {
          "output_type": "stream",
          "name": "stderr",
          "text": [
            "\n",
            "0it [00:00, ?it/s]\n"
          ]
        },
        {
          "output_type": "stream",
          "name": "stdout",
          "text": [
            "conflicts to solve: 1\n",
            "total conflicts: 1\n"
          ]
        },
        {
          "output_type": "stream",
          "name": "stderr",
          "text": [
            "\n",
            "  0%|          | 0/1 [00:00<?, ?it/s]\u001b[A\n",
            "100%|██████████| 1/1 [00:00<00:00,  2.42it/s]\n"
          ]
        },
        {
          "output_type": "stream",
          "name": "stdout",
          "text": [
            "N: 43 --> 10\n",
            "R: 48 --> 10\n",
            "Chain score: 0.3556\n",
            "Skipping saving due to low chain_score: 0.3556\n",
            "\n",
            " ---------------------------------------------------------------------------------------------------------------------------------------------------------------------------------------------------------------------------------------------------------------------------------------------------------------------------------------------------------------------------------------------------------------------------------------------------------------------------------------------------------------------------------------------------------------------------------------------------------------------------------------------------------------------------------------------------------------------------------------------------------------------------------------------------------------------------------------------------------------------------------------------------------------------------------------------------------------------------------------------------------------------------------------- \n",
            "\n",
            "/content/drive/MyDrive/FilteredNivkhTxt/a450_nd/n.txt /content/drive/MyDrive/FilteredNivkhTxt/a450_nd/r.txt\n",
            "Aligning without segments.\n",
            "tasks amount: 1\n",
            "batch: 0 (0)\n"
          ]
        },
        {
          "output_type": "stream",
          "name": "stderr",
          "text": [
            "WARNING:root:can not fetch index db\n"
          ]
        },
        {
          "output_type": "stream",
          "name": "stdout",
          "text": [
            "conflicts to solve: 2\n",
            "total conflicts: 5\n"
          ]
        },
        {
          "output_type": "stream",
          "name": "stderr",
          "text": [
            "\n",
            "  0%|          | 0/2 [00:00<?, ?it/s]\u001b[A\n",
            "100%|██████████| 2/2 [00:00<00:00,  9.84it/s]\n"
          ]
        },
        {
          "output_type": "stream",
          "name": "stdout",
          "text": [
            "conflicts to solve: 2\n",
            "total conflicts: 2\n"
          ]
        },
        {
          "output_type": "stream",
          "name": "stderr",
          "text": [
            "\n",
            "  0%|          | 0/2 [00:00<?, ?it/s]\u001b[A\n",
            "100%|██████████| 2/2 [00:00<00:00,  4.55it/s]\n"
          ]
        },
        {
          "output_type": "stream",
          "name": "stdout",
          "text": [
            "conflicts to solve: 0\n",
            "total conflicts: 0\n"
          ]
        },
        {
          "output_type": "stream",
          "name": "stderr",
          "text": [
            "\n",
            "0it [00:00, ?it/s]\n"
          ]
        },
        {
          "output_type": "stream",
          "name": "stdout",
          "text": [
            "N: 32 --> 10\n",
            "R: 26 --> 10\n",
            "Chain score: 1.0000\n",
            "\n",
            " ---------------------------------------------------------------------------------------------------------------------------------------------------------------------------------------------------------------------------------------------------------------------------------------------------------------------------------------------------------------------------------------------------------------------------------------------------------------------------------------------------------------------------------------------------------------------------------------------------------------------------------------------------------------------------------------------------------------------------------------------------------------------------------------------------------------------------------------------------------------------------------------------------------------------------------------------------------------------------------------------------------------------------------------- \n",
            "\n",
            "/content/drive/MyDrive/FilteredNivkhTxt/a401_nd/n.txt /content/drive/MyDrive/FilteredNivkhTxt/a401_nd/r.txt\n",
            "Aligning without segments.\n",
            "tasks amount: 1\n",
            "batch: 0 (0)\n"
          ]
        },
        {
          "output_type": "stream",
          "name": "stderr",
          "text": [
            "WARNING:root:can not fetch index db\n"
          ]
        },
        {
          "output_type": "stream",
          "name": "stdout",
          "text": [
            "conflicts to solve: 0\n",
            "total conflicts: 3\n"
          ]
        },
        {
          "output_type": "stream",
          "name": "stderr",
          "text": [
            "\n",
            "0it [00:00, ?it/s]\n"
          ]
        },
        {
          "output_type": "stream",
          "name": "stdout",
          "text": [
            "conflicts to solve: 0\n",
            "total conflicts: 1\n"
          ]
        },
        {
          "output_type": "stream",
          "name": "stderr",
          "text": [
            "\n",
            "0it [00:00, ?it/s]\n"
          ]
        },
        {
          "output_type": "stream",
          "name": "stdout",
          "text": [
            "conflicts to solve: 0\n",
            "total conflicts: 1\n"
          ]
        },
        {
          "output_type": "stream",
          "name": "stderr",
          "text": [
            "\n",
            "0it [00:00, ?it/s]\n"
          ]
        },
        {
          "output_type": "stream",
          "name": "stdout",
          "text": [
            "conflicts to solve: 3\n",
            "total conflicts: 3\n"
          ]
        },
        {
          "output_type": "stream",
          "name": "stderr",
          "text": [
            "\n",
            "  0%|          | 0/3 [00:00<?, ?it/s]\u001b[A\n",
            " 33%|███▎      | 1/3 [00:11<00:22, 11.15s/it]\u001b[A\n",
            " 67%|██████▋   | 2/3 [00:11<00:04,  4.78s/it]\u001b[A\n",
            "100%|██████████| 3/3 [00:13<00:00,  4.40s/it]\n"
          ]
        },
        {
          "output_type": "stream",
          "name": "stdout",
          "text": [
            "N: 33 --> 3\n",
            "R: 48 --> 3\n",
            "Chain score: 1.0000\n",
            "\n",
            " ---------------------------------------------------------------------------------------------------------------------------------------------------------------------------------------------------------------------------------------------------------------------------------------------------------------------------------------------------------------------------------------------------------------------------------------------------------------------------------------------------------------------------------------------------------------------------------------------------------------------------------------------------------------------------------------------------------------------------------------------------------------------------------------------------------------------------------------------------------------------------------------------------------------------------------------------------------------------------------------------------------------------------------------- \n",
            "\n",
            "/content/drive/MyDrive/FilteredNivkhTxt/a440_nd/n.txt /content/drive/MyDrive/FilteredNivkhTxt/a440_nd/r.txt\n"
          ]
        },
        {
          "output_type": "stream",
          "name": "stderr",
          "text": [
            "WARNING:root:can not fetch index db\n"
          ]
        },
        {
          "output_type": "stream",
          "name": "stdout",
          "text": [
            "Aligning without segments.\n",
            "tasks amount: 1\n",
            "batch: 0 (0)\n",
            "conflicts to solve: 2\n",
            "total conflicts: 4\n"
          ]
        },
        {
          "output_type": "stream",
          "name": "stderr",
          "text": [
            "\n",
            "  0%|          | 0/2 [00:00<?, ?it/s]\u001b[A\n",
            "100%|██████████| 2/2 [00:00<00:00, 12.67it/s]\n"
          ]
        },
        {
          "output_type": "stream",
          "name": "stdout",
          "text": [
            "conflicts to solve: 1\n",
            "total conflicts: 1\n"
          ]
        },
        {
          "output_type": "stream",
          "name": "stderr",
          "text": [
            "\n",
            "  0%|          | 0/1 [00:00<?, ?it/s]\u001b[A\n",
            "100%|██████████| 1/1 [00:00<00:00,  8.36it/s]\n"
          ]
        },
        {
          "output_type": "stream",
          "name": "stdout",
          "text": [
            "conflicts to solve: 1\n",
            "total conflicts: 1\n"
          ]
        },
        {
          "output_type": "stream",
          "name": "stderr",
          "text": [
            "\n",
            "  0%|          | 0/1 [00:00<?, ?it/s]\u001b[A\n",
            "100%|██████████| 1/1 [00:01<00:00,  1.42s/it]\n"
          ]
        },
        {
          "output_type": "stream",
          "name": "stdout",
          "text": [
            "N: 33 --> 4\n",
            "R: 24 --> 4\n",
            "Chain score: 1.0000\n",
            "\n",
            " ---------------------------------------------------------------------------------------------------------------------------------------------------------------------------------------------------------------------------------------------------------------------------------------------------------------------------------------------------------------------------------------------------------------------------------------------------------------------------------------------------------------------------------------------------------------------------------------------------------------------------------------------------------------------------------------------------------------------------------------------------------------------------------------------------------------------------------------------------------------------------------------------------------------------------------------------------------------------------------------------------------------------------------------- \n",
            "\n",
            "/content/drive/MyDrive/FilteredNivkhTxt/a411_nd/n.txt /content/drive/MyDrive/FilteredNivkhTxt/a411_nd/r.txt\n"
          ]
        },
        {
          "output_type": "stream",
          "name": "stderr",
          "text": [
            "WARNING:root:can not fetch index db\n"
          ]
        },
        {
          "output_type": "stream",
          "name": "stdout",
          "text": [
            "Aligning without segments.\n",
            "tasks amount: 1\n",
            "batch: 0 (0)\n",
            "conflicts to solve: 1\n",
            "total conflicts: 2\n"
          ]
        },
        {
          "output_type": "stream",
          "name": "stderr",
          "text": [
            "\n",
            "100%|██████████| 1/1 [00:00<00:00, 19.19it/s]\n"
          ]
        },
        {
          "output_type": "stream",
          "name": "stdout",
          "text": [
            "conflicts to solve: 1\n",
            "total conflicts: 1\n"
          ]
        },
        {
          "output_type": "stream",
          "name": "stderr",
          "text": [
            "\n",
            "  0%|          | 0/1 [00:00<?, ?it/s]\u001b[A\n",
            "100%|██████████| 1/1 [00:00<00:00,  2.97it/s]\n"
          ]
        },
        {
          "output_type": "stream",
          "name": "stdout",
          "text": [
            "conflicts to solve: 0\n",
            "total conflicts: 0\n"
          ]
        },
        {
          "output_type": "stream",
          "name": "stderr",
          "text": [
            "\n",
            "0it [00:00, ?it/s]\n"
          ]
        },
        {
          "output_type": "stream",
          "name": "stdout",
          "text": [
            "N: 16 --> 4\n",
            "R: 14 --> 4\n",
            "Chain score: 1.0000\n",
            "\n",
            " ---------------------------------------------------------------------------------------------------------------------------------------------------------------------------------------------------------------------------------------------------------------------------------------------------------------------------------------------------------------------------------------------------------------------------------------------------------------------------------------------------------------------------------------------------------------------------------------------------------------------------------------------------------------------------------------------------------------------------------------------------------------------------------------------------------------------------------------------------------------------------------------------------------------------------------------------------------------------------------------------------------------------------------------- \n",
            "\n",
            "/content/drive/MyDrive/FilteredNivkhTxt/a108_nd/n.txt /content/drive/MyDrive/FilteredNivkhTxt/a108_nd/r.txt\n"
          ]
        },
        {
          "output_type": "stream",
          "name": "stderr",
          "text": [
            "WARNING:root:can not fetch index db\n"
          ]
        },
        {
          "output_type": "stream",
          "name": "stdout",
          "text": [
            "Aligning without segments.\n",
            "tasks amount: 1\n",
            "batch: 0 (0)\n",
            "conflicts to solve: 1\n",
            "total conflicts: 1\n"
          ]
        },
        {
          "output_type": "stream",
          "name": "stderr",
          "text": [
            "\n",
            "100%|██████████| 1/1 [00:00<00:00, 11.66it/s]\n"
          ]
        },
        {
          "output_type": "stream",
          "name": "stdout",
          "text": [
            "conflicts to solve: 0\n",
            "total conflicts: 0\n"
          ]
        },
        {
          "output_type": "stream",
          "name": "stderr",
          "text": [
            "\n",
            "0it [00:00, ?it/s]\n"
          ]
        },
        {
          "output_type": "stream",
          "name": "stdout",
          "text": [
            "N: 10 --> 5\n",
            "R: 9 --> 5\n",
            "Chain score: 0.5556\n",
            "Skipping saving due to low chain_score: 0.5556\n",
            "\n",
            " ---------------------------------------------------------------------------------------------------------------------------------------------------------------------------------------------------------------------------------------------------------------------------------------------------------------------------------------------------------------------------------------------------------------------------------------------------------------------------------------------------------------------------------------------------------------------------------------------------------------------------------------------------------------------------------------------------------------------------------------------------------------------------------------------------------------------------------------------------------------------------------------------------------------------------------------------------------------------------------------------------------------------------------------- \n",
            "\n",
            "/content/drive/MyDrive/FilteredNivkhTxt/a435_nd/n.txt /content/drive/MyDrive/FilteredNivkhTxt/a435_nd/r.txt\n"
          ]
        },
        {
          "output_type": "stream",
          "name": "stderr",
          "text": [
            "WARNING:root:can not fetch index db\n"
          ]
        },
        {
          "output_type": "stream",
          "name": "stdout",
          "text": [
            "Aligning without segments.\n",
            "tasks amount: 1\n",
            "batch: 0 (0)\n",
            "conflicts to solve: 1\n",
            "total conflicts: 1\n"
          ]
        },
        {
          "output_type": "stream",
          "name": "stderr",
          "text": [
            "\n",
            "100%|██████████| 1/1 [00:00<00:00, 10.64it/s]\n"
          ]
        },
        {
          "output_type": "stream",
          "name": "stdout",
          "text": [
            "conflicts to solve: 0\n",
            "total conflicts: 0\n"
          ]
        },
        {
          "output_type": "stream",
          "name": "stderr",
          "text": [
            "\n",
            "0it [00:00, ?it/s]\n"
          ]
        },
        {
          "output_type": "stream",
          "name": "stdout",
          "text": [
            "N: 9 --> 2\n",
            "R: 8 --> 2\n",
            "Chain score: 1.0000\n",
            "\n",
            " ---------------------------------------------------------------------------------------------------------------------------------------------------------------------------------------------------------------------------------------------------------------------------------------------------------------------------------------------------------------------------------------------------------------------------------------------------------------------------------------------------------------------------------------------------------------------------------------------------------------------------------------------------------------------------------------------------------------------------------------------------------------------------------------------------------------------------------------------------------------------------------------------------------------------------------------------------------------------------------------------------------------------------------------- \n",
            "\n",
            "/content/drive/MyDrive/FilteredNivkhTxt/43_sng/n.txt /content/drive/MyDrive/FilteredNivkhTxt/43_sng/r.txt\n"
          ]
        },
        {
          "output_type": "stream",
          "name": "stderr",
          "text": [
            "WARNING:root:can not fetch index db\n"
          ]
        },
        {
          "output_type": "stream",
          "name": "stdout",
          "text": [
            "Aligning without segments.\n",
            "tasks amount: 1\n",
            "batch: 0 (0)\n",
            "conflicts to solve: 0\n",
            "total conflicts: 1\n"
          ]
        },
        {
          "output_type": "stream",
          "name": "stderr",
          "text": [
            "\n",
            "0it [00:00, ?it/s]\n"
          ]
        },
        {
          "output_type": "stream",
          "name": "stdout",
          "text": [
            "conflicts to solve: 0\n",
            "total conflicts: 1\n"
          ]
        },
        {
          "output_type": "stream",
          "name": "stderr",
          "text": [
            "\n",
            "0it [00:00, ?it/s]\n"
          ]
        },
        {
          "output_type": "stream",
          "name": "stdout",
          "text": [
            "conflicts to solve: 0\n",
            "total conflicts: 1\n"
          ]
        },
        {
          "output_type": "stream",
          "name": "stderr",
          "text": [
            "\n",
            "0it [00:00, ?it/s]\n"
          ]
        },
        {
          "output_type": "stream",
          "name": "stdout",
          "text": [
            "conflicts to solve: 1\n",
            "total conflicts: 1\n"
          ]
        },
        {
          "output_type": "stream",
          "name": "stderr",
          "text": [
            "\n",
            "  0%|          | 0/1 [00:00<?, ?it/s]\u001b[A\n",
            "100%|██████████| 1/1 [00:01<00:00,  1.20s/it]\n"
          ]
        },
        {
          "output_type": "stream",
          "name": "stdout",
          "text": [
            "N: 20 --> 5\n",
            "R: 19 --> 5\n",
            "Chain score: 1.0000\n",
            "\n",
            " ---------------------------------------------------------------------------------------------------------------------------------------------------------------------------------------------------------------------------------------------------------------------------------------------------------------------------------------------------------------------------------------------------------------------------------------------------------------------------------------------------------------------------------------------------------------------------------------------------------------------------------------------------------------------------------------------------------------------------------------------------------------------------------------------------------------------------------------------------------------------------------------------------------------------------------------------------------------------------------------------------------------------------------------- \n",
            "\n",
            "/content/drive/MyDrive/FilteredNivkhTxt/a309_nd/n.txt /content/drive/MyDrive/FilteredNivkhTxt/a309_nd/r.txt\n"
          ]
        },
        {
          "output_type": "stream",
          "name": "stderr",
          "text": [
            "WARNING:root:can not fetch index db\n"
          ]
        },
        {
          "output_type": "stream",
          "name": "stdout",
          "text": [
            "Aligning without segments.\n",
            "tasks amount: 1\n",
            "batch: 0 (0)\n",
            "conflicts to solve: 1\n",
            "total conflicts: 2\n"
          ]
        },
        {
          "output_type": "stream",
          "name": "stderr",
          "text": [
            "\n",
            "  0%|          | 0/1 [00:00<?, ?it/s]\u001b[A\n",
            "100%|██████████| 1/1 [00:00<00:00,  7.04it/s]\n"
          ]
        },
        {
          "output_type": "stream",
          "name": "stdout",
          "text": [
            "conflicts to solve: 1\n",
            "total conflicts: 1\n"
          ]
        },
        {
          "output_type": "stream",
          "name": "stderr",
          "text": [
            "\n",
            "  0%|          | 0/1 [00:00<?, ?it/s]\u001b[A\n",
            "100%|██████████| 1/1 [00:00<00:00,  7.31it/s]\n"
          ]
        },
        {
          "output_type": "stream",
          "name": "stdout",
          "text": [
            "conflicts to solve: 0\n",
            "total conflicts: 0\n"
          ]
        },
        {
          "output_type": "stream",
          "name": "stderr",
          "text": [
            "\n",
            "0it [00:00, ?it/s]\n"
          ]
        },
        {
          "output_type": "stream",
          "name": "stdout",
          "text": [
            "N: 10 --> 2\n",
            "R: 11 --> 2\n",
            "Chain score: 1.0000\n",
            "\n",
            " ---------------------------------------------------------------------------------------------------------------------------------------------------------------------------------------------------------------------------------------------------------------------------------------------------------------------------------------------------------------------------------------------------------------------------------------------------------------------------------------------------------------------------------------------------------------------------------------------------------------------------------------------------------------------------------------------------------------------------------------------------------------------------------------------------------------------------------------------------------------------------------------------------------------------------------------------------------------------------------------------------------------------------------------- \n",
            "\n",
            "/content/drive/MyDrive/FilteredNivkhTxt/49_shklg/n.txt /content/drive/MyDrive/FilteredNivkhTxt/49_shklg/r.txt\n"
          ]
        },
        {
          "output_type": "stream",
          "name": "stderr",
          "text": [
            "WARNING:root:can not fetch index db\n"
          ]
        },
        {
          "output_type": "stream",
          "name": "stdout",
          "text": [
            "Aligning without segments.\n",
            "tasks amount: 1\n",
            "batch: 0 (0)\n",
            "conflicts to solve: 0\n",
            "total conflicts: 2\n"
          ]
        },
        {
          "output_type": "stream",
          "name": "stderr",
          "text": [
            "\n",
            "0it [00:00, ?it/s]\n"
          ]
        },
        {
          "output_type": "stream",
          "name": "stdout",
          "text": [
            "conflicts to solve: 0\n",
            "total conflicts: 0\n"
          ]
        },
        {
          "output_type": "stream",
          "name": "stderr",
          "text": [
            "\n",
            "0it [00:00, ?it/s]\n"
          ]
        },
        {
          "output_type": "stream",
          "name": "stdout",
          "text": [
            "conflicts to solve: 0\n",
            "total conflicts: 2\n"
          ]
        },
        {
          "output_type": "stream",
          "name": "stderr",
          "text": [
            "\n",
            "0it [00:00, ?it/s]\n"
          ]
        },
        {
          "output_type": "stream",
          "name": "stdout",
          "text": [
            "N: 30 --> 5\n",
            "R: 33 --> 5\n",
            "Chain score: 0.1034\n",
            "Skipping saving due to low chain_score: 0.1034\n",
            "\n",
            " ---------------------------------------------------------------------------------------------------------------------------------------------------------------------------------------------------------------------------------------------------------------------------------------------------------------------------------------------------------------------------------------------------------------------------------------------------------------------------------------------------------------------------------------------------------------------------------------------------------------------------------------------------------------------------------------------------------------------------------------------------------------------------------------------------------------------------------------------------------------------------------------------------------------------------------------------------------------------------------------------------------------------------------------- \n",
            "\n",
            "/content/drive/MyDrive/FilteredNivkhTxt/a121_shklg/n.txt /content/drive/MyDrive/FilteredNivkhTxt/a121_shklg/r.txt\n"
          ]
        },
        {
          "output_type": "stream",
          "name": "stderr",
          "text": [
            "WARNING:root:can not fetch index db\n"
          ]
        },
        {
          "output_type": "stream",
          "name": "stdout",
          "text": [
            "Aligning without segments.\n",
            "tasks amount: 1\n",
            "batch: 0 (0)\n",
            "conflicts to solve: 1\n",
            "total conflicts: 1\n"
          ]
        },
        {
          "output_type": "stream",
          "name": "stderr",
          "text": [
            "\n",
            "100%|██████████| 1/1 [00:00<00:00, 14.46it/s]\n"
          ]
        },
        {
          "output_type": "stream",
          "name": "stdout",
          "text": [
            "conflicts to solve: 0\n",
            "total conflicts: 0\n"
          ]
        },
        {
          "output_type": "stream",
          "name": "stderr",
          "text": [
            "\n",
            "0it [00:00, ?it/s]\n"
          ]
        },
        {
          "output_type": "stream",
          "name": "stdout",
          "text": [
            "N: 4 --> 2\n",
            "R: 4 --> 2\n",
            "Chain score: 1.0000\n",
            "\n",
            " ---------------------------------------------------------------------------------------------------------------------------------------------------------------------------------------------------------------------------------------------------------------------------------------------------------------------------------------------------------------------------------------------------------------------------------------------------------------------------------------------------------------------------------------------------------------------------------------------------------------------------------------------------------------------------------------------------------------------------------------------------------------------------------------------------------------------------------------------------------------------------------------------------------------------------------------------------------------------------------------------------------------------------------------- \n",
            "\n",
            "/content/drive/MyDrive/FilteredNivkhTxt/a249_nd/n.txt /content/drive/MyDrive/FilteredNivkhTxt/a249_nd/r.txt\n",
            "Aligning without segments.\n",
            "tasks amount: 1\n",
            "batch: 0 (0)\n"
          ]
        },
        {
          "output_type": "stream",
          "name": "stderr",
          "text": [
            "WARNING:root:can not fetch index db\n"
          ]
        },
        {
          "output_type": "stream",
          "name": "stdout",
          "text": [
            "conflicts to solve: 0\n",
            "total conflicts: 1\n"
          ]
        },
        {
          "output_type": "stream",
          "name": "stderr",
          "text": [
            "\n",
            "0it [00:00, ?it/s]\n"
          ]
        },
        {
          "output_type": "stream",
          "name": "stdout",
          "text": [
            "conflicts to solve: 0\n",
            "total conflicts: 0\n"
          ]
        },
        {
          "output_type": "stream",
          "name": "stderr",
          "text": [
            "\n",
            "0it [00:00, ?it/s]\n"
          ]
        },
        {
          "output_type": "stream",
          "name": "stdout",
          "text": [
            "conflicts to solve: 1\n",
            "total conflicts: 1\n"
          ]
        },
        {
          "output_type": "stream",
          "name": "stderr",
          "text": [
            "\n",
            "  0%|          | 0/1 [00:00<?, ?it/s]\u001b[A\n",
            "100%|██████████| 1/1 [00:00<00:00,  6.04it/s]\n"
          ]
        },
        {
          "output_type": "stream",
          "name": "stdout",
          "text": [
            "N: 22 --> 9\n",
            "R: 22 --> 9\n",
            "Chain score: 0.8095\n",
            "\n",
            " ---------------------------------------------------------------------------------------------------------------------------------------------------------------------------------------------------------------------------------------------------------------------------------------------------------------------------------------------------------------------------------------------------------------------------------------------------------------------------------------------------------------------------------------------------------------------------------------------------------------------------------------------------------------------------------------------------------------------------------------------------------------------------------------------------------------------------------------------------------------------------------------------------------------------------------------------------------------------------------------------------------------------------------------- \n",
            "\n",
            "/content/drive/MyDrive/FilteredNivkhTxt/a388_nd/n.txt /content/drive/MyDrive/FilteredNivkhTxt/a388_nd/r.txt\n"
          ]
        },
        {
          "output_type": "stream",
          "name": "stderr",
          "text": [
            "WARNING:root:can not fetch index db\n"
          ]
        },
        {
          "output_type": "stream",
          "name": "stdout",
          "text": [
            "Aligning without segments.\n",
            "tasks amount: 1\n",
            "batch: 0 (0)\n",
            "conflicts to solve: 1\n",
            "total conflicts: 1\n"
          ]
        },
        {
          "output_type": "stream",
          "name": "stderr",
          "text": [
            "\n",
            "  0%|          | 0/1 [00:00<?, ?it/s]\u001b[A\n",
            "100%|██████████| 1/1 [00:00<00:00,  6.47it/s]\n"
          ]
        },
        {
          "output_type": "stream",
          "name": "stdout",
          "text": [
            "conflicts to solve: 0\n",
            "total conflicts: 0\n"
          ]
        },
        {
          "output_type": "stream",
          "name": "stderr",
          "text": [
            "\n",
            "0it [00:00, ?it/s]\n"
          ]
        },
        {
          "output_type": "stream",
          "name": "stdout",
          "text": [
            "Error in /content/drive/MyDrive/FilteredNivkhTxt/a388_nd: not enough values to unpack (expected 2, got 0)\n",
            "\n",
            " ---------------------------------------------------------------------------------------------------------------------------------------------------------------------------------------------------------------------------------------------------------------------------------------------------------------------------------------------------------------------------------------------------------------------------------------------------------------------------------------------------------------------------------------------------------------------------------------------------------------------------------------------------------------------------------------------------------------------------------------------------------------------------------------------------------------------------------------------------------------------------------------------------------------------------------------------------------------------------------------------------------------------------------------- \n",
            "\n",
            "/content/drive/MyDrive/FilteredNivkhTxt/45_shklg/n.txt /content/drive/MyDrive/FilteredNivkhTxt/45_shklg/r.txt\n"
          ]
        },
        {
          "output_type": "stream",
          "name": "stderr",
          "text": [
            "WARNING:root:can not fetch index db\n"
          ]
        },
        {
          "output_type": "stream",
          "name": "stdout",
          "text": [
            "Aligning without segments.\n",
            "tasks amount: 1\n",
            "batch: 0 (0)\n",
            "conflicts to solve: 1\n",
            "total conflicts: 3\n"
          ]
        },
        {
          "output_type": "stream",
          "name": "stderr",
          "text": [
            "\n",
            "100%|██████████| 1/1 [00:00<00:00, 11.49it/s]\n"
          ]
        },
        {
          "output_type": "stream",
          "name": "stdout",
          "text": [
            "conflicts to solve: 1\n",
            "total conflicts: 1\n"
          ]
        },
        {
          "output_type": "stream",
          "name": "stderr",
          "text": [
            "\n",
            "  0%|          | 0/1 [00:00<?, ?it/s]\u001b[A\n",
            "100%|██████████| 1/1 [00:00<00:00,  2.17it/s]\n"
          ]
        },
        {
          "output_type": "stream",
          "name": "stdout",
          "text": [
            "conflicts to solve: 0\n",
            "total conflicts: 0\n"
          ]
        },
        {
          "output_type": "stream",
          "name": "stderr",
          "text": [
            "\n",
            "0it [00:00, ?it/s]\n"
          ]
        },
        {
          "output_type": "stream",
          "name": "stdout",
          "text": [
            "N: 13 --> 5\n",
            "R: 15 --> 5\n",
            "Chain score: 1.0000\n",
            "\n",
            " ---------------------------------------------------------------------------------------------------------------------------------------------------------------------------------------------------------------------------------------------------------------------------------------------------------------------------------------------------------------------------------------------------------------------------------------------------------------------------------------------------------------------------------------------------------------------------------------------------------------------------------------------------------------------------------------------------------------------------------------------------------------------------------------------------------------------------------------------------------------------------------------------------------------------------------------------------------------------------------------------------------------------------------------- \n",
            "\n",
            "/content/drive/MyDrive/FilteredNivkhTxt/98_nd/n.txt /content/drive/MyDrive/FilteredNivkhTxt/98_nd/r.txt\n"
          ]
        },
        {
          "output_type": "stream",
          "name": "stderr",
          "text": [
            "WARNING:root:can not fetch index db\n"
          ]
        },
        {
          "output_type": "stream",
          "name": "stdout",
          "text": [
            "Aligning without segments.\n",
            "tasks amount: 1\n",
            "batch: 0 (0)\n",
            "conflicts to solve: 2\n",
            "total conflicts: 2\n"
          ]
        },
        {
          "output_type": "stream",
          "name": "stderr",
          "text": [
            "\n",
            "  0%|          | 0/2 [00:00<?, ?it/s]\u001b[A\n",
            "100%|██████████| 2/2 [00:00<00:00, 12.25it/s]\n"
          ]
        },
        {
          "output_type": "stream",
          "name": "stdout",
          "text": [
            "conflicts to solve: 0\n",
            "total conflicts: 0\n"
          ]
        },
        {
          "output_type": "stream",
          "name": "stderr",
          "text": [
            "\n",
            "0it [00:00, ?it/s]\n"
          ]
        },
        {
          "output_type": "stream",
          "name": "stdout",
          "text": [
            "N: 14 --> 4\n",
            "R: 14 --> 4\n",
            "Chain score: 1.0000\n",
            "\n",
            " ---------------------------------------------------------------------------------------------------------------------------------------------------------------------------------------------------------------------------------------------------------------------------------------------------------------------------------------------------------------------------------------------------------------------------------------------------------------------------------------------------------------------------------------------------------------------------------------------------------------------------------------------------------------------------------------------------------------------------------------------------------------------------------------------------------------------------------------------------------------------------------------------------------------------------------------------------------------------------------------------------------------------------------------- \n",
            "\n",
            "/content/drive/MyDrive/FilteredNivkhTxt/a358_nd/n.txt /content/drive/MyDrive/FilteredNivkhTxt/a358_nd/r.txt\n"
          ]
        },
        {
          "output_type": "stream",
          "name": "stderr",
          "text": [
            "WARNING:root:can not fetch index db\n"
          ]
        },
        {
          "output_type": "stream",
          "name": "stdout",
          "text": [
            "Aligning without segments.\n",
            "tasks amount: 1\n",
            "batch: 0 (0)\n",
            "conflicts to solve: 3\n",
            "total conflicts: 3\n"
          ]
        },
        {
          "output_type": "stream",
          "name": "stderr",
          "text": [
            "\n",
            "  0%|          | 0/3 [00:00<?, ?it/s]\u001b[A\n",
            "100%|██████████| 3/3 [00:00<00:00, 16.28it/s]\n"
          ]
        },
        {
          "output_type": "stream",
          "name": "stdout",
          "text": [
            "conflicts to solve: 0\n",
            "total conflicts: 0\n"
          ]
        },
        {
          "output_type": "stream",
          "name": "stderr",
          "text": [
            "\n",
            "0it [00:00, ?it/s]\n"
          ]
        },
        {
          "output_type": "stream",
          "name": "stdout",
          "text": [
            "N: 17 --> 9\n",
            "R: 16 --> 9\n",
            "Chain score: 1.0000\n",
            "\n",
            " ---------------------------------------------------------------------------------------------------------------------------------------------------------------------------------------------------------------------------------------------------------------------------------------------------------------------------------------------------------------------------------------------------------------------------------------------------------------------------------------------------------------------------------------------------------------------------------------------------------------------------------------------------------------------------------------------------------------------------------------------------------------------------------------------------------------------------------------------------------------------------------------------------------------------------------------------------------------------------------------------------------------------------------------- \n",
            "\n",
            "/content/drive/MyDrive/FilteredNivkhTxt/a299_nd/n.txt /content/drive/MyDrive/FilteredNivkhTxt/a299_nd/r.txt\n",
            "Aligning without segments.\n",
            "tasks amount: 1\n",
            "batch: 0 (0)\n"
          ]
        },
        {
          "output_type": "stream",
          "name": "stderr",
          "text": [
            "WARNING:root:can not fetch index db\n"
          ]
        },
        {
          "output_type": "stream",
          "name": "stdout",
          "text": [
            "conflicts to solve: 4\n",
            "total conflicts: 8\n"
          ]
        },
        {
          "output_type": "stream",
          "name": "stderr",
          "text": [
            "\n",
            "  0%|          | 0/4 [00:00<?, ?it/s]\u001b[A\n",
            " 50%|█████     | 2/4 [00:00<00:00, 14.98it/s]\u001b[A\n",
            "100%|██████████| 4/4 [00:00<00:00, 14.15it/s]\n"
          ]
        },
        {
          "output_type": "stream",
          "name": "stdout",
          "text": [
            "conflicts to solve: 2\n",
            "total conflicts: 3\n"
          ]
        },
        {
          "output_type": "stream",
          "name": "stderr",
          "text": [
            "\n",
            "  0%|          | 0/2 [00:00<?, ?it/s]\u001b[A\n",
            "100%|██████████| 2/2 [00:00<00:00,  7.69it/s]\n"
          ]
        },
        {
          "output_type": "stream",
          "name": "stdout",
          "text": [
            "conflicts to solve: 0\n",
            "total conflicts: 1\n"
          ]
        },
        {
          "output_type": "stream",
          "name": "stderr",
          "text": [
            "\n",
            "0it [00:00, ?it/s]\n"
          ]
        },
        {
          "output_type": "stream",
          "name": "stdout",
          "text": [
            "conflicts to solve: 1\n",
            "total conflicts: 2\n"
          ]
        },
        {
          "output_type": "stream",
          "name": "stderr",
          "text": [
            "\n",
            "  0%|          | 0/1 [00:00<?, ?it/s]\u001b[A\n",
            "100%|██████████| 1/1 [00:00<00:00,  3.48it/s]\n"
          ]
        },
        {
          "output_type": "stream",
          "name": "stdout",
          "text": [
            "N: 67 --> 13\n",
            "R: 58 --> 13\n",
            "Chain score: 0.5606\n",
            "Skipping saving due to low chain_score: 0.5606\n",
            "\n",
            " ---------------------------------------------------------------------------------------------------------------------------------------------------------------------------------------------------------------------------------------------------------------------------------------------------------------------------------------------------------------------------------------------------------------------------------------------------------------------------------------------------------------------------------------------------------------------------------------------------------------------------------------------------------------------------------------------------------------------------------------------------------------------------------------------------------------------------------------------------------------------------------------------------------------------------------------------------------------------------------------------------------------------------------------- \n",
            "\n",
            "/content/drive/MyDrive/FilteredNivkhTxt/a406_nd/n.txt /content/drive/MyDrive/FilteredNivkhTxt/a406_nd/r.txt\n"
          ]
        },
        {
          "output_type": "stream",
          "name": "stderr",
          "text": [
            "WARNING:root:can not fetch index db\n"
          ]
        },
        {
          "output_type": "stream",
          "name": "stdout",
          "text": [
            "Aligning without segments.\n",
            "tasks amount: 1\n",
            "batch: 0 (0)\n",
            "conflicts to solve: 0\n",
            "total conflicts: 1\n"
          ]
        },
        {
          "output_type": "stream",
          "name": "stderr",
          "text": [
            "\n",
            "0it [00:00, ?it/s]\n"
          ]
        },
        {
          "output_type": "stream",
          "name": "stdout",
          "text": [
            "conflicts to solve: 1\n",
            "total conflicts: 1\n"
          ]
        },
        {
          "output_type": "stream",
          "name": "stderr",
          "text": [
            "\n",
            "  0%|          | 0/1 [00:00<?, ?it/s]\u001b[A\n",
            "100%|██████████| 1/1 [00:00<00:00,  2.75it/s]\n"
          ]
        },
        {
          "output_type": "stream",
          "name": "stdout",
          "text": [
            "conflicts to solve: 0\n",
            "total conflicts: 0\n"
          ]
        },
        {
          "output_type": "stream",
          "name": "stderr",
          "text": [
            "\n",
            "0it [00:00, ?it/s]\n"
          ]
        },
        {
          "output_type": "stream",
          "name": "stdout",
          "text": [
            "N: 12 --> 2\n",
            "R: 9 --> 2\n",
            "Chain score: 1.0000\n",
            "\n",
            " ---------------------------------------------------------------------------------------------------------------------------------------------------------------------------------------------------------------------------------------------------------------------------------------------------------------------------------------------------------------------------------------------------------------------------------------------------------------------------------------------------------------------------------------------------------------------------------------------------------------------------------------------------------------------------------------------------------------------------------------------------------------------------------------------------------------------------------------------------------------------------------------------------------------------------------------------------------------------------------------------------------------------------------------- \n",
            "\n",
            "/content/drive/MyDrive/FilteredNivkhTxt/a416_nd/n.txt /content/drive/MyDrive/FilteredNivkhTxt/a416_nd/r.txt\n"
          ]
        },
        {
          "output_type": "stream",
          "name": "stderr",
          "text": [
            "WARNING:root:can not fetch index db\n"
          ]
        },
        {
          "output_type": "stream",
          "name": "stdout",
          "text": [
            "Aligning without segments.\n",
            "tasks amount: 1\n",
            "batch: 0 (0)\n",
            "conflicts to solve: 0\n",
            "total conflicts: 1\n"
          ]
        },
        {
          "output_type": "stream",
          "name": "stderr",
          "text": [
            "\n",
            "0it [00:00, ?it/s]\n"
          ]
        },
        {
          "output_type": "stream",
          "name": "stdout",
          "text": [
            "conflicts to solve: 0\n",
            "total conflicts: 0\n"
          ]
        },
        {
          "output_type": "stream",
          "name": "stderr",
          "text": [
            "\n",
            "0it [00:00, ?it/s]\n"
          ]
        },
        {
          "output_type": "stream",
          "name": "stdout",
          "text": [
            "conflicts to solve: 1\n",
            "total conflicts: 1\n"
          ]
        },
        {
          "output_type": "stream",
          "name": "stderr",
          "text": [
            "\n",
            "  0%|          | 0/1 [00:00<?, ?it/s]\u001b[A\n",
            "100%|██████████| 1/1 [00:00<00:00,  4.81it/s]\n"
          ]
        },
        {
          "output_type": "stream",
          "name": "stdout",
          "text": [
            "N: 13 --> 1\n",
            "R: 14 --> 1\n",
            "Chain score: 1.0000\n",
            "\n",
            " ---------------------------------------------------------------------------------------------------------------------------------------------------------------------------------------------------------------------------------------------------------------------------------------------------------------------------------------------------------------------------------------------------------------------------------------------------------------------------------------------------------------------------------------------------------------------------------------------------------------------------------------------------------------------------------------------------------------------------------------------------------------------------------------------------------------------------------------------------------------------------------------------------------------------------------------------------------------------------------------------------------------------------------------- \n",
            "\n",
            "/content/drive/MyDrive/FilteredNivkhTxt/a259_nd/n.txt /content/drive/MyDrive/FilteredNivkhTxt/a259_nd/r.txt\n"
          ]
        },
        {
          "output_type": "stream",
          "name": "stderr",
          "text": [
            "WARNING:root:can not fetch index db\n"
          ]
        },
        {
          "output_type": "stream",
          "name": "stdout",
          "text": [
            "Aligning without segments.\n",
            "tasks amount: 1\n",
            "batch: 0 (0)\n",
            "conflicts to solve: 1\n",
            "total conflicts: 1\n"
          ]
        },
        {
          "output_type": "stream",
          "name": "stderr",
          "text": [
            "\n",
            "100%|██████████| 1/1 [00:00<00:00, 12.66it/s]\n"
          ]
        },
        {
          "output_type": "stream",
          "name": "stdout",
          "text": [
            "conflicts to solve: 0\n",
            "total conflicts: 0\n"
          ]
        },
        {
          "output_type": "stream",
          "name": "stderr",
          "text": [
            "\n",
            "0it [00:00, ?it/s]\n"
          ]
        },
        {
          "output_type": "stream",
          "name": "stdout",
          "text": [
            "N: 13 --> 2\n",
            "R: 12 --> 2\n",
            "Chain score: 0.7500\n",
            "\n",
            " ---------------------------------------------------------------------------------------------------------------------------------------------------------------------------------------------------------------------------------------------------------------------------------------------------------------------------------------------------------------------------------------------------------------------------------------------------------------------------------------------------------------------------------------------------------------------------------------------------------------------------------------------------------------------------------------------------------------------------------------------------------------------------------------------------------------------------------------------------------------------------------------------------------------------------------------------------------------------------------------------------------------------------------------- \n",
            "\n",
            "/content/drive/MyDrive/FilteredNivkhTxt/10_agm/n.txt /content/drive/MyDrive/FilteredNivkhTxt/10_agm/r.txt\n",
            "Aligning without segments.\n",
            "tasks amount: 1\n",
            "batch: 0 (0)\n"
          ]
        },
        {
          "output_type": "stream",
          "name": "stderr",
          "text": [
            "WARNING:root:can not fetch index db\n"
          ]
        },
        {
          "output_type": "stream",
          "name": "stdout",
          "text": [
            "conflicts to solve: 0\n",
            "total conflicts: 2\n"
          ]
        },
        {
          "output_type": "stream",
          "name": "stderr",
          "text": [
            "\n",
            "0it [00:00, ?it/s]\n"
          ]
        },
        {
          "output_type": "stream",
          "name": "stdout",
          "text": [
            "conflicts to solve: 0\n",
            "total conflicts: 0\n"
          ]
        },
        {
          "output_type": "stream",
          "name": "stderr",
          "text": [
            "\n",
            "0it [00:00, ?it/s]\n"
          ]
        },
        {
          "output_type": "stream",
          "name": "stdout",
          "text": [
            "conflicts to solve: 2\n",
            "total conflicts: 2\n"
          ]
        },
        {
          "output_type": "stream",
          "name": "stderr",
          "text": [
            "\n",
            "  0%|          | 0/2 [00:00<?, ?it/s]\u001b[A\n",
            " 50%|█████     | 1/2 [00:00<00:00,  1.51it/s]\u001b[A\n",
            "100%|██████████| 2/2 [00:03<00:00,  1.89s/it]\n"
          ]
        },
        {
          "output_type": "stream",
          "name": "stdout",
          "text": [
            "N: 26 --> 6\n",
            "R: 41 --> 6\n",
            "Chain score: 0.8667\n",
            "\n",
            " ---------------------------------------------------------------------------------------------------------------------------------------------------------------------------------------------------------------------------------------------------------------------------------------------------------------------------------------------------------------------------------------------------------------------------------------------------------------------------------------------------------------------------------------------------------------------------------------------------------------------------------------------------------------------------------------------------------------------------------------------------------------------------------------------------------------------------------------------------------------------------------------------------------------------------------------------------------------------------------------------------------------------------------------- \n",
            "\n",
            "/content/drive/MyDrive/FilteredNivkhTxt/a422_nd/n.txt /content/drive/MyDrive/FilteredNivkhTxt/a422_nd/r.txt\n"
          ]
        },
        {
          "output_type": "stream",
          "name": "stderr",
          "text": [
            "WARNING:root:can not fetch index db\n"
          ]
        },
        {
          "output_type": "stream",
          "name": "stdout",
          "text": [
            "Aligning without segments.\n",
            "tasks amount: 1\n",
            "batch: 0 (0)\n",
            "conflicts to solve: 2\n",
            "total conflicts: 3\n"
          ]
        },
        {
          "output_type": "stream",
          "name": "stderr",
          "text": [
            "\n",
            "  0%|          | 0/2 [00:00<?, ?it/s]\u001b[A\n",
            "100%|██████████| 2/2 [00:00<00:00, 17.65it/s]\n"
          ]
        },
        {
          "output_type": "stream",
          "name": "stdout",
          "text": [
            "conflicts to solve: 1\n",
            "total conflicts: 1\n"
          ]
        },
        {
          "output_type": "stream",
          "name": "stderr",
          "text": [
            "\n",
            "  0%|          | 0/1 [00:00<?, ?it/s]\u001b[A\n",
            "100%|██████████| 1/1 [00:00<00:00,  6.83it/s]\n"
          ]
        },
        {
          "output_type": "stream",
          "name": "stdout",
          "text": [
            "conflicts to solve: 0\n",
            "total conflicts: 0\n"
          ]
        },
        {
          "output_type": "stream",
          "name": "stderr",
          "text": [
            "\n",
            "0it [00:00, ?it/s]\n"
          ]
        },
        {
          "output_type": "stream",
          "name": "stdout",
          "text": [
            "N: 18 --> 3\n",
            "R: 19 --> 3\n",
            "Chain score: 0.9500\n",
            "\n",
            " ---------------------------------------------------------------------------------------------------------------------------------------------------------------------------------------------------------------------------------------------------------------------------------------------------------------------------------------------------------------------------------------------------------------------------------------------------------------------------------------------------------------------------------------------------------------------------------------------------------------------------------------------------------------------------------------------------------------------------------------------------------------------------------------------------------------------------------------------------------------------------------------------------------------------------------------------------------------------------------------------------------------------------------------- \n",
            "\n",
            "/content/drive/MyDrive/FilteredNivkhTxt/05_agm/n.txt /content/drive/MyDrive/FilteredNivkhTxt/05_agm/r.txt\n"
          ]
        },
        {
          "output_type": "stream",
          "name": "stderr",
          "text": [
            "WARNING:root:can not fetch index db\n"
          ]
        },
        {
          "output_type": "stream",
          "name": "stdout",
          "text": [
            "Aligning without segments.\n",
            "tasks amount: 1\n",
            "batch: 0 (0)\n",
            "conflicts to solve: 0\n",
            "total conflicts: 0\n"
          ]
        },
        {
          "output_type": "stream",
          "name": "stderr",
          "text": [
            "\n",
            "0it [00:00, ?it/s]\n"
          ]
        },
        {
          "output_type": "stream",
          "name": "stdout",
          "text": [
            "conflicts to solve: 0\n",
            "total conflicts: 0\n"
          ]
        },
        {
          "output_type": "stream",
          "name": "stderr",
          "text": [
            "\n",
            "0it [00:00, ?it/s]\n"
          ]
        },
        {
          "output_type": "stream",
          "name": "stdout",
          "text": [
            "N: 13 --> 3\n",
            "R: 24 --> 3\n",
            "Chain score: 0.0833\n",
            "Skipping saving due to low chain_score: 0.0833\n",
            "\n",
            " ---------------------------------------------------------------------------------------------------------------------------------------------------------------------------------------------------------------------------------------------------------------------------------------------------------------------------------------------------------------------------------------------------------------------------------------------------------------------------------------------------------------------------------------------------------------------------------------------------------------------------------------------------------------------------------------------------------------------------------------------------------------------------------------------------------------------------------------------------------------------------------------------------------------------------------------------------------------------------------------------------------------------------------------- \n",
            "\n",
            "/content/drive/MyDrive/FilteredNivkhTxt/a457_nd/n.txt /content/drive/MyDrive/FilteredNivkhTxt/a457_nd/r.txt\n",
            "Aligning without segments.\n",
            "tasks amount: 1\n",
            "batch: 0 (0)\n"
          ]
        },
        {
          "output_type": "stream",
          "name": "stderr",
          "text": [
            "WARNING:root:can not fetch index db\n"
          ]
        },
        {
          "output_type": "stream",
          "name": "stdout",
          "text": [
            "conflicts to solve: 0\n",
            "total conflicts: 2\n"
          ]
        },
        {
          "output_type": "stream",
          "name": "stderr",
          "text": [
            "\n",
            "0it [00:00, ?it/s]\n"
          ]
        },
        {
          "output_type": "stream",
          "name": "stdout",
          "text": [
            "conflicts to solve: 0\n",
            "total conflicts: 1\n"
          ]
        },
        {
          "output_type": "stream",
          "name": "stderr",
          "text": [
            "\n",
            "0it [00:00, ?it/s]\n"
          ]
        },
        {
          "output_type": "stream",
          "name": "stdout",
          "text": [
            "conflicts to solve: 1\n",
            "total conflicts: 1\n"
          ]
        },
        {
          "output_type": "stream",
          "name": "stderr",
          "text": [
            "\n",
            "  0%|          | 0/1 [00:00<?, ?it/s]\u001b[A\n",
            "100%|██████████| 1/1 [00:01<00:00,  1.70s/it]\n"
          ]
        },
        {
          "output_type": "stream",
          "name": "stdout",
          "text": [
            "conflicts to solve: 0\n",
            "total conflicts: 0\n"
          ]
        },
        {
          "output_type": "stream",
          "name": "stderr",
          "text": [
            "\n",
            "0it [00:00, ?it/s]\n"
          ]
        },
        {
          "output_type": "stream",
          "name": "stdout",
          "text": [
            "N: 21 --> 8\n",
            "R: 17 --> 8\n",
            "Chain score: 1.0000\n",
            "\n",
            " ---------------------------------------------------------------------------------------------------------------------------------------------------------------------------------------------------------------------------------------------------------------------------------------------------------------------------------------------------------------------------------------------------------------------------------------------------------------------------------------------------------------------------------------------------------------------------------------------------------------------------------------------------------------------------------------------------------------------------------------------------------------------------------------------------------------------------------------------------------------------------------------------------------------------------------------------------------------------------------------------------------------------------------------- \n",
            "\n",
            "/content/drive/MyDrive/FilteredNivkhTxt/a432_nd/n.txt /content/drive/MyDrive/FilteredNivkhTxt/a432_nd/r.txt\n"
          ]
        },
        {
          "output_type": "stream",
          "name": "stderr",
          "text": [
            "WARNING:root:can not fetch index db\n"
          ]
        },
        {
          "output_type": "stream",
          "name": "stdout",
          "text": [
            "Aligning without segments.\n",
            "tasks amount: 1\n",
            "batch: 0 (0)\n",
            "conflicts to solve: 2\n",
            "total conflicts: 2\n"
          ]
        },
        {
          "output_type": "stream",
          "name": "stderr",
          "text": [
            "\n",
            "  0%|          | 0/2 [00:00<?, ?it/s]\u001b[A\n",
            "100%|██████████| 2/2 [00:00<00:00, 13.34it/s]\n"
          ]
        },
        {
          "output_type": "stream",
          "name": "stdout",
          "text": [
            "conflicts to solve: 0\n",
            "total conflicts: 0\n"
          ]
        },
        {
          "output_type": "stream",
          "name": "stderr",
          "text": [
            "\n",
            "0it [00:00, ?it/s]\n"
          ]
        },
        {
          "output_type": "stream",
          "name": "stdout",
          "text": [
            "N: 14 --> 9\n",
            "R: 13 --> 9\n",
            "Chain score: 0.6429\n",
            "Skipping saving due to low chain_score: 0.6429\n",
            "\n",
            " ---------------------------------------------------------------------------------------------------------------------------------------------------------------------------------------------------------------------------------------------------------------------------------------------------------------------------------------------------------------------------------------------------------------------------------------------------------------------------------------------------------------------------------------------------------------------------------------------------------------------------------------------------------------------------------------------------------------------------------------------------------------------------------------------------------------------------------------------------------------------------------------------------------------------------------------------------------------------------------------------------------------------------------------- \n",
            "\n",
            "/content/drive/MyDrive/FilteredNivkhTxt/a447_nd/n.txt /content/drive/MyDrive/FilteredNivkhTxt/a447_nd/r.txt\n"
          ]
        },
        {
          "output_type": "stream",
          "name": "stderr",
          "text": [
            "WARNING:root:can not fetch index db\n"
          ]
        },
        {
          "output_type": "stream",
          "name": "stdout",
          "text": [
            "Aligning without segments.\n",
            "tasks amount: 1\n",
            "batch: 0 (0)\n",
            "conflicts to solve: 1\n",
            "total conflicts: 2\n"
          ]
        },
        {
          "output_type": "stream",
          "name": "stderr",
          "text": [
            "\n",
            "100%|██████████| 1/1 [00:00<00:00, 14.18it/s]\n"
          ]
        },
        {
          "output_type": "stream",
          "name": "stdout",
          "text": [
            "conflicts to solve: 1\n",
            "total conflicts: 1\n"
          ]
        },
        {
          "output_type": "stream",
          "name": "stderr",
          "text": [
            "\n",
            "  0%|          | 0/1 [00:00<?, ?it/s]\u001b[A\n",
            "100%|██████████| 1/1 [00:00<00:00,  1.29it/s]\n"
          ]
        },
        {
          "output_type": "stream",
          "name": "stdout",
          "text": [
            "conflicts to solve: 0\n",
            "total conflicts: 0\n"
          ]
        },
        {
          "output_type": "stream",
          "name": "stderr",
          "text": [
            "\n",
            "0it [00:00, ?it/s]\n"
          ]
        },
        {
          "output_type": "stream",
          "name": "stdout",
          "text": [
            "N: 15 --> 1\n",
            "R: 8 --> 1\n",
            "Chain score: 1.0000\n",
            "\n",
            " ---------------------------------------------------------------------------------------------------------------------------------------------------------------------------------------------------------------------------------------------------------------------------------------------------------------------------------------------------------------------------------------------------------------------------------------------------------------------------------------------------------------------------------------------------------------------------------------------------------------------------------------------------------------------------------------------------------------------------------------------------------------------------------------------------------------------------------------------------------------------------------------------------------------------------------------------------------------------------------------------------------------------------------------- \n",
            "\n",
            "/content/drive/MyDrive/FilteredNivkhTxt/88_nd/n.txt /content/drive/MyDrive/FilteredNivkhTxt/88_nd/r.txt\n"
          ]
        },
        {
          "output_type": "stream",
          "name": "stderr",
          "text": [
            "WARNING:root:can not fetch index db\n"
          ]
        },
        {
          "output_type": "stream",
          "name": "stdout",
          "text": [
            "Aligning without segments.\n",
            "tasks amount: 1\n",
            "batch: 0 (0)\n",
            "conflicts to solve: 1\n",
            "total conflicts: 3\n"
          ]
        },
        {
          "output_type": "stream",
          "name": "stderr",
          "text": [
            "\n",
            "100%|██████████| 1/1 [00:00<00:00, 13.04it/s]\n"
          ]
        },
        {
          "output_type": "stream",
          "name": "stdout",
          "text": [
            "conflicts to solve: 1\n",
            "total conflicts: 1\n"
          ]
        },
        {
          "output_type": "stream",
          "name": "stderr",
          "text": [
            "\n",
            "  0%|          | 0/1 [00:00<?, ?it/s]\u001b[A\n",
            "100%|██████████| 1/1 [00:00<00:00,  3.68it/s]\n"
          ]
        },
        {
          "output_type": "stream",
          "name": "stdout",
          "text": [
            "conflicts to solve: 0\n",
            "total conflicts: 0\n"
          ]
        },
        {
          "output_type": "stream",
          "name": "stderr",
          "text": [
            "\n",
            "0it [00:00, ?it/s]\n"
          ]
        },
        {
          "output_type": "stream",
          "name": "stdout",
          "text": [
            "N: 15 --> 4\n",
            "R: 11 --> 4\n",
            "Chain score: 1.0000\n",
            "\n",
            " ---------------------------------------------------------------------------------------------------------------------------------------------------------------------------------------------------------------------------------------------------------------------------------------------------------------------------------------------------------------------------------------------------------------------------------------------------------------------------------------------------------------------------------------------------------------------------------------------------------------------------------------------------------------------------------------------------------------------------------------------------------------------------------------------------------------------------------------------------------------------------------------------------------------------------------------------------------------------------------------------------------------------------------------- \n",
            "\n",
            "/content/drive/MyDrive/FilteredNivkhTxt/a412_nd/n.txt /content/drive/MyDrive/FilteredNivkhTxt/a412_nd/r.txt\n"
          ]
        },
        {
          "output_type": "stream",
          "name": "stderr",
          "text": [
            "WARNING:root:can not fetch index db\n"
          ]
        },
        {
          "output_type": "stream",
          "name": "stdout",
          "text": [
            "Aligning without segments.\n",
            "tasks amount: 1\n",
            "batch: 0 (0)\n",
            "conflicts to solve: 2\n",
            "total conflicts: 2\n"
          ]
        },
        {
          "output_type": "stream",
          "name": "stderr",
          "text": [
            "\n",
            "  0%|          | 0/2 [00:00<?, ?it/s]\u001b[A\n",
            "100%|██████████| 2/2 [00:00<00:00, 10.76it/s]\n"
          ]
        },
        {
          "output_type": "stream",
          "name": "stdout",
          "text": [
            "conflicts to solve: 0\n",
            "total conflicts: 0\n"
          ]
        },
        {
          "output_type": "stream",
          "name": "stderr",
          "text": [
            "\n",
            "0it [00:00, ?it/s]\n"
          ]
        },
        {
          "output_type": "stream",
          "name": "stdout",
          "text": [
            "N: 23 --> 10\n",
            "R: 21 --> 10\n",
            "Chain score: 0.4091\n",
            "Skipping saving due to low chain_score: 0.4091\n",
            "\n",
            " ---------------------------------------------------------------------------------------------------------------------------------------------------------------------------------------------------------------------------------------------------------------------------------------------------------------------------------------------------------------------------------------------------------------------------------------------------------------------------------------------------------------------------------------------------------------------------------------------------------------------------------------------------------------------------------------------------------------------------------------------------------------------------------------------------------------------------------------------------------------------------------------------------------------------------------------------------------------------------------------------------------------------------------------- \n",
            "\n",
            "/content/drive/MyDrive/FilteredNivkhTxt/a426_nd/n.txt /content/drive/MyDrive/FilteredNivkhTxt/a426_nd/r.txt\n"
          ]
        },
        {
          "output_type": "stream",
          "name": "stderr",
          "text": [
            "WARNING:root:can not fetch index db\n"
          ]
        },
        {
          "output_type": "stream",
          "name": "stdout",
          "text": [
            "Aligning without segments.\n",
            "tasks amount: 1\n",
            "batch: 0 (0)\n",
            "conflicts to solve: 1\n",
            "total conflicts: 1\n"
          ]
        },
        {
          "output_type": "stream",
          "name": "stderr",
          "text": [
            "\n",
            "  0%|          | 0/1 [00:00<?, ?it/s]\u001b[A\n",
            "100%|██████████| 1/1 [00:00<00:00,  9.11it/s]\n"
          ]
        },
        {
          "output_type": "stream",
          "name": "stdout",
          "text": [
            "conflicts to solve: 0\n",
            "total conflicts: 0\n"
          ]
        },
        {
          "output_type": "stream",
          "name": "stderr",
          "text": [
            "\n",
            "0it [00:00, ?it/s]\n"
          ]
        },
        {
          "output_type": "stream",
          "name": "stdout",
          "text": [
            "N: 23 --> 4\n",
            "R: 9 --> 4\n",
            "Chain score: 0.1500\n",
            "Skipping saving due to low chain_score: 0.1500\n",
            "\n",
            " ---------------------------------------------------------------------------------------------------------------------------------------------------------------------------------------------------------------------------------------------------------------------------------------------------------------------------------------------------------------------------------------------------------------------------------------------------------------------------------------------------------------------------------------------------------------------------------------------------------------------------------------------------------------------------------------------------------------------------------------------------------------------------------------------------------------------------------------------------------------------------------------------------------------------------------------------------------------------------------------------------------------------------------------- \n",
            "\n",
            "/content/drive/MyDrive/FilteredNivkhTxt/40_sng/n.txt /content/drive/MyDrive/FilteredNivkhTxt/40_sng/r.txt\n",
            "Aligning without segments.\n",
            "tasks amount: 1\n",
            "batch: 0 (0)\n"
          ]
        },
        {
          "output_type": "stream",
          "name": "stderr",
          "text": [
            "WARNING:root:can not fetch index db\n"
          ]
        },
        {
          "output_type": "stream",
          "name": "stdout",
          "text": [
            "conflicts to solve: 0\n",
            "total conflicts: 2\n"
          ]
        },
        {
          "output_type": "stream",
          "name": "stderr",
          "text": [
            "\n",
            "0it [00:00, ?it/s]\n"
          ]
        },
        {
          "output_type": "stream",
          "name": "stdout",
          "text": [
            "conflicts to solve: 0\n",
            "total conflicts: 1\n"
          ]
        },
        {
          "output_type": "stream",
          "name": "stderr",
          "text": [
            "\n",
            "0it [00:00, ?it/s]\n"
          ]
        },
        {
          "output_type": "stream",
          "name": "stdout",
          "text": [
            "conflicts to solve: 0\n",
            "total conflicts: 1\n"
          ]
        },
        {
          "output_type": "stream",
          "name": "stderr",
          "text": [
            "\n",
            "0it [00:00, ?it/s]\n"
          ]
        },
        {
          "output_type": "stream",
          "name": "stdout",
          "text": [
            "conflicts to solve: 0\n",
            "total conflicts: 2\n"
          ]
        },
        {
          "output_type": "stream",
          "name": "stderr",
          "text": [
            "\n",
            "0it [00:00, ?it/s]\n"
          ]
        },
        {
          "output_type": "stream",
          "name": "stdout",
          "text": [
            "N: 69 --> 22\n",
            "R: 92 --> 22\n",
            "Chain score: 0.0147\n",
            "Skipping saving due to low chain_score: 0.0147\n",
            "\n",
            " ---------------------------------------------------------------------------------------------------------------------------------------------------------------------------------------------------------------------------------------------------------------------------------------------------------------------------------------------------------------------------------------------------------------------------------------------------------------------------------------------------------------------------------------------------------------------------------------------------------------------------------------------------------------------------------------------------------------------------------------------------------------------------------------------------------------------------------------------------------------------------------------------------------------------------------------------------------------------------------------------------------------------------------------- \n",
            "\n",
            "/content/drive/MyDrive/FilteredNivkhTxt/a279_nd/n.txt /content/drive/MyDrive/FilteredNivkhTxt/a279_nd/r.txt\n"
          ]
        },
        {
          "output_type": "stream",
          "name": "stderr",
          "text": [
            "WARNING:root:can not fetch index db\n"
          ]
        },
        {
          "output_type": "stream",
          "name": "stdout",
          "text": [
            "Aligning without segments.\n",
            "tasks amount: 1\n",
            "batch: 0 (0)\n",
            "conflicts to solve: 0\n",
            "total conflicts: 0\n"
          ]
        },
        {
          "output_type": "stream",
          "name": "stderr",
          "text": [
            "\n",
            "0it [00:00, ?it/s]\n"
          ]
        },
        {
          "output_type": "stream",
          "name": "stdout",
          "text": [
            "conflicts to solve: 0\n",
            "total conflicts: 0\n"
          ]
        },
        {
          "output_type": "stream",
          "name": "stderr",
          "text": [
            "\n",
            "0it [00:00, ?it/s]\n"
          ]
        },
        {
          "output_type": "stream",
          "name": "stdout",
          "text": [
            "N: 15 --> 2\n",
            "R: 12 --> 2\n",
            "Chain score: 0.0714\n",
            "Skipping saving due to low chain_score: 0.0714\n",
            "\n",
            " ---------------------------------------------------------------------------------------------------------------------------------------------------------------------------------------------------------------------------------------------------------------------------------------------------------------------------------------------------------------------------------------------------------------------------------------------------------------------------------------------------------------------------------------------------------------------------------------------------------------------------------------------------------------------------------------------------------------------------------------------------------------------------------------------------------------------------------------------------------------------------------------------------------------------------------------------------------------------------------------------------------------------------------------- \n",
            "\n",
            "/content/drive/MyDrive/FilteredNivkhTxt/a348_nd/n.txt /content/drive/MyDrive/FilteredNivkhTxt/a348_nd/r.txt\n",
            "Aligning without segments.\n",
            "tasks amount: 1\n",
            "batch: 0 (0)\n"
          ]
        },
        {
          "output_type": "stream",
          "name": "stderr",
          "text": [
            "WARNING:root:can not fetch index db\n"
          ]
        },
        {
          "output_type": "stream",
          "name": "stdout",
          "text": [
            "conflicts to solve: 2\n",
            "total conflicts: 3\n"
          ]
        },
        {
          "output_type": "stream",
          "name": "stderr",
          "text": [
            "\n",
            "  0%|          | 0/2 [00:00<?, ?it/s]\u001b[A\n",
            "100%|██████████| 2/2 [00:00<00:00, 13.36it/s]\n"
          ]
        },
        {
          "output_type": "stream",
          "name": "stdout",
          "text": [
            "conflicts to solve: 1\n",
            "total conflicts: 1\n"
          ]
        },
        {
          "output_type": "stream",
          "name": "stderr",
          "text": [
            "\n",
            "  0%|          | 0/1 [00:00<?, ?it/s]\u001b[A\n",
            "100%|██████████| 1/1 [00:00<00:00,  4.29it/s]\n"
          ]
        },
        {
          "output_type": "stream",
          "name": "stdout",
          "text": [
            "conflicts to solve: 0\n",
            "total conflicts: 0\n"
          ]
        },
        {
          "output_type": "stream",
          "name": "stderr",
          "text": [
            "\n",
            "0it [00:00, ?it/s]\n"
          ]
        },
        {
          "output_type": "stream",
          "name": "stdout",
          "text": [
            "N: 17 --> 4\n",
            "R: 17 --> 4\n",
            "Chain score: 1.0000\n",
            "\n",
            " ---------------------------------------------------------------------------------------------------------------------------------------------------------------------------------------------------------------------------------------------------------------------------------------------------------------------------------------------------------------------------------------------------------------------------------------------------------------------------------------------------------------------------------------------------------------------------------------------------------------------------------------------------------------------------------------------------------------------------------------------------------------------------------------------------------------------------------------------------------------------------------------------------------------------------------------------------------------------------------------------------------------------------------------- \n",
            "\n",
            "/content/drive/MyDrive/FilteredNivkhTxt/52_shklg/n.txt /content/drive/MyDrive/FilteredNivkhTxt/52_shklg/r.txt\n"
          ]
        },
        {
          "output_type": "stream",
          "name": "stderr",
          "text": [
            "WARNING:root:can not fetch index db\n"
          ]
        },
        {
          "output_type": "stream",
          "name": "stdout",
          "text": [
            "Aligning without segments.\n",
            "tasks amount: 1\n",
            "batch: 0 (0)\n",
            "conflicts to solve: 0\n",
            "total conflicts: 0\n"
          ]
        },
        {
          "output_type": "stream",
          "name": "stderr",
          "text": [
            "\n",
            "0it [00:00, ?it/s]\n"
          ]
        },
        {
          "output_type": "stream",
          "name": "stdout",
          "text": [
            "conflicts to solve: 0\n",
            "total conflicts: 0\n"
          ]
        },
        {
          "output_type": "stream",
          "name": "stderr",
          "text": [
            "\n",
            "0it [00:00, ?it/s]\n"
          ]
        },
        {
          "output_type": "stream",
          "name": "stdout",
          "text": [
            "N: 5 --> 2\n",
            "R: 5 --> 2\n",
            "Chain score: 0.2500\n",
            "Skipping saving due to low chain_score: 0.2500\n",
            "\n",
            " ---------------------------------------------------------------------------------------------------------------------------------------------------------------------------------------------------------------------------------------------------------------------------------------------------------------------------------------------------------------------------------------------------------------------------------------------------------------------------------------------------------------------------------------------------------------------------------------------------------------------------------------------------------------------------------------------------------------------------------------------------------------------------------------------------------------------------------------------------------------------------------------------------------------------------------------------------------------------------------------------------------------------------------------- \n",
            "\n",
            "/content/drive/MyDrive/FilteredNivkhTxt/a339_nd/n.txt /content/drive/MyDrive/FilteredNivkhTxt/a339_nd/r.txt\n",
            "Aligning without segments.\n",
            "tasks amount: 1\n",
            "batch: 0 (0)\n"
          ]
        },
        {
          "output_type": "stream",
          "name": "stderr",
          "text": [
            "WARNING:root:can not fetch index db\n"
          ]
        },
        {
          "output_type": "stream",
          "name": "stdout",
          "text": [
            "conflicts to solve: 2\n",
            "total conflicts: 6\n"
          ]
        },
        {
          "output_type": "stream",
          "name": "stderr",
          "text": [
            "\n",
            "  0%|          | 0/2 [00:00<?, ?it/s]\u001b[A\n",
            "100%|██████████| 2/2 [00:00<00:00, 12.38it/s]\n"
          ]
        },
        {
          "output_type": "stream",
          "name": "stdout",
          "text": [
            "conflicts to solve: 0\n",
            "total conflicts: 1\n"
          ]
        },
        {
          "output_type": "stream",
          "name": "stderr",
          "text": [
            "\n",
            "0it [00:00, ?it/s]\n"
          ]
        },
        {
          "output_type": "stream",
          "name": "stdout",
          "text": [
            "conflicts to solve: 0\n",
            "total conflicts: 1\n"
          ]
        },
        {
          "output_type": "stream",
          "name": "stderr",
          "text": [
            "\n",
            "0it [00:00, ?it/s]\n"
          ]
        },
        {
          "output_type": "stream",
          "name": "stdout",
          "text": [
            "conflicts to solve: 3\n",
            "total conflicts: 4\n"
          ]
        },
        {
          "output_type": "stream",
          "name": "stderr",
          "text": [
            "\n",
            "  0%|          | 0/3 [00:00<?, ?it/s]\u001b[A\n",
            " 33%|███▎      | 1/3 [00:02<00:04,  2.28s/it]\u001b[A\n",
            " 67%|██████▋   | 2/3 [00:02<00:01,  1.08s/it]\u001b[A\n",
            "100%|██████████| 3/3 [00:02<00:00,  1.01it/s]\n"
          ]
        },
        {
          "output_type": "stream",
          "name": "stdout",
          "text": [
            "N: 47 --> 18\n",
            "R: 50 --> 18\n",
            "Chain score: 0.9286\n",
            "\n",
            " ---------------------------------------------------------------------------------------------------------------------------------------------------------------------------------------------------------------------------------------------------------------------------------------------------------------------------------------------------------------------------------------------------------------------------------------------------------------------------------------------------------------------------------------------------------------------------------------------------------------------------------------------------------------------------------------------------------------------------------------------------------------------------------------------------------------------------------------------------------------------------------------------------------------------------------------------------------------------------------------------------------------------------------------- \n",
            "\n",
            "/content/drive/MyDrive/FilteredNivkhTxt/42_sng/n.txt /content/drive/MyDrive/FilteredNivkhTxt/42_sng/r.txt\n",
            "Aligning without segments.\n",
            "tasks amount: 1\n",
            "batch: 0 (0)\n"
          ]
        },
        {
          "output_type": "stream",
          "name": "stderr",
          "text": [
            "WARNING:root:can not fetch index db\n"
          ]
        },
        {
          "output_type": "stream",
          "name": "stdout",
          "text": [
            "conflicts to solve: 0\n",
            "total conflicts: 4\n"
          ]
        },
        {
          "output_type": "stream",
          "name": "stderr",
          "text": [
            "\n",
            "0it [00:00, ?it/s]\n"
          ]
        },
        {
          "output_type": "stream",
          "name": "stdout",
          "text": [
            "conflicts to solve: 0\n",
            "total conflicts: 1\n"
          ]
        },
        {
          "output_type": "stream",
          "name": "stderr",
          "text": [
            "\n",
            "0it [00:00, ?it/s]\n"
          ]
        },
        {
          "output_type": "stream",
          "name": "stdout",
          "text": [
            "conflicts to solve: 0\n",
            "total conflicts: 1\n"
          ]
        },
        {
          "output_type": "stream",
          "name": "stderr",
          "text": [
            "\n",
            "0it [00:00, ?it/s]\n"
          ]
        },
        {
          "output_type": "stream",
          "name": "stdout",
          "text": [
            "conflicts to solve: 3\n",
            "total conflicts: 4\n"
          ]
        },
        {
          "output_type": "stream",
          "name": "stderr",
          "text": [
            "\n",
            "  0%|          | 0/3 [00:00<?, ?it/s]\u001b[A\n",
            " 33%|███▎      | 1/3 [00:00<00:01,  1.90it/s]\u001b[A\n",
            " 67%|██████▋   | 2/3 [00:02<00:01,  1.52s/it]\u001b[A\n",
            "100%|██████████| 3/3 [00:02<00:00,  1.00it/s]\n"
          ]
        },
        {
          "output_type": "stream",
          "name": "stdout",
          "text": [
            "N: 111 --> 36\n",
            "R: 102 --> 36\n",
            "Chain score: 0.3725\n",
            "Skipping saving due to low chain_score: 0.3725\n",
            "\n",
            " ---------------------------------------------------------------------------------------------------------------------------------------------------------------------------------------------------------------------------------------------------------------------------------------------------------------------------------------------------------------------------------------------------------------------------------------------------------------------------------------------------------------------------------------------------------------------------------------------------------------------------------------------------------------------------------------------------------------------------------------------------------------------------------------------------------------------------------------------------------------------------------------------------------------------------------------------------------------------------------------------------------------------------------------- \n",
            "\n",
            "/content/drive/MyDrive/FilteredNivkhTxt/a319_nd/n.txt /content/drive/MyDrive/FilteredNivkhTxt/a319_nd/r.txt\n"
          ]
        },
        {
          "output_type": "stream",
          "name": "stderr",
          "text": [
            "WARNING:root:can not fetch index db\n"
          ]
        },
        {
          "output_type": "stream",
          "name": "stdout",
          "text": [
            "Aligning without segments.\n",
            "tasks amount: 1\n",
            "batch: 0 (0)\n",
            "conflicts to solve: 1\n",
            "total conflicts: 2\n"
          ]
        },
        {
          "output_type": "stream",
          "name": "stderr",
          "text": [
            "\n",
            "100%|██████████| 1/1 [00:00<00:00, 15.10it/s]\n"
          ]
        },
        {
          "output_type": "stream",
          "name": "stdout",
          "text": [
            "conflicts to solve: 0\n",
            "total conflicts: 1\n"
          ]
        },
        {
          "output_type": "stream",
          "name": "stderr",
          "text": [
            "\n",
            "0it [00:00, ?it/s]\n"
          ]
        },
        {
          "output_type": "stream",
          "name": "stdout",
          "text": [
            "conflicts to solve: 1\n",
            "total conflicts: 1\n"
          ]
        },
        {
          "output_type": "stream",
          "name": "stderr",
          "text": [
            "\n",
            "  0%|          | 0/1 [00:00<?, ?it/s]\u001b[A\n",
            "100%|██████████| 1/1 [00:00<00:00,  4.08it/s]\n"
          ]
        },
        {
          "output_type": "stream",
          "name": "stdout",
          "text": [
            "conflicts to solve: 0\n",
            "total conflicts: 0\n"
          ]
        },
        {
          "output_type": "stream",
          "name": "stderr",
          "text": [
            "\n",
            "0it [00:00, ?it/s]\n"
          ]
        },
        {
          "output_type": "stream",
          "name": "stdout",
          "text": [
            "N: 18 --> 4\n",
            "R: 18 --> 4\n",
            "Chain score: 1.0000\n",
            "\n",
            " ---------------------------------------------------------------------------------------------------------------------------------------------------------------------------------------------------------------------------------------------------------------------------------------------------------------------------------------------------------------------------------------------------------------------------------------------------------------------------------------------------------------------------------------------------------------------------------------------------------------------------------------------------------------------------------------------------------------------------------------------------------------------------------------------------------------------------------------------------------------------------------------------------------------------------------------------------------------------------------------------------------------------------------------- \n",
            "\n",
            "/content/drive/MyDrive/FilteredNivkhTxt/a368_nd/n.txt /content/drive/MyDrive/FilteredNivkhTxt/a368_nd/r.txt\n"
          ]
        },
        {
          "output_type": "stream",
          "name": "stderr",
          "text": [
            "WARNING:root:can not fetch index db\n"
          ]
        },
        {
          "output_type": "stream",
          "name": "stdout",
          "text": [
            "Aligning without segments.\n",
            "tasks amount: 1\n",
            "batch: 0 (0)\n",
            "conflicts to solve: 1\n",
            "total conflicts: 1\n"
          ]
        },
        {
          "output_type": "stream",
          "name": "stderr",
          "text": [
            "\n",
            "100%|██████████| 1/1 [00:00<00:00, 17.19it/s]\n"
          ]
        },
        {
          "output_type": "stream",
          "name": "stdout",
          "text": [
            "conflicts to solve: 0\n",
            "total conflicts: 0\n"
          ]
        },
        {
          "output_type": "stream",
          "name": "stderr",
          "text": [
            "\n",
            "0it [00:00, ?it/s]\n"
          ]
        },
        {
          "output_type": "stream",
          "name": "stdout",
          "text": [
            "N: 9 --> 3\n",
            "R: 7 --> 3\n",
            "Chain score: 0.7500\n",
            "\n",
            " ---------------------------------------------------------------------------------------------------------------------------------------------------------------------------------------------------------------------------------------------------------------------------------------------------------------------------------------------------------------------------------------------------------------------------------------------------------------------------------------------------------------------------------------------------------------------------------------------------------------------------------------------------------------------------------------------------------------------------------------------------------------------------------------------------------------------------------------------------------------------------------------------------------------------------------------------------------------------------------------------------------------------------------------- \n",
            "\n",
            "/content/drive/MyDrive/FilteredNivkhTxt/a329_nd/n.txt /content/drive/MyDrive/FilteredNivkhTxt/a329_nd/r.txt\n"
          ]
        },
        {
          "output_type": "stream",
          "name": "stderr",
          "text": [
            "WARNING:root:can not fetch index db\n"
          ]
        },
        {
          "output_type": "stream",
          "name": "stdout",
          "text": [
            "Aligning without segments.\n",
            "tasks amount: 1\n",
            "batch: 0 (0)\n",
            "conflicts to solve: 0\n",
            "total conflicts: 1\n"
          ]
        },
        {
          "output_type": "stream",
          "name": "stderr",
          "text": [
            "\n",
            "0it [00:00, ?it/s]\n"
          ]
        },
        {
          "output_type": "stream",
          "name": "stdout",
          "text": [
            "conflicts to solve: 0\n",
            "total conflicts: 0\n"
          ]
        },
        {
          "output_type": "stream",
          "name": "stderr",
          "text": [
            "\n",
            "0it [00:00, ?it/s]\n"
          ]
        },
        {
          "output_type": "stream",
          "name": "stdout",
          "text": [
            "conflicts to solve: 1\n",
            "total conflicts: 1\n"
          ]
        },
        {
          "output_type": "stream",
          "name": "stderr",
          "text": [
            "\n",
            "  0%|          | 0/1 [00:00<?, ?it/s]\u001b[A\n",
            "100%|██████████| 1/1 [00:00<00:00,  3.34it/s]\n"
          ]
        },
        {
          "output_type": "stream",
          "name": "stdout",
          "text": [
            "N: 10 --> 1\n",
            "R: 8 --> 1\n",
            "Chain score: 0.7500\n",
            "\n",
            " ---------------------------------------------------------------------------------------------------------------------------------------------------------------------------------------------------------------------------------------------------------------------------------------------------------------------------------------------------------------------------------------------------------------------------------------------------------------------------------------------------------------------------------------------------------------------------------------------------------------------------------------------------------------------------------------------------------------------------------------------------------------------------------------------------------------------------------------------------------------------------------------------------------------------------------------------------------------------------------------------------------------------------------------- \n",
            "\n",
            "/content/drive/MyDrive/FilteredNivkhTxt/a436_nd/n.txt /content/drive/MyDrive/FilteredNivkhTxt/a436_nd/r.txt\n",
            "Aligning without segments.\n",
            "tasks amount: 1\n",
            "batch: 0 (0)\n"
          ]
        },
        {
          "output_type": "stream",
          "name": "stderr",
          "text": [
            "WARNING:root:can not fetch index db\n"
          ]
        },
        {
          "output_type": "stream",
          "name": "stdout",
          "text": [
            "conflicts to solve: 1\n",
            "total conflicts: 2\n"
          ]
        },
        {
          "output_type": "stream",
          "name": "stderr",
          "text": [
            "\n",
            "100%|██████████| 1/1 [00:00<00:00, 13.40it/s]\n"
          ]
        },
        {
          "output_type": "stream",
          "name": "stdout",
          "text": [
            "conflicts to solve: 1\n",
            "total conflicts: 1\n"
          ]
        },
        {
          "output_type": "stream",
          "name": "stderr",
          "text": [
            "\n",
            "  0%|          | 0/1 [00:00<?, ?it/s]\u001b[A\n",
            "100%|██████████| 1/1 [00:00<00:00,  3.66it/s]\n"
          ]
        },
        {
          "output_type": "stream",
          "name": "stdout",
          "text": [
            "conflicts to solve: 0\n",
            "total conflicts: 0\n"
          ]
        },
        {
          "output_type": "stream",
          "name": "stderr",
          "text": [
            "\n",
            "0it [00:00, ?it/s]\n"
          ]
        },
        {
          "output_type": "stream",
          "name": "stdout",
          "text": [
            "N: 15 --> 6\n",
            "R: 11 --> 6\n",
            "Chain score: 0.9167\n",
            "\n",
            " ---------------------------------------------------------------------------------------------------------------------------------------------------------------------------------------------------------------------------------------------------------------------------------------------------------------------------------------------------------------------------------------------------------------------------------------------------------------------------------------------------------------------------------------------------------------------------------------------------------------------------------------------------------------------------------------------------------------------------------------------------------------------------------------------------------------------------------------------------------------------------------------------------------------------------------------------------------------------------------------------------------------------------------------- \n",
            "\n",
            "/content/drive/MyDrive/FilteredNivkhTxt/06_agm/n.txt /content/drive/MyDrive/FilteredNivkhTxt/06_agm/r.txt\n"
          ]
        },
        {
          "output_type": "stream",
          "name": "stderr",
          "text": [
            "WARNING:root:can not fetch index db\n"
          ]
        },
        {
          "output_type": "stream",
          "name": "stdout",
          "text": [
            "Aligning without segments.\n",
            "tasks amount: 1\n",
            "batch: 0 (0)\n",
            "conflicts to solve: 0\n",
            "total conflicts: 3\n"
          ]
        },
        {
          "output_type": "stream",
          "name": "stderr",
          "text": [
            "\n",
            "0it [00:00, ?it/s]\n"
          ]
        },
        {
          "output_type": "stream",
          "name": "stdout",
          "text": [
            "conflicts to solve: 0\n",
            "total conflicts: 1\n"
          ]
        },
        {
          "output_type": "stream",
          "name": "stderr",
          "text": [
            "\n",
            "0it [00:00, ?it/s]\n"
          ]
        },
        {
          "output_type": "stream",
          "name": "stdout",
          "text": [
            "conflicts to solve: 0\n",
            "total conflicts: 1\n"
          ]
        },
        {
          "output_type": "stream",
          "name": "stderr",
          "text": [
            "\n",
            "0it [00:00, ?it/s]\n"
          ]
        },
        {
          "output_type": "stream",
          "name": "stdout",
          "text": [
            "conflicts to solve: 2\n",
            "total conflicts: 3\n"
          ]
        },
        {
          "output_type": "stream",
          "name": "stderr",
          "text": [
            "\n",
            "  0%|          | 0/2 [00:00<?, ?it/s]\u001b[A\n",
            " 50%|█████     | 1/2 [00:01<00:01,  1.66s/it]\u001b[A\n",
            "100%|██████████| 2/2 [00:18<00:00,  9.35s/it]\n"
          ]
        },
        {
          "output_type": "stream",
          "name": "stdout",
          "text": [
            "N: 24 --> 9\n",
            "R: 36 --> 9\n",
            "Chain score: 0.8000\n",
            "\n",
            " ---------------------------------------------------------------------------------------------------------------------------------------------------------------------------------------------------------------------------------------------------------------------------------------------------------------------------------------------------------------------------------------------------------------------------------------------------------------------------------------------------------------------------------------------------------------------------------------------------------------------------------------------------------------------------------------------------------------------------------------------------------------------------------------------------------------------------------------------------------------------------------------------------------------------------------------------------------------------------------------------------------------------------------------- \n",
            "\n",
            "/content/drive/MyDrive/FilteredNivkhTxt/a269_nd/n.txt /content/drive/MyDrive/FilteredNivkhTxt/a269_nd/r.txt\n"
          ]
        },
        {
          "output_type": "stream",
          "name": "stderr",
          "text": [
            "WARNING:root:can not fetch index db\n"
          ]
        },
        {
          "output_type": "stream",
          "name": "stdout",
          "text": [
            "Aligning without segments.\n",
            "tasks amount: 1\n",
            "batch: 0 (0)\n",
            "conflicts to solve: 2\n",
            "total conflicts: 3\n"
          ]
        },
        {
          "output_type": "stream",
          "name": "stderr",
          "text": [
            "\n",
            "  0%|          | 0/2 [00:00<?, ?it/s]\u001b[A\n",
            "100%|██████████| 2/2 [00:00<00:00,  8.46it/s]\n"
          ]
        },
        {
          "output_type": "stream",
          "name": "stdout",
          "text": [
            "conflicts to solve: 0\n",
            "total conflicts: 1\n"
          ]
        },
        {
          "output_type": "stream",
          "name": "stderr",
          "text": [
            "\n",
            "0it [00:00, ?it/s]\n"
          ]
        },
        {
          "output_type": "stream",
          "name": "stdout",
          "text": [
            "conflicts to solve: 0\n",
            "total conflicts: 0\n"
          ]
        },
        {
          "output_type": "stream",
          "name": "stderr",
          "text": [
            "\n",
            "0it [00:00, ?it/s]\n"
          ]
        },
        {
          "output_type": "stream",
          "name": "stdout",
          "text": [
            "conflicts to solve: 0\n",
            "total conflicts: 1\n"
          ]
        },
        {
          "output_type": "stream",
          "name": "stderr",
          "text": [
            "\n",
            "0it [00:00, ?it/s]\n"
          ]
        },
        {
          "output_type": "stream",
          "name": "stdout",
          "text": [
            "N: 10 --> 3\n",
            "R: 6 --> 3\n",
            "Chain score: 0.7778\n",
            "\n",
            " ---------------------------------------------------------------------------------------------------------------------------------------------------------------------------------------------------------------------------------------------------------------------------------------------------------------------------------------------------------------------------------------------------------------------------------------------------------------------------------------------------------------------------------------------------------------------------------------------------------------------------------------------------------------------------------------------------------------------------------------------------------------------------------------------------------------------------------------------------------------------------------------------------------------------------------------------------------------------------------------------------------------------------------------- \n",
            "\n",
            "/content/drive/MyDrive/FilteredNivkhTxt/a453_nd/n.txt /content/drive/MyDrive/FilteredNivkhTxt/a453_nd/r.txt\n"
          ]
        },
        {
          "output_type": "stream",
          "name": "stderr",
          "text": [
            "WARNING:root:can not fetch index db\n"
          ]
        },
        {
          "output_type": "stream",
          "name": "stdout",
          "text": [
            "Aligning without segments.\n",
            "tasks amount: 1\n",
            "batch: 0 (0)\n",
            "conflicts to solve: 3\n",
            "total conflicts: 4\n"
          ]
        },
        {
          "output_type": "stream",
          "name": "stderr",
          "text": [
            "\n",
            "  0%|          | 0/3 [00:00<?, ?it/s]\u001b[A\n",
            " 33%|███▎      | 1/3 [00:00<00:00,  7.39it/s]\u001b[A\n",
            "100%|██████████| 3/3 [00:00<00:00, 11.21it/s]\n"
          ]
        },
        {
          "output_type": "stream",
          "name": "stdout",
          "text": [
            "conflicts to solve: 0\n",
            "total conflicts: 0\n"
          ]
        },
        {
          "output_type": "stream",
          "name": "stderr",
          "text": [
            "\n",
            "0it [00:00, ?it/s]\n"
          ]
        },
        {
          "output_type": "stream",
          "name": "stdout",
          "text": [
            "conflicts to solve: 1\n",
            "total conflicts: 1\n"
          ]
        },
        {
          "output_type": "stream",
          "name": "stderr",
          "text": [
            "\n",
            "  0%|          | 0/1 [00:00<?, ?it/s]\u001b[A\n",
            "100%|██████████| 1/1 [00:00<00:00,  6.53it/s]\n"
          ]
        },
        {
          "output_type": "stream",
          "name": "stdout",
          "text": [
            "N: 18 --> 7\n",
            "R: 18 --> 7\n",
            "Chain score: 1.0000\n",
            "\n",
            " ---------------------------------------------------------------------------------------------------------------------------------------------------------------------------------------------------------------------------------------------------------------------------------------------------------------------------------------------------------------------------------------------------------------------------------------------------------------------------------------------------------------------------------------------------------------------------------------------------------------------------------------------------------------------------------------------------------------------------------------------------------------------------------------------------------------------------------------------------------------------------------------------------------------------------------------------------------------------------------------------------------------------------------------- \n",
            "\n",
            "/content/drive/MyDrive/FilteredNivkhTxt/a443_nd/n.txt /content/drive/MyDrive/FilteredNivkhTxt/a443_nd/r.txt\n",
            "Aligning without segments.\n",
            "tasks amount: 1\n",
            "batch: 0 (0)\n"
          ]
        },
        {
          "output_type": "stream",
          "name": "stderr",
          "text": [
            "WARNING:root:can not fetch index db\n"
          ]
        },
        {
          "output_type": "stream",
          "name": "stdout",
          "text": [
            "conflicts to solve: 4\n",
            "total conflicts: 6\n"
          ]
        },
        {
          "output_type": "stream",
          "name": "stderr",
          "text": [
            "\n",
            "  0%|          | 0/4 [00:00<?, ?it/s]\u001b[A\n",
            " 25%|██▌       | 1/4 [00:00<00:00,  7.53it/s]\u001b[A\n",
            "100%|██████████| 4/4 [00:00<00:00,  7.53it/s]\n"
          ]
        },
        {
          "output_type": "stream",
          "name": "stdout",
          "text": [
            "conflicts to solve: 1\n",
            "total conflicts: 2\n"
          ]
        },
        {
          "output_type": "stream",
          "name": "stderr",
          "text": [
            "\n",
            "  0%|          | 0/1 [00:00<?, ?it/s]\u001b[A\n",
            "100%|██████████| 1/1 [00:00<00:00,  1.48it/s]\n"
          ]
        },
        {
          "output_type": "stream",
          "name": "stdout",
          "text": [
            "conflicts to solve: 1\n",
            "total conflicts: 1\n"
          ]
        },
        {
          "output_type": "stream",
          "name": "stderr",
          "text": [
            "\n",
            "  0%|          | 0/1 [00:00<?, ?it/s]\u001b[A\n",
            "100%|██████████| 1/1 [00:00<00:00,  1.54it/s]\n"
          ]
        },
        {
          "output_type": "stream",
          "name": "stdout",
          "text": [
            "conflicts to solve: 0\n",
            "total conflicts: 0\n"
          ]
        },
        {
          "output_type": "stream",
          "name": "stderr",
          "text": [
            "\n",
            "0it [00:00, ?it/s]\n"
          ]
        },
        {
          "output_type": "stream",
          "name": "stdout",
          "text": [
            "N: 33 --> 5\n",
            "R: 41 --> 5\n",
            "Chain score: 1.0000\n",
            "\n",
            " ---------------------------------------------------------------------------------------------------------------------------------------------------------------------------------------------------------------------------------------------------------------------------------------------------------------------------------------------------------------------------------------------------------------------------------------------------------------------------------------------------------------------------------------------------------------------------------------------------------------------------------------------------------------------------------------------------------------------------------------------------------------------------------------------------------------------------------------------------------------------------------------------------------------------------------------------------------------------------------------------------------------------------------------- \n",
            "\n",
            "/content/drive/MyDrive/FilteredNivkhTxt/a402_nd/n.txt /content/drive/MyDrive/FilteredNivkhTxt/a402_nd/r.txt\n"
          ]
        },
        {
          "output_type": "stream",
          "name": "stderr",
          "text": [
            "WARNING:root:can not fetch index db\n"
          ]
        },
        {
          "output_type": "stream",
          "name": "stdout",
          "text": [
            "Aligning without segments.\n",
            "tasks amount: 1\n",
            "batch: 0 (0)\n",
            "conflicts to solve: 0\n",
            "total conflicts: 0\n"
          ]
        },
        {
          "output_type": "stream",
          "name": "stderr",
          "text": [
            "\n",
            "0it [00:00, ?it/s]\n"
          ]
        },
        {
          "output_type": "stream",
          "name": "stdout",
          "text": [
            "conflicts to solve: 0\n",
            "total conflicts: 0\n"
          ]
        },
        {
          "output_type": "stream",
          "name": "stderr",
          "text": [
            "\n",
            "0it [00:00, ?it/s]\n"
          ]
        },
        {
          "output_type": "stream",
          "name": "stdout",
          "text": [
            "N: 11 --> 4\n",
            "R: 13 --> 4\n",
            "Chain score: 0.5000\n",
            "Skipping saving due to low chain_score: 0.5000\n",
            "\n",
            " ---------------------------------------------------------------------------------------------------------------------------------------------------------------------------------------------------------------------------------------------------------------------------------------------------------------------------------------------------------------------------------------------------------------------------------------------------------------------------------------------------------------------------------------------------------------------------------------------------------------------------------------------------------------------------------------------------------------------------------------------------------------------------------------------------------------------------------------------------------------------------------------------------------------------------------------------------------------------------------------------------------------------------------------- \n",
            "\n",
            "/content/drive/MyDrive/FilteredNivkhTxt/a378_nd/n.txt /content/drive/MyDrive/FilteredNivkhTxt/a378_nd/r.txt\n",
            "Aligning without segments.\n",
            "tasks amount: 1\n",
            "batch: 0 (0)\n"
          ]
        },
        {
          "output_type": "stream",
          "name": "stderr",
          "text": [
            "WARNING:root:can not fetch index db\n"
          ]
        },
        {
          "output_type": "stream",
          "name": "stdout",
          "text": [
            "conflicts to solve: 1\n",
            "total conflicts: 1\n"
          ]
        },
        {
          "output_type": "stream",
          "name": "stderr",
          "text": [
            "\n",
            "100%|██████████| 1/1 [00:00<00:00, 17.18it/s]\n"
          ]
        },
        {
          "output_type": "stream",
          "name": "stdout",
          "text": [
            "conflicts to solve: 0\n",
            "total conflicts: 0\n"
          ]
        },
        {
          "output_type": "stream",
          "name": "stderr",
          "text": [
            "\n",
            "0it [00:00, ?it/s]\n"
          ]
        },
        {
          "output_type": "stream",
          "name": "stdout",
          "text": [
            "N: 28 --> 8\n",
            "R: 28 --> 8\n",
            "Chain score: 0.2500\n",
            "Skipping saving due to low chain_score: 0.2500\n",
            "\n",
            " ---------------------------------------------------------------------------------------------------------------------------------------------------------------------------------------------------------------------------------------------------------------------------------------------------------------------------------------------------------------------------------------------------------------------------------------------------------------------------------------------------------------------------------------------------------------------------------------------------------------------------------------------------------------------------------------------------------------------------------------------------------------------------------------------------------------------------------------------------------------------------------------------------------------------------------------------------------------------------------------------------------------------------------------- \n",
            "\n",
            "/content/drive/MyDrive/FilteredNivkhTxt/41_sng/n.txt /content/drive/MyDrive/FilteredNivkhTxt/41_sng/r.txt\n",
            "Aligning without segments.\n",
            "tasks amount: 1\n",
            "batch: 0 (0)\n"
          ]
        },
        {
          "output_type": "stream",
          "name": "stderr",
          "text": [
            "WARNING:root:can not fetch index db\n"
          ]
        },
        {
          "output_type": "stream",
          "name": "stdout",
          "text": [
            "conflicts to solve: 0\n",
            "total conflicts: 2\n"
          ]
        },
        {
          "output_type": "stream",
          "name": "stderr",
          "text": [
            "\n",
            "0it [00:00, ?it/s]\n"
          ]
        },
        {
          "output_type": "stream",
          "name": "stdout",
          "text": [
            "conflicts to solve: 0\n",
            "total conflicts: 1\n"
          ]
        },
        {
          "output_type": "stream",
          "name": "stderr",
          "text": [
            "\n",
            "0it [00:00, ?it/s]\n"
          ]
        },
        {
          "output_type": "stream",
          "name": "stdout",
          "text": [
            "conflicts to solve: 0\n",
            "total conflicts: 0\n"
          ]
        },
        {
          "output_type": "stream",
          "name": "stderr",
          "text": [
            "\n",
            "0it [00:00, ?it/s]\n"
          ]
        },
        {
          "output_type": "stream",
          "name": "stdout",
          "text": [
            "conflicts to solve: 1\n",
            "total conflicts: 2\n"
          ]
        },
        {
          "output_type": "stream",
          "name": "stderr",
          "text": [
            "\n",
            "  0%|          | 0/1 [00:00<?, ?it/s]\u001b[A\n",
            "100%|██████████| 1/1 [00:00<00:00,  2.02it/s]\n"
          ]
        },
        {
          "output_type": "stream",
          "name": "stdout",
          "text": [
            "N: 56 --> 27\n",
            "R: 56 --> 27\n",
            "Chain score: 0.3158\n",
            "Skipping saving due to low chain_score: 0.3158\n",
            "\n",
            " ---------------------------------------------------------------------------------------------------------------------------------------------------------------------------------------------------------------------------------------------------------------------------------------------------------------------------------------------------------------------------------------------------------------------------------------------------------------------------------------------------------------------------------------------------------------------------------------------------------------------------------------------------------------------------------------------------------------------------------------------------------------------------------------------------------------------------------------------------------------------------------------------------------------------------------------------------------------------------------------------------------------------------------------- \n",
            "\n",
            "/content/drive/MyDrive/FilteredNivkhTxt/a162_bible/n.txt /content/drive/MyDrive/FilteredNivkhTxt/a162_bible/r.txt\n",
            "Aligning without segments.\n",
            "tasks amount: 1\n",
            "batch: 0 (0)\n"
          ]
        },
        {
          "output_type": "stream",
          "name": "stderr",
          "text": [
            "WARNING:root:can not fetch index db\n"
          ]
        },
        {
          "output_type": "stream",
          "name": "stdout",
          "text": [
            "conflicts to solve: 9\n",
            "total conflicts: 12\n"
          ]
        },
        {
          "output_type": "stream",
          "name": "stderr",
          "text": [
            "\n",
            "  0%|          | 0/9 [00:00<?, ?it/s]\u001b[A\n",
            " 11%|█         | 1/9 [00:00<00:00,  9.97it/s]\u001b[A\n",
            " 33%|███▎      | 3/9 [00:00<00:00, 12.37it/s]\u001b[A\n",
            " 56%|█████▌    | 5/9 [00:00<00:00, 12.60it/s]\u001b[A\n",
            " 78%|███████▊  | 7/9 [00:00<00:00, 14.31it/s]\u001b[A\n",
            "100%|██████████| 9/9 [00:00<00:00, 13.44it/s]\n"
          ]
        },
        {
          "output_type": "stream",
          "name": "stdout",
          "text": [
            "conflicts to solve: 1\n",
            "total conflicts: 2\n"
          ]
        },
        {
          "output_type": "stream",
          "name": "stderr",
          "text": [
            "\n",
            "100%|██████████| 1/1 [00:00<00:00, 17.13it/s]\n"
          ]
        },
        {
          "output_type": "stream",
          "name": "stdout",
          "text": [
            "conflicts to solve: 1\n",
            "total conflicts: 1\n"
          ]
        },
        {
          "output_type": "stream",
          "name": "stderr",
          "text": [
            "\n",
            "  0%|          | 0/1 [00:00<?, ?it/s]\u001b[A\n",
            "100%|██████████| 1/1 [00:00<00:00,  4.20it/s]\n"
          ]
        },
        {
          "output_type": "stream",
          "name": "stdout",
          "text": [
            "conflicts to solve: 0\n",
            "total conflicts: 0\n"
          ]
        },
        {
          "output_type": "stream",
          "name": "stderr",
          "text": [
            "\n",
            "0it [00:00, ?it/s]\n"
          ]
        },
        {
          "output_type": "stream",
          "name": "stdout",
          "text": [
            "N: 65 --> 48\n",
            "R: 68 --> 48\n",
            "Chain score: 0.9403\n",
            "\n",
            " ---------------------------------------------------------------------------------------------------------------------------------------------------------------------------------------------------------------------------------------------------------------------------------------------------------------------------------------------------------------------------------------------------------------------------------------------------------------------------------------------------------------------------------------------------------------------------------------------------------------------------------------------------------------------------------------------------------------------------------------------------------------------------------------------------------------------------------------------------------------------------------------------------------------------------------------------------------------------------------------------------------------------------------------- \n",
            "\n",
            "/content/drive/MyDrive/FilteredNivkhTxt/a403_nd/n.txt /content/drive/MyDrive/FilteredNivkhTxt/a403_nd/r.txt\n"
          ]
        },
        {
          "output_type": "stream",
          "name": "stderr",
          "text": [
            "WARNING:root:can not fetch index db\n"
          ]
        },
        {
          "output_type": "stream",
          "name": "stdout",
          "text": [
            "Aligning without segments.\n",
            "tasks amount: 1\n",
            "batch: 0 (0)\n",
            "conflicts to solve: 1\n",
            "total conflicts: 1\n"
          ]
        },
        {
          "output_type": "stream",
          "name": "stderr",
          "text": [
            "\n",
            "100%|██████████| 1/1 [00:00<00:00, 17.99it/s]\n"
          ]
        },
        {
          "output_type": "stream",
          "name": "stdout",
          "text": [
            "conflicts to solve: 0\n",
            "total conflicts: 0\n"
          ]
        },
        {
          "output_type": "stream",
          "name": "stderr",
          "text": [
            "\n",
            "0it [00:00, ?it/s]\n"
          ]
        },
        {
          "output_type": "stream",
          "name": "stdout",
          "text": [
            "N: 10 --> 3\n",
            "R: 9 --> 3\n",
            "Chain score: 1.0000\n",
            "\n",
            " ---------------------------------------------------------------------------------------------------------------------------------------------------------------------------------------------------------------------------------------------------------------------------------------------------------------------------------------------------------------------------------------------------------------------------------------------------------------------------------------------------------------------------------------------------------------------------------------------------------------------------------------------------------------------------------------------------------------------------------------------------------------------------------------------------------------------------------------------------------------------------------------------------------------------------------------------------------------------------------------------------------------------------------------- \n",
            "\n",
            "/content/drive/MyDrive/FilteredNivkhTxt/a437_nd/n.txt /content/drive/MyDrive/FilteredNivkhTxt/a437_nd/r.txt\n",
            "Aligning without segments.\n",
            "tasks amount: 1\n",
            "batch: 0 (0)\n"
          ]
        },
        {
          "output_type": "stream",
          "name": "stderr",
          "text": [
            "WARNING:root:can not fetch index db\n"
          ]
        },
        {
          "output_type": "stream",
          "name": "stdout",
          "text": [
            "conflicts to solve: 4\n",
            "total conflicts: 5\n"
          ]
        },
        {
          "output_type": "stream",
          "name": "stderr",
          "text": [
            "\n",
            "  0%|          | 0/4 [00:00<?, ?it/s]\u001b[A\n",
            " 50%|█████     | 2/4 [00:00<00:00, 15.27it/s]\u001b[A\n",
            "100%|██████████| 4/4 [00:00<00:00, 16.57it/s]\n"
          ]
        },
        {
          "output_type": "stream",
          "name": "stdout",
          "text": [
            "conflicts to solve: 1\n",
            "total conflicts: 1\n"
          ]
        },
        {
          "output_type": "stream",
          "name": "stderr",
          "text": [
            "\n",
            "100%|██████████| 1/1 [00:00<00:00, 15.07it/s]\n"
          ]
        },
        {
          "output_type": "stream",
          "name": "stdout",
          "text": [
            "conflicts to solve: 0\n",
            "total conflicts: 0\n"
          ]
        },
        {
          "output_type": "stream",
          "name": "stderr",
          "text": [
            "\n",
            "0it [00:00, ?it/s]\n"
          ]
        },
        {
          "output_type": "stream",
          "name": "stdout",
          "text": [
            "N: 32 --> 8\n",
            "R: 30 --> 8\n",
            "Chain score: 1.0000\n",
            "\n",
            " ---------------------------------------------------------------------------------------------------------------------------------------------------------------------------------------------------------------------------------------------------------------------------------------------------------------------------------------------------------------------------------------------------------------------------------------------------------------------------------------------------------------------------------------------------------------------------------------------------------------------------------------------------------------------------------------------------------------------------------------------------------------------------------------------------------------------------------------------------------------------------------------------------------------------------------------------------------------------------------------------------------------------------------------- \n",
            "\n",
            "/content/drive/MyDrive/FilteredNivkhTxt/a413_nd/n.txt /content/drive/MyDrive/FilteredNivkhTxt/a413_nd/r.txt\n",
            "Aligning without segments.\n",
            "tasks amount: 1\n",
            "batch: 0 (0)\n"
          ]
        },
        {
          "output_type": "stream",
          "name": "stderr",
          "text": [
            "WARNING:root:can not fetch index db\n"
          ]
        },
        {
          "output_type": "stream",
          "name": "stdout",
          "text": [
            "conflicts to solve: 4\n",
            "total conflicts: 8\n"
          ]
        },
        {
          "output_type": "stream",
          "name": "stderr",
          "text": [
            "\n",
            "  0%|          | 0/4 [00:00<?, ?it/s]\u001b[A\n",
            "100%|██████████| 4/4 [00:00<00:00, 15.61it/s]\n"
          ]
        },
        {
          "output_type": "stream",
          "name": "stdout",
          "text": [
            "conflicts to solve: 1\n",
            "total conflicts: 1\n"
          ]
        },
        {
          "output_type": "stream",
          "name": "stderr",
          "text": [
            "\n",
            "  0%|          | 0/1 [00:00<?, ?it/s]\u001b[A\n",
            "100%|██████████| 1/1 [00:00<00:00,  6.44it/s]\n"
          ]
        },
        {
          "output_type": "stream",
          "name": "stdout",
          "text": [
            "conflicts to solve: 1\n",
            "total conflicts: 3\n"
          ]
        },
        {
          "output_type": "stream",
          "name": "stderr",
          "text": [
            "\n",
            "  0%|          | 0/1 [00:00<?, ?it/s]\u001b[A\n",
            "100%|██████████| 1/1 [00:00<00:00,  2.85it/s]\n"
          ]
        },
        {
          "output_type": "stream",
          "name": "stdout",
          "text": [
            "N: 44 --> 9\n",
            "R: 29 --> 9\n",
            "Chain score: 0.7632\n",
            "\n",
            " ---------------------------------------------------------------------------------------------------------------------------------------------------------------------------------------------------------------------------------------------------------------------------------------------------------------------------------------------------------------------------------------------------------------------------------------------------------------------------------------------------------------------------------------------------------------------------------------------------------------------------------------------------------------------------------------------------------------------------------------------------------------------------------------------------------------------------------------------------------------------------------------------------------------------------------------------------------------------------------------------------------------------------------------- \n",
            "\n",
            "/content/drive/MyDrive/FilteredNivkhTxt/a427_nd/n.txt /content/drive/MyDrive/FilteredNivkhTxt/a427_nd/r.txt\n"
          ]
        },
        {
          "output_type": "stream",
          "name": "stderr",
          "text": [
            "WARNING:root:can not fetch index db\n"
          ]
        },
        {
          "output_type": "stream",
          "name": "stdout",
          "text": [
            "Aligning without segments.\n",
            "tasks amount: 1\n",
            "batch: 0 (0)\n",
            "conflicts to solve: 3\n",
            "total conflicts: 3\n"
          ]
        },
        {
          "output_type": "stream",
          "name": "stderr",
          "text": [
            "\n",
            "  0%|          | 0/3 [00:00<?, ?it/s]\u001b[A\n",
            "100%|██████████| 3/3 [00:00<00:00, 13.99it/s]\n"
          ]
        },
        {
          "output_type": "stream",
          "name": "stdout",
          "text": [
            "conflicts to solve: 0\n",
            "total conflicts: 0\n"
          ]
        },
        {
          "output_type": "stream",
          "name": "stderr",
          "text": [
            "\n",
            "0it [00:00, ?it/s]\n"
          ]
        },
        {
          "output_type": "stream",
          "name": "stdout",
          "text": [
            "N: 13 --> 4\n",
            "R: 12 --> 4\n",
            "Chain score: 1.0000\n",
            "\n",
            " ---------------------------------------------------------------------------------------------------------------------------------------------------------------------------------------------------------------------------------------------------------------------------------------------------------------------------------------------------------------------------------------------------------------------------------------------------------------------------------------------------------------------------------------------------------------------------------------------------------------------------------------------------------------------------------------------------------------------------------------------------------------------------------------------------------------------------------------------------------------------------------------------------------------------------------------------------------------------------------------------------------------------------------------- \n",
            "\n",
            "/content/drive/MyDrive/FilteredNivkhTxt/a166_bible/n_am.txt /content/drive/MyDrive/FilteredNivkhTxt/a166_bible/r.txt\n",
            "Aligning without segments.\n",
            "tasks amount: 1\n",
            "batch: 0 (0)\n"
          ]
        },
        {
          "output_type": "stream",
          "name": "stderr",
          "text": [
            "WARNING:root:can not fetch index db\n"
          ]
        },
        {
          "output_type": "stream",
          "name": "stdout",
          "text": [
            "conflicts to solve: 2\n",
            "total conflicts: 3\n"
          ]
        },
        {
          "output_type": "stream",
          "name": "stderr",
          "text": [
            "\n",
            "  0%|          | 0/2 [00:00<?, ?it/s]\u001b[A\n",
            "100%|██████████| 2/2 [00:00<00:00, 11.84it/s]\n"
          ]
        },
        {
          "output_type": "stream",
          "name": "stdout",
          "text": [
            "conflicts to solve: 1\n",
            "total conflicts: 1\n"
          ]
        },
        {
          "output_type": "stream",
          "name": "stderr",
          "text": [
            "\n",
            "  0%|          | 0/1 [00:00<?, ?it/s]\u001b[A\n",
            "100%|██████████| 1/1 [00:00<00:00,  5.74it/s]\n"
          ]
        },
        {
          "output_type": "stream",
          "name": "stdout",
          "text": [
            "conflicts to solve: 0\n",
            "total conflicts: 0\n"
          ]
        },
        {
          "output_type": "stream",
          "name": "stderr",
          "text": [
            "\n",
            "0it [00:00, ?it/s]\n"
          ]
        },
        {
          "output_type": "stream",
          "name": "stdout",
          "text": [
            "N: 20 --> 14\n",
            "R: 19 --> 14\n",
            "Chain score: 0.8947\n",
            "\n",
            " ---------------------------------------------------------------------------------------------------------------------------------------------------------------------------------------------------------------------------------------------------------------------------------------------------------------------------------------------------------------------------------------------------------------------------------------------------------------------------------------------------------------------------------------------------------------------------------------------------------------------------------------------------------------------------------------------------------------------------------------------------------------------------------------------------------------------------------------------------------------------------------------------------------------------------------------------------------------------------------------------------------------------------------------- \n",
            "\n",
            "/content/drive/MyDrive/FilteredNivkhTxt/a442_nd/n.txt /content/drive/MyDrive/FilteredNivkhTxt/a442_nd/r.txt\n",
            "Aligning without segments.\n",
            "tasks amount: 1\n",
            "batch: 0 (0)\n"
          ]
        },
        {
          "output_type": "stream",
          "name": "stderr",
          "text": [
            "WARNING:root:can not fetch index db\n"
          ]
        },
        {
          "output_type": "stream",
          "name": "stdout",
          "text": [
            "conflicts to solve: 4\n",
            "total conflicts: 5\n"
          ]
        },
        {
          "output_type": "stream",
          "name": "stderr",
          "text": [
            "\n",
            "  0%|          | 0/4 [00:00<?, ?it/s]\u001b[A\n",
            " 50%|█████     | 2/4 [00:00<00:00, 17.48it/s]\u001b[A\n",
            "100%|██████████| 4/4 [00:00<00:00, 12.36it/s]\n"
          ]
        },
        {
          "output_type": "stream",
          "name": "stdout",
          "text": [
            "conflicts to solve: 0\n",
            "total conflicts: 1\n"
          ]
        },
        {
          "output_type": "stream",
          "name": "stderr",
          "text": [
            "\n",
            "0it [00:00, ?it/s]\n"
          ]
        },
        {
          "output_type": "stream",
          "name": "stdout",
          "text": [
            "conflicts to solve: 0\n",
            "total conflicts: 1\n"
          ]
        },
        {
          "output_type": "stream",
          "name": "stderr",
          "text": [
            "\n",
            "0it [00:00, ?it/s]\n"
          ]
        },
        {
          "output_type": "stream",
          "name": "stdout",
          "text": [
            "conflicts to solve: 1\n",
            "total conflicts: 1\n"
          ]
        },
        {
          "output_type": "stream",
          "name": "stderr",
          "text": [
            "\n",
            "  0%|          | 0/1 [00:00<?, ?it/s]\u001b[A\n",
            "100%|██████████| 1/1 [00:03<00:00,  3.70s/it]\n"
          ]
        },
        {
          "output_type": "stream",
          "name": "stdout",
          "text": [
            "N: 34 --> 7\n",
            "R: 30 --> 7\n",
            "Chain score: 1.0000\n",
            "\n",
            " ---------------------------------------------------------------------------------------------------------------------------------------------------------------------------------------------------------------------------------------------------------------------------------------------------------------------------------------------------------------------------------------------------------------------------------------------------------------------------------------------------------------------------------------------------------------------------------------------------------------------------------------------------------------------------------------------------------------------------------------------------------------------------------------------------------------------------------------------------------------------------------------------------------------------------------------------------------------------------------------------------------------------------------------- \n",
            "\n",
            "/content/drive/MyDrive/FilteredNivkhTxt/a278_nd/n.txt /content/drive/MyDrive/FilteredNivkhTxt/a278_nd/r.txt\n"
          ]
        },
        {
          "output_type": "stream",
          "name": "stderr",
          "text": [
            "WARNING:root:can not fetch index db\n"
          ]
        },
        {
          "output_type": "stream",
          "name": "stdout",
          "text": [
            "Aligning without segments.\n",
            "tasks amount: 1\n",
            "batch: 0 (0)\n",
            "conflicts to solve: 0\n",
            "total conflicts: 0\n"
          ]
        },
        {
          "output_type": "stream",
          "name": "stderr",
          "text": [
            "\n",
            "0it [00:00, ?it/s]\n"
          ]
        },
        {
          "output_type": "stream",
          "name": "stdout",
          "text": [
            "conflicts to solve: 0\n",
            "total conflicts: 0\n"
          ]
        },
        {
          "output_type": "stream",
          "name": "stderr",
          "text": [
            "\n",
            "0it [00:00, ?it/s]\n"
          ]
        },
        {
          "output_type": "stream",
          "name": "stdout",
          "text": [
            "N: 18 --> 3\n",
            "R: 12 --> 3\n",
            "Chain score: 0.0588\n",
            "Skipping saving due to low chain_score: 0.0588\n",
            "\n",
            " ---------------------------------------------------------------------------------------------------------------------------------------------------------------------------------------------------------------------------------------------------------------------------------------------------------------------------------------------------------------------------------------------------------------------------------------------------------------------------------------------------------------------------------------------------------------------------------------------------------------------------------------------------------------------------------------------------------------------------------------------------------------------------------------------------------------------------------------------------------------------------------------------------------------------------------------------------------------------------------------------------------------------------------------- \n",
            "\n",
            "/content/drive/MyDrive/FilteredNivkhTxt/a452_nd/n.txt /content/drive/MyDrive/FilteredNivkhTxt/a452_nd/r.txt\n",
            "Aligning without segments.\n",
            "tasks amount: 1\n",
            "batch: 0 (0)\n"
          ]
        },
        {
          "output_type": "stream",
          "name": "stderr",
          "text": [
            "WARNING:root:can not fetch index db\n"
          ]
        },
        {
          "output_type": "stream",
          "name": "stdout",
          "text": [
            "conflicts to solve: 0\n",
            "total conflicts: 3\n"
          ]
        },
        {
          "output_type": "stream",
          "name": "stderr",
          "text": [
            "\n",
            "0it [00:00, ?it/s]\n"
          ]
        },
        {
          "output_type": "stream",
          "name": "stdout",
          "text": [
            "conflicts to solve: 0\n",
            "total conflicts: 0\n"
          ]
        },
        {
          "output_type": "stream",
          "name": "stderr",
          "text": [
            "\n",
            "0it [00:00, ?it/s]\n"
          ]
        },
        {
          "output_type": "stream",
          "name": "stdout",
          "text": [
            "conflicts to solve: 2\n",
            "total conflicts: 3\n"
          ]
        },
        {
          "output_type": "stream",
          "name": "stderr",
          "text": [
            "\n",
            "  0%|          | 0/2 [00:00<?, ?it/s]\u001b[A\n",
            " 50%|█████     | 1/2 [00:00<00:00,  6.64it/s]\u001b[A\n",
            "100%|██████████| 2/2 [00:00<00:00,  2.09it/s]\n"
          ]
        },
        {
          "output_type": "stream",
          "name": "stdout",
          "text": [
            "N: 47 --> 16\n",
            "R: 61 --> 16\n",
            "Chain score: 0.3929\n",
            "Skipping saving due to low chain_score: 0.3929\n",
            "\n",
            " ---------------------------------------------------------------------------------------------------------------------------------------------------------------------------------------------------------------------------------------------------------------------------------------------------------------------------------------------------------------------------------------------------------------------------------------------------------------------------------------------------------------------------------------------------------------------------------------------------------------------------------------------------------------------------------------------------------------------------------------------------------------------------------------------------------------------------------------------------------------------------------------------------------------------------------------------------------------------------------------------------------------------------------------- \n",
            "\n",
            "/content/drive/MyDrive/FilteredNivkhTxt/a338_nd/n.txt /content/drive/MyDrive/FilteredNivkhTxt/a338_nd/r.txt\n"
          ]
        },
        {
          "output_type": "stream",
          "name": "stderr",
          "text": [
            "WARNING:root:can not fetch index db\n"
          ]
        },
        {
          "output_type": "stream",
          "name": "stdout",
          "text": [
            "Aligning without segments.\n",
            "tasks amount: 1\n",
            "batch: 0 (0)\n",
            "conflicts to solve: 1\n",
            "total conflicts: 4\n"
          ]
        },
        {
          "output_type": "stream",
          "name": "stderr",
          "text": [
            "\n",
            "100%|██████████| 1/1 [00:00<00:00, 12.27it/s]\n"
          ]
        },
        {
          "output_type": "stream",
          "name": "stdout",
          "text": [
            "conflicts to solve: 0\n",
            "total conflicts: 1\n"
          ]
        },
        {
          "output_type": "stream",
          "name": "stderr",
          "text": [
            "\n",
            "0it [00:00, ?it/s]\n"
          ]
        },
        {
          "output_type": "stream",
          "name": "stdout",
          "text": [
            "conflicts to solve: 0\n",
            "total conflicts: 0\n"
          ]
        },
        {
          "output_type": "stream",
          "name": "stderr",
          "text": [
            "\n",
            "0it [00:00, ?it/s]\n"
          ]
        },
        {
          "output_type": "stream",
          "name": "stdout",
          "text": [
            "conflicts to solve: 3\n",
            "total conflicts: 3\n"
          ]
        },
        {
          "output_type": "stream",
          "name": "stderr",
          "text": [
            "\n",
            "  0%|          | 0/3 [00:00<?, ?it/s]\u001b[A\n",
            " 33%|███▎      | 1/3 [00:00<00:00,  2.94it/s]\u001b[A\n",
            " 67%|██████▋   | 2/3 [00:00<00:00,  4.50it/s]\u001b[A\n",
            "100%|██████████| 3/3 [00:00<00:00,  4.70it/s]\n"
          ]
        },
        {
          "output_type": "stream",
          "name": "stdout",
          "text": [
            "N: 23 --> 4\n",
            "R: 19 --> 4\n",
            "Chain score: 1.0000\n",
            "\n",
            " ---------------------------------------------------------------------------------------------------------------------------------------------------------------------------------------------------------------------------------------------------------------------------------------------------------------------------------------------------------------------------------------------------------------------------------------------------------------------------------------------------------------------------------------------------------------------------------------------------------------------------------------------------------------------------------------------------------------------------------------------------------------------------------------------------------------------------------------------------------------------------------------------------------------------------------------------------------------------------------------------------------------------------------------- \n",
            "\n",
            "/content/drive/MyDrive/FilteredNivkhTxt/a369_nd/n.txt /content/drive/MyDrive/FilteredNivkhTxt/a369_nd/r.txt\n",
            "Aligning without segments.\n",
            "tasks amount: 1\n",
            "batch: 0 (0)\n"
          ]
        },
        {
          "output_type": "stream",
          "name": "stderr",
          "text": [
            "WARNING:root:can not fetch index db\n"
          ]
        },
        {
          "output_type": "stream",
          "name": "stdout",
          "text": [
            "conflicts to solve: 2\n",
            "total conflicts: 3\n"
          ]
        },
        {
          "output_type": "stream",
          "name": "stderr",
          "text": [
            "\n",
            "  0%|          | 0/2 [00:00<?, ?it/s]\u001b[A\n",
            " 50%|█████     | 1/2 [00:00<00:00,  7.23it/s]\u001b[A\n",
            "100%|██████████| 2/2 [00:00<00:00,  8.11it/s]\n"
          ]
        },
        {
          "output_type": "stream",
          "name": "stdout",
          "text": [
            "conflicts to solve: 0\n",
            "total conflicts: 1\n"
          ]
        },
        {
          "output_type": "stream",
          "name": "stderr",
          "text": [
            "\n",
            "0it [00:00, ?it/s]\n"
          ]
        },
        {
          "output_type": "stream",
          "name": "stdout",
          "text": [
            "conflicts to solve: 0\n",
            "total conflicts: 1\n"
          ]
        },
        {
          "output_type": "stream",
          "name": "stderr",
          "text": [
            "\n",
            "0it [00:00, ?it/s]\n"
          ]
        },
        {
          "output_type": "stream",
          "name": "stdout",
          "text": [
            "conflicts to solve: 1\n",
            "total conflicts: 1\n"
          ]
        },
        {
          "output_type": "stream",
          "name": "stderr",
          "text": [
            "\n",
            "  0%|          | 0/1 [00:00<?, ?it/s]\u001b[A\n",
            "100%|██████████| 1/1 [00:10<00:00, 10.42s/it]\n"
          ]
        },
        {
          "output_type": "stream",
          "name": "stdout",
          "text": [
            "N: 33 --> 16\n",
            "R: 37 --> 16\n",
            "Chain score: 1.0000\n",
            "\n",
            " ---------------------------------------------------------------------------------------------------------------------------------------------------------------------------------------------------------------------------------------------------------------------------------------------------------------------------------------------------------------------------------------------------------------------------------------------------------------------------------------------------------------------------------------------------------------------------------------------------------------------------------------------------------------------------------------------------------------------------------------------------------------------------------------------------------------------------------------------------------------------------------------------------------------------------------------------------------------------------------------------------------------------------------------- \n",
            "\n",
            "/content/drive/MyDrive/FilteredNivkhTxt/56_shklg/n.txt /content/drive/MyDrive/FilteredNivkhTxt/56_shklg/r.txt\n",
            "Aligning without segments.\n",
            "tasks amount: 1\n",
            "batch: 0 (0)\n"
          ]
        },
        {
          "output_type": "stream",
          "name": "stderr",
          "text": [
            "WARNING:root:can not fetch index db\n"
          ]
        },
        {
          "output_type": "stream",
          "name": "stdout",
          "text": [
            "conflicts to solve: 1\n",
            "total conflicts: 2\n"
          ]
        },
        {
          "output_type": "stream",
          "name": "stderr",
          "text": [
            "\n",
            "100%|██████████| 1/1 [00:00<00:00, 16.35it/s]\n"
          ]
        },
        {
          "output_type": "stream",
          "name": "stdout",
          "text": [
            "conflicts to solve: 0\n",
            "total conflicts: 1\n"
          ]
        },
        {
          "output_type": "stream",
          "name": "stderr",
          "text": [
            "\n",
            "0it [00:00, ?it/s]\n"
          ]
        },
        {
          "output_type": "stream",
          "name": "stdout",
          "text": [
            "conflicts to solve: 0\n",
            "total conflicts: 1\n"
          ]
        },
        {
          "output_type": "stream",
          "name": "stderr",
          "text": [
            "\n",
            "0it [00:00, ?it/s]\n"
          ]
        },
        {
          "output_type": "stream",
          "name": "stdout",
          "text": [
            "conflicts to solve: 0\n",
            "total conflicts: 1\n"
          ]
        },
        {
          "output_type": "stream",
          "name": "stderr",
          "text": [
            "\n",
            "0it [00:00, ?it/s]\n"
          ]
        },
        {
          "output_type": "stream",
          "name": "stdout",
          "text": [
            "N: 34 --> 7\n",
            "R: 39 --> 7\n",
            "Chain score: 0.1515\n",
            "Skipping saving due to low chain_score: 0.1515\n",
            "\n",
            " ---------------------------------------------------------------------------------------------------------------------------------------------------------------------------------------------------------------------------------------------------------------------------------------------------------------------------------------------------------------------------------------------------------------------------------------------------------------------------------------------------------------------------------------------------------------------------------------------------------------------------------------------------------------------------------------------------------------------------------------------------------------------------------------------------------------------------------------------------------------------------------------------------------------------------------------------------------------------------------------------------------------------------------------- \n",
            "\n",
            "/content/drive/MyDrive/FilteredNivkhTxt/a248_nd/n.txt /content/drive/MyDrive/FilteredNivkhTxt/a248_nd/r.txt\n"
          ]
        },
        {
          "output_type": "stream",
          "name": "stderr",
          "text": [
            "WARNING:root:can not fetch index db\n"
          ]
        },
        {
          "output_type": "stream",
          "name": "stdout",
          "text": [
            "Aligning without segments.\n",
            "tasks amount: 1\n",
            "batch: 0 (0)\n",
            "conflicts to solve: 1\n",
            "total conflicts: 1\n"
          ]
        },
        {
          "output_type": "stream",
          "name": "stderr",
          "text": [
            "\n",
            "  0%|          | 0/1 [00:00<?, ?it/s]\u001b[A\n",
            "100%|██████████| 1/1 [00:00<00:00,  9.67it/s]\n"
          ]
        },
        {
          "output_type": "stream",
          "name": "stdout",
          "text": [
            "conflicts to solve: 0\n",
            "total conflicts: 0\n"
          ]
        },
        {
          "output_type": "stream",
          "name": "stderr",
          "text": [
            "\n",
            "0it [00:00, ?it/s]\n"
          ]
        },
        {
          "output_type": "stream",
          "name": "stdout",
          "text": [
            "N: 6 --> 2\n",
            "R: 3 --> 2\n",
            "Chain score: 0.7500\n",
            "\n",
            " ---------------------------------------------------------------------------------------------------------------------------------------------------------------------------------------------------------------------------------------------------------------------------------------------------------------------------------------------------------------------------------------------------------------------------------------------------------------------------------------------------------------------------------------------------------------------------------------------------------------------------------------------------------------------------------------------------------------------------------------------------------------------------------------------------------------------------------------------------------------------------------------------------------------------------------------------------------------------------------------------------------------------------------------- \n",
            "\n",
            "/content/drive/MyDrive/FilteredNivkhTxt/99_nd/n.txt /content/drive/MyDrive/FilteredNivkhTxt/99_nd/r.txt\n",
            "Aligning without segments.\n",
            "tasks amount: 1\n",
            "batch: 0 (0)\n"
          ]
        },
        {
          "output_type": "stream",
          "name": "stderr",
          "text": [
            "WARNING:root:can not fetch index db\n"
          ]
        },
        {
          "output_type": "stream",
          "name": "stdout",
          "text": [
            "conflicts to solve: 4\n",
            "total conflicts: 5\n"
          ]
        },
        {
          "output_type": "stream",
          "name": "stderr",
          "text": [
            "\n",
            "  0%|          | 0/4 [00:00<?, ?it/s]\u001b[A\n",
            " 50%|█████     | 2/4 [00:00<00:00, 14.82it/s]\u001b[A\n",
            "100%|██████████| 4/4 [00:00<00:00, 16.81it/s]\n"
          ]
        },
        {
          "output_type": "stream",
          "name": "stdout",
          "text": [
            "conflicts to solve: 1\n",
            "total conflicts: 1\n"
          ]
        },
        {
          "output_type": "stream",
          "name": "stderr",
          "text": [
            "\n",
            "  0%|          | 0/1 [00:00<?, ?it/s]\u001b[A\n",
            "100%|██████████| 1/1 [00:00<00:00,  9.73it/s]\n"
          ]
        },
        {
          "output_type": "stream",
          "name": "stdout",
          "text": [
            "conflicts to solve: 0\n",
            "total conflicts: 0\n"
          ]
        },
        {
          "output_type": "stream",
          "name": "stderr",
          "text": [
            "\n",
            "0it [00:00, ?it/s]\n"
          ]
        },
        {
          "output_type": "stream",
          "name": "stdout",
          "text": [
            "N: 25 --> 13\n",
            "R: 22 --> 13\n",
            "Chain score: 1.0000\n",
            "\n",
            " ---------------------------------------------------------------------------------------------------------------------------------------------------------------------------------------------------------------------------------------------------------------------------------------------------------------------------------------------------------------------------------------------------------------------------------------------------------------------------------------------------------------------------------------------------------------------------------------------------------------------------------------------------------------------------------------------------------------------------------------------------------------------------------------------------------------------------------------------------------------------------------------------------------------------------------------------------------------------------------------------------------------------------------------- \n",
            "\n",
            "/content/drive/MyDrive/FilteredNivkhTxt/a359_nd/n.txt /content/drive/MyDrive/FilteredNivkhTxt/a359_nd/r.txt\n"
          ]
        },
        {
          "output_type": "stream",
          "name": "stderr",
          "text": [
            "WARNING:root:can not fetch index db\n"
          ]
        },
        {
          "output_type": "stream",
          "name": "stdout",
          "text": [
            "Aligning without segments.\n",
            "tasks amount: 1\n",
            "batch: 0 (0)\n",
            "conflicts to solve: 1\n",
            "total conflicts: 2\n"
          ]
        },
        {
          "output_type": "stream",
          "name": "stderr",
          "text": [
            "\n",
            "100%|██████████| 1/1 [00:00<00:00, 17.73it/s]\n"
          ]
        },
        {
          "output_type": "stream",
          "name": "stdout",
          "text": [
            "conflicts to solve: 1\n",
            "total conflicts: 1\n"
          ]
        },
        {
          "output_type": "stream",
          "name": "stderr",
          "text": [
            "\n",
            "  0%|          | 0/1 [00:00<?, ?it/s]\u001b[A\n",
            "100%|██████████| 1/1 [00:00<00:00,  4.27it/s]\n"
          ]
        },
        {
          "output_type": "stream",
          "name": "stdout",
          "text": [
            "conflicts to solve: 0\n",
            "total conflicts: 0\n"
          ]
        },
        {
          "output_type": "stream",
          "name": "stderr",
          "text": [
            "\n",
            "0it [00:00, ?it/s]\n"
          ]
        },
        {
          "output_type": "stream",
          "name": "stdout",
          "text": [
            "N: 16 --> 4\n",
            "R: 14 --> 4\n",
            "Chain score: 1.0000\n",
            "\n",
            " ---------------------------------------------------------------------------------------------------------------------------------------------------------------------------------------------------------------------------------------------------------------------------------------------------------------------------------------------------------------------------------------------------------------------------------------------------------------------------------------------------------------------------------------------------------------------------------------------------------------------------------------------------------------------------------------------------------------------------------------------------------------------------------------------------------------------------------------------------------------------------------------------------------------------------------------------------------------------------------------------------------------------------------------- \n",
            "\n",
            "/content/drive/MyDrive/FilteredNivkhTxt/a308_nd/n.txt /content/drive/MyDrive/FilteredNivkhTxt/a308_nd/r.txt\n"
          ]
        },
        {
          "output_type": "stream",
          "name": "stderr",
          "text": [
            "WARNING:root:can not fetch index db\n"
          ]
        },
        {
          "output_type": "stream",
          "name": "stdout",
          "text": [
            "Aligning without segments.\n",
            "tasks amount: 1\n",
            "batch: 0 (0)\n",
            "conflicts to solve: 3\n",
            "total conflicts: 3\n"
          ]
        },
        {
          "output_type": "stream",
          "name": "stderr",
          "text": [
            "\n",
            "  0%|          | 0/3 [00:00<?, ?it/s]\u001b[A\n",
            "100%|██████████| 3/3 [00:00<00:00, 13.56it/s]\n"
          ]
        },
        {
          "output_type": "stream",
          "name": "stdout",
          "text": [
            "conflicts to solve: 0\n",
            "total conflicts: 0\n"
          ]
        },
        {
          "output_type": "stream",
          "name": "stderr",
          "text": [
            "\n",
            "0it [00:00, ?it/s]\n"
          ]
        },
        {
          "output_type": "stream",
          "name": "stdout",
          "text": [
            "N: 13 --> 2\n",
            "R: 12 --> 2\n",
            "Chain score: 1.0000\n",
            "\n",
            " ---------------------------------------------------------------------------------------------------------------------------------------------------------------------------------------------------------------------------------------------------------------------------------------------------------------------------------------------------------------------------------------------------------------------------------------------------------------------------------------------------------------------------------------------------------------------------------------------------------------------------------------------------------------------------------------------------------------------------------------------------------------------------------------------------------------------------------------------------------------------------------------------------------------------------------------------------------------------------------------------------------------------------------------- \n",
            "\n",
            "/content/drive/MyDrive/FilteredNivkhTxt/a328_nd/n.txt /content/drive/MyDrive/FilteredNivkhTxt/a328_nd/r.txt\n"
          ]
        },
        {
          "output_type": "stream",
          "name": "stderr",
          "text": [
            "WARNING:root:can not fetch index db\n"
          ]
        },
        {
          "output_type": "stream",
          "name": "stdout",
          "text": [
            "Aligning without segments.\n",
            "tasks amount: 1\n",
            "batch: 0 (0)\n",
            "conflicts to solve: 0\n",
            "total conflicts: 0\n"
          ]
        },
        {
          "output_type": "stream",
          "name": "stderr",
          "text": [
            "\n",
            "0it [00:00, ?it/s]\n"
          ]
        },
        {
          "output_type": "stream",
          "name": "stdout",
          "text": [
            "conflicts to solve: 0\n",
            "total conflicts: 0\n"
          ]
        },
        {
          "output_type": "stream",
          "name": "stderr",
          "text": [
            "\n",
            "0it [00:00, ?it/s]\n"
          ]
        },
        {
          "output_type": "stream",
          "name": "stdout",
          "text": [
            "N: 3 --> 2\n",
            "R: 4 --> 2\n",
            "Chain score: 1.0000\n",
            "\n",
            " ---------------------------------------------------------------------------------------------------------------------------------------------------------------------------------------------------------------------------------------------------------------------------------------------------------------------------------------------------------------------------------------------------------------------------------------------------------------------------------------------------------------------------------------------------------------------------------------------------------------------------------------------------------------------------------------------------------------------------------------------------------------------------------------------------------------------------------------------------------------------------------------------------------------------------------------------------------------------------------------------------------------------------------------- \n",
            "\n",
            "/content/drive/MyDrive/FilteredNivkhTxt/54_shklg/n.txt /content/drive/MyDrive/FilteredNivkhTxt/54_shklg/r.txt\n",
            "Aligning without segments.\n",
            "tasks amount: 1\n",
            "batch: 0 (0)\n"
          ]
        },
        {
          "output_type": "stream",
          "name": "stderr",
          "text": [
            "WARNING:root:can not fetch index db\n"
          ]
        },
        {
          "output_type": "stream",
          "name": "stdout",
          "text": [
            "conflicts to solve: 0\n",
            "total conflicts: 1\n"
          ]
        },
        {
          "output_type": "stream",
          "name": "stderr",
          "text": [
            "\n",
            "0it [00:00, ?it/s]\n"
          ]
        },
        {
          "output_type": "stream",
          "name": "stdout",
          "text": [
            "conflicts to solve: 0\n",
            "total conflicts: 0\n"
          ]
        },
        {
          "output_type": "stream",
          "name": "stderr",
          "text": [
            "\n",
            "0it [00:00, ?it/s]\n"
          ]
        },
        {
          "output_type": "stream",
          "name": "stdout",
          "text": [
            "conflicts to solve: 1\n",
            "total conflicts: 1\n"
          ]
        },
        {
          "output_type": "stream",
          "name": "stderr",
          "text": [
            "\n",
            "  0%|          | 0/1 [00:00<?, ?it/s]\u001b[A\n",
            "100%|██████████| 1/1 [00:00<00:00,  5.42it/s]\n"
          ]
        },
        {
          "output_type": "stream",
          "name": "stdout",
          "text": [
            "N: 15 --> 4\n",
            "R: 22 --> 4\n",
            "Chain score: 1.0000\n",
            "\n",
            " ---------------------------------------------------------------------------------------------------------------------------------------------------------------------------------------------------------------------------------------------------------------------------------------------------------------------------------------------------------------------------------------------------------------------------------------------------------------------------------------------------------------------------------------------------------------------------------------------------------------------------------------------------------------------------------------------------------------------------------------------------------------------------------------------------------------------------------------------------------------------------------------------------------------------------------------------------------------------------------------------------------------------------------------- \n",
            "\n",
            "/content/drive/MyDrive/FilteredNivkhTxt/a268_nd/n.txt /content/drive/MyDrive/FilteredNivkhTxt/a268_nd/r.txt\n"
          ]
        },
        {
          "output_type": "stream",
          "name": "stderr",
          "text": [
            "WARNING:root:can not fetch index db\n"
          ]
        },
        {
          "output_type": "stream",
          "name": "stdout",
          "text": [
            "Aligning without segments.\n",
            "tasks amount: 1\n",
            "batch: 0 (0)\n",
            "conflicts to solve: 2\n",
            "total conflicts: 3\n"
          ]
        },
        {
          "output_type": "stream",
          "name": "stderr",
          "text": [
            "\n",
            "  0%|          | 0/2 [00:00<?, ?it/s]\u001b[A\n",
            "100%|██████████| 2/2 [00:00<00:00, 16.12it/s]\n"
          ]
        },
        {
          "output_type": "stream",
          "name": "stdout",
          "text": [
            "conflicts to solve: 1\n",
            "total conflicts: 1\n"
          ]
        },
        {
          "output_type": "stream",
          "name": "stderr",
          "text": [
            "\n",
            "100%|██████████| 1/1 [00:00<00:00, 12.00it/s]\n"
          ]
        },
        {
          "output_type": "stream",
          "name": "stdout",
          "text": [
            "conflicts to solve: 0\n",
            "total conflicts: 0\n"
          ]
        },
        {
          "output_type": "stream",
          "name": "stderr",
          "text": [
            "\n",
            "0it [00:00, ?it/s]\n"
          ]
        },
        {
          "output_type": "stream",
          "name": "stdout",
          "text": [
            "N: 16 --> 4\n",
            "R: 13 --> 4\n",
            "Chain score: 1.0000\n",
            "\n",
            " ---------------------------------------------------------------------------------------------------------------------------------------------------------------------------------------------------------------------------------------------------------------------------------------------------------------------------------------------------------------------------------------------------------------------------------------------------------------------------------------------------------------------------------------------------------------------------------------------------------------------------------------------------------------------------------------------------------------------------------------------------------------------------------------------------------------------------------------------------------------------------------------------------------------------------------------------------------------------------------------------------------------------------------------- \n",
            "\n",
            "/content/drive/MyDrive/FilteredNivkhTxt/44_sng/n.txt /content/drive/MyDrive/FilteredNivkhTxt/44_sng/r.txt\n"
          ]
        },
        {
          "output_type": "stream",
          "name": "stderr",
          "text": [
            "WARNING:root:can not fetch index db\n"
          ]
        },
        {
          "output_type": "stream",
          "name": "stdout",
          "text": [
            "Aligning without segments.\n",
            "tasks amount: 1\n",
            "batch: 0 (0)\n",
            "conflicts to solve: 0\n",
            "total conflicts: 0\n"
          ]
        },
        {
          "output_type": "stream",
          "name": "stderr",
          "text": [
            "\n",
            "0it [00:00, ?it/s]\n"
          ]
        },
        {
          "output_type": "stream",
          "name": "stdout",
          "text": [
            "conflicts to solve: 0\n",
            "total conflicts: 0\n"
          ]
        },
        {
          "output_type": "stream",
          "name": "stderr",
          "text": [
            "\n",
            "0it [00:00, ?it/s]\n"
          ]
        },
        {
          "output_type": "stream",
          "name": "stdout",
          "text": [
            "N: 11 --> 2\n",
            "R: 12 --> 2\n",
            "Chain score: 0.1000\n",
            "Skipping saving due to low chain_score: 0.1000\n",
            "\n",
            " ---------------------------------------------------------------------------------------------------------------------------------------------------------------------------------------------------------------------------------------------------------------------------------------------------------------------------------------------------------------------------------------------------------------------------------------------------------------------------------------------------------------------------------------------------------------------------------------------------------------------------------------------------------------------------------------------------------------------------------------------------------------------------------------------------------------------------------------------------------------------------------------------------------------------------------------------------------------------------------------------------------------------------------------- \n",
            "\n",
            "/content/drive/MyDrive/FilteredNivkhTxt/a379_nd/n.txt /content/drive/MyDrive/FilteredNivkhTxt/a379_nd/r.txt\n"
          ]
        },
        {
          "output_type": "stream",
          "name": "stderr",
          "text": [
            "WARNING:root:can not fetch index db\n"
          ]
        },
        {
          "output_type": "stream",
          "name": "stdout",
          "text": [
            "Aligning without segments.\n",
            "tasks amount: 1\n",
            "batch: 0 (0)\n",
            "conflicts to solve: 3\n",
            "total conflicts: 4\n"
          ]
        },
        {
          "output_type": "stream",
          "name": "stderr",
          "text": [
            "\n",
            "  0%|          | 0/3 [00:00<?, ?it/s]\u001b[A\n",
            "100%|██████████| 3/3 [00:00<00:00, 18.73it/s]\n"
          ]
        },
        {
          "output_type": "stream",
          "name": "stdout",
          "text": [
            "conflicts to solve: 1\n",
            "total conflicts: 1\n"
          ]
        },
        {
          "output_type": "stream",
          "name": "stderr",
          "text": [
            "\n",
            "  0%|          | 0/1 [00:00<?, ?it/s]\u001b[A\n",
            "100%|██████████| 1/1 [00:00<00:00,  8.35it/s]\n"
          ]
        },
        {
          "output_type": "stream",
          "name": "stdout",
          "text": [
            "conflicts to solve: 0\n",
            "total conflicts: 0\n"
          ]
        },
        {
          "output_type": "stream",
          "name": "stderr",
          "text": [
            "\n",
            "0it [00:00, ?it/s]\n"
          ]
        },
        {
          "output_type": "stream",
          "name": "stdout",
          "text": [
            "N: 17 --> 10\n",
            "R: 16 --> 10\n",
            "Chain score: 1.0000\n",
            "\n",
            " ---------------------------------------------------------------------------------------------------------------------------------------------------------------------------------------------------------------------------------------------------------------------------------------------------------------------------------------------------------------------------------------------------------------------------------------------------------------------------------------------------------------------------------------------------------------------------------------------------------------------------------------------------------------------------------------------------------------------------------------------------------------------------------------------------------------------------------------------------------------------------------------------------------------------------------------------------------------------------------------------------------------------------------------- \n",
            "\n",
            "/content/drive/MyDrive/FilteredNivkhTxt/a258_nd/n.txt /content/drive/MyDrive/FilteredNivkhTxt/a258_nd/r.txt\n"
          ]
        },
        {
          "output_type": "stream",
          "name": "stderr",
          "text": [
            "WARNING:root:can not fetch index db\n"
          ]
        },
        {
          "output_type": "stream",
          "name": "stdout",
          "text": [
            "Aligning without segments.\n",
            "tasks amount: 1\n",
            "batch: 0 (0)\n",
            "conflicts to solve: 1\n",
            "total conflicts: 2\n"
          ]
        },
        {
          "output_type": "stream",
          "name": "stderr",
          "text": [
            "\n",
            "100%|██████████| 1/1 [00:00<00:00, 18.47it/s]\n"
          ]
        },
        {
          "output_type": "stream",
          "name": "stdout",
          "text": [
            "conflicts to solve: 1\n",
            "total conflicts: 1\n"
          ]
        },
        {
          "output_type": "stream",
          "name": "stderr",
          "text": [
            "\n",
            "  0%|          | 0/1 [00:00<?, ?it/s]\u001b[A\n",
            "100%|██████████| 1/1 [00:00<00:00,  2.71it/s]\n"
          ]
        },
        {
          "output_type": "stream",
          "name": "stdout",
          "text": [
            "conflicts to solve: 0\n",
            "total conflicts: 0\n"
          ]
        },
        {
          "output_type": "stream",
          "name": "stderr",
          "text": [
            "\n",
            "0it [00:00, ?it/s]\n"
          ]
        },
        {
          "output_type": "stream",
          "name": "stdout",
          "text": [
            "N: 11 --> 2\n",
            "R: 13 --> 2\n",
            "Chain score: 1.0000\n",
            "\n",
            " ---------------------------------------------------------------------------------------------------------------------------------------------------------------------------------------------------------------------------------------------------------------------------------------------------------------------------------------------------------------------------------------------------------------------------------------------------------------------------------------------------------------------------------------------------------------------------------------------------------------------------------------------------------------------------------------------------------------------------------------------------------------------------------------------------------------------------------------------------------------------------------------------------------------------------------------------------------------------------------------------------------------------------------------- \n",
            "\n",
            "/content/drive/MyDrive/FilteredNivkhTxt/a407_nd/n.txt /content/drive/MyDrive/FilteredNivkhTxt/a407_nd/r.txt\n",
            "Aligning without segments.\n",
            "tasks amount: 1\n",
            "batch: 0 (0)\n"
          ]
        },
        {
          "output_type": "stream",
          "name": "stderr",
          "text": [
            "WARNING:root:can not fetch index db\n"
          ]
        },
        {
          "output_type": "stream",
          "name": "stdout",
          "text": [
            "conflicts to solve: 1\n",
            "total conflicts: 3\n"
          ]
        },
        {
          "output_type": "stream",
          "name": "stderr",
          "text": [
            "\n",
            "  0%|          | 0/1 [00:00<?, ?it/s]\u001b[A\n",
            "100%|██████████| 1/1 [00:00<00:00,  6.35it/s]\n"
          ]
        },
        {
          "output_type": "stream",
          "name": "stdout",
          "text": [
            "conflicts to solve: 0\n",
            "total conflicts: 1\n"
          ]
        },
        {
          "output_type": "stream",
          "name": "stderr",
          "text": [
            "\n",
            "0it [00:00, ?it/s]\n"
          ]
        },
        {
          "output_type": "stream",
          "name": "stdout",
          "text": [
            "conflicts to solve: 0\n",
            "total conflicts: 0\n"
          ]
        },
        {
          "output_type": "stream",
          "name": "stderr",
          "text": [
            "\n",
            "0it [00:00, ?it/s]\n"
          ]
        },
        {
          "output_type": "stream",
          "name": "stdout",
          "text": [
            "conflicts to solve: 2\n",
            "total conflicts: 2\n"
          ]
        },
        {
          "output_type": "stream",
          "name": "stderr",
          "text": [
            "\n",
            "  0%|          | 0/2 [00:00<?, ?it/s]\u001b[A\n",
            " 50%|█████     | 1/2 [00:00<00:00,  5.19it/s]\u001b[A\n",
            "100%|██████████| 2/2 [00:00<00:00,  5.68it/s]\n"
          ]
        },
        {
          "output_type": "stream",
          "name": "stdout",
          "text": [
            "N: 28 --> 8\n",
            "R: 30 --> 8\n",
            "Chain score: 1.0000\n",
            "\n",
            " ---------------------------------------------------------------------------------------------------------------------------------------------------------------------------------------------------------------------------------------------------------------------------------------------------------------------------------------------------------------------------------------------------------------------------------------------------------------------------------------------------------------------------------------------------------------------------------------------------------------------------------------------------------------------------------------------------------------------------------------------------------------------------------------------------------------------------------------------------------------------------------------------------------------------------------------------------------------------------------------------------------------------------------------- \n",
            "\n",
            "/content/drive/MyDrive/FilteredNivkhTxt/a159_bible/n.txt /content/drive/MyDrive/FilteredNivkhTxt/a159_bible/r.txt\n",
            "Aligning without segments.\n",
            "tasks amount: 1\n",
            "batch: 0 (0)\n"
          ]
        },
        {
          "output_type": "stream",
          "name": "stderr",
          "text": [
            "WARNING:root:can not fetch index db\n"
          ]
        },
        {
          "output_type": "stream",
          "name": "stdout",
          "text": [
            "conflicts to solve: 3\n",
            "total conflicts: 6\n"
          ]
        },
        {
          "output_type": "stream",
          "name": "stderr",
          "text": [
            "\n",
            "  0%|          | 0/3 [00:00<?, ?it/s]\u001b[A\n",
            "100%|██████████| 3/3 [00:00<00:00, 18.58it/s]\n"
          ]
        },
        {
          "output_type": "stream",
          "name": "stdout",
          "text": [
            "conflicts to solve: 2\n",
            "total conflicts: 3\n"
          ]
        },
        {
          "output_type": "stream",
          "name": "stderr",
          "text": [
            "\n",
            "  0%|          | 0/2 [00:00<?, ?it/s]\u001b[A\n",
            " 50%|█████     | 1/2 [00:00<00:00,  5.93it/s]\u001b[A\n",
            "100%|██████████| 2/2 [00:00<00:00,  6.30it/s]\n"
          ]
        },
        {
          "output_type": "stream",
          "name": "stdout",
          "text": [
            "conflicts to solve: 0\n",
            "total conflicts: 1\n"
          ]
        },
        {
          "output_type": "stream",
          "name": "stderr",
          "text": [
            "\n",
            "0it [00:00, ?it/s]\n"
          ]
        },
        {
          "output_type": "stream",
          "name": "stdout",
          "text": [
            "conflicts to solve: 0\n",
            "total conflicts: 1\n"
          ]
        },
        {
          "output_type": "stream",
          "name": "stderr",
          "text": [
            "\n",
            "0it [00:00, ?it/s]\n"
          ]
        },
        {
          "output_type": "stream",
          "name": "stdout",
          "text": [
            "N: 59 --> 27\n",
            "R: 53 --> 27\n",
            "Chain score: 0.4909\n",
            "Skipping saving due to low chain_score: 0.4909\n",
            "\n",
            " ---------------------------------------------------------------------------------------------------------------------------------------------------------------------------------------------------------------------------------------------------------------------------------------------------------------------------------------------------------------------------------------------------------------------------------------------------------------------------------------------------------------------------------------------------------------------------------------------------------------------------------------------------------------------------------------------------------------------------------------------------------------------------------------------------------------------------------------------------------------------------------------------------------------------------------------------------------------------------------------------------------------------------------------- \n",
            "\n",
            "/content/drive/MyDrive/FilteredNivkhTxt/a423_nd/n.txt /content/drive/MyDrive/FilteredNivkhTxt/a423_nd/r.txt\n"
          ]
        },
        {
          "output_type": "stream",
          "name": "stderr",
          "text": [
            "WARNING:root:can not fetch index db\n"
          ]
        },
        {
          "output_type": "stream",
          "name": "stdout",
          "text": [
            "Aligning without segments.\n",
            "tasks amount: 1\n",
            "batch: 0 (0)\n",
            "conflicts to solve: 2\n",
            "total conflicts: 2\n"
          ]
        },
        {
          "output_type": "stream",
          "name": "stderr",
          "text": [
            "\n",
            "  0%|          | 0/2 [00:00<?, ?it/s]\u001b[A\n",
            "100%|██████████| 2/2 [00:00<00:00, 16.73it/s]\n"
          ]
        },
        {
          "output_type": "stream",
          "name": "stdout",
          "text": [
            "conflicts to solve: 0\n",
            "total conflicts: 0\n"
          ]
        },
        {
          "output_type": "stream",
          "name": "stderr",
          "text": [
            "\n",
            "0it [00:00, ?it/s]\n"
          ]
        },
        {
          "output_type": "stream",
          "name": "stdout",
          "text": [
            "N: 18 --> 6\n",
            "R: 16 --> 6\n",
            "Chain score: 0.7222\n",
            "\n",
            " ---------------------------------------------------------------------------------------------------------------------------------------------------------------------------------------------------------------------------------------------------------------------------------------------------------------------------------------------------------------------------------------------------------------------------------------------------------------------------------------------------------------------------------------------------------------------------------------------------------------------------------------------------------------------------------------------------------------------------------------------------------------------------------------------------------------------------------------------------------------------------------------------------------------------------------------------------------------------------------------------------------------------------------------- \n",
            "\n",
            "/content/drive/MyDrive/FilteredNivkhTxt/a456_nd/n.txt /content/drive/MyDrive/FilteredNivkhTxt/a456_nd/r.txt\n"
          ]
        },
        {
          "output_type": "stream",
          "name": "stderr",
          "text": [
            "WARNING:root:can not fetch index db\n"
          ]
        },
        {
          "output_type": "stream",
          "name": "stdout",
          "text": [
            "Aligning without segments.\n",
            "tasks amount: 1\n",
            "batch: 0 (0)\n",
            "conflicts to solve: 2\n",
            "total conflicts: 4\n"
          ]
        },
        {
          "output_type": "stream",
          "name": "stderr",
          "text": [
            "\n",
            "  0%|          | 0/2 [00:00<?, ?it/s]\u001b[A\n",
            "100%|██████████| 2/2 [00:00<00:00, 19.18it/s]\n"
          ]
        },
        {
          "output_type": "stream",
          "name": "stdout",
          "text": [
            "conflicts to solve: 2\n",
            "total conflicts: 2\n"
          ]
        },
        {
          "output_type": "stream",
          "name": "stderr",
          "text": [
            "\n",
            "  0%|          | 0/2 [00:00<?, ?it/s]\u001b[A\n",
            " 50%|█████     | 1/2 [00:00<00:00,  9.72it/s]\u001b[A\n",
            "100%|██████████| 2/2 [00:00<00:00,  9.25it/s]\n"
          ]
        },
        {
          "output_type": "stream",
          "name": "stdout",
          "text": [
            "conflicts to solve: 0\n",
            "total conflicts: 0\n"
          ]
        },
        {
          "output_type": "stream",
          "name": "stderr",
          "text": [
            "\n",
            "0it [00:00, ?it/s]\n"
          ]
        },
        {
          "output_type": "stream",
          "name": "stdout",
          "text": [
            "N: 23 --> 12\n",
            "R: 23 --> 12\n",
            "Chain score: 0.9583\n",
            "\n",
            " ---------------------------------------------------------------------------------------------------------------------------------------------------------------------------------------------------------------------------------------------------------------------------------------------------------------------------------------------------------------------------------------------------------------------------------------------------------------------------------------------------------------------------------------------------------------------------------------------------------------------------------------------------------------------------------------------------------------------------------------------------------------------------------------------------------------------------------------------------------------------------------------------------------------------------------------------------------------------------------------------------------------------------------------- \n",
            "\n",
            "/content/drive/MyDrive/FilteredNivkhTxt/a318_nd/n.txt /content/drive/MyDrive/FilteredNivkhTxt/a318_nd/r.txt\n",
            "Aligning without segments.\n",
            "tasks amount: 1\n",
            "batch: 0 (0)\n"
          ]
        },
        {
          "output_type": "stream",
          "name": "stderr",
          "text": [
            "WARNING:root:can not fetch index db\n"
          ]
        },
        {
          "output_type": "stream",
          "name": "stdout",
          "text": [
            "conflicts to solve: 0\n",
            "total conflicts: 3\n"
          ]
        },
        {
          "output_type": "stream",
          "name": "stderr",
          "text": [
            "\n",
            "0it [00:00, ?it/s]\n"
          ]
        },
        {
          "output_type": "stream",
          "name": "stdout",
          "text": [
            "conflicts to solve: 1\n",
            "total conflicts: 1\n"
          ]
        },
        {
          "output_type": "stream",
          "name": "stderr",
          "text": [
            "\n",
            "  0%|          | 0/1 [00:00<?, ?it/s]\u001b[A\n",
            "100%|██████████| 1/1 [00:00<00:00,  1.78it/s]\n"
          ]
        },
        {
          "output_type": "stream",
          "name": "stdout",
          "text": [
            "conflicts to solve: 1\n",
            "total conflicts: 1\n"
          ]
        },
        {
          "output_type": "stream",
          "name": "stderr",
          "text": [
            "\n",
            "  0%|          | 0/1 [00:00<?, ?it/s]\u001b[A\n",
            "100%|██████████| 1/1 [00:01<00:00,  1.71s/it]\n"
          ]
        },
        {
          "output_type": "stream",
          "name": "stdout",
          "text": [
            "N: 28 --> 6\n",
            "R: 17 --> 6\n",
            "Chain score: 1.0000\n",
            "\n",
            " ---------------------------------------------------------------------------------------------------------------------------------------------------------------------------------------------------------------------------------------------------------------------------------------------------------------------------------------------------------------------------------------------------------------------------------------------------------------------------------------------------------------------------------------------------------------------------------------------------------------------------------------------------------------------------------------------------------------------------------------------------------------------------------------------------------------------------------------------------------------------------------------------------------------------------------------------------------------------------------------------------------------------------------------- \n",
            "\n",
            "/content/drive/MyDrive/FilteredNivkhTxt/a433_nd/n.txt /content/drive/MyDrive/FilteredNivkhTxt/a433_nd/r.txt\n"
          ]
        },
        {
          "output_type": "stream",
          "name": "stderr",
          "text": [
            "WARNING:root:can not fetch index db\n"
          ]
        },
        {
          "output_type": "stream",
          "name": "stdout",
          "text": [
            "Aligning without segments.\n",
            "tasks amount: 1\n",
            "batch: 0 (0)\n",
            "conflicts to solve: 2\n",
            "total conflicts: 2\n"
          ]
        },
        {
          "output_type": "stream",
          "name": "stderr",
          "text": [
            "\n",
            "  0%|          | 0/2 [00:00<?, ?it/s]\u001b[A\n",
            "100%|██████████| 2/2 [00:00<00:00, 13.80it/s]\n"
          ]
        },
        {
          "output_type": "stream",
          "name": "stdout",
          "text": [
            "conflicts to solve: 0\n",
            "total conflicts: 0\n"
          ]
        },
        {
          "output_type": "stream",
          "name": "stderr",
          "text": [
            "\n",
            "0it [00:00, ?it/s]\n"
          ]
        },
        {
          "output_type": "stream",
          "name": "stdout",
          "text": [
            "Error in /content/drive/MyDrive/FilteredNivkhTxt/a433_nd: not enough values to unpack (expected 2, got 0)\n",
            "\n",
            " ---------------------------------------------------------------------------------------------------------------------------------------------------------------------------------------------------------------------------------------------------------------------------------------------------------------------------------------------------------------------------------------------------------------------------------------------------------------------------------------------------------------------------------------------------------------------------------------------------------------------------------------------------------------------------------------------------------------------------------------------------------------------------------------------------------------------------------------------------------------------------------------------------------------------------------------------------------------------------------------------------------------------------------------- \n",
            "\n",
            "/content/drive/MyDrive/FilteredNivkhTxt/a417_nd/n.txt /content/drive/MyDrive/FilteredNivkhTxt/a417_nd/r.txt\n"
          ]
        },
        {
          "output_type": "stream",
          "name": "stderr",
          "text": [
            "WARNING:root:can not fetch index db\n"
          ]
        },
        {
          "output_type": "stream",
          "name": "stdout",
          "text": [
            "Aligning without segments.\n",
            "tasks amount: 1\n",
            "batch: 0 (0)\n",
            "conflicts to solve: 1\n",
            "total conflicts: 2\n"
          ]
        },
        {
          "output_type": "stream",
          "name": "stderr",
          "text": [
            "\n",
            "100%|██████████| 1/1 [00:00<00:00, 12.89it/s]\n"
          ]
        },
        {
          "output_type": "stream",
          "name": "stdout",
          "text": [
            "conflicts to solve: 1\n",
            "total conflicts: 1\n"
          ]
        },
        {
          "output_type": "stream",
          "name": "stderr",
          "text": [
            "\n",
            "  0%|          | 0/1 [00:00<?, ?it/s]\u001b[A\n",
            "100%|██████████| 1/1 [00:00<00:00,  2.28it/s]\n"
          ]
        },
        {
          "output_type": "stream",
          "name": "stdout",
          "text": [
            "conflicts to solve: 0\n",
            "total conflicts: 0\n"
          ]
        },
        {
          "output_type": "stream",
          "name": "stderr",
          "text": [
            "\n",
            "0it [00:00, ?it/s]\n"
          ]
        },
        {
          "output_type": "stream",
          "name": "stdout",
          "text": [
            "N: 10 --> 6\n",
            "R: 12 --> 6\n",
            "Chain score: 1.0000\n",
            "\n",
            " ---------------------------------------------------------------------------------------------------------------------------------------------------------------------------------------------------------------------------------------------------------------------------------------------------------------------------------------------------------------------------------------------------------------------------------------------------------------------------------------------------------------------------------------------------------------------------------------------------------------------------------------------------------------------------------------------------------------------------------------------------------------------------------------------------------------------------------------------------------------------------------------------------------------------------------------------------------------------------------------------------------------------------------------- \n",
            "\n",
            "/content/drive/MyDrive/FilteredNivkhTxt/89_nd/n.txt /content/drive/MyDrive/FilteredNivkhTxt/89_nd/r.txt\n"
          ]
        },
        {
          "output_type": "stream",
          "name": "stderr",
          "text": [
            "WARNING:root:can not fetch index db\n"
          ]
        },
        {
          "output_type": "stream",
          "name": "stdout",
          "text": [
            "Aligning without segments.\n",
            "tasks amount: 1\n",
            "batch: 0 (0)\n",
            "conflicts to solve: 2\n",
            "total conflicts: 2\n"
          ]
        },
        {
          "output_type": "stream",
          "name": "stderr",
          "text": [
            "\n",
            "  0%|          | 0/2 [00:00<?, ?it/s]\u001b[A\n",
            "100%|██████████| 2/2 [00:00<00:00, 15.44it/s]\n"
          ]
        },
        {
          "output_type": "stream",
          "name": "stdout",
          "text": [
            "conflicts to solve: 0\n",
            "total conflicts: 0\n"
          ]
        },
        {
          "output_type": "stream",
          "name": "stderr",
          "text": [
            "\n",
            "0it [00:00, ?it/s]\n"
          ]
        },
        {
          "output_type": "stream",
          "name": "stdout",
          "text": [
            "N: 7 --> 2\n",
            "R: 5 --> 2\n",
            "Chain score: 1.0000\n",
            "\n",
            " ---------------------------------------------------------------------------------------------------------------------------------------------------------------------------------------------------------------------------------------------------------------------------------------------------------------------------------------------------------------------------------------------------------------------------------------------------------------------------------------------------------------------------------------------------------------------------------------------------------------------------------------------------------------------------------------------------------------------------------------------------------------------------------------------------------------------------------------------------------------------------------------------------------------------------------------------------------------------------------------------------------------------------------------- \n",
            "\n",
            "/content/drive/MyDrive/FilteredNivkhTxt/a446_nd/n.txt /content/drive/MyDrive/FilteredNivkhTxt/a446_nd/r.txt\n"
          ]
        },
        {
          "output_type": "stream",
          "name": "stderr",
          "text": [
            "WARNING:root:can not fetch index db\n"
          ]
        },
        {
          "output_type": "stream",
          "name": "stdout",
          "text": [
            "Aligning without segments.\n",
            "tasks amount: 1\n",
            "batch: 0 (0)\n",
            "conflicts to solve: 0\n",
            "total conflicts: 2\n"
          ]
        },
        {
          "output_type": "stream",
          "name": "stderr",
          "text": [
            "\n",
            "0it [00:00, ?it/s]\n"
          ]
        },
        {
          "output_type": "stream",
          "name": "stdout",
          "text": [
            "conflicts to solve: 0\n",
            "total conflicts: 0\n"
          ]
        },
        {
          "output_type": "stream",
          "name": "stderr",
          "text": [
            "\n",
            "0it [00:00, ?it/s]\n"
          ]
        },
        {
          "output_type": "stream",
          "name": "stdout",
          "text": [
            "conflicts to solve: 1\n",
            "total conflicts: 2\n"
          ]
        },
        {
          "output_type": "stream",
          "name": "stderr",
          "text": [
            "\n",
            "  0%|          | 0/1 [00:00<?, ?it/s]\u001b[A\n",
            "100%|██████████| 1/1 [00:00<00:00,  3.37it/s]\n"
          ]
        },
        {
          "output_type": "stream",
          "name": "stdout",
          "text": [
            "N: 18 --> 3\n",
            "R: 11 --> 3\n",
            "Chain score: 0.7059\n",
            "\n",
            " ---------------------------------------------------------------------------------------------------------------------------------------------------------------------------------------------------------------------------------------------------------------------------------------------------------------------------------------------------------------------------------------------------------------------------------------------------------------------------------------------------------------------------------------------------------------------------------------------------------------------------------------------------------------------------------------------------------------------------------------------------------------------------------------------------------------------------------------------------------------------------------------------------------------------------------------------------------------------------------------------------------------------------------------- \n",
            "\n",
            "/content/drive/MyDrive/FilteredNivkhTxt/a349_nd/n.txt /content/drive/MyDrive/FilteredNivkhTxt/a349_nd/r.txt\n"
          ]
        },
        {
          "output_type": "stream",
          "name": "stderr",
          "text": [
            "WARNING:root:can not fetch index db\n"
          ]
        },
        {
          "output_type": "stream",
          "name": "stdout",
          "text": [
            "Aligning without segments.\n",
            "tasks amount: 1\n",
            "batch: 0 (0)\n",
            "conflicts to solve: 0\n",
            "total conflicts: 1\n"
          ]
        },
        {
          "output_type": "stream",
          "name": "stderr",
          "text": [
            "\n",
            "0it [00:00, ?it/s]\n"
          ]
        },
        {
          "output_type": "stream",
          "name": "stdout",
          "text": [
            "conflicts to solve: 0\n",
            "total conflicts: 0\n"
          ]
        },
        {
          "output_type": "stream",
          "name": "stderr",
          "text": [
            "\n",
            "0it [00:00, ?it/s]\n"
          ]
        },
        {
          "output_type": "stream",
          "name": "stdout",
          "text": [
            "conflicts to solve: 1\n",
            "total conflicts: 1\n"
          ]
        },
        {
          "output_type": "stream",
          "name": "stderr",
          "text": [
            "\n",
            "100%|██████████| 1/1 [00:00<00:00, 15.71it/s]\n"
          ]
        },
        {
          "output_type": "stream",
          "name": "stdout",
          "text": [
            "N: 11 --> 5\n",
            "R: 11 --> 5\n",
            "Chain score: 0.8182\n",
            "\n",
            " ---------------------------------------------------------------------------------------------------------------------------------------------------------------------------------------------------------------------------------------------------------------------------------------------------------------------------------------------------------------------------------------------------------------------------------------------------------------------------------------------------------------------------------------------------------------------------------------------------------------------------------------------------------------------------------------------------------------------------------------------------------------------------------------------------------------------------------------------------------------------------------------------------------------------------------------------------------------------------------------------------------------------------------------- \n",
            "\n",
            "/content/drive/MyDrive/FilteredNivkhTxt/a218_tln/n.txt /content/drive/MyDrive/FilteredNivkhTxt/a218_tln/r.txt\n",
            "Aligning without segments.\n",
            "tasks amount: 1\n",
            "batch: 0 (0)\n"
          ]
        },
        {
          "output_type": "stream",
          "name": "stderr",
          "text": [
            "WARNING:root:can not fetch index db\n"
          ]
        },
        {
          "output_type": "stream",
          "name": "stdout",
          "text": [
            "conflicts to solve: 0\n",
            "total conflicts: 0\n"
          ]
        },
        {
          "output_type": "stream",
          "name": "stderr",
          "text": [
            "\n",
            "0it [00:00, ?it/s]\n"
          ]
        },
        {
          "output_type": "stream",
          "name": "stdout",
          "text": [
            "conflicts to solve: 0\n",
            "total conflicts: 0\n"
          ]
        },
        {
          "output_type": "stream",
          "name": "stderr",
          "text": [
            "\n",
            "0it [00:00, ?it/s]\n"
          ]
        },
        {
          "output_type": "stream",
          "name": "stdout",
          "text": [
            "N: 35 --> 6\n",
            "R: 35 --> 6\n",
            "Chain score: 0.0294\n",
            "Skipping saving due to low chain_score: 0.0294\n",
            "\n",
            " ---------------------------------------------------------------------------------------------------------------------------------------------------------------------------------------------------------------------------------------------------------------------------------------------------------------------------------------------------------------------------------------------------------------------------------------------------------------------------------------------------------------------------------------------------------------------------------------------------------------------------------------------------------------------------------------------------------------------------------------------------------------------------------------------------------------------------------------------------------------------------------------------------------------------------------------------------------------------------------------------------------------------------------------- \n",
            "\n",
            "/content/drive/MyDrive/FilteredNivkhTxt/a277_nd/n.txt /content/drive/MyDrive/FilteredNivkhTxt/a277_nd/r.txt\n"
          ]
        },
        {
          "output_type": "stream",
          "name": "stderr",
          "text": [
            "WARNING:root:can not fetch index db\n"
          ]
        },
        {
          "output_type": "stream",
          "name": "stdout",
          "text": [
            "Aligning without segments.\n",
            "tasks amount: 1\n",
            "batch: 0 (0)\n",
            "conflicts to solve: 2\n",
            "total conflicts: 2\n"
          ]
        },
        {
          "output_type": "stream",
          "name": "stderr",
          "text": [
            "\n",
            "  0%|          | 0/2 [00:00<?, ?it/s]\u001b[A\n",
            "100%|██████████| 2/2 [00:00<00:00, 15.07it/s]\n"
          ]
        },
        {
          "output_type": "stream",
          "name": "stdout",
          "text": [
            "conflicts to solve: 0\n",
            "total conflicts: 0\n"
          ]
        },
        {
          "output_type": "stream",
          "name": "stderr",
          "text": [
            "\n",
            "0it [00:00, ?it/s]\n"
          ]
        },
        {
          "output_type": "stream",
          "name": "stdout",
          "text": [
            "N: 12 --> 3\n",
            "R: 11 --> 3\n",
            "Chain score: 1.0000\n",
            "\n",
            " ---------------------------------------------------------------------------------------------------------------------------------------------------------------------------------------------------------------------------------------------------------------------------------------------------------------------------------------------------------------------------------------------------------------------------------------------------------------------------------------------------------------------------------------------------------------------------------------------------------------------------------------------------------------------------------------------------------------------------------------------------------------------------------------------------------------------------------------------------------------------------------------------------------------------------------------------------------------------------------------------------------------------------------------- \n",
            "\n",
            "/content/drive/MyDrive/FilteredNivkhTxt/a337_nd/n.txt /content/drive/MyDrive/FilteredNivkhTxt/a337_nd/r.txt\n",
            "Aligning without segments.\n",
            "tasks amount: 1\n",
            "batch: 0 (0)\n"
          ]
        },
        {
          "output_type": "stream",
          "name": "stderr",
          "text": [
            "WARNING:root:can not fetch index db\n"
          ]
        },
        {
          "output_type": "stream",
          "name": "stdout",
          "text": [
            "conflicts to solve: 1\n",
            "total conflicts: 2\n"
          ]
        },
        {
          "output_type": "stream",
          "name": "stderr",
          "text": [
            "\n",
            "100%|██████████| 1/1 [00:00<00:00, 17.75it/s]\n"
          ]
        },
        {
          "output_type": "stream",
          "name": "stdout",
          "text": [
            "conflicts to solve: 0\n",
            "total conflicts: 0\n"
          ]
        },
        {
          "output_type": "stream",
          "name": "stderr",
          "text": [
            "\n",
            "0it [00:00, ?it/s]\n"
          ]
        },
        {
          "output_type": "stream",
          "name": "stdout",
          "text": [
            "conflicts to solve: 1\n",
            "total conflicts: 1\n"
          ]
        },
        {
          "output_type": "stream",
          "name": "stderr",
          "text": [
            "\n",
            "100%|██████████| 1/1 [00:00<00:00, 13.26it/s]\n"
          ]
        },
        {
          "output_type": "stream",
          "name": "stdout",
          "text": [
            "N: 26 --> 12\n",
            "R: 26 --> 12\n",
            "Chain score: 0.4800\n",
            "Skipping saving due to low chain_score: 0.4800\n",
            "\n",
            " ---------------------------------------------------------------------------------------------------------------------------------------------------------------------------------------------------------------------------------------------------------------------------------------------------------------------------------------------------------------------------------------------------------------------------------------------------------------------------------------------------------------------------------------------------------------------------------------------------------------------------------------------------------------------------------------------------------------------------------------------------------------------------------------------------------------------------------------------------------------------------------------------------------------------------------------------------------------------------------------------------------------------------------------- \n",
            "\n",
            "/content/drive/MyDrive/FilteredNivkhTxt/a395_nd/n.txt /content/drive/MyDrive/FilteredNivkhTxt/a395_nd/r.txt\n"
          ]
        },
        {
          "output_type": "stream",
          "name": "stderr",
          "text": [
            "WARNING:root:can not fetch index db\n"
          ]
        },
        {
          "output_type": "stream",
          "name": "stdout",
          "text": [
            "Aligning without segments.\n",
            "tasks amount: 1\n",
            "batch: 0 (0)\n",
            "conflicts to solve: 2\n",
            "total conflicts: 3\n"
          ]
        },
        {
          "output_type": "stream",
          "name": "stderr",
          "text": [
            "\n",
            "  0%|          | 0/2 [00:00<?, ?it/s]\u001b[A\n",
            "100%|██████████| 2/2 [00:00<00:00, 11.59it/s]\n"
          ]
        },
        {
          "output_type": "stream",
          "name": "stdout",
          "text": [
            "conflicts to solve: 1\n",
            "total conflicts: 1\n"
          ]
        },
        {
          "output_type": "stream",
          "name": "stderr",
          "text": [
            "\n",
            "  0%|          | 0/1 [00:00<?, ?it/s]\u001b[A\n",
            "100%|██████████| 1/1 [00:00<00:00,  2.82it/s]\n"
          ]
        },
        {
          "output_type": "stream",
          "name": "stdout",
          "text": [
            "conflicts to solve: 0\n",
            "total conflicts: 0\n"
          ]
        },
        {
          "output_type": "stream",
          "name": "stderr",
          "text": [
            "\n",
            "0it [00:00, ?it/s]\n"
          ]
        },
        {
          "output_type": "stream",
          "name": "stdout",
          "text": [
            "N: 10 --> 1\n",
            "R: 15 --> 1\n",
            "Chain score: 1.0000\n",
            "\n",
            " ---------------------------------------------------------------------------------------------------------------------------------------------------------------------------------------------------------------------------------------------------------------------------------------------------------------------------------------------------------------------------------------------------------------------------------------------------------------------------------------------------------------------------------------------------------------------------------------------------------------------------------------------------------------------------------------------------------------------------------------------------------------------------------------------------------------------------------------------------------------------------------------------------------------------------------------------------------------------------------------------------------------------------------------- \n",
            "\n",
            "/content/drive/MyDrive/FilteredNivkhTxt/a164_bible/n.txt /content/drive/MyDrive/FilteredNivkhTxt/a164_bible/r.txt\n",
            "Aligning without segments.\n",
            "tasks amount: 1\n",
            "batch: 0 (0)\n"
          ]
        },
        {
          "output_type": "stream",
          "name": "stderr",
          "text": [
            "WARNING:root:can not fetch index db\n"
          ]
        },
        {
          "output_type": "stream",
          "name": "stdout",
          "text": [
            "conflicts to solve: 2\n",
            "total conflicts: 4\n"
          ]
        },
        {
          "output_type": "stream",
          "name": "stderr",
          "text": [
            "\n",
            "  0%|          | 0/2 [00:00<?, ?it/s]\u001b[A\n",
            "100%|██████████| 2/2 [00:00<00:00, 16.17it/s]\n"
          ]
        },
        {
          "output_type": "stream",
          "name": "stdout",
          "text": [
            "conflicts to solve: 2\n",
            "total conflicts: 2\n"
          ]
        },
        {
          "output_type": "stream",
          "name": "stderr",
          "text": [
            "\n",
            "  0%|          | 0/2 [00:00<?, ?it/s]\u001b[A\n",
            " 50%|█████     | 1/2 [00:00<00:00,  5.45it/s]\u001b[A\n",
            "100%|██████████| 2/2 [00:00<00:00,  5.52it/s]\n"
          ]
        },
        {
          "output_type": "stream",
          "name": "stdout",
          "text": [
            "conflicts to solve: 0\n",
            "total conflicts: 0\n"
          ]
        },
        {
          "output_type": "stream",
          "name": "stderr",
          "text": [
            "\n",
            "0it [00:00, ?it/s]\n"
          ]
        },
        {
          "output_type": "stream",
          "name": "stdout",
          "text": [
            "N: 37 --> 24\n",
            "R: 34 --> 24\n",
            "Chain score: 1.0000\n",
            "\n",
            " ---------------------------------------------------------------------------------------------------------------------------------------------------------------------------------------------------------------------------------------------------------------------------------------------------------------------------------------------------------------------------------------------------------------------------------------------------------------------------------------------------------------------------------------------------------------------------------------------------------------------------------------------------------------------------------------------------------------------------------------------------------------------------------------------------------------------------------------------------------------------------------------------------------------------------------------------------------------------------------------------------------------------------------------- \n",
            "\n",
            "/content/drive/MyDrive/FilteredNivkhTxt/53_shklg/n.txt /content/drive/MyDrive/FilteredNivkhTxt/53_shklg/r.txt\n"
          ]
        },
        {
          "output_type": "stream",
          "name": "stderr",
          "text": [
            "WARNING:root:can not fetch index db\n"
          ]
        },
        {
          "output_type": "stream",
          "name": "stdout",
          "text": [
            "Aligning without segments.\n",
            "tasks amount: 1\n",
            "batch: 0 (0)\n",
            "conflicts to solve: 0\n",
            "total conflicts: 0\n"
          ]
        },
        {
          "output_type": "stream",
          "name": "stderr",
          "text": [
            "\n",
            "0it [00:00, ?it/s]\n"
          ]
        },
        {
          "output_type": "stream",
          "name": "stdout",
          "text": [
            "conflicts to solve: 0\n",
            "total conflicts: 0\n"
          ]
        },
        {
          "output_type": "stream",
          "name": "stderr",
          "text": [
            "\n",
            "0it [00:00, ?it/s]\n"
          ]
        },
        {
          "output_type": "stream",
          "name": "stdout",
          "text": [
            "N: 4 --> 2\n",
            "R: 9 --> 2\n",
            "Chain score: 0.3333\n",
            "Skipping saving due to low chain_score: 0.3333\n",
            "\n",
            " ---------------------------------------------------------------------------------------------------------------------------------------------------------------------------------------------------------------------------------------------------------------------------------------------------------------------------------------------------------------------------------------------------------------------------------------------------------------------------------------------------------------------------------------------------------------------------------------------------------------------------------------------------------------------------------------------------------------------------------------------------------------------------------------------------------------------------------------------------------------------------------------------------------------------------------------------------------------------------------------------------------------------------------------- \n",
            "\n",
            "/content/drive/MyDrive/FilteredNivkhTxt/34_sng/n.txt /content/drive/MyDrive/FilteredNivkhTxt/34_sng/r.txt\n"
          ]
        },
        {
          "output_type": "stream",
          "name": "stderr",
          "text": [
            "WARNING:root:can not fetch index db\n"
          ]
        },
        {
          "output_type": "stream",
          "name": "stdout",
          "text": [
            "Aligning without segments.\n",
            "tasks amount: 1\n",
            "batch: 0 (0)\n",
            "conflicts to solve: 0\n",
            "total conflicts: 1\n"
          ]
        },
        {
          "output_type": "stream",
          "name": "stderr",
          "text": [
            "\n",
            "0it [00:00, ?it/s]\n"
          ]
        },
        {
          "output_type": "stream",
          "name": "stdout",
          "text": [
            "conflicts to solve: 1\n",
            "total conflicts: 1\n"
          ]
        },
        {
          "output_type": "stream",
          "name": "stderr",
          "text": [
            "\n",
            "  0%|          | 0/1 [00:00<?, ?it/s]\u001b[A\n",
            "100%|██████████| 1/1 [00:00<00:00,  1.83it/s]\n"
          ]
        },
        {
          "output_type": "stream",
          "name": "stdout",
          "text": [
            "conflicts to solve: 0\n",
            "total conflicts: 0\n"
          ]
        },
        {
          "output_type": "stream",
          "name": "stderr",
          "text": [
            "\n",
            "0it [00:00, ?it/s]\n"
          ]
        },
        {
          "output_type": "stream",
          "name": "stdout",
          "text": [
            "N: 8 --> 4\n",
            "R: 12 --> 4\n",
            "Chain score: 1.0000\n",
            "\n",
            " ---------------------------------------------------------------------------------------------------------------------------------------------------------------------------------------------------------------------------------------------------------------------------------------------------------------------------------------------------------------------------------------------------------------------------------------------------------------------------------------------------------------------------------------------------------------------------------------------------------------------------------------------------------------------------------------------------------------------------------------------------------------------------------------------------------------------------------------------------------------------------------------------------------------------------------------------------------------------------------------------------------------------------------------- \n",
            "\n",
            "/content/drive/MyDrive/FilteredNivkhTxt/a428_nd/n.txt /content/drive/MyDrive/FilteredNivkhTxt/a428_nd/r.txt\n"
          ]
        },
        {
          "output_type": "stream",
          "name": "stderr",
          "text": [
            "WARNING:root:can not fetch index db\n"
          ]
        },
        {
          "output_type": "stream",
          "name": "stdout",
          "text": [
            "Aligning without segments.\n",
            "tasks amount: 1\n",
            "batch: 0 (0)\n",
            "conflicts to solve: 3\n",
            "total conflicts: 4\n"
          ]
        },
        {
          "output_type": "stream",
          "name": "stderr",
          "text": [
            "\n",
            "  0%|          | 0/3 [00:00<?, ?it/s]\u001b[A\n",
            "100%|██████████| 3/3 [00:00<00:00, 11.71it/s]\n"
          ]
        },
        {
          "output_type": "stream",
          "name": "stdout",
          "text": [
            "conflicts to solve: 1\n",
            "total conflicts: 1\n"
          ]
        },
        {
          "output_type": "stream",
          "name": "stderr",
          "text": [
            "\n",
            "  0%|          | 0/1 [00:00<?, ?it/s]\u001b[A\n",
            "100%|██████████| 1/1 [00:00<00:00,  4.56it/s]\n"
          ]
        },
        {
          "output_type": "stream",
          "name": "stdout",
          "text": [
            "conflicts to solve: 0\n",
            "total conflicts: 0\n"
          ]
        },
        {
          "output_type": "stream",
          "name": "stderr",
          "text": [
            "\n",
            "0it [00:00, ?it/s]\n"
          ]
        },
        {
          "output_type": "stream",
          "name": "stdout",
          "text": [
            "N: 25 --> 5\n",
            "R: 23 --> 5\n",
            "Chain score: 1.0000\n",
            "\n",
            " ---------------------------------------------------------------------------------------------------------------------------------------------------------------------------------------------------------------------------------------------------------------------------------------------------------------------------------------------------------------------------------------------------------------------------------------------------------------------------------------------------------------------------------------------------------------------------------------------------------------------------------------------------------------------------------------------------------------------------------------------------------------------------------------------------------------------------------------------------------------------------------------------------------------------------------------------------------------------------------------------------------------------------------------- \n",
            "\n",
            "/content/drive/MyDrive/FilteredNivkhTxt/a366_nd/n.txt /content/drive/MyDrive/FilteredNivkhTxt/a366_nd/r.txt\n"
          ]
        },
        {
          "output_type": "stream",
          "name": "stderr",
          "text": [
            "WARNING:root:can not fetch index db\n"
          ]
        },
        {
          "output_type": "stream",
          "name": "stdout",
          "text": [
            "Aligning without segments.\n",
            "tasks amount: 1\n",
            "batch: 0 (0)\n",
            "conflicts to solve: 4\n",
            "total conflicts: 4\n"
          ]
        },
        {
          "output_type": "stream",
          "name": "stderr",
          "text": [
            "\n",
            "  0%|          | 0/4 [00:00<?, ?it/s]\u001b[A\n",
            " 50%|█████     | 2/4 [00:00<00:00, 16.92it/s]\u001b[A\n",
            "100%|██████████| 4/4 [00:00<00:00, 14.06it/s]\n"
          ]
        },
        {
          "output_type": "stream",
          "name": "stdout",
          "text": [
            "conflicts to solve: 0\n",
            "total conflicts: 0\n"
          ]
        },
        {
          "output_type": "stream",
          "name": "stderr",
          "text": [
            "\n",
            "0it [00:00, ?it/s]\n"
          ]
        },
        {
          "output_type": "stream",
          "name": "stdout",
          "text": [
            "N: 19 --> 5\n",
            "R: 17 --> 5\n",
            "Chain score: 1.0000\n",
            "\n",
            " ---------------------------------------------------------------------------------------------------------------------------------------------------------------------------------------------------------------------------------------------------------------------------------------------------------------------------------------------------------------------------------------------------------------------------------------------------------------------------------------------------------------------------------------------------------------------------------------------------------------------------------------------------------------------------------------------------------------------------------------------------------------------------------------------------------------------------------------------------------------------------------------------------------------------------------------------------------------------------------------------------------------------------------------- \n",
            "\n",
            "/content/drive/MyDrive/FilteredNivkhTxt/a313_nd/n.txt /content/drive/MyDrive/FilteredNivkhTxt/a313_nd/r.txt\n"
          ]
        },
        {
          "output_type": "stream",
          "name": "stderr",
          "text": [
            "WARNING:root:can not fetch index db\n"
          ]
        },
        {
          "output_type": "stream",
          "name": "stdout",
          "text": [
            "Aligning without segments.\n",
            "tasks amount: 1\n",
            "batch: 0 (0)\n",
            "conflicts to solve: 2\n",
            "total conflicts: 3\n"
          ]
        },
        {
          "output_type": "stream",
          "name": "stderr",
          "text": [
            "\n",
            "  0%|          | 0/2 [00:00<?, ?it/s]\u001b[A\n",
            "100%|██████████| 2/2 [00:00<00:00,  9.66it/s]\n"
          ]
        },
        {
          "output_type": "stream",
          "name": "stdout",
          "text": [
            "conflicts to solve: 1\n",
            "total conflicts: 1\n"
          ]
        },
        {
          "output_type": "stream",
          "name": "stderr",
          "text": [
            "\n",
            "  0%|          | 0/1 [00:00<?, ?it/s]\u001b[A\n",
            "100%|██████████| 1/1 [00:00<00:00,  7.07it/s]\n"
          ]
        },
        {
          "output_type": "stream",
          "name": "stdout",
          "text": [
            "conflicts to solve: 0\n",
            "total conflicts: 0\n"
          ]
        },
        {
          "output_type": "stream",
          "name": "stderr",
          "text": [
            "\n",
            "0it [00:00, ?it/s]\n"
          ]
        },
        {
          "output_type": "stream",
          "name": "stdout",
          "text": [
            "N: 36 --> 12\n",
            "R: 30 --> 12\n",
            "Chain score: 0.8182\n",
            "\n",
            " ---------------------------------------------------------------------------------------------------------------------------------------------------------------------------------------------------------------------------------------------------------------------------------------------------------------------------------------------------------------------------------------------------------------------------------------------------------------------------------------------------------------------------------------------------------------------------------------------------------------------------------------------------------------------------------------------------------------------------------------------------------------------------------------------------------------------------------------------------------------------------------------------------------------------------------------------------------------------------------------------------------------------------------------- \n",
            "\n",
            "/content/drive/MyDrive/FilteredNivkhTxt/92_nd/n.txt /content/drive/MyDrive/FilteredNivkhTxt/92_nd/r.txt\n"
          ]
        },
        {
          "output_type": "stream",
          "name": "stderr",
          "text": [
            "WARNING:root:can not fetch index db\n"
          ]
        },
        {
          "output_type": "stream",
          "name": "stdout",
          "text": [
            "Aligning without segments.\n",
            "tasks amount: 1\n",
            "batch: 0 (0)\n",
            "conflicts to solve: 0\n",
            "total conflicts: 2\n"
          ]
        },
        {
          "output_type": "stream",
          "name": "stderr",
          "text": [
            "\n",
            "0it [00:00, ?it/s]\n"
          ]
        },
        {
          "output_type": "stream",
          "name": "stdout",
          "text": [
            "conflicts to solve: 2\n",
            "total conflicts: 2\n"
          ]
        },
        {
          "output_type": "stream",
          "name": "stderr",
          "text": [
            "\n",
            "  0%|          | 0/2 [00:00<?, ?it/s]\u001b[A\n",
            "100%|██████████| 2/2 [00:00<00:00,  4.65it/s]\n"
          ]
        },
        {
          "output_type": "stream",
          "name": "stdout",
          "text": [
            "conflicts to solve: 0\n",
            "total conflicts: 0\n"
          ]
        },
        {
          "output_type": "stream",
          "name": "stderr",
          "text": [
            "\n",
            "0it [00:00, ?it/s]\n"
          ]
        },
        {
          "output_type": "stream",
          "name": "stdout",
          "text": [
            "N: 13 --> 1\n",
            "R: 15 --> 1\n",
            "Chain score: 1.0000\n",
            "\n",
            " ---------------------------------------------------------------------------------------------------------------------------------------------------------------------------------------------------------------------------------------------------------------------------------------------------------------------------------------------------------------------------------------------------------------------------------------------------------------------------------------------------------------------------------------------------------------------------------------------------------------------------------------------------------------------------------------------------------------------------------------------------------------------------------------------------------------------------------------------------------------------------------------------------------------------------------------------------------------------------------------------------------------------------------------- \n",
            "\n",
            "/content/drive/MyDrive/FilteredNivkhTxt/a253_nd/n.txt /content/drive/MyDrive/FilteredNivkhTxt/a253_nd/r.txt\n"
          ]
        },
        {
          "output_type": "stream",
          "name": "stderr",
          "text": [
            "WARNING:root:can not fetch index db\n"
          ]
        },
        {
          "output_type": "stream",
          "name": "stdout",
          "text": [
            "Aligning without segments.\n",
            "tasks amount: 1\n",
            "batch: 0 (0)\n",
            "conflicts to solve: 0\n",
            "total conflicts: 0\n"
          ]
        },
        {
          "output_type": "stream",
          "name": "stderr",
          "text": [
            "\n",
            "0it [00:00, ?it/s]\n"
          ]
        },
        {
          "output_type": "stream",
          "name": "stdout",
          "text": [
            "conflicts to solve: 0\n",
            "total conflicts: 0\n"
          ]
        },
        {
          "output_type": "stream",
          "name": "stderr",
          "text": [
            "\n",
            "0it [00:00, ?it/s]\n"
          ]
        },
        {
          "output_type": "stream",
          "name": "stdout",
          "text": [
            "N: 13 --> 2\n",
            "R: 8 --> 2\n",
            "Chain score: 0.0833\n",
            "Skipping saving due to low chain_score: 0.0833\n",
            "\n",
            " ---------------------------------------------------------------------------------------------------------------------------------------------------------------------------------------------------------------------------------------------------------------------------------------------------------------------------------------------------------------------------------------------------------------------------------------------------------------------------------------------------------------------------------------------------------------------------------------------------------------------------------------------------------------------------------------------------------------------------------------------------------------------------------------------------------------------------------------------------------------------------------------------------------------------------------------------------------------------------------------------------------------------------------------- \n",
            "\n",
            "/content/drive/MyDrive/FilteredNivkhTxt/71_nd/n.txt /content/drive/MyDrive/FilteredNivkhTxt/71_nd/r.txt\n",
            "Aligning without segments.\n",
            "tasks amount: 1\n",
            "batch: 0 (0)\n"
          ]
        },
        {
          "output_type": "stream",
          "name": "stderr",
          "text": [
            "WARNING:root:can not fetch index db\n"
          ]
        },
        {
          "output_type": "stream",
          "name": "stdout",
          "text": [
            "conflicts to solve: 1\n",
            "total conflicts: 4\n"
          ]
        },
        {
          "output_type": "stream",
          "name": "stderr",
          "text": [
            "\n",
            "100%|██████████| 1/1 [00:00<00:00, 11.56it/s]\n"
          ]
        },
        {
          "output_type": "stream",
          "name": "stdout",
          "text": [
            "conflicts to solve: 0\n",
            "total conflicts: 2\n"
          ]
        },
        {
          "output_type": "stream",
          "name": "stderr",
          "text": [
            "\n",
            "0it [00:00, ?it/s]\n"
          ]
        },
        {
          "output_type": "stream",
          "name": "stdout",
          "text": [
            "conflicts to solve: 0\n",
            "total conflicts: 1\n"
          ]
        },
        {
          "output_type": "stream",
          "name": "stderr",
          "text": [
            "\n",
            "0it [00:00, ?it/s]\n"
          ]
        },
        {
          "output_type": "stream",
          "name": "stdout",
          "text": [
            "conflicts to solve: 3\n",
            "total conflicts: 3\n"
          ]
        },
        {
          "output_type": "stream",
          "name": "stderr",
          "text": [
            "\n",
            "  0%|          | 0/3 [00:00<?, ?it/s]\u001b[A\n",
            " 33%|███▎      | 1/3 [00:00<00:00,  5.76it/s]\u001b[A\n",
            "100%|██████████| 3/3 [00:05<00:00,  1.92s/it]\n"
          ]
        },
        {
          "output_type": "stream",
          "name": "stdout",
          "text": [
            "N: 58 --> 31\n",
            "R: 58 --> 31\n",
            "Chain score: 1.0000\n",
            "\n",
            " ---------------------------------------------------------------------------------------------------------------------------------------------------------------------------------------------------------------------------------------------------------------------------------------------------------------------------------------------------------------------------------------------------------------------------------------------------------------------------------------------------------------------------------------------------------------------------------------------------------------------------------------------------------------------------------------------------------------------------------------------------------------------------------------------------------------------------------------------------------------------------------------------------------------------------------------------------------------------------------------------------------------------------------------- \n",
            "\n",
            "/content/drive/MyDrive/FilteredNivkhTxt/a303_nd/n.txt /content/drive/MyDrive/FilteredNivkhTxt/a303_nd/r.txt\n",
            "Aligning without segments.\n",
            "tasks amount: 1\n",
            "batch: 0 (0)\n"
          ]
        },
        {
          "output_type": "stream",
          "name": "stderr",
          "text": [
            "WARNING:root:can not fetch index db\n"
          ]
        },
        {
          "output_type": "stream",
          "name": "stdout",
          "text": [
            "conflicts to solve: 0\n",
            "total conflicts: 2\n"
          ]
        },
        {
          "output_type": "stream",
          "name": "stderr",
          "text": [
            "\n",
            "0it [00:00, ?it/s]\n"
          ]
        },
        {
          "output_type": "stream",
          "name": "stdout",
          "text": [
            "conflicts to solve: 0\n",
            "total conflicts: 1\n"
          ]
        },
        {
          "output_type": "stream",
          "name": "stderr",
          "text": [
            "\n",
            "0it [00:00, ?it/s]\n"
          ]
        },
        {
          "output_type": "stream",
          "name": "stdout",
          "text": [
            "conflicts to solve: 0\n",
            "total conflicts: 0\n"
          ]
        },
        {
          "output_type": "stream",
          "name": "stderr",
          "text": [
            "\n",
            "0it [00:00, ?it/s]\n"
          ]
        },
        {
          "output_type": "stream",
          "name": "stdout",
          "text": [
            "conflicts to solve: 2\n",
            "total conflicts: 2\n"
          ]
        },
        {
          "output_type": "stream",
          "name": "stderr",
          "text": [
            "\n",
            "  0%|          | 0/2 [00:00<?, ?it/s]\u001b[A\n",
            " 50%|█████     | 1/2 [00:00<00:00,  5.09it/s]\u001b[A\n",
            "100%|██████████| 2/2 [00:02<00:00,  1.39s/it]\n"
          ]
        },
        {
          "output_type": "stream",
          "name": "stdout",
          "text": [
            "N: 20 --> 3\n",
            "R: 27 --> 3\n",
            "Chain score: 0.9643\n",
            "\n",
            " ---------------------------------------------------------------------------------------------------------------------------------------------------------------------------------------------------------------------------------------------------------------------------------------------------------------------------------------------------------------------------------------------------------------------------------------------------------------------------------------------------------------------------------------------------------------------------------------------------------------------------------------------------------------------------------------------------------------------------------------------------------------------------------------------------------------------------------------------------------------------------------------------------------------------------------------------------------------------------------------------------------------------------------------- \n",
            "\n",
            "/content/drive/MyDrive/FilteredNivkhTxt/a243_nd/n.txt /content/drive/MyDrive/FilteredNivkhTxt/a243_nd/r.txt\n"
          ]
        },
        {
          "output_type": "stream",
          "name": "stderr",
          "text": [
            "WARNING:root:can not fetch index db\n"
          ]
        },
        {
          "output_type": "stream",
          "name": "stdout",
          "text": [
            "Aligning without segments.\n",
            "tasks amount: 1\n",
            "batch: 0 (0)\n",
            "conflicts to solve: 2\n",
            "total conflicts: 2\n"
          ]
        },
        {
          "output_type": "stream",
          "name": "stderr",
          "text": [
            "\n",
            "  0%|          | 0/2 [00:00<?, ?it/s]\u001b[A\n",
            "100%|██████████| 2/2 [00:00<00:00, 12.16it/s]\n"
          ]
        },
        {
          "output_type": "stream",
          "name": "stdout",
          "text": [
            "conflicts to solve: 0\n",
            "total conflicts: 0\n"
          ]
        },
        {
          "output_type": "stream",
          "name": "stderr",
          "text": [
            "\n",
            "0it [00:00, ?it/s]\n"
          ]
        },
        {
          "output_type": "stream",
          "name": "stdout",
          "text": [
            "Error in /content/drive/MyDrive/FilteredNivkhTxt/a243_nd: not enough values to unpack (expected 2, got 0)\n",
            "\n",
            " ---------------------------------------------------------------------------------------------------------------------------------------------------------------------------------------------------------------------------------------------------------------------------------------------------------------------------------------------------------------------------------------------------------------------------------------------------------------------------------------------------------------------------------------------------------------------------------------------------------------------------------------------------------------------------------------------------------------------------------------------------------------------------------------------------------------------------------------------------------------------------------------------------------------------------------------------------------------------------------------------------------------------------------------- \n",
            "\n",
            "/content/drive/MyDrive/FilteredNivkhTxt/82_nd/n.txt /content/drive/MyDrive/FilteredNivkhTxt/82_nd/r.txt\n"
          ]
        },
        {
          "output_type": "stream",
          "name": "stderr",
          "text": [
            "WARNING:root:can not fetch index db\n"
          ]
        },
        {
          "output_type": "stream",
          "name": "stdout",
          "text": [
            "Aligning without segments.\n",
            "tasks amount: 1\n",
            "batch: 0 (0)\n",
            "conflicts to solve: 0\n",
            "total conflicts: 1\n"
          ]
        },
        {
          "output_type": "stream",
          "name": "stderr",
          "text": [
            "\n",
            "0it [00:00, ?it/s]\n"
          ]
        },
        {
          "output_type": "stream",
          "name": "stdout",
          "text": [
            "conflicts to solve: 1\n",
            "total conflicts: 1\n"
          ]
        },
        {
          "output_type": "stream",
          "name": "stderr",
          "text": [
            "\n",
            "  0%|          | 0/1 [00:00<?, ?it/s]\u001b[A\n",
            "100%|██████████| 1/1 [00:00<00:00,  8.29it/s]\n"
          ]
        },
        {
          "output_type": "stream",
          "name": "stdout",
          "text": [
            "conflicts to solve: 0\n",
            "total conflicts: 0\n"
          ]
        },
        {
          "output_type": "stream",
          "name": "stderr",
          "text": [
            "\n",
            "0it [00:00, ?it/s]\n"
          ]
        },
        {
          "output_type": "stream",
          "name": "stdout",
          "text": [
            "N: 7 --> 1\n",
            "R: 8 --> 1\n",
            "Chain score: 1.0000\n",
            "\n",
            " ---------------------------------------------------------------------------------------------------------------------------------------------------------------------------------------------------------------------------------------------------------------------------------------------------------------------------------------------------------------------------------------------------------------------------------------------------------------------------------------------------------------------------------------------------------------------------------------------------------------------------------------------------------------------------------------------------------------------------------------------------------------------------------------------------------------------------------------------------------------------------------------------------------------------------------------------------------------------------------------------------------------------------------------- \n",
            "\n",
            "/content/drive/MyDrive/FilteredNivkhTxt/a284_nd/n.txt /content/drive/MyDrive/FilteredNivkhTxt/a284_nd/r.txt\n"
          ]
        },
        {
          "output_type": "stream",
          "name": "stderr",
          "text": [
            "WARNING:root:can not fetch index db\n"
          ]
        },
        {
          "output_type": "stream",
          "name": "stdout",
          "text": [
            "Aligning without segments.\n",
            "tasks amount: 1\n",
            "batch: 0 (0)\n",
            "conflicts to solve: 3\n",
            "total conflicts: 3\n"
          ]
        },
        {
          "output_type": "stream",
          "name": "stderr",
          "text": [
            "\n",
            "  0%|          | 0/3 [00:00<?, ?it/s]\u001b[A\n",
            "100%|██████████| 3/3 [00:00<00:00, 12.90it/s]\n"
          ]
        },
        {
          "output_type": "stream",
          "name": "stdout",
          "text": [
            "conflicts to solve: 0\n",
            "total conflicts: 0\n"
          ]
        },
        {
          "output_type": "stream",
          "name": "stderr",
          "text": [
            "\n",
            "0it [00:00, ?it/s]\n"
          ]
        },
        {
          "output_type": "stream",
          "name": "stdout",
          "text": [
            "N: 10 --> 4\n",
            "R: 10 --> 4\n",
            "Chain score: 1.0000\n",
            "\n",
            " ---------------------------------------------------------------------------------------------------------------------------------------------------------------------------------------------------------------------------------------------------------------------------------------------------------------------------------------------------------------------------------------------------------------------------------------------------------------------------------------------------------------------------------------------------------------------------------------------------------------------------------------------------------------------------------------------------------------------------------------------------------------------------------------------------------------------------------------------------------------------------------------------------------------------------------------------------------------------------------------------------------------------------------------- \n",
            "\n",
            "/content/drive/MyDrive/FilteredNivkhTxt/a115_nd/n.txt /content/drive/MyDrive/FilteredNivkhTxt/a115_nd/r.txt\n"
          ]
        },
        {
          "output_type": "stream",
          "name": "stderr",
          "text": [
            "WARNING:root:can not fetch index db\n"
          ]
        },
        {
          "output_type": "stream",
          "name": "stdout",
          "text": [
            "Aligning without segments.\n",
            "tasks amount: 1\n",
            "batch: 0 (0)\n",
            "conflicts to solve: 3\n",
            "total conflicts: 5\n"
          ]
        },
        {
          "output_type": "stream",
          "name": "stderr",
          "text": [
            "\n",
            "  0%|          | 0/3 [00:00<?, ?it/s]\u001b[A\n",
            "100%|██████████| 3/3 [00:00<00:00, 16.16it/s]\n"
          ]
        },
        {
          "output_type": "stream",
          "name": "stdout",
          "text": [
            "conflicts to solve: 2\n",
            "total conflicts: 2\n"
          ]
        },
        {
          "output_type": "stream",
          "name": "stderr",
          "text": [
            "\n",
            "  0%|          | 0/2 [00:00<?, ?it/s]\u001b[A\n",
            " 50%|█████     | 1/2 [00:00<00:00,  8.73it/s]\u001b[A\n",
            "100%|██████████| 2/2 [00:00<00:00,  5.91it/s]\n"
          ]
        },
        {
          "output_type": "stream",
          "name": "stdout",
          "text": [
            "conflicts to solve: 0\n",
            "total conflicts: 0\n"
          ]
        },
        {
          "output_type": "stream",
          "name": "stderr",
          "text": [
            "\n",
            "0it [00:00, ?it/s]\n"
          ]
        },
        {
          "output_type": "stream",
          "name": "stdout",
          "text": [
            "N: 15 --> 4\n",
            "R: 21 --> 4\n",
            "Chain score: 1.0000\n",
            "\n",
            " ---------------------------------------------------------------------------------------------------------------------------------------------------------------------------------------------------------------------------------------------------------------------------------------------------------------------------------------------------------------------------------------------------------------------------------------------------------------------------------------------------------------------------------------------------------------------------------------------------------------------------------------------------------------------------------------------------------------------------------------------------------------------------------------------------------------------------------------------------------------------------------------------------------------------------------------------------------------------------------------------------------------------------------------- \n",
            "\n",
            "/content/drive/MyDrive/FilteredNivkhTxt/a352_nd/n.txt /content/drive/MyDrive/FilteredNivkhTxt/a352_nd/r.txt\n"
          ]
        },
        {
          "output_type": "stream",
          "name": "stderr",
          "text": [
            "WARNING:root:can not fetch index db\n"
          ]
        },
        {
          "output_type": "stream",
          "name": "stdout",
          "text": [
            "Aligning without segments.\n",
            "tasks amount: 1\n",
            "batch: 0 (0)\n",
            "conflicts to solve: 4\n",
            "total conflicts: 5\n"
          ]
        },
        {
          "output_type": "stream",
          "name": "stderr",
          "text": [
            "\n",
            "  0%|          | 0/4 [00:00<?, ?it/s]\u001b[A\n",
            " 50%|█████     | 2/4 [00:00<00:00,  9.69it/s]\u001b[A\n",
            "100%|██████████| 4/4 [00:00<00:00,  9.71it/s]\n"
          ]
        },
        {
          "output_type": "stream",
          "name": "stdout",
          "text": [
            "conflicts to solve: 1\n",
            "total conflicts: 1\n"
          ]
        },
        {
          "output_type": "stream",
          "name": "stderr",
          "text": [
            "\n",
            "  0%|          | 0/1 [00:00<?, ?it/s]\u001b[A\n",
            "100%|██████████| 1/1 [00:00<00:00,  4.91it/s]\n"
          ]
        },
        {
          "output_type": "stream",
          "name": "stdout",
          "text": [
            "conflicts to solve: 0\n",
            "total conflicts: 0\n"
          ]
        },
        {
          "output_type": "stream",
          "name": "stderr",
          "text": [
            "\n",
            "0it [00:00, ?it/s]\n"
          ]
        },
        {
          "output_type": "stream",
          "name": "stdout",
          "text": [
            "N: 32 --> 5\n",
            "R: 30 --> 5\n",
            "Chain score: 0.9643\n",
            "\n",
            " ---------------------------------------------------------------------------------------------------------------------------------------------------------------------------------------------------------------------------------------------------------------------------------------------------------------------------------------------------------------------------------------------------------------------------------------------------------------------------------------------------------------------------------------------------------------------------------------------------------------------------------------------------------------------------------------------------------------------------------------------------------------------------------------------------------------------------------------------------------------------------------------------------------------------------------------------------------------------------------------------------------------------------------------- \n",
            "\n",
            "/content/drive/MyDrive/FilteredNivkhTxt/a327_nd/n.txt /content/drive/MyDrive/FilteredNivkhTxt/a327_nd/r.txt\n",
            "Aligning without segments.\n",
            "tasks amount: 1\n",
            "batch: 0 (0)\n"
          ]
        },
        {
          "output_type": "stream",
          "name": "stderr",
          "text": [
            "WARNING:root:can not fetch index db\n"
          ]
        },
        {
          "output_type": "stream",
          "name": "stdout",
          "text": [
            "conflicts to solve: 0\n",
            "total conflicts: 2\n"
          ]
        },
        {
          "output_type": "stream",
          "name": "stderr",
          "text": [
            "\n",
            "0it [00:00, ?it/s]\n"
          ]
        },
        {
          "output_type": "stream",
          "name": "stdout",
          "text": [
            "conflicts to solve: 0\n",
            "total conflicts: 0\n"
          ]
        },
        {
          "output_type": "stream",
          "name": "stderr",
          "text": [
            "\n",
            "0it [00:00, ?it/s]\n"
          ]
        },
        {
          "output_type": "stream",
          "name": "stdout",
          "text": [
            "conflicts to solve: 2\n",
            "total conflicts: 2\n"
          ]
        },
        {
          "output_type": "stream",
          "name": "stderr",
          "text": [
            "\n",
            "  0%|          | 0/2 [00:00<?, ?it/s]\u001b[A\n",
            " 50%|█████     | 1/2 [00:01<00:01,  1.57s/it]\u001b[A\n",
            "100%|██████████| 2/2 [00:02<00:00,  1.09s/it]\n"
          ]
        },
        {
          "output_type": "stream",
          "name": "stdout",
          "text": [
            "N: 25 --> 5\n",
            "R: 23 --> 5\n",
            "Chain score: 1.0000\n",
            "\n",
            " ---------------------------------------------------------------------------------------------------------------------------------------------------------------------------------------------------------------------------------------------------------------------------------------------------------------------------------------------------------------------------------------------------------------------------------------------------------------------------------------------------------------------------------------------------------------------------------------------------------------------------------------------------------------------------------------------------------------------------------------------------------------------------------------------------------------------------------------------------------------------------------------------------------------------------------------------------------------------------------------------------------------------------------------- \n",
            "\n",
            "/content/drive/MyDrive/FilteredNivkhTxt/32_shklg/n.txt /content/drive/MyDrive/FilteredNivkhTxt/32_shklg/r.txt\n",
            "Aligning without segments.\n",
            "tasks amount: 1\n",
            "batch: 0 (0)\n"
          ]
        },
        {
          "output_type": "stream",
          "name": "stderr",
          "text": [
            "WARNING:root:can not fetch index db\n"
          ]
        },
        {
          "output_type": "stream",
          "name": "stdout",
          "text": [
            "conflicts to solve: 0\n",
            "total conflicts: 2\n"
          ]
        },
        {
          "output_type": "stream",
          "name": "stderr",
          "text": [
            "\n",
            "0it [00:00, ?it/s]\n"
          ]
        },
        {
          "output_type": "stream",
          "name": "stdout",
          "text": [
            "conflicts to solve: 0\n",
            "total conflicts: 1\n"
          ]
        },
        {
          "output_type": "stream",
          "name": "stderr",
          "text": [
            "\n",
            "0it [00:00, ?it/s]\n"
          ]
        },
        {
          "output_type": "stream",
          "name": "stdout",
          "text": [
            "conflicts to solve: 0\n",
            "total conflicts: 1\n"
          ]
        },
        {
          "output_type": "stream",
          "name": "stderr",
          "text": [
            "\n",
            "0it [00:00, ?it/s]\n"
          ]
        },
        {
          "output_type": "stream",
          "name": "stdout",
          "text": [
            "conflicts to solve: 1\n",
            "total conflicts: 2\n"
          ]
        },
        {
          "output_type": "stream",
          "name": "stderr",
          "text": [
            "\n",
            "  0%|          | 0/1 [00:00<?, ?it/s]\u001b[A\n",
            "100%|██████████| 1/1 [00:00<00:00,  3.04it/s]\n"
          ]
        },
        {
          "output_type": "stream",
          "name": "stdout",
          "text": [
            "N: 55 --> 15\n",
            "R: 84 --> 15\n",
            "Chain score: 0.2321\n",
            "Skipping saving due to low chain_score: 0.2321\n",
            "\n",
            " ---------------------------------------------------------------------------------------------------------------------------------------------------------------------------------------------------------------------------------------------------------------------------------------------------------------------------------------------------------------------------------------------------------------------------------------------------------------------------------------------------------------------------------------------------------------------------------------------------------------------------------------------------------------------------------------------------------------------------------------------------------------------------------------------------------------------------------------------------------------------------------------------------------------------------------------------------------------------------------------------------------------------------------------- \n",
            "\n",
            "/content/drive/MyDrive/FilteredNivkhTxt/a163_bible/n.txt /content/drive/MyDrive/FilteredNivkhTxt/a163_bible/r.txt\n",
            "Aligning without segments.\n",
            "tasks amount: 1\n",
            "batch: 0 (0)\n"
          ]
        },
        {
          "output_type": "stream",
          "name": "stderr",
          "text": [
            "WARNING:root:can not fetch index db\n"
          ]
        },
        {
          "output_type": "stream",
          "name": "stdout",
          "text": [
            "conflicts to solve: 4\n",
            "total conflicts: 4\n"
          ]
        },
        {
          "output_type": "stream",
          "name": "stderr",
          "text": [
            "\n",
            "  0%|          | 0/4 [00:00<?, ?it/s]\u001b[A\n",
            " 50%|█████     | 2/4 [00:00<00:00, 11.12it/s]\u001b[A\n",
            "100%|██████████| 4/4 [00:00<00:00, 12.88it/s]\n"
          ]
        },
        {
          "output_type": "stream",
          "name": "stdout",
          "text": [
            "conflicts to solve: 0\n",
            "total conflicts: 0\n"
          ]
        },
        {
          "output_type": "stream",
          "name": "stderr",
          "text": [
            "\n",
            "0it [00:00, ?it/s]\n"
          ]
        },
        {
          "output_type": "stream",
          "name": "stdout",
          "text": [
            "N: 28 --> 23\n",
            "R: 29 --> 23\n",
            "Chain score: 1.0000\n",
            "\n",
            " ---------------------------------------------------------------------------------------------------------------------------------------------------------------------------------------------------------------------------------------------------------------------------------------------------------------------------------------------------------------------------------------------------------------------------------------------------------------------------------------------------------------------------------------------------------------------------------------------------------------------------------------------------------------------------------------------------------------------------------------------------------------------------------------------------------------------------------------------------------------------------------------------------------------------------------------------------------------------------------------------------------------------------------------- \n",
            "\n",
            "/content/drive/MyDrive/FilteredNivkhTxt/a342_nd/n.txt /content/drive/MyDrive/FilteredNivkhTxt/a342_nd/r.txt\n"
          ]
        },
        {
          "output_type": "stream",
          "name": "stderr",
          "text": [
            "WARNING:root:can not fetch index db\n"
          ]
        },
        {
          "output_type": "stream",
          "name": "stdout",
          "text": [
            "Aligning without segments.\n",
            "tasks amount: 1\n",
            "batch: 0 (0)\n",
            "conflicts to solve: 0\n",
            "total conflicts: 1\n"
          ]
        },
        {
          "output_type": "stream",
          "name": "stderr",
          "text": [
            "\n",
            "0it [00:00, ?it/s]\n"
          ]
        },
        {
          "output_type": "stream",
          "name": "stdout",
          "text": [
            "conflicts to solve: 0\n",
            "total conflicts: 0\n"
          ]
        },
        {
          "output_type": "stream",
          "name": "stderr",
          "text": [
            "\n",
            "0it [00:00, ?it/s]\n"
          ]
        },
        {
          "output_type": "stream",
          "name": "stdout",
          "text": [
            "conflicts to solve: 1\n",
            "total conflicts: 1\n"
          ]
        },
        {
          "output_type": "stream",
          "name": "stderr",
          "text": [
            "\n",
            "  0%|          | 0/1 [00:00<?, ?it/s]\u001b[A\n",
            "100%|██████████| 1/1 [00:00<00:00,  2.71it/s]\n"
          ]
        },
        {
          "output_type": "stream",
          "name": "stdout",
          "text": [
            "N: 11 --> 1\n",
            "R: 8 --> 1\n",
            "Chain score: 1.0000\n",
            "\n",
            " ---------------------------------------------------------------------------------------------------------------------------------------------------------------------------------------------------------------------------------------------------------------------------------------------------------------------------------------------------------------------------------------------------------------------------------------------------------------------------------------------------------------------------------------------------------------------------------------------------------------------------------------------------------------------------------------------------------------------------------------------------------------------------------------------------------------------------------------------------------------------------------------------------------------------------------------------------------------------------------------------------------------------------------------- \n",
            "\n",
            "/content/drive/MyDrive/FilteredNivkhTxt/a294_nd/n.txt /content/drive/MyDrive/FilteredNivkhTxt/a294_nd/r.txt\n"
          ]
        },
        {
          "output_type": "stream",
          "name": "stderr",
          "text": [
            "WARNING:root:can not fetch index db\n"
          ]
        },
        {
          "output_type": "stream",
          "name": "stdout",
          "text": [
            "Aligning without segments.\n",
            "tasks amount: 1\n",
            "batch: 0 (0)\n",
            "conflicts to solve: 2\n",
            "total conflicts: 3\n"
          ]
        },
        {
          "output_type": "stream",
          "name": "stderr",
          "text": [
            "\n",
            "  0%|          | 0/2 [00:00<?, ?it/s]\u001b[A\n",
            "100%|██████████| 2/2 [00:00<00:00,  9.40it/s]\n"
          ]
        },
        {
          "output_type": "stream",
          "name": "stdout",
          "text": [
            "conflicts to solve: 0\n",
            "total conflicts: 1\n"
          ]
        },
        {
          "output_type": "stream",
          "name": "stderr",
          "text": [
            "\n",
            "0it [00:00, ?it/s]\n"
          ]
        },
        {
          "output_type": "stream",
          "name": "stdout",
          "text": [
            "conflicts to solve: 0\n",
            "total conflicts: 0\n"
          ]
        },
        {
          "output_type": "stream",
          "name": "stderr",
          "text": [
            "\n",
            "0it [00:00, ?it/s]\n"
          ]
        },
        {
          "output_type": "stream",
          "name": "stdout",
          "text": [
            "conflicts to solve: 0\n",
            "total conflicts: 1\n"
          ]
        },
        {
          "output_type": "stream",
          "name": "stderr",
          "text": [
            "\n",
            "0it [00:00, ?it/s]\n"
          ]
        },
        {
          "output_type": "stream",
          "name": "stdout",
          "text": [
            "N: 10 --> 2\n",
            "R: 7 --> 2\n",
            "Chain score: 0.9000\n",
            "\n",
            " ---------------------------------------------------------------------------------------------------------------------------------------------------------------------------------------------------------------------------------------------------------------------------------------------------------------------------------------------------------------------------------------------------------------------------------------------------------------------------------------------------------------------------------------------------------------------------------------------------------------------------------------------------------------------------------------------------------------------------------------------------------------------------------------------------------------------------------------------------------------------------------------------------------------------------------------------------------------------------------------------------------------------------------------- \n",
            "\n",
            "/content/drive/MyDrive/FilteredNivkhTxt/a385_nd/n.txt /content/drive/MyDrive/FilteredNivkhTxt/a385_nd/r.txt\n"
          ]
        },
        {
          "output_type": "stream",
          "name": "stderr",
          "text": [
            "WARNING:root:can not fetch index db\n"
          ]
        },
        {
          "output_type": "stream",
          "name": "stdout",
          "text": [
            "Aligning without segments.\n",
            "tasks amount: 1\n",
            "batch: 0 (0)\n",
            "conflicts to solve: 2\n",
            "total conflicts: 2\n"
          ]
        },
        {
          "output_type": "stream",
          "name": "stderr",
          "text": [
            "\n",
            "100%|██████████| 2/2 [00:00<00:00, 20.18it/s]\n"
          ]
        },
        {
          "output_type": "stream",
          "name": "stdout",
          "text": [
            "conflicts to solve: 0\n",
            "total conflicts: 0\n"
          ]
        },
        {
          "output_type": "stream",
          "name": "stderr",
          "text": [
            "\n",
            "0it [00:00, ?it/s]\n"
          ]
        },
        {
          "output_type": "stream",
          "name": "stdout",
          "text": [
            "N: 5 --> 2\n",
            "R: 4 --> 2\n",
            "Chain score: 1.0000\n",
            "\n",
            " ---------------------------------------------------------------------------------------------------------------------------------------------------------------------------------------------------------------------------------------------------------------------------------------------------------------------------------------------------------------------------------------------------------------------------------------------------------------------------------------------------------------------------------------------------------------------------------------------------------------------------------------------------------------------------------------------------------------------------------------------------------------------------------------------------------------------------------------------------------------------------------------------------------------------------------------------------------------------------------------------------------------------------------------- \n",
            "\n",
            "/content/drive/MyDrive/FilteredNivkhTxt/a376_nd/n.txt /content/drive/MyDrive/FilteredNivkhTxt/a376_nd/r.txt\n"
          ]
        },
        {
          "output_type": "stream",
          "name": "stderr",
          "text": [
            "WARNING:root:can not fetch index db\n"
          ]
        },
        {
          "output_type": "stream",
          "name": "stdout",
          "text": [
            "Aligning without segments.\n",
            "tasks amount: 1\n",
            "batch: 0 (0)\n",
            "conflicts to solve: 1\n",
            "total conflicts: 2\n"
          ]
        },
        {
          "output_type": "stream",
          "name": "stderr",
          "text": [
            "\n",
            "100%|██████████| 1/1 [00:00<00:00, 11.85it/s]\n"
          ]
        },
        {
          "output_type": "stream",
          "name": "stdout",
          "text": [
            "conflicts to solve: 1\n",
            "total conflicts: 1\n"
          ]
        },
        {
          "output_type": "stream",
          "name": "stderr",
          "text": [
            "\n",
            "  0%|          | 0/1 [00:00<?, ?it/s]\u001b[A\n",
            "100%|██████████| 1/1 [00:00<00:00,  4.53it/s]\n"
          ]
        },
        {
          "output_type": "stream",
          "name": "stdout",
          "text": [
            "conflicts to solve: 0\n",
            "total conflicts: 0\n"
          ]
        },
        {
          "output_type": "stream",
          "name": "stderr",
          "text": [
            "\n",
            "0it [00:00, ?it/s]\n"
          ]
        },
        {
          "output_type": "stream",
          "name": "stdout",
          "text": [
            "N: 13 --> 4\n",
            "R: 11 --> 4\n",
            "Chain score: 1.0000\n",
            "\n",
            " ---------------------------------------------------------------------------------------------------------------------------------------------------------------------------------------------------------------------------------------------------------------------------------------------------------------------------------------------------------------------------------------------------------------------------------------------------------------------------------------------------------------------------------------------------------------------------------------------------------------------------------------------------------------------------------------------------------------------------------------------------------------------------------------------------------------------------------------------------------------------------------------------------------------------------------------------------------------------------------------------------------------------------------------- \n",
            "\n",
            "/content/drive/MyDrive/FilteredNivkhTxt/a267_nd/n.txt /content/drive/MyDrive/FilteredNivkhTxt/a267_nd/r.txt\n"
          ]
        },
        {
          "output_type": "stream",
          "name": "stderr",
          "text": [
            "WARNING:root:can not fetch index db\n"
          ]
        },
        {
          "output_type": "stream",
          "name": "stdout",
          "text": [
            "Aligning without segments.\n",
            "tasks amount: 1\n",
            "batch: 0 (0)\n",
            "conflicts to solve: 0\n",
            "total conflicts: 1\n"
          ]
        },
        {
          "output_type": "stream",
          "name": "stderr",
          "text": [
            "\n",
            "0it [00:00, ?it/s]\n"
          ]
        },
        {
          "output_type": "stream",
          "name": "stdout",
          "text": [
            "conflicts to solve: 0\n",
            "total conflicts: 0\n"
          ]
        },
        {
          "output_type": "stream",
          "name": "stderr",
          "text": [
            "\n",
            "0it [00:00, ?it/s]\n"
          ]
        },
        {
          "output_type": "stream",
          "name": "stdout",
          "text": [
            "conflicts to solve: 1\n",
            "total conflicts: 1\n"
          ]
        },
        {
          "output_type": "stream",
          "name": "stderr",
          "text": [
            "\n",
            "  0%|          | 0/1 [00:00<?, ?it/s]\u001b[A\n",
            "100%|██████████| 1/1 [00:00<00:00,  3.12it/s]\n"
          ]
        },
        {
          "output_type": "stream",
          "name": "stdout",
          "text": [
            "N: 16 --> 6\n",
            "R: 18 --> 6\n",
            "Chain score: 0.8824\n",
            "\n",
            " ---------------------------------------------------------------------------------------------------------------------------------------------------------------------------------------------------------------------------------------------------------------------------------------------------------------------------------------------------------------------------------------------------------------------------------------------------------------------------------------------------------------------------------------------------------------------------------------------------------------------------------------------------------------------------------------------------------------------------------------------------------------------------------------------------------------------------------------------------------------------------------------------------------------------------------------------------------------------------------------------------------------------------------------- \n",
            "\n",
            "/content/drive/MyDrive/FilteredNivkhTxt/35_sng/n.txt /content/drive/MyDrive/FilteredNivkhTxt/35_sng/r.txt\n"
          ]
        },
        {
          "output_type": "stream",
          "name": "stderr",
          "text": [
            "WARNING:root:can not fetch index db\n"
          ]
        },
        {
          "output_type": "stream",
          "name": "stdout",
          "text": [
            "Aligning without segments.\n",
            "tasks amount: 1\n",
            "batch: 0 (0)\n",
            "conflicts to solve: 0\n",
            "total conflicts: 2\n"
          ]
        },
        {
          "output_type": "stream",
          "name": "stderr",
          "text": [
            "\n",
            "0it [00:00, ?it/s]\n"
          ]
        },
        {
          "output_type": "stream",
          "name": "stdout",
          "text": [
            "conflicts to solve: 0\n",
            "total conflicts: 1\n"
          ]
        },
        {
          "output_type": "stream",
          "name": "stderr",
          "text": [
            "\n",
            "0it [00:00, ?it/s]\n"
          ]
        },
        {
          "output_type": "stream",
          "name": "stdout",
          "text": [
            "conflicts to solve: 0\n",
            "total conflicts: 0\n"
          ]
        },
        {
          "output_type": "stream",
          "name": "stderr",
          "text": [
            "\n",
            "0it [00:00, ?it/s]\n"
          ]
        },
        {
          "output_type": "stream",
          "name": "stdout",
          "text": [
            "conflicts to solve: 1\n",
            "total conflicts: 2\n"
          ]
        },
        {
          "output_type": "stream",
          "name": "stderr",
          "text": [
            "\n",
            "  0%|          | 0/1 [00:00<?, ?it/s]\u001b[A\n",
            "100%|██████████| 1/1 [00:00<00:00,  1.04it/s]\n"
          ]
        },
        {
          "output_type": "stream",
          "name": "stdout",
          "text": [
            "N: 12 --> 3\n",
            "R: 15 --> 3\n",
            "Chain score: 0.8889\n",
            "\n",
            " ---------------------------------------------------------------------------------------------------------------------------------------------------------------------------------------------------------------------------------------------------------------------------------------------------------------------------------------------------------------------------------------------------------------------------------------------------------------------------------------------------------------------------------------------------------------------------------------------------------------------------------------------------------------------------------------------------------------------------------------------------------------------------------------------------------------------------------------------------------------------------------------------------------------------------------------------------------------------------------------------------------------------------------------- \n",
            "\n",
            "/content/drive/MyDrive/FilteredNivkhTxt/a438_nd/n.txt /content/drive/MyDrive/FilteredNivkhTxt/a438_nd/r.txt\n"
          ]
        },
        {
          "output_type": "stream",
          "name": "stderr",
          "text": [
            "WARNING:root:can not fetch index db\n"
          ]
        },
        {
          "output_type": "stream",
          "name": "stdout",
          "text": [
            "Aligning without segments.\n",
            "tasks amount: 1\n",
            "batch: 0 (0)\n",
            "conflicts to solve: 0\n",
            "total conflicts: 0\n"
          ]
        },
        {
          "output_type": "stream",
          "name": "stderr",
          "text": [
            "\n",
            "0it [00:00, ?it/s]\n"
          ]
        },
        {
          "output_type": "stream",
          "name": "stdout",
          "text": [
            "conflicts to solve: 0\n",
            "total conflicts: 0\n"
          ]
        },
        {
          "output_type": "stream",
          "name": "stderr",
          "text": [
            "\n",
            "0it [00:00, ?it/s]\n"
          ]
        },
        {
          "output_type": "stream",
          "name": "stdout",
          "text": [
            "N: 6 --> 1\n",
            "R: 5 --> 1\n",
            "Chain score: 0.2000\n",
            "Skipping saving due to low chain_score: 0.2000\n",
            "\n",
            " ---------------------------------------------------------------------------------------------------------------------------------------------------------------------------------------------------------------------------------------------------------------------------------------------------------------------------------------------------------------------------------------------------------------------------------------------------------------------------------------------------------------------------------------------------------------------------------------------------------------------------------------------------------------------------------------------------------------------------------------------------------------------------------------------------------------------------------------------------------------------------------------------------------------------------------------------------------------------------------------------------------------------------------------- \n",
            "\n",
            "/content/drive/MyDrive/FilteredNivkhTxt/77_shklg/n.txt /content/drive/MyDrive/FilteredNivkhTxt/77_shklg/r.txt\n"
          ]
        },
        {
          "output_type": "stream",
          "name": "stderr",
          "text": [
            "WARNING:root:can not fetch index db\n"
          ]
        },
        {
          "output_type": "stream",
          "name": "stdout",
          "text": [
            "Aligning without segments.\n",
            "tasks amount: 1\n",
            "batch: 0 (0)\n",
            "conflicts to solve: 0\n",
            "total conflicts: 0\n"
          ]
        },
        {
          "output_type": "stream",
          "name": "stderr",
          "text": [
            "\n",
            "0it [00:00, ?it/s]\n"
          ]
        },
        {
          "output_type": "stream",
          "name": "stdout",
          "text": [
            "conflicts to solve: 0\n",
            "total conflicts: 0\n"
          ]
        },
        {
          "output_type": "stream",
          "name": "stderr",
          "text": [
            "\n",
            "0it [00:00, ?it/s]\n"
          ]
        },
        {
          "output_type": "stream",
          "name": "stdout",
          "text": [
            "N: 14 --> 3\n",
            "R: 14 --> 3\n",
            "Chain score: 0.0769\n",
            "Skipping saving due to low chain_score: 0.0769\n",
            "\n",
            " ---------------------------------------------------------------------------------------------------------------------------------------------------------------------------------------------------------------------------------------------------------------------------------------------------------------------------------------------------------------------------------------------------------------------------------------------------------------------------------------------------------------------------------------------------------------------------------------------------------------------------------------------------------------------------------------------------------------------------------------------------------------------------------------------------------------------------------------------------------------------------------------------------------------------------------------------------------------------------------------------------------------------------------------- \n",
            "\n",
            "/content/drive/MyDrive/FilteredNivkhTxt/96_nd/n.txt /content/drive/MyDrive/FilteredNivkhTxt/96_nd/r.txt\n"
          ]
        },
        {
          "output_type": "stream",
          "name": "stderr",
          "text": [
            "WARNING:root:can not fetch index db\n"
          ]
        },
        {
          "output_type": "stream",
          "name": "stdout",
          "text": [
            "Aligning without segments.\n",
            "tasks amount: 1\n",
            "batch: 0 (0)\n",
            "conflicts to solve: 4\n",
            "total conflicts: 4\n"
          ]
        },
        {
          "output_type": "stream",
          "name": "stderr",
          "text": [
            "\n",
            "  0%|          | 0/4 [00:00<?, ?it/s]\u001b[A\n",
            " 50%|█████     | 2/4 [00:00<00:00, 15.18it/s]\u001b[A\n",
            "100%|██████████| 4/4 [00:00<00:00, 13.71it/s]\n"
          ]
        },
        {
          "output_type": "stream",
          "name": "stdout",
          "text": [
            "conflicts to solve: 0\n",
            "total conflicts: 0\n"
          ]
        },
        {
          "output_type": "stream",
          "name": "stderr",
          "text": [
            "\n",
            "0it [00:00, ?it/s]\n"
          ]
        },
        {
          "output_type": "stream",
          "name": "stdout",
          "text": [
            "N: 21 --> 5\n",
            "R: 20 --> 5\n",
            "Chain score: 1.0000\n",
            "\n",
            " ---------------------------------------------------------------------------------------------------------------------------------------------------------------------------------------------------------------------------------------------------------------------------------------------------------------------------------------------------------------------------------------------------------------------------------------------------------------------------------------------------------------------------------------------------------------------------------------------------------------------------------------------------------------------------------------------------------------------------------------------------------------------------------------------------------------------------------------------------------------------------------------------------------------------------------------------------------------------------------------------------------------------------------------- \n",
            "\n",
            "/content/drive/MyDrive/FilteredNivkhTxt/a161_bible/n.txt /content/drive/MyDrive/FilteredNivkhTxt/a161_bible/r.txt\n",
            "Aligning without segments.\n",
            "tasks amount: 1\n",
            "batch: 0 (0)\n"
          ]
        },
        {
          "output_type": "stream",
          "name": "stderr",
          "text": [
            "WARNING:root:can not fetch index db\n"
          ]
        },
        {
          "output_type": "stream",
          "name": "stdout",
          "text": [
            "conflicts to solve: 7\n",
            "total conflicts: 8\n"
          ]
        },
        {
          "output_type": "stream",
          "name": "stderr",
          "text": [
            "\n",
            "  0%|          | 0/7 [00:00<?, ?it/s]\u001b[A\n",
            " 29%|██▊       | 2/7 [00:00<00:00, 16.86it/s]\u001b[A\n",
            " 57%|█████▋    | 4/7 [00:00<00:00, 16.97it/s]\u001b[A\n",
            "100%|██████████| 7/7 [00:00<00:00, 17.40it/s]\n"
          ]
        },
        {
          "output_type": "stream",
          "name": "stdout",
          "text": [
            "conflicts to solve: 1\n",
            "total conflicts: 1\n"
          ]
        },
        {
          "output_type": "stream",
          "name": "stderr",
          "text": [
            "\n",
            "100%|██████████| 1/1 [00:00<00:00, 13.89it/s]\n"
          ]
        },
        {
          "output_type": "stream",
          "name": "stdout",
          "text": [
            "conflicts to solve: 0\n",
            "total conflicts: 0\n"
          ]
        },
        {
          "output_type": "stream",
          "name": "stderr",
          "text": [
            "\n",
            "0it [00:00, ?it/s]\n"
          ]
        },
        {
          "output_type": "stream",
          "name": "stdout",
          "text": [
            "N: 41 --> 29\n",
            "R: 40 --> 29\n",
            "Chain score: 1.0000\n",
            "\n",
            " ---------------------------------------------------------------------------------------------------------------------------------------------------------------------------------------------------------------------------------------------------------------------------------------------------------------------------------------------------------------------------------------------------------------------------------------------------------------------------------------------------------------------------------------------------------------------------------------------------------------------------------------------------------------------------------------------------------------------------------------------------------------------------------------------------------------------------------------------------------------------------------------------------------------------------------------------------------------------------------------------------------------------------------------- \n",
            "\n",
            "/content/drive/MyDrive/FilteredNivkhTxt/a307_nd/n.txt /content/drive/MyDrive/FilteredNivkhTxt/a307_nd/r.txt\n"
          ]
        },
        {
          "output_type": "stream",
          "name": "stderr",
          "text": [
            "WARNING:root:can not fetch index db\n"
          ]
        },
        {
          "output_type": "stream",
          "name": "stdout",
          "text": [
            "Aligning without segments.\n",
            "tasks amount: 1\n",
            "batch: 0 (0)\n",
            "conflicts to solve: 0\n",
            "total conflicts: 0\n"
          ]
        },
        {
          "output_type": "stream",
          "name": "stderr",
          "text": [
            "\n",
            "0it [00:00, ?it/s]\n"
          ]
        },
        {
          "output_type": "stream",
          "name": "stdout",
          "text": [
            "conflicts to solve: 0\n",
            "total conflicts: 0\n"
          ]
        },
        {
          "output_type": "stream",
          "name": "stderr",
          "text": [
            "\n",
            "0it [00:00, ?it/s]\n"
          ]
        },
        {
          "output_type": "stream",
          "name": "stdout",
          "text": [
            "N: 20 --> 4\n",
            "R: 20 --> 4\n",
            "Chain score: 0.2632\n",
            "Skipping saving due to low chain_score: 0.2632\n",
            "\n",
            " ---------------------------------------------------------------------------------------------------------------------------------------------------------------------------------------------------------------------------------------------------------------------------------------------------------------------------------------------------------------------------------------------------------------------------------------------------------------------------------------------------------------------------------------------------------------------------------------------------------------------------------------------------------------------------------------------------------------------------------------------------------------------------------------------------------------------------------------------------------------------------------------------------------------------------------------------------------------------------------------------------------------------------------------- \n",
            "\n",
            "/content/drive/MyDrive/FilteredNivkhTxt/a247_nd/n.txt /content/drive/MyDrive/FilteredNivkhTxt/a247_nd/r.txt\n",
            "Aligning without segments.\n",
            "tasks amount: 1\n",
            "batch: 0 (0)\n"
          ]
        },
        {
          "output_type": "stream",
          "name": "stderr",
          "text": [
            "WARNING:root:can not fetch index db\n"
          ]
        },
        {
          "output_type": "stream",
          "name": "stdout",
          "text": [
            "conflicts to solve: 2\n",
            "total conflicts: 3\n"
          ]
        },
        {
          "output_type": "stream",
          "name": "stderr",
          "text": [
            "\n",
            "100%|██████████| 2/2 [00:00<00:00, 21.50it/s]\n"
          ]
        },
        {
          "output_type": "stream",
          "name": "stdout",
          "text": [
            "conflicts to solve: 0\n",
            "total conflicts: 1\n"
          ]
        },
        {
          "output_type": "stream",
          "name": "stderr",
          "text": [
            "\n",
            "0it [00:00, ?it/s]\n"
          ]
        },
        {
          "output_type": "stream",
          "name": "stdout",
          "text": [
            "conflicts to solve: 1\n",
            "total conflicts: 1\n"
          ]
        },
        {
          "output_type": "stream",
          "name": "stderr",
          "text": [
            "\n",
            "  0%|          | 0/1 [00:00<?, ?it/s]\u001b[A\n",
            "100%|██████████| 1/1 [00:00<00:00,  1.99it/s]\n"
          ]
        },
        {
          "output_type": "stream",
          "name": "stdout",
          "text": [
            "conflicts to solve: 0\n",
            "total conflicts: 0\n"
          ]
        },
        {
          "output_type": "stream",
          "name": "stderr",
          "text": [
            "\n",
            "0it [00:00, ?it/s]\n"
          ]
        },
        {
          "output_type": "stream",
          "name": "stdout",
          "text": [
            "N: 20 --> 4\n",
            "R: 17 --> 4\n",
            "Chain score: 1.0000\n",
            "\n",
            " ---------------------------------------------------------------------------------------------------------------------------------------------------------------------------------------------------------------------------------------------------------------------------------------------------------------------------------------------------------------------------------------------------------------------------------------------------------------------------------------------------------------------------------------------------------------------------------------------------------------------------------------------------------------------------------------------------------------------------------------------------------------------------------------------------------------------------------------------------------------------------------------------------------------------------------------------------------------------------------------------------------------------------------------- \n",
            "\n",
            "/content/drive/MyDrive/FilteredNivkhTxt/a449_nd/n.txt /content/drive/MyDrive/FilteredNivkhTxt/a449_nd/r.txt\n",
            "Aligning without segments.\n",
            "tasks amount: 1\n",
            "batch: 0 (0)\n"
          ]
        },
        {
          "output_type": "stream",
          "name": "stderr",
          "text": [
            "WARNING:root:can not fetch index db\n"
          ]
        },
        {
          "output_type": "stream",
          "name": "stdout",
          "text": [
            "conflicts to solve: 1\n",
            "total conflicts: 2\n"
          ]
        },
        {
          "output_type": "stream",
          "name": "stderr",
          "text": [
            "\n",
            "100%|██████████| 1/1 [00:00<00:00, 10.28it/s]\n"
          ]
        },
        {
          "output_type": "stream",
          "name": "stdout",
          "text": [
            "conflicts to solve: 0\n",
            "total conflicts: 1\n"
          ]
        },
        {
          "output_type": "stream",
          "name": "stderr",
          "text": [
            "\n",
            "0it [00:00, ?it/s]\n"
          ]
        },
        {
          "output_type": "stream",
          "name": "stdout",
          "text": [
            "conflicts to solve: 0\n",
            "total conflicts: 1\n"
          ]
        },
        {
          "output_type": "stream",
          "name": "stderr",
          "text": [
            "\n",
            "0it [00:00, ?it/s]\n"
          ]
        },
        {
          "output_type": "stream",
          "name": "stdout",
          "text": [
            "conflicts to solve: 1\n",
            "total conflicts: 1\n"
          ]
        },
        {
          "output_type": "stream",
          "name": "stderr",
          "text": [
            "\n",
            "  0%|          | 0/1 [00:00<?, ?it/s]\u001b[A\n",
            "100%|██████████| 1/1 [00:02<00:00,  2.68s/it]\n"
          ]
        },
        {
          "output_type": "stream",
          "name": "stdout",
          "text": [
            "N: 28 --> 6\n",
            "R: 26 --> 6\n",
            "Chain score: 1.0000\n",
            "\n",
            " ---------------------------------------------------------------------------------------------------------------------------------------------------------------------------------------------------------------------------------------------------------------------------------------------------------------------------------------------------------------------------------------------------------------------------------------------------------------------------------------------------------------------------------------------------------------------------------------------------------------------------------------------------------------------------------------------------------------------------------------------------------------------------------------------------------------------------------------------------------------------------------------------------------------------------------------------------------------------------------------------------------------------------------------- \n",
            "\n",
            "/content/drive/MyDrive/FilteredNivkhTxt/37_sng/n.txt /content/drive/MyDrive/FilteredNivkhTxt/37_sng/r.txt\n",
            "Aligning without segments.\n",
            "tasks amount: 1\n",
            "batch: 0 (0)\n"
          ]
        },
        {
          "output_type": "stream",
          "name": "stderr",
          "text": [
            "WARNING:root:can not fetch index db\n"
          ]
        },
        {
          "output_type": "stream",
          "name": "stdout",
          "text": [
            "conflicts to solve: 2\n",
            "total conflicts: 11\n"
          ]
        },
        {
          "output_type": "stream",
          "name": "stderr",
          "text": [
            "\n",
            "  0%|          | 0/2 [00:00<?, ?it/s]\u001b[A\n",
            "100%|██████████| 2/2 [00:00<00:00, 16.11it/s]\n"
          ]
        },
        {
          "output_type": "stream",
          "name": "stdout",
          "text": [
            "conflicts to solve: 0\n",
            "total conflicts: 3\n"
          ]
        },
        {
          "output_type": "stream",
          "name": "stderr",
          "text": [
            "\n",
            "0it [00:00, ?it/s]\n"
          ]
        },
        {
          "output_type": "stream",
          "name": "stdout",
          "text": [
            "conflicts to solve: 0\n",
            "total conflicts: 1\n"
          ]
        },
        {
          "output_type": "stream",
          "name": "stderr",
          "text": [
            "\n",
            "0it [00:00, ?it/s]\n"
          ]
        },
        {
          "output_type": "stream",
          "name": "stdout",
          "text": [
            "conflicts to solve: 5\n",
            "total conflicts: 9\n"
          ]
        },
        {
          "output_type": "stream",
          "name": "stderr",
          "text": [
            "\n",
            "  0%|          | 0/5 [00:00<?, ?it/s]\u001b[A\n",
            " 20%|██        | 1/5 [00:00<00:03,  1.27it/s]\u001b[A\n",
            " 40%|████      | 2/5 [00:02<00:03,  1.22s/it]\u001b[A\n",
            " 60%|██████    | 3/5 [00:02<00:01,  1.41it/s]\u001b[A\n",
            " 80%|████████  | 4/5 [00:02<00:00,  1.63it/s]\u001b[A\n",
            "100%|██████████| 5/5 [00:05<00:00,  1.02s/it]\n"
          ]
        },
        {
          "output_type": "stream",
          "name": "stdout",
          "text": [
            "N: 127 --> 41\n",
            "R: 115 --> 41\n",
            "Chain score: 0.6260\n",
            "Skipping saving due to low chain_score: 0.6260\n",
            "\n",
            " ---------------------------------------------------------------------------------------------------------------------------------------------------------------------------------------------------------------------------------------------------------------------------------------------------------------------------------------------------------------------------------------------------------------------------------------------------------------------------------------------------------------------------------------------------------------------------------------------------------------------------------------------------------------------------------------------------------------------------------------------------------------------------------------------------------------------------------------------------------------------------------------------------------------------------------------------------------------------------------------------------------------------------------------- \n",
            "\n",
            "/content/drive/MyDrive/FilteredNivkhTxt/a418_nd/n.txt /content/drive/MyDrive/FilteredNivkhTxt/a418_nd/r.txt\n"
          ]
        },
        {
          "output_type": "stream",
          "name": "stderr",
          "text": [
            "WARNING:root:can not fetch index db\n"
          ]
        },
        {
          "output_type": "stream",
          "name": "stdout",
          "text": [
            "Aligning without segments.\n",
            "tasks amount: 1\n",
            "batch: 0 (0)\n",
            "conflicts to solve: 0\n",
            "total conflicts: 0\n"
          ]
        },
        {
          "output_type": "stream",
          "name": "stderr",
          "text": [
            "\n",
            "0it [00:00, ?it/s]\n"
          ]
        },
        {
          "output_type": "stream",
          "name": "stdout",
          "text": [
            "conflicts to solve: 0\n",
            "total conflicts: 0\n"
          ]
        },
        {
          "output_type": "stream",
          "name": "stderr",
          "text": [
            "\n",
            "0it [00:00, ?it/s]\n"
          ]
        },
        {
          "output_type": "stream",
          "name": "stdout",
          "text": [
            "N: 4 --> 3\n",
            "R: 4 --> 3\n",
            "Chain score: 1.0000\n",
            "\n",
            " ---------------------------------------------------------------------------------------------------------------------------------------------------------------------------------------------------------------------------------------------------------------------------------------------------------------------------------------------------------------------------------------------------------------------------------------------------------------------------------------------------------------------------------------------------------------------------------------------------------------------------------------------------------------------------------------------------------------------------------------------------------------------------------------------------------------------------------------------------------------------------------------------------------------------------------------------------------------------------------------------------------------------------------------- \n",
            "\n",
            "/content/drive/MyDrive/FilteredNivkhTxt/a356_nd/n.txt /content/drive/MyDrive/FilteredNivkhTxt/a356_nd/r.txt\n"
          ]
        },
        {
          "output_type": "stream",
          "name": "stderr",
          "text": [
            "WARNING:root:can not fetch index db\n"
          ]
        },
        {
          "output_type": "stream",
          "name": "stdout",
          "text": [
            "Aligning without segments.\n",
            "tasks amount: 1\n",
            "batch: 0 (0)\n",
            "conflicts to solve: 1\n",
            "total conflicts: 2\n"
          ]
        },
        {
          "output_type": "stream",
          "name": "stderr",
          "text": [
            "\n",
            "  0%|          | 0/1 [00:00<?, ?it/s]\u001b[A\n",
            "100%|██████████| 1/1 [00:00<00:00,  4.62it/s]\n"
          ]
        },
        {
          "output_type": "stream",
          "name": "stdout",
          "text": [
            "conflicts to solve: 1\n",
            "total conflicts: 1\n"
          ]
        },
        {
          "output_type": "stream",
          "name": "stderr",
          "text": [
            "\n",
            "  0%|          | 0/1 [00:00<?, ?it/s]\u001b[A\n",
            "100%|██████████| 1/1 [00:00<00:00,  5.14it/s]\n"
          ]
        },
        {
          "output_type": "stream",
          "name": "stdout",
          "text": [
            "conflicts to solve: 0\n",
            "total conflicts: 0\n"
          ]
        },
        {
          "output_type": "stream",
          "name": "stderr",
          "text": [
            "\n",
            "0it [00:00, ?it/s]\n"
          ]
        },
        {
          "output_type": "stream",
          "name": "stdout",
          "text": [
            "N: 13 --> 3\n",
            "R: 8 --> 3\n",
            "Chain score: 1.0000\n",
            "\n",
            " ---------------------------------------------------------------------------------------------------------------------------------------------------------------------------------------------------------------------------------------------------------------------------------------------------------------------------------------------------------------------------------------------------------------------------------------------------------------------------------------------------------------------------------------------------------------------------------------------------------------------------------------------------------------------------------------------------------------------------------------------------------------------------------------------------------------------------------------------------------------------------------------------------------------------------------------------------------------------------------------------------------------------------------------- \n",
            "\n",
            "/content/drive/MyDrive/FilteredNivkhTxt/48_shklg/n.txt /content/drive/MyDrive/FilteredNivkhTxt/48_shklg/r.txt\n"
          ]
        },
        {
          "output_type": "stream",
          "name": "stderr",
          "text": [
            "WARNING:root:can not fetch index db\n"
          ]
        },
        {
          "output_type": "stream",
          "name": "stdout",
          "text": [
            "Aligning without segments.\n",
            "tasks amount: 1\n",
            "batch: 0 (0)\n",
            "conflicts to solve: 1\n",
            "total conflicts: 3\n"
          ]
        },
        {
          "output_type": "stream",
          "name": "stderr",
          "text": [
            "\n",
            "  0%|          | 0/1 [00:00<?, ?it/s]\u001b[A\n",
            "100%|██████████| 1/1 [00:00<00:00,  6.69it/s]\n"
          ]
        },
        {
          "output_type": "stream",
          "name": "stdout",
          "text": [
            "conflicts to solve: 0\n",
            "total conflicts: 0\n"
          ]
        },
        {
          "output_type": "stream",
          "name": "stderr",
          "text": [
            "\n",
            "0it [00:00, ?it/s]\n"
          ]
        },
        {
          "output_type": "stream",
          "name": "stdout",
          "text": [
            "conflicts to solve: 0\n",
            "total conflicts: 2\n"
          ]
        },
        {
          "output_type": "stream",
          "name": "stderr",
          "text": [
            "\n",
            "0it [00:00, ?it/s]\n"
          ]
        },
        {
          "output_type": "stream",
          "name": "stdout",
          "text": [
            "N: 21 --> 7\n",
            "R: 23 --> 7\n",
            "Chain score: 0.3750\n",
            "Skipping saving due to low chain_score: 0.3750\n",
            "\n",
            " ---------------------------------------------------------------------------------------------------------------------------------------------------------------------------------------------------------------------------------------------------------------------------------------------------------------------------------------------------------------------------------------------------------------------------------------------------------------------------------------------------------------------------------------------------------------------------------------------------------------------------------------------------------------------------------------------------------------------------------------------------------------------------------------------------------------------------------------------------------------------------------------------------------------------------------------------------------------------------------------------------------------------------------------- \n",
            "\n",
            "/content/drive/MyDrive/FilteredNivkhTxt/a101_nd/n.txt /content/drive/MyDrive/FilteredNivkhTxt/a101_nd/r.txt\n"
          ]
        },
        {
          "output_type": "stream",
          "name": "stderr",
          "text": [
            "WARNING:root:can not fetch index db\n"
          ]
        },
        {
          "output_type": "stream",
          "name": "stdout",
          "text": [
            "Aligning without segments.\n",
            "tasks amount: 1\n",
            "batch: 0 (0)\n",
            "conflicts to solve: 1\n",
            "total conflicts: 1\n"
          ]
        },
        {
          "output_type": "stream",
          "name": "stderr",
          "text": [
            "\n",
            "100%|██████████| 1/1 [00:00<00:00, 13.70it/s]\n"
          ]
        },
        {
          "output_type": "stream",
          "name": "stdout",
          "text": [
            "conflicts to solve: 0\n",
            "total conflicts: 0\n"
          ]
        },
        {
          "output_type": "stream",
          "name": "stderr",
          "text": [
            "\n",
            "0it [00:00, ?it/s]\n"
          ]
        },
        {
          "output_type": "stream",
          "name": "stdout",
          "text": [
            "N: 18 --> 3\n",
            "R: 11 --> 3\n",
            "Chain score: 0.3571\n",
            "Skipping saving due to low chain_score: 0.3571\n",
            "\n",
            " ---------------------------------------------------------------------------------------------------------------------------------------------------------------------------------------------------------------------------------------------------------------------------------------------------------------------------------------------------------------------------------------------------------------------------------------------------------------------------------------------------------------------------------------------------------------------------------------------------------------------------------------------------------------------------------------------------------------------------------------------------------------------------------------------------------------------------------------------------------------------------------------------------------------------------------------------------------------------------------------------------------------------------------------- \n",
            "\n",
            "/content/drive/MyDrive/FilteredNivkhTxt/a111_nd/n.txt /content/drive/MyDrive/FilteredNivkhTxt/a111_nd/r.txt\n"
          ]
        },
        {
          "output_type": "stream",
          "name": "stderr",
          "text": [
            "WARNING:root:can not fetch index db\n"
          ]
        },
        {
          "output_type": "stream",
          "name": "stdout",
          "text": [
            "Aligning without segments.\n",
            "tasks amount: 1\n",
            "batch: 0 (0)\n",
            "conflicts to solve: 0\n",
            "total conflicts: 0\n"
          ]
        },
        {
          "output_type": "stream",
          "name": "stderr",
          "text": [
            "\n",
            "0it [00:00, ?it/s]\n"
          ]
        },
        {
          "output_type": "stream",
          "name": "stdout",
          "text": [
            "conflicts to solve: 0\n",
            "total conflicts: 0\n"
          ]
        },
        {
          "output_type": "stream",
          "name": "stderr",
          "text": [
            "\n",
            "0it [00:00, ?it/s]\n"
          ]
        },
        {
          "output_type": "stream",
          "name": "stdout",
          "text": [
            "N: 9 --> 3\n",
            "R: 10 --> 3\n",
            "Chain score: 0.1250\n",
            "Skipping saving due to low chain_score: 0.1250\n",
            "\n",
            " ---------------------------------------------------------------------------------------------------------------------------------------------------------------------------------------------------------------------------------------------------------------------------------------------------------------------------------------------------------------------------------------------------------------------------------------------------------------------------------------------------------------------------------------------------------------------------------------------------------------------------------------------------------------------------------------------------------------------------------------------------------------------------------------------------------------------------------------------------------------------------------------------------------------------------------------------------------------------------------------------------------------------------------------- \n",
            "\n",
            "/content/drive/MyDrive/FilteredNivkhTxt/65_nd/n.txt /content/drive/MyDrive/FilteredNivkhTxt/65_nd/r.txt\n",
            "Aligning without segments.\n",
            "tasks amount: 1\n",
            "batch: 0 (0)\n"
          ]
        },
        {
          "output_type": "stream",
          "name": "stderr",
          "text": [
            "WARNING:root:can not fetch index db\n"
          ]
        },
        {
          "output_type": "stream",
          "name": "stdout",
          "text": [
            "conflicts to solve: 1\n",
            "total conflicts: 7\n"
          ]
        },
        {
          "output_type": "stream",
          "name": "stderr",
          "text": [
            "\n",
            "100%|██████████| 1/1 [00:00<00:00, 12.33it/s]\n"
          ]
        },
        {
          "output_type": "stream",
          "name": "stdout",
          "text": [
            "conflicts to solve: 0\n",
            "total conflicts: 1\n"
          ]
        },
        {
          "output_type": "stream",
          "name": "stderr",
          "text": [
            "\n",
            "0it [00:00, ?it/s]\n"
          ]
        },
        {
          "output_type": "stream",
          "name": "stdout",
          "text": [
            "conflicts to solve: 0\n",
            "total conflicts: 1\n"
          ]
        },
        {
          "output_type": "stream",
          "name": "stderr",
          "text": [
            "\n",
            "0it [00:00, ?it/s]\n"
          ]
        },
        {
          "output_type": "stream",
          "name": "stdout",
          "text": [
            "conflicts to solve: 5\n",
            "total conflicts: 6\n"
          ]
        },
        {
          "output_type": "stream",
          "name": "stderr",
          "text": [
            "\n",
            "  0%|          | 0/5 [00:00<?, ?it/s]\u001b[A\n",
            " 20%|██        | 1/5 [00:00<00:00,  5.27it/s]\u001b[A\n",
            " 40%|████      | 2/5 [00:00<00:00,  5.74it/s]\u001b[A\n",
            " 60%|██████    | 3/5 [00:00<00:00,  2.84it/s]\u001b[A\n",
            " 80%|████████  | 4/5 [00:01<00:00,  2.45it/s]\u001b[A\n",
            "100%|██████████| 5/5 [00:02<00:00,  1.99it/s]\n"
          ]
        },
        {
          "output_type": "stream",
          "name": "stdout",
          "text": [
            "N: 58 --> 25\n",
            "R: 53 --> 25\n",
            "Chain score: 0.9828\n",
            "\n",
            " ---------------------------------------------------------------------------------------------------------------------------------------------------------------------------------------------------------------------------------------------------------------------------------------------------------------------------------------------------------------------------------------------------------------------------------------------------------------------------------------------------------------------------------------------------------------------------------------------------------------------------------------------------------------------------------------------------------------------------------------------------------------------------------------------------------------------------------------------------------------------------------------------------------------------------------------------------------------------------------------------------------------------------------------- \n",
            "\n",
            "/content/drive/MyDrive/FilteredNivkhTxt/a391_nd/n.txt /content/drive/MyDrive/FilteredNivkhTxt/a391_nd/r.txt\n"
          ]
        },
        {
          "output_type": "stream",
          "name": "stderr",
          "text": [
            "WARNING:root:can not fetch index db\n"
          ]
        },
        {
          "output_type": "stream",
          "name": "stdout",
          "text": [
            "Aligning without segments.\n",
            "tasks amount: 1\n",
            "batch: 0 (0)\n",
            "conflicts to solve: 2\n",
            "total conflicts: 2\n"
          ]
        },
        {
          "output_type": "stream",
          "name": "stderr",
          "text": [
            "\n",
            "  0%|          | 0/2 [00:00<?, ?it/s]\u001b[A\n",
            "100%|██████████| 2/2 [00:00<00:00,  7.46it/s]\n"
          ]
        },
        {
          "output_type": "stream",
          "name": "stdout",
          "text": [
            "conflicts to solve: 0\n",
            "total conflicts: 0\n"
          ]
        },
        {
          "output_type": "stream",
          "name": "stderr",
          "text": [
            "\n",
            "0it [00:00, ?it/s]\n"
          ]
        },
        {
          "output_type": "stream",
          "name": "stdout",
          "text": [
            "N: 11 --> 6\n",
            "R: 9 --> 6\n",
            "Chain score: 1.0000\n",
            "\n",
            " ---------------------------------------------------------------------------------------------------------------------------------------------------------------------------------------------------------------------------------------------------------------------------------------------------------------------------------------------------------------------------------------------------------------------------------------------------------------------------------------------------------------------------------------------------------------------------------------------------------------------------------------------------------------------------------------------------------------------------------------------------------------------------------------------------------------------------------------------------------------------------------------------------------------------------------------------------------------------------------------------------------------------------------------- \n",
            "\n",
            "/content/drive/MyDrive/FilteredNivkhTxt/a381_nd/n.txt /content/drive/MyDrive/FilteredNivkhTxt/a381_nd/r.txt\n"
          ]
        },
        {
          "output_type": "stream",
          "name": "stderr",
          "text": [
            "WARNING:root:can not fetch index db\n"
          ]
        },
        {
          "output_type": "stream",
          "name": "stdout",
          "text": [
            "Aligning without segments.\n",
            "tasks amount: 1\n",
            "batch: 0 (0)\n",
            "conflicts to solve: 3\n",
            "total conflicts: 3\n"
          ]
        },
        {
          "output_type": "stream",
          "name": "stderr",
          "text": [
            "\n",
            "  0%|          | 0/3 [00:00<?, ?it/s]\u001b[A\n",
            " 33%|███▎      | 1/3 [00:00<00:00,  7.43it/s]\u001b[A\n",
            "100%|██████████| 3/3 [00:00<00:00, 12.40it/s]\n"
          ]
        },
        {
          "output_type": "stream",
          "name": "stdout",
          "text": [
            "conflicts to solve: 0\n",
            "total conflicts: 0\n"
          ]
        },
        {
          "output_type": "stream",
          "name": "stderr",
          "text": [
            "\n",
            "0it [00:00, ?it/s]\n"
          ]
        },
        {
          "output_type": "stream",
          "name": "stdout",
          "text": [
            "N: 13 --> 7\n",
            "R: 12 --> 7\n",
            "Chain score: 1.0000\n",
            "\n",
            " ---------------------------------------------------------------------------------------------------------------------------------------------------------------------------------------------------------------------------------------------------------------------------------------------------------------------------------------------------------------------------------------------------------------------------------------------------------------------------------------------------------------------------------------------------------------------------------------------------------------------------------------------------------------------------------------------------------------------------------------------------------------------------------------------------------------------------------------------------------------------------------------------------------------------------------------------------------------------------------------------------------------------------------------- \n",
            "\n",
            "/content/drive/MyDrive/FilteredNivkhTxt/a273_nd/n.txt /content/drive/MyDrive/FilteredNivkhTxt/a273_nd/r.txt\n"
          ]
        },
        {
          "output_type": "stream",
          "name": "stderr",
          "text": [
            "WARNING:root:can not fetch index db\n"
          ]
        },
        {
          "output_type": "stream",
          "name": "stdout",
          "text": [
            "Aligning without segments.\n",
            "tasks amount: 1\n",
            "batch: 0 (0)\n",
            "conflicts to solve: 4\n",
            "total conflicts: 7\n"
          ]
        },
        {
          "output_type": "stream",
          "name": "stderr",
          "text": [
            "\n",
            "  0%|          | 0/4 [00:00<?, ?it/s]\u001b[A\n",
            " 25%|██▌       | 1/4 [00:00<00:00,  9.38it/s]\u001b[A\n",
            " 50%|█████     | 2/4 [00:00<00:00,  9.11it/s]\u001b[A\n",
            "100%|██████████| 4/4 [00:00<00:00, 11.81it/s]\n"
          ]
        },
        {
          "output_type": "stream",
          "name": "stdout",
          "text": [
            "conflicts to solve: 1\n",
            "total conflicts: 2\n"
          ]
        },
        {
          "output_type": "stream",
          "name": "stderr",
          "text": [
            "\n",
            "  0%|          | 0/1 [00:00<?, ?it/s]\u001b[A\n",
            "100%|██████████| 1/1 [00:00<00:00,  4.06it/s]\n"
          ]
        },
        {
          "output_type": "stream",
          "name": "stdout",
          "text": [
            "conflicts to solve: 0\n",
            "total conflicts: 1\n"
          ]
        },
        {
          "output_type": "stream",
          "name": "stderr",
          "text": [
            "\n",
            "0it [00:00, ?it/s]\n"
          ]
        },
        {
          "output_type": "stream",
          "name": "stdout",
          "text": [
            "conflicts to solve: 0\n",
            "total conflicts: 1\n"
          ]
        },
        {
          "output_type": "stream",
          "name": "stderr",
          "text": [
            "\n",
            "0it [00:00, ?it/s]\n"
          ]
        },
        {
          "output_type": "stream",
          "name": "stdout",
          "text": [
            "N: 22 --> 4\n",
            "R: 26 --> 4\n",
            "Chain score: 0.9643\n",
            "\n",
            " ---------------------------------------------------------------------------------------------------------------------------------------------------------------------------------------------------------------------------------------------------------------------------------------------------------------------------------------------------------------------------------------------------------------------------------------------------------------------------------------------------------------------------------------------------------------------------------------------------------------------------------------------------------------------------------------------------------------------------------------------------------------------------------------------------------------------------------------------------------------------------------------------------------------------------------------------------------------------------------------------------------------------------------------- \n",
            "\n",
            "/content/drive/MyDrive/FilteredNivkhTxt/a362_nd/n.txt /content/drive/MyDrive/FilteredNivkhTxt/a362_nd/r.txt\n"
          ]
        },
        {
          "output_type": "stream",
          "name": "stderr",
          "text": [
            "WARNING:root:can not fetch index db\n"
          ]
        },
        {
          "output_type": "stream",
          "name": "stdout",
          "text": [
            "Aligning without segments.\n",
            "tasks amount: 1\n",
            "batch: 0 (0)\n",
            "conflicts to solve: 0\n",
            "total conflicts: 1\n"
          ]
        },
        {
          "output_type": "stream",
          "name": "stderr",
          "text": [
            "\n",
            "0it [00:00, ?it/s]\n"
          ]
        },
        {
          "output_type": "stream",
          "name": "stdout",
          "text": [
            "conflicts to solve: 0\n",
            "total conflicts: 0\n"
          ]
        },
        {
          "output_type": "stream",
          "name": "stderr",
          "text": [
            "\n",
            "0it [00:00, ?it/s]\n"
          ]
        },
        {
          "output_type": "stream",
          "name": "stdout",
          "text": [
            "conflicts to solve: 1\n",
            "total conflicts: 1\n"
          ]
        },
        {
          "output_type": "stream",
          "name": "stderr",
          "text": [
            "\n",
            "  0%|          | 0/1 [00:00<?, ?it/s]\u001b[A\n",
            "100%|██████████| 1/1 [00:00<00:00,  2.53it/s]\n"
          ]
        },
        {
          "output_type": "stream",
          "name": "stdout",
          "text": [
            "N: 11 --> 3\n",
            "R: 8 --> 3\n",
            "Chain score: 1.0000\n",
            "\n",
            " ---------------------------------------------------------------------------------------------------------------------------------------------------------------------------------------------------------------------------------------------------------------------------------------------------------------------------------------------------------------------------------------------------------------------------------------------------------------------------------------------------------------------------------------------------------------------------------------------------------------------------------------------------------------------------------------------------------------------------------------------------------------------------------------------------------------------------------------------------------------------------------------------------------------------------------------------------------------------------------------------------------------------------------------- \n",
            "\n",
            "/content/drive/MyDrive/FilteredNivkhTxt/a280_nd/n.txt /content/drive/MyDrive/FilteredNivkhTxt/a280_nd/r.txt\n"
          ]
        },
        {
          "output_type": "stream",
          "name": "stderr",
          "text": [
            "WARNING:root:can not fetch index db\n"
          ]
        },
        {
          "output_type": "stream",
          "name": "stdout",
          "text": [
            "Aligning without segments.\n",
            "tasks amount: 1\n",
            "batch: 0 (0)\n",
            "conflicts to solve: 0\n",
            "total conflicts: 1\n"
          ]
        },
        {
          "output_type": "stream",
          "name": "stderr",
          "text": [
            "\n",
            "0it [00:00, ?it/s]\n"
          ]
        },
        {
          "output_type": "stream",
          "name": "stdout",
          "text": [
            "conflicts to solve: 0\n",
            "total conflicts: 0\n"
          ]
        },
        {
          "output_type": "stream",
          "name": "stderr",
          "text": [
            "\n",
            "0it [00:00, ?it/s]\n"
          ]
        },
        {
          "output_type": "stream",
          "name": "stdout",
          "text": [
            "conflicts to solve: 1\n",
            "total conflicts: 1\n"
          ]
        },
        {
          "output_type": "stream",
          "name": "stderr",
          "text": [
            "\n",
            "  0%|          | 0/1 [00:00<?, ?it/s]\u001b[A\n",
            "100%|██████████| 1/1 [00:00<00:00,  6.28it/s]\n"
          ]
        },
        {
          "output_type": "stream",
          "name": "stdout",
          "text": [
            "N: 11 --> 1\n",
            "R: 5 --> 1\n",
            "Chain score: 0.6000\n",
            "Skipping saving due to low chain_score: 0.6000\n",
            "\n",
            " ---------------------------------------------------------------------------------------------------------------------------------------------------------------------------------------------------------------------------------------------------------------------------------------------------------------------------------------------------------------------------------------------------------------------------------------------------------------------------------------------------------------------------------------------------------------------------------------------------------------------------------------------------------------------------------------------------------------------------------------------------------------------------------------------------------------------------------------------------------------------------------------------------------------------------------------------------------------------------------------------------------------------------------------- \n",
            "\n",
            "/content/drive/MyDrive/FilteredNivkhTxt/a333_nd/n.txt /content/drive/MyDrive/FilteredNivkhTxt/a333_nd/r.txt\n"
          ]
        },
        {
          "output_type": "stream",
          "name": "stderr",
          "text": [
            "WARNING:root:can not fetch index db\n"
          ]
        },
        {
          "output_type": "stream",
          "name": "stdout",
          "text": [
            "Aligning without segments.\n",
            "tasks amount: 1\n",
            "batch: 0 (0)\n",
            "conflicts to solve: 4\n",
            "total conflicts: 5\n"
          ]
        },
        {
          "output_type": "stream",
          "name": "stderr",
          "text": [
            "\n",
            "  0%|          | 0/4 [00:00<?, ?it/s]\u001b[A\n",
            " 50%|█████     | 2/4 [00:00<00:00, 14.24it/s]\u001b[A\n",
            "100%|██████████| 4/4 [00:00<00:00, 14.13it/s]\n"
          ]
        },
        {
          "output_type": "stream",
          "name": "stdout",
          "text": [
            "conflicts to solve: 0\n",
            "total conflicts: 0\n"
          ]
        },
        {
          "output_type": "stream",
          "name": "stderr",
          "text": [
            "\n",
            "0it [00:00, ?it/s]\n"
          ]
        },
        {
          "output_type": "stream",
          "name": "stdout",
          "text": [
            "conflicts to solve: 0\n",
            "total conflicts: 1\n"
          ]
        },
        {
          "output_type": "stream",
          "name": "stderr",
          "text": [
            "\n",
            "0it [00:00, ?it/s]\n"
          ]
        },
        {
          "output_type": "stream",
          "name": "stdout",
          "text": [
            "N: 16 --> 8\n",
            "R: 11 --> 8\n",
            "Chain score: 0.9231\n",
            "\n",
            " ---------------------------------------------------------------------------------------------------------------------------------------------------------------------------------------------------------------------------------------------------------------------------------------------------------------------------------------------------------------------------------------------------------------------------------------------------------------------------------------------------------------------------------------------------------------------------------------------------------------------------------------------------------------------------------------------------------------------------------------------------------------------------------------------------------------------------------------------------------------------------------------------------------------------------------------------------------------------------------------------------------------------------------------- \n",
            "\n",
            "/content/drive/MyDrive/FilteredNivkhTxt/a290_nd/n.txt /content/drive/MyDrive/FilteredNivkhTxt/a290_nd/r.txt\n",
            "Aligning without segments.\n",
            "tasks amount: 1\n",
            "batch: 0 (0)\n"
          ]
        },
        {
          "output_type": "stream",
          "name": "stderr",
          "text": [
            "WARNING:root:can not fetch index db\n"
          ]
        },
        {
          "output_type": "stream",
          "name": "stdout",
          "text": [
            "conflicts to solve: 0\n",
            "total conflicts: 0\n"
          ]
        },
        {
          "output_type": "stream",
          "name": "stderr",
          "text": [
            "\n",
            "0it [00:00, ?it/s]\n"
          ]
        },
        {
          "output_type": "stream",
          "name": "stdout",
          "text": [
            "conflicts to solve: 0\n",
            "total conflicts: 0\n"
          ]
        },
        {
          "output_type": "stream",
          "name": "stderr",
          "text": [
            "\n",
            "0it [00:00, ?it/s]\n"
          ]
        },
        {
          "output_type": "stream",
          "name": "stdout",
          "text": [
            "N: 23 --> 4\n",
            "R: 17 --> 4\n",
            "Chain score: 0.0455\n",
            "Skipping saving due to low chain_score: 0.0455\n",
            "\n",
            " ---------------------------------------------------------------------------------------------------------------------------------------------------------------------------------------------------------------------------------------------------------------------------------------------------------------------------------------------------------------------------------------------------------------------------------------------------------------------------------------------------------------------------------------------------------------------------------------------------------------------------------------------------------------------------------------------------------------------------------------------------------------------------------------------------------------------------------------------------------------------------------------------------------------------------------------------------------------------------------------------------------------------------------------- \n",
            "\n",
            "/content/drive/MyDrive/FilteredNivkhTxt/a257_nd/n.txt /content/drive/MyDrive/FilteredNivkhTxt/a257_nd/r.txt\n",
            "Aligning without segments.\n",
            "tasks amount: 1\n",
            "batch: 0 (0)\n"
          ]
        },
        {
          "output_type": "stream",
          "name": "stderr",
          "text": [
            "WARNING:root:can not fetch index db\n"
          ]
        },
        {
          "output_type": "stream",
          "name": "stdout",
          "text": [
            "conflicts to solve: 3\n",
            "total conflicts: 7\n"
          ]
        },
        {
          "output_type": "stream",
          "name": "stderr",
          "text": [
            "\n",
            "  0%|          | 0/3 [00:00<?, ?it/s]\u001b[A\n",
            "100%|██████████| 3/3 [00:00<00:00, 16.61it/s]\n"
          ]
        },
        {
          "output_type": "stream",
          "name": "stdout",
          "text": [
            "conflicts to solve: 0\n",
            "total conflicts: 2\n"
          ]
        },
        {
          "output_type": "stream",
          "name": "stderr",
          "text": [
            "\n",
            "0it [00:00, ?it/s]\n"
          ]
        },
        {
          "output_type": "stream",
          "name": "stdout",
          "text": [
            "conflicts to solve: 0\n",
            "total conflicts: 1\n"
          ]
        },
        {
          "output_type": "stream",
          "name": "stderr",
          "text": [
            "\n",
            "0it [00:00, ?it/s]\n"
          ]
        },
        {
          "output_type": "stream",
          "name": "stdout",
          "text": [
            "conflicts to solve: 3\n",
            "total conflicts: 4\n"
          ]
        },
        {
          "output_type": "stream",
          "name": "stderr",
          "text": [
            "\n",
            "  0%|          | 0/3 [00:00<?, ?it/s]\u001b[A\n",
            " 33%|███▎      | 1/3 [00:00<00:00,  4.22it/s]\u001b[A\n",
            " 67%|██████▋   | 2/3 [00:01<00:01,  1.11s/it]\u001b[A\n",
            "100%|██████████| 3/3 [00:02<00:00,  1.24it/s]\n"
          ]
        },
        {
          "output_type": "stream",
          "name": "stdout",
          "text": [
            "N: 48 --> 3\n",
            "R: 16 --> 3\n",
            "Chain score: 0.8000\n",
            "\n",
            " ---------------------------------------------------------------------------------------------------------------------------------------------------------------------------------------------------------------------------------------------------------------------------------------------------------------------------------------------------------------------------------------------------------------------------------------------------------------------------------------------------------------------------------------------------------------------------------------------------------------------------------------------------------------------------------------------------------------------------------------------------------------------------------------------------------------------------------------------------------------------------------------------------------------------------------------------------------------------------------------------------------------------------------------- \n",
            "\n",
            "/content/drive/MyDrive/FilteredNivkhTxt/a323_nd/n.txt /content/drive/MyDrive/FilteredNivkhTxt/a323_nd/r.txt\n"
          ]
        },
        {
          "output_type": "stream",
          "name": "stderr",
          "text": [
            "WARNING:root:can not fetch index db\n"
          ]
        },
        {
          "output_type": "stream",
          "name": "stdout",
          "text": [
            "Aligning without segments.\n",
            "tasks amount: 1\n",
            "batch: 0 (0)\n",
            "conflicts to solve: 1\n",
            "total conflicts: 3\n"
          ]
        },
        {
          "output_type": "stream",
          "name": "stderr",
          "text": [
            "\n",
            "  0%|          | 0/1 [00:00<?, ?it/s]\u001b[A\n",
            "100%|██████████| 1/1 [00:00<00:00,  5.82it/s]\n"
          ]
        },
        {
          "output_type": "stream",
          "name": "stdout",
          "text": [
            "conflicts to solve: 0\n",
            "total conflicts: 1\n"
          ]
        },
        {
          "output_type": "stream",
          "name": "stderr",
          "text": [
            "\n",
            "0it [00:00, ?it/s]\n"
          ]
        },
        {
          "output_type": "stream",
          "name": "stdout",
          "text": [
            "conflicts to solve: 1\n",
            "total conflicts: 1\n"
          ]
        },
        {
          "output_type": "stream",
          "name": "stderr",
          "text": [
            "\n",
            "  0%|          | 0/1 [00:00<?, ?it/s]\u001b[A\n",
            "100%|██████████| 1/1 [00:02<00:00,  2.08s/it]\n"
          ]
        },
        {
          "output_type": "stream",
          "name": "stdout",
          "text": [
            "conflicts to solve: 0\n",
            "total conflicts: 0\n"
          ]
        },
        {
          "output_type": "stream",
          "name": "stderr",
          "text": [
            "\n",
            "0it [00:00, ?it/s]\n"
          ]
        },
        {
          "output_type": "stream",
          "name": "stdout",
          "text": [
            "N: 16 --> 4\n",
            "R: 25 --> 4\n",
            "Chain score: 1.0000\n",
            "\n",
            " ---------------------------------------------------------------------------------------------------------------------------------------------------------------------------------------------------------------------------------------------------------------------------------------------------------------------------------------------------------------------------------------------------------------------------------------------------------------------------------------------------------------------------------------------------------------------------------------------------------------------------------------------------------------------------------------------------------------------------------------------------------------------------------------------------------------------------------------------------------------------------------------------------------------------------------------------------------------------------------------------------------------------------------------- \n",
            "\n",
            "/content/drive/MyDrive/FilteredNivkhTxt/a263_nd/n.txt /content/drive/MyDrive/FilteredNivkhTxt/a263_nd/r.txt\n"
          ]
        },
        {
          "output_type": "stream",
          "name": "stderr",
          "text": [
            "WARNING:root:can not fetch index db\n"
          ]
        },
        {
          "output_type": "stream",
          "name": "stdout",
          "text": [
            "Aligning without segments.\n",
            "tasks amount: 1\n",
            "batch: 0 (0)\n",
            "conflicts to solve: 1\n",
            "total conflicts: 2\n"
          ]
        },
        {
          "output_type": "stream",
          "name": "stderr",
          "text": [
            "\n",
            "100%|██████████| 1/1 [00:00<00:00, 10.90it/s]\n"
          ]
        },
        {
          "output_type": "stream",
          "name": "stdout",
          "text": [
            "conflicts to solve: 1\n",
            "total conflicts: 1\n"
          ]
        },
        {
          "output_type": "stream",
          "name": "stderr",
          "text": [
            "\n",
            "  0%|          | 0/1 [00:00<?, ?it/s]\u001b[A\n",
            "100%|██████████| 1/1 [00:00<00:00,  4.26it/s]\n"
          ]
        },
        {
          "output_type": "stream",
          "name": "stdout",
          "text": [
            "conflicts to solve: 0\n",
            "total conflicts: 0\n"
          ]
        },
        {
          "output_type": "stream",
          "name": "stderr",
          "text": [
            "\n",
            "0it [00:00, ?it/s]\n"
          ]
        },
        {
          "output_type": "stream",
          "name": "stdout",
          "text": [
            "N: 10 --> 3\n",
            "R: 8 --> 3\n",
            "Chain score: 1.0000\n",
            "\n",
            " ---------------------------------------------------------------------------------------------------------------------------------------------------------------------------------------------------------------------------------------------------------------------------------------------------------------------------------------------------------------------------------------------------------------------------------------------------------------------------------------------------------------------------------------------------------------------------------------------------------------------------------------------------------------------------------------------------------------------------------------------------------------------------------------------------------------------------------------------------------------------------------------------------------------------------------------------------------------------------------------------------------------------------------------- \n",
            "\n",
            "/content/drive/MyDrive/FilteredNivkhTxt/86_nd/n.txt /content/drive/MyDrive/FilteredNivkhTxt/86_nd/r.txt\n"
          ]
        },
        {
          "output_type": "stream",
          "name": "stderr",
          "text": [
            "WARNING:root:can not fetch index db\n"
          ]
        },
        {
          "output_type": "stream",
          "name": "stdout",
          "text": [
            "Aligning without segments.\n",
            "tasks amount: 1\n",
            "batch: 0 (0)\n",
            "conflicts to solve: 1\n",
            "total conflicts: 2\n"
          ]
        },
        {
          "output_type": "stream",
          "name": "stderr",
          "text": [
            "\n",
            "100%|██████████| 1/1 [00:00<00:00, 10.13it/s]\n"
          ]
        },
        {
          "output_type": "stream",
          "name": "stdout",
          "text": [
            "conflicts to solve: 1\n",
            "total conflicts: 1\n"
          ]
        },
        {
          "output_type": "stream",
          "name": "stderr",
          "text": [
            "\n",
            "  0%|          | 0/1 [00:00<?, ?it/s]\u001b[A\n",
            "100%|██████████| 1/1 [00:00<00:00,  4.95it/s]\n"
          ]
        },
        {
          "output_type": "stream",
          "name": "stdout",
          "text": [
            "conflicts to solve: 0\n",
            "total conflicts: 0\n"
          ]
        },
        {
          "output_type": "stream",
          "name": "stderr",
          "text": [
            "\n",
            "0it [00:00, ?it/s]\n"
          ]
        },
        {
          "output_type": "stream",
          "name": "stdout",
          "text": [
            "N: 14 --> 6\n",
            "R: 16 --> 6\n",
            "Chain score: 1.0000\n",
            "\n",
            " ---------------------------------------------------------------------------------------------------------------------------------------------------------------------------------------------------------------------------------------------------------------------------------------------------------------------------------------------------------------------------------------------------------------------------------------------------------------------------------------------------------------------------------------------------------------------------------------------------------------------------------------------------------------------------------------------------------------------------------------------------------------------------------------------------------------------------------------------------------------------------------------------------------------------------------------------------------------------------------------------------------------------------------------- \n",
            "\n",
            "/content/drive/MyDrive/FilteredNivkhTxt/a408_nd/n.txt /content/drive/MyDrive/FilteredNivkhTxt/a408_nd/r.txt\n"
          ]
        },
        {
          "output_type": "stream",
          "name": "stderr",
          "text": [
            "WARNING:root:can not fetch index db\n"
          ]
        },
        {
          "output_type": "stream",
          "name": "stdout",
          "text": [
            "Aligning without segments.\n",
            "tasks amount: 1\n",
            "batch: 0 (0)\n",
            "conflicts to solve: 1\n",
            "total conflicts: 3\n"
          ]
        },
        {
          "output_type": "stream",
          "name": "stderr",
          "text": [
            "\n",
            "  0%|          | 0/1 [00:00<?, ?it/s]\u001b[A\n",
            "100%|██████████| 1/1 [00:00<00:00,  6.77it/s]\n"
          ]
        },
        {
          "output_type": "stream",
          "name": "stdout",
          "text": [
            "conflicts to solve: 0\n",
            "total conflicts: 1\n"
          ]
        },
        {
          "output_type": "stream",
          "name": "stderr",
          "text": [
            "\n",
            "0it [00:00, ?it/s]\n"
          ]
        },
        {
          "output_type": "stream",
          "name": "stdout",
          "text": [
            "conflicts to solve: 1\n",
            "total conflicts: 1\n"
          ]
        },
        {
          "output_type": "stream",
          "name": "stderr",
          "text": [
            "\n",
            "  0%|          | 0/1 [00:00<?, ?it/s]\u001b[A\n",
            "100%|██████████| 1/1 [00:00<00:00,  3.14it/s]\n"
          ]
        },
        {
          "output_type": "stream",
          "name": "stdout",
          "text": [
            "conflicts to solve: 0\n",
            "total conflicts: 0\n"
          ]
        },
        {
          "output_type": "stream",
          "name": "stderr",
          "text": [
            "\n",
            "0it [00:00, ?it/s]\n"
          ]
        },
        {
          "output_type": "stream",
          "name": "stdout",
          "text": [
            "N: 18 --> 4\n",
            "R: 18 --> 4\n",
            "Chain score: 1.0000\n",
            "\n",
            " ---------------------------------------------------------------------------------------------------------------------------------------------------------------------------------------------------------------------------------------------------------------------------------------------------------------------------------------------------------------------------------------------------------------------------------------------------------------------------------------------------------------------------------------------------------------------------------------------------------------------------------------------------------------------------------------------------------------------------------------------------------------------------------------------------------------------------------------------------------------------------------------------------------------------------------------------------------------------------------------------------------------------------------------- \n",
            "\n",
            "/content/drive/MyDrive/FilteredNivkhTxt/a346_nd/n.txt /content/drive/MyDrive/FilteredNivkhTxt/a346_nd/r.txt\n"
          ]
        },
        {
          "output_type": "stream",
          "name": "stderr",
          "text": [
            "WARNING:root:can not fetch index db\n"
          ]
        },
        {
          "output_type": "stream",
          "name": "stdout",
          "text": [
            "Aligning without segments.\n",
            "tasks amount: 1\n",
            "batch: 0 (0)\n",
            "conflicts to solve: 1\n",
            "total conflicts: 1\n"
          ]
        },
        {
          "output_type": "stream",
          "name": "stderr",
          "text": [
            "\n",
            "100%|██████████| 1/1 [00:00<00:00, 11.38it/s]\n"
          ]
        },
        {
          "output_type": "stream",
          "name": "stdout",
          "text": [
            "conflicts to solve: 0\n",
            "total conflicts: 0\n"
          ]
        },
        {
          "output_type": "stream",
          "name": "stderr",
          "text": [
            "\n",
            "0it [00:00, ?it/s]\n"
          ]
        },
        {
          "output_type": "stream",
          "name": "stdout",
          "text": [
            "N: 11 --> 5\n",
            "R: 11 --> 5\n",
            "Chain score: 0.5000\n",
            "Skipping saving due to low chain_score: 0.5000\n",
            "\n",
            " ---------------------------------------------------------------------------------------------------------------------------------------------------------------------------------------------------------------------------------------------------------------------------------------------------------------------------------------------------------------------------------------------------------------------------------------------------------------------------------------------------------------------------------------------------------------------------------------------------------------------------------------------------------------------------------------------------------------------------------------------------------------------------------------------------------------------------------------------------------------------------------------------------------------------------------------------------------------------------------------------------------------------------------------- \n",
            "\n",
            "/content/drive/MyDrive/FilteredNivkhTxt/a459_nd/n.txt /content/drive/MyDrive/FilteredNivkhTxt/a459_nd/r.txt\n"
          ]
        },
        {
          "output_type": "stream",
          "name": "stderr",
          "text": [
            "WARNING:root:can not fetch index db\n"
          ]
        },
        {
          "output_type": "stream",
          "name": "stdout",
          "text": [
            "Aligning without segments.\n",
            "tasks amount: 1\n",
            "batch: 0 (0)\n",
            "conflicts to solve: 0\n",
            "total conflicts: 1\n"
          ]
        },
        {
          "output_type": "stream",
          "name": "stderr",
          "text": [
            "\n",
            "0it [00:00, ?it/s]\n"
          ]
        },
        {
          "output_type": "stream",
          "name": "stdout",
          "text": [
            "conflicts to solve: 0\n",
            "total conflicts: 0\n"
          ]
        },
        {
          "output_type": "stream",
          "name": "stderr",
          "text": [
            "\n",
            "0it [00:00, ?it/s]\n"
          ]
        },
        {
          "output_type": "stream",
          "name": "stdout",
          "text": [
            "conflicts to solve: 1\n",
            "total conflicts: 1\n"
          ]
        },
        {
          "output_type": "stream",
          "name": "stderr",
          "text": [
            "\n",
            "  0%|          | 0/1 [00:00<?, ?it/s]\u001b[A\n",
            "100%|██████████| 1/1 [00:00<00:00,  5.04it/s]\n"
          ]
        },
        {
          "output_type": "stream",
          "name": "stdout",
          "text": [
            "N: 8 --> 2\n",
            "R: 7 --> 2\n",
            "Chain score: 1.0000\n",
            "\n",
            " ---------------------------------------------------------------------------------------------------------------------------------------------------------------------------------------------------------------------------------------------------------------------------------------------------------------------------------------------------------------------------------------------------------------------------------------------------------------------------------------------------------------------------------------------------------------------------------------------------------------------------------------------------------------------------------------------------------------------------------------------------------------------------------------------------------------------------------------------------------------------------------------------------------------------------------------------------------------------------------------------------------------------------------------- \n",
            "\n",
            "/content/drive/MyDrive/FilteredNivkhTxt/a372_nd/n.txt /content/drive/MyDrive/FilteredNivkhTxt/a372_nd/r.txt\n",
            "Aligning without segments.\n",
            "tasks amount: 1\n",
            "batch: 0 (0)\n"
          ]
        },
        {
          "output_type": "stream",
          "name": "stderr",
          "text": [
            "WARNING:root:can not fetch index db\n"
          ]
        },
        {
          "output_type": "stream",
          "name": "stdout",
          "text": [
            "conflicts to solve: 6\n",
            "total conflicts: 9\n"
          ]
        },
        {
          "output_type": "stream",
          "name": "stderr",
          "text": [
            "\n",
            "  0%|          | 0/6 [00:00<?, ?it/s]\u001b[A\n",
            " 33%|███▎      | 2/6 [00:00<00:00, 16.25it/s]\u001b[A\n",
            " 67%|██████▋   | 4/6 [00:00<00:00, 15.76it/s]\u001b[A\n",
            "100%|██████████| 6/6 [00:00<00:00, 16.01it/s]\n"
          ]
        },
        {
          "output_type": "stream",
          "name": "stdout",
          "text": [
            "conflicts to solve: 2\n",
            "total conflicts: 2\n"
          ]
        },
        {
          "output_type": "stream",
          "name": "stderr",
          "text": [
            "\n",
            "  0%|          | 0/2 [00:00<?, ?it/s]\u001b[A\n",
            " 50%|█████     | 1/2 [00:00<00:00,  4.11it/s]\u001b[A\n",
            "100%|██████████| 2/2 [00:00<00:00,  2.90it/s]\n"
          ]
        },
        {
          "output_type": "stream",
          "name": "stdout",
          "text": [
            "conflicts to solve: 0\n",
            "total conflicts: 1\n"
          ]
        },
        {
          "output_type": "stream",
          "name": "stderr",
          "text": [
            "\n",
            "0it [00:00, ?it/s]\n"
          ]
        },
        {
          "output_type": "stream",
          "name": "stdout",
          "text": [
            "N: 54 --> 21\n",
            "R: 44 --> 21\n",
            "Chain score: 0.9574\n",
            "\n",
            " ---------------------------------------------------------------------------------------------------------------------------------------------------------------------------------------------------------------------------------------------------------------------------------------------------------------------------------------------------------------------------------------------------------------------------------------------------------------------------------------------------------------------------------------------------------------------------------------------------------------------------------------------------------------------------------------------------------------------------------------------------------------------------------------------------------------------------------------------------------------------------------------------------------------------------------------------------------------------------------------------------------------------------------------- \n",
            "\n",
            "/content/drive/MyDrive/FilteredNivkhTxt/75_nd/n.txt /content/drive/MyDrive/FilteredNivkhTxt/75_nd/r.txt\n",
            "Aligning without segments.\n",
            "tasks amount: 1\n",
            "batch: 0 (0)\n"
          ]
        },
        {
          "output_type": "stream",
          "name": "stderr",
          "text": [
            "WARNING:root:can not fetch index db\n"
          ]
        },
        {
          "output_type": "stream",
          "name": "stdout",
          "text": [
            "conflicts to solve: 2\n",
            "total conflicts: 4\n"
          ]
        },
        {
          "output_type": "stream",
          "name": "stderr",
          "text": [
            "\n",
            "  0%|          | 0/2 [00:00<?, ?it/s]\u001b[A\n",
            "100%|██████████| 2/2 [00:00<00:00, 10.19it/s]\n"
          ]
        },
        {
          "output_type": "stream",
          "name": "stdout",
          "text": [
            "conflicts to solve: 1\n",
            "total conflicts: 1\n"
          ]
        },
        {
          "output_type": "stream",
          "name": "stderr",
          "text": [
            "\n",
            "  0%|          | 0/1 [00:00<?, ?it/s]\u001b[A\n",
            "100%|██████████| 1/1 [00:00<00:00,  6.20it/s]\n"
          ]
        },
        {
          "output_type": "stream",
          "name": "stdout",
          "text": [
            "conflicts to solve: 0\n",
            "total conflicts: 0\n"
          ]
        },
        {
          "output_type": "stream",
          "name": "stderr",
          "text": [
            "\n",
            "0it [00:00, ?it/s]\n"
          ]
        },
        {
          "output_type": "stream",
          "name": "stdout",
          "text": [
            "N: 14 --> 5\n",
            "R: 14 --> 5\n",
            "Chain score: 1.0000\n",
            "\n",
            " ---------------------------------------------------------------------------------------------------------------------------------------------------------------------------------------------------------------------------------------------------------------------------------------------------------------------------------------------------------------------------------------------------------------------------------------------------------------------------------------------------------------------------------------------------------------------------------------------------------------------------------------------------------------------------------------------------------------------------------------------------------------------------------------------------------------------------------------------------------------------------------------------------------------------------------------------------------------------------------------------------------------------------------------- \n",
            "\n",
            "/content/drive/MyDrive/FilteredNivkhTxt/a317_nd/n.txt /content/drive/MyDrive/FilteredNivkhTxt/a317_nd/r.txt\n"
          ]
        },
        {
          "output_type": "stream",
          "name": "stderr",
          "text": [
            "WARNING:root:can not fetch index db\n"
          ]
        },
        {
          "output_type": "stream",
          "name": "stdout",
          "text": [
            "Aligning without segments.\n",
            "tasks amount: 1\n",
            "batch: 0 (0)\n",
            "conflicts to solve: 1\n",
            "total conflicts: 2\n"
          ]
        },
        {
          "output_type": "stream",
          "name": "stderr",
          "text": [
            "\n",
            "  0%|          | 0/1 [00:00<?, ?it/s]\u001b[A\n",
            "100%|██████████| 1/1 [00:00<00:00,  6.29it/s]\n"
          ]
        },
        {
          "output_type": "stream",
          "name": "stdout",
          "text": [
            "conflicts to solve: 1\n",
            "total conflicts: 1\n"
          ]
        },
        {
          "output_type": "stream",
          "name": "stderr",
          "text": [
            "\n",
            "  0%|          | 0/1 [00:00<?, ?it/s]\u001b[A\n",
            "100%|██████████| 1/1 [00:00<00:00,  9.31it/s]\n"
          ]
        },
        {
          "output_type": "stream",
          "name": "stdout",
          "text": [
            "conflicts to solve: 0\n",
            "total conflicts: 0\n"
          ]
        },
        {
          "output_type": "stream",
          "name": "stderr",
          "text": [
            "\n",
            "0it [00:00, ?it/s]\n"
          ]
        },
        {
          "output_type": "stream",
          "name": "stdout",
          "text": [
            "N: 11 --> 5\n",
            "R: 10 --> 5\n",
            "Chain score: 1.0000\n",
            "\n",
            " ---------------------------------------------------------------------------------------------------------------------------------------------------------------------------------------------------------------------------------------------------------------------------------------------------------------------------------------------------------------------------------------------------------------------------------------------------------------------------------------------------------------------------------------------------------------------------------------------------------------------------------------------------------------------------------------------------------------------------------------------------------------------------------------------------------------------------------------------------------------------------------------------------------------------------------------------------------------------------------------------------------------------------------------- \n",
            "\n",
            "/content/drive/MyDrive/FilteredNivkhTxt/97_nd/n.txt /content/drive/MyDrive/FilteredNivkhTxt/97_nd/r.txt\n",
            "Aligning without segments.\n",
            "tasks amount: 1\n",
            "batch: 0 (0)\n"
          ]
        },
        {
          "output_type": "stream",
          "name": "stderr",
          "text": [
            "WARNING:root:can not fetch index db\n"
          ]
        },
        {
          "output_type": "stream",
          "name": "stdout",
          "text": [
            "conflicts to solve: 1\n",
            "total conflicts: 4\n"
          ]
        },
        {
          "output_type": "stream",
          "name": "stderr",
          "text": [
            "\n",
            "100%|██████████| 1/1 [00:00<00:00, 14.15it/s]\n"
          ]
        },
        {
          "output_type": "stream",
          "name": "stdout",
          "text": [
            "conflicts to solve: 0\n",
            "total conflicts: 1\n"
          ]
        },
        {
          "output_type": "stream",
          "name": "stderr",
          "text": [
            "\n",
            "0it [00:00, ?it/s]\n"
          ]
        },
        {
          "output_type": "stream",
          "name": "stdout",
          "text": [
            "conflicts to solve: 1\n",
            "total conflicts: 1\n"
          ]
        },
        {
          "output_type": "stream",
          "name": "stderr",
          "text": [
            "\n",
            "  0%|          | 0/1 [00:00<?, ?it/s]\u001b[A\n",
            "100%|██████████| 1/1 [00:00<00:00,  1.32it/s]\n"
          ]
        },
        {
          "output_type": "stream",
          "name": "stdout",
          "text": [
            "conflicts to solve: 2\n",
            "total conflicts: 2\n"
          ]
        },
        {
          "output_type": "stream",
          "name": "stderr",
          "text": [
            "\n",
            "  0%|          | 0/2 [00:00<?, ?it/s]\u001b[A\n",
            " 50%|█████     | 1/2 [00:00<00:00,  6.14it/s]\u001b[A\n",
            "100%|██████████| 2/2 [00:00<00:00,  3.12it/s]\n"
          ]
        },
        {
          "output_type": "stream",
          "name": "stdout",
          "text": [
            "N: 41 --> 10\n",
            "R: 27 --> 10\n",
            "Chain score: 1.0000\n",
            "\n",
            " ---------------------------------------------------------------------------------------------------------------------------------------------------------------------------------------------------------------------------------------------------------------------------------------------------------------------------------------------------------------------------------------------------------------------------------------------------------------------------------------------------------------------------------------------------------------------------------------------------------------------------------------------------------------------------------------------------------------------------------------------------------------------------------------------------------------------------------------------------------------------------------------------------------------------------------------------------------------------------------------------------------------------------------------- \n",
            "\n",
            "/content/drive/MyDrive/FilteredNivkhTxt/55_shklg/n.txt /content/drive/MyDrive/FilteredNivkhTxt/55_shklg/r.txt\n"
          ]
        },
        {
          "output_type": "stream",
          "name": "stderr",
          "text": [
            "WARNING:root:can not fetch index db\n"
          ]
        },
        {
          "output_type": "stream",
          "name": "stdout",
          "text": [
            "Aligning without segments.\n",
            "tasks amount: 1\n",
            "batch: 0 (0)\n",
            "conflicts to solve: 0\n",
            "total conflicts: 0\n"
          ]
        },
        {
          "output_type": "stream",
          "name": "stderr",
          "text": [
            "\n",
            "0it [00:00, ?it/s]\n"
          ]
        },
        {
          "output_type": "stream",
          "name": "stdout",
          "text": [
            "conflicts to solve: 0\n",
            "total conflicts: 0\n"
          ]
        },
        {
          "output_type": "stream",
          "name": "stderr",
          "text": [
            "\n",
            "0it [00:00, ?it/s]\n"
          ]
        },
        {
          "output_type": "stream",
          "name": "stdout",
          "text": [
            "N: 15 --> 6\n",
            "R: 28 --> 6\n",
            "Chain score: 0.0714\n",
            "Skipping saving due to low chain_score: 0.0714\n",
            "\n",
            " ---------------------------------------------------------------------------------------------------------------------------------------------------------------------------------------------------------------------------------------------------------------------------------------------------------------------------------------------------------------------------------------------------------------------------------------------------------------------------------------------------------------------------------------------------------------------------------------------------------------------------------------------------------------------------------------------------------------------------------------------------------------------------------------------------------------------------------------------------------------------------------------------------------------------------------------------------------------------------------------------------------------------------------------- \n",
            "\n",
            "/content/drive/MyDrive/FilteredNivkhTxt/a357_nd/n.txt /content/drive/MyDrive/FilteredNivkhTxt/a357_nd/r.txt\n"
          ]
        },
        {
          "output_type": "stream",
          "name": "stderr",
          "text": [
            "WARNING:root:can not fetch index db\n"
          ]
        },
        {
          "output_type": "stream",
          "name": "stdout",
          "text": [
            "Aligning without segments.\n",
            "tasks amount: 1\n",
            "batch: 0 (0)\n",
            "conflicts to solve: 1\n",
            "total conflicts: 2\n"
          ]
        },
        {
          "output_type": "stream",
          "name": "stderr",
          "text": [
            "\n",
            "100%|██████████| 1/1 [00:00<00:00, 17.63it/s]\n"
          ]
        },
        {
          "output_type": "stream",
          "name": "stdout",
          "text": [
            "conflicts to solve: 1\n",
            "total conflicts: 1\n"
          ]
        },
        {
          "output_type": "stream",
          "name": "stderr",
          "text": [
            "\n",
            "  0%|          | 0/1 [00:00<?, ?it/s]\u001b[A\n",
            "100%|██████████| 1/1 [00:00<00:00,  7.31it/s]\n"
          ]
        },
        {
          "output_type": "stream",
          "name": "stdout",
          "text": [
            "conflicts to solve: 0\n",
            "total conflicts: 0\n"
          ]
        },
        {
          "output_type": "stream",
          "name": "stderr",
          "text": [
            "\n",
            "0it [00:00, ?it/s]\n"
          ]
        },
        {
          "output_type": "stream",
          "name": "stdout",
          "text": [
            "N: 19 --> 6\n",
            "R: 15 --> 6\n",
            "Chain score: 0.7059\n",
            "\n",
            " ---------------------------------------------------------------------------------------------------------------------------------------------------------------------------------------------------------------------------------------------------------------------------------------------------------------------------------------------------------------------------------------------------------------------------------------------------------------------------------------------------------------------------------------------------------------------------------------------------------------------------------------------------------------------------------------------------------------------------------------------------------------------------------------------------------------------------------------------------------------------------------------------------------------------------------------------------------------------------------------------------------------------------------------- \n",
            "\n",
            "/content/drive/MyDrive/FilteredNivkhTxt/a306_nd/n.txt /content/drive/MyDrive/FilteredNivkhTxt/a306_nd/r.txt\n"
          ]
        },
        {
          "output_type": "stream",
          "name": "stderr",
          "text": [
            "WARNING:root:can not fetch index db\n"
          ]
        },
        {
          "output_type": "stream",
          "name": "stdout",
          "text": [
            "Aligning without segments.\n",
            "tasks amount: 1\n",
            "batch: 0 (0)\n",
            "conflicts to solve: 2\n",
            "total conflicts: 2\n"
          ]
        },
        {
          "output_type": "stream",
          "name": "stderr",
          "text": [
            "\n",
            "  0%|          | 0/2 [00:00<?, ?it/s]\u001b[A\n",
            "100%|██████████| 2/2 [00:00<00:00, 11.65it/s]\n"
          ]
        },
        {
          "output_type": "stream",
          "name": "stdout",
          "text": [
            "conflicts to solve: 0\n",
            "total conflicts: 0\n"
          ]
        },
        {
          "output_type": "stream",
          "name": "stderr",
          "text": [
            "\n",
            "0it [00:00, ?it/s]\n"
          ]
        },
        {
          "output_type": "stream",
          "name": "stdout",
          "text": [
            "N: 16 --> 5\n",
            "R: 13 --> 5\n",
            "Chain score: 0.7143\n",
            "\n",
            " ---------------------------------------------------------------------------------------------------------------------------------------------------------------------------------------------------------------------------------------------------------------------------------------------------------------------------------------------------------------------------------------------------------------------------------------------------------------------------------------------------------------------------------------------------------------------------------------------------------------------------------------------------------------------------------------------------------------------------------------------------------------------------------------------------------------------------------------------------------------------------------------------------------------------------------------------------------------------------------------------------------------------------------------- \n",
            "\n",
            "/content/drive/MyDrive/FilteredNivkhTxt/36_sng/n.txt /content/drive/MyDrive/FilteredNivkhTxt/36_sng/r.txt\n",
            "Aligning without segments.\n",
            "tasks amount: 1\n",
            "batch: 0 (0)\n"
          ]
        },
        {
          "output_type": "stream",
          "name": "stderr",
          "text": [
            "WARNING:root:can not fetch index db\n"
          ]
        },
        {
          "output_type": "stream",
          "name": "stdout",
          "text": [
            "conflicts to solve: 0\n",
            "total conflicts: 7\n"
          ]
        },
        {
          "output_type": "stream",
          "name": "stderr",
          "text": [
            "\n",
            "0it [00:00, ?it/s]\n"
          ]
        },
        {
          "output_type": "stream",
          "name": "stdout",
          "text": [
            "conflicts to solve: 0\n",
            "total conflicts: 1\n"
          ]
        },
        {
          "output_type": "stream",
          "name": "stderr",
          "text": [
            "\n",
            "0it [00:00, ?it/s]\n"
          ]
        },
        {
          "output_type": "stream",
          "name": "stdout",
          "text": [
            "conflicts to solve: 0\n",
            "total conflicts: 1\n"
          ]
        },
        {
          "output_type": "stream",
          "name": "stderr",
          "text": [
            "\n",
            "0it [00:00, ?it/s]\n"
          ]
        },
        {
          "output_type": "stream",
          "name": "stdout",
          "text": [
            "conflicts to solve: 5\n",
            "total conflicts: 7\n"
          ]
        },
        {
          "output_type": "stream",
          "name": "stderr",
          "text": [
            "\n",
            "  0%|          | 0/5 [00:00<?, ?it/s]\u001b[A\n",
            " 20%|██        | 1/5 [00:00<00:02,  1.38it/s]\u001b[A\n",
            " 40%|████      | 2/5 [00:00<00:01,  2.45it/s]\u001b[A\n",
            " 60%|██████    | 3/5 [00:04<00:03,  1.89s/it]\u001b[A\n",
            " 80%|████████  | 4/5 [00:05<00:01,  1.33s/it]\u001b[A\n",
            "100%|██████████| 5/5 [00:05<00:00,  1.07s/it]\n"
          ]
        },
        {
          "output_type": "stream",
          "name": "stdout",
          "text": [
            "N: 75 --> 23\n",
            "R: 59 --> 23\n",
            "Chain score: 0.8800\n",
            "\n",
            " ---------------------------------------------------------------------------------------------------------------------------------------------------------------------------------------------------------------------------------------------------------------------------------------------------------------------------------------------------------------------------------------------------------------------------------------------------------------------------------------------------------------------------------------------------------------------------------------------------------------------------------------------------------------------------------------------------------------------------------------------------------------------------------------------------------------------------------------------------------------------------------------------------------------------------------------------------------------------------------------------------------------------------------------- \n",
            "\n",
            "/content/drive/MyDrive/FilteredNivkhTxt/a448_nd/n.txt /content/drive/MyDrive/FilteredNivkhTxt/a448_nd/r.txt\n",
            "Aligning without segments.\n",
            "tasks amount: 1\n",
            "batch: 0 (0)\n"
          ]
        },
        {
          "output_type": "stream",
          "name": "stderr",
          "text": [
            "WARNING:root:can not fetch index db\n"
          ]
        },
        {
          "output_type": "stream",
          "name": "stdout",
          "text": [
            "conflicts to solve: 1\n",
            "total conflicts: 2\n"
          ]
        },
        {
          "output_type": "stream",
          "name": "stderr",
          "text": [
            "\n",
            "  0%|          | 0/1 [00:00<?, ?it/s]\u001b[A\n",
            "100%|██████████| 1/1 [00:00<00:00,  8.31it/s]\n"
          ]
        },
        {
          "output_type": "stream",
          "name": "stdout",
          "text": [
            "conflicts to solve: 0\n",
            "total conflicts: 1\n"
          ]
        },
        {
          "output_type": "stream",
          "name": "stderr",
          "text": [
            "\n",
            "0it [00:00, ?it/s]\n"
          ]
        },
        {
          "output_type": "stream",
          "name": "stdout",
          "text": [
            "conflicts to solve: 1\n",
            "total conflicts: 1\n"
          ]
        },
        {
          "output_type": "stream",
          "name": "stderr",
          "text": [
            "\n",
            "  0%|          | 0/1 [00:00<?, ?it/s]\u001b[A\n",
            "100%|██████████| 1/1 [00:01<00:00,  1.01s/it]\n"
          ]
        },
        {
          "output_type": "stream",
          "name": "stdout",
          "text": [
            "conflicts to solve: 0\n",
            "total conflicts: 0\n"
          ]
        },
        {
          "output_type": "stream",
          "name": "stderr",
          "text": [
            "\n",
            "0it [00:00, ?it/s]\n"
          ]
        },
        {
          "output_type": "stream",
          "name": "stdout",
          "text": [
            "N: 27 --> 12\n",
            "R: 25 --> 12\n",
            "Chain score: 1.0000\n",
            "\n",
            " ---------------------------------------------------------------------------------------------------------------------------------------------------------------------------------------------------------------------------------------------------------------------------------------------------------------------------------------------------------------------------------------------------------------------------------------------------------------------------------------------------------------------------------------------------------------------------------------------------------------------------------------------------------------------------------------------------------------------------------------------------------------------------------------------------------------------------------------------------------------------------------------------------------------------------------------------------------------------------------------------------------------------------------------- \n",
            "\n",
            "/content/drive/MyDrive/FilteredNivkhTxt/a419_nd/n.txt /content/drive/MyDrive/FilteredNivkhTxt/a419_nd/r.txt\n",
            "Aligning without segments.\n",
            "tasks amount: 1\n",
            "batch: 0 (0)\n"
          ]
        },
        {
          "output_type": "stream",
          "name": "stderr",
          "text": [
            "WARNING:root:can not fetch index db\n"
          ]
        },
        {
          "output_type": "stream",
          "name": "stdout",
          "text": [
            "conflicts to solve: 0\n",
            "total conflicts: 5\n"
          ]
        },
        {
          "output_type": "stream",
          "name": "stderr",
          "text": [
            "\n",
            "0it [00:00, ?it/s]\n"
          ]
        },
        {
          "output_type": "stream",
          "name": "stdout",
          "text": [
            "conflicts to solve: 0\n",
            "total conflicts: 1\n"
          ]
        },
        {
          "output_type": "stream",
          "name": "stderr",
          "text": [
            "\n",
            "0it [00:00, ?it/s]\n"
          ]
        },
        {
          "output_type": "stream",
          "name": "stdout",
          "text": [
            "conflicts to solve: 0\n",
            "total conflicts: 0\n"
          ]
        },
        {
          "output_type": "stream",
          "name": "stderr",
          "text": [
            "\n",
            "0it [00:00, ?it/s]\n"
          ]
        },
        {
          "output_type": "stream",
          "name": "stdout",
          "text": [
            "conflicts to solve: 2\n",
            "total conflicts: 5\n"
          ]
        },
        {
          "output_type": "stream",
          "name": "stderr",
          "text": [
            "\n",
            "  0%|          | 0/2 [00:00<?, ?it/s]\u001b[A\n",
            " 50%|█████     | 1/2 [00:00<00:00,  5.45it/s]\u001b[A\n",
            "100%|██████████| 2/2 [00:03<00:00,  1.88s/it]\n"
          ]
        },
        {
          "output_type": "stream",
          "name": "stdout",
          "text": [
            "N: 70 --> 15\n",
            "R: 36 --> 15\n",
            "Chain score: 0.4035\n",
            "Skipping saving due to low chain_score: 0.4035\n",
            "\n",
            " ---------------------------------------------------------------------------------------------------------------------------------------------------------------------------------------------------------------------------------------------------------------------------------------------------------------------------------------------------------------------------------------------------------------------------------------------------------------------------------------------------------------------------------------------------------------------------------------------------------------------------------------------------------------------------------------------------------------------------------------------------------------------------------------------------------------------------------------------------------------------------------------------------------------------------------------------------------------------------------------------------------------------------------------- \n",
            "\n",
            "/content/drive/MyDrive/FilteredNivkhTxt/51_shklg/n.txt /content/drive/MyDrive/FilteredNivkhTxt/51_shklg/r.txt\n"
          ]
        },
        {
          "output_type": "stream",
          "name": "stderr",
          "text": [
            "WARNING:root:can not fetch index db\n"
          ]
        },
        {
          "output_type": "stream",
          "name": "stdout",
          "text": [
            "Aligning without segments.\n",
            "tasks amount: 1\n",
            "batch: 0 (0)\n",
            "conflicts to solve: 0\n",
            "total conflicts: 0\n"
          ]
        },
        {
          "output_type": "stream",
          "name": "stderr",
          "text": [
            "\n",
            "0it [00:00, ?it/s]\n"
          ]
        },
        {
          "output_type": "stream",
          "name": "stdout",
          "text": [
            "conflicts to solve: 0\n",
            "total conflicts: 0\n"
          ]
        },
        {
          "output_type": "stream",
          "name": "stderr",
          "text": [
            "\n",
            "0it [00:00, ?it/s]\n"
          ]
        },
        {
          "output_type": "stream",
          "name": "stdout",
          "text": [
            "N: 8 --> 1\n",
            "R: 9 --> 1\n",
            "Chain score: 0.2857\n",
            "Skipping saving due to low chain_score: 0.2857\n",
            "\n",
            " ---------------------------------------------------------------------------------------------------------------------------------------------------------------------------------------------------------------------------------------------------------------------------------------------------------------------------------------------------------------------------------------------------------------------------------------------------------------------------------------------------------------------------------------------------------------------------------------------------------------------------------------------------------------------------------------------------------------------------------------------------------------------------------------------------------------------------------------------------------------------------------------------------------------------------------------------------------------------------------------------------------------------------------------- \n",
            "\n",
            "/content/drive/MyDrive/FilteredNivkhTxt/64_nd/n.txt /content/drive/MyDrive/FilteredNivkhTxt/64_nd/r.txt\n"
          ]
        },
        {
          "output_type": "stream",
          "name": "stderr",
          "text": [
            "WARNING:root:can not fetch index db\n"
          ]
        },
        {
          "output_type": "stream",
          "name": "stdout",
          "text": [
            "Aligning without segments.\n",
            "tasks amount: 1\n",
            "batch: 0 (0)\n",
            "conflicts to solve: 0\n",
            "total conflicts: 1\n"
          ]
        },
        {
          "output_type": "stream",
          "name": "stderr",
          "text": [
            "\n",
            "0it [00:00, ?it/s]\n"
          ]
        },
        {
          "output_type": "stream",
          "name": "stdout",
          "text": [
            "conflicts to solve: 0\n",
            "total conflicts: 0\n"
          ]
        },
        {
          "output_type": "stream",
          "name": "stderr",
          "text": [
            "\n",
            "0it [00:00, ?it/s]\n"
          ]
        },
        {
          "output_type": "stream",
          "name": "stdout",
          "text": [
            "conflicts to solve: 1\n",
            "total conflicts: 1\n"
          ]
        },
        {
          "output_type": "stream",
          "name": "stderr",
          "text": [
            "\n",
            "  0%|          | 0/1 [00:00<?, ?it/s]\u001b[A\n",
            "100%|██████████| 1/1 [00:03<00:00,  3.25s/it]\n"
          ]
        },
        {
          "output_type": "stream",
          "name": "stdout",
          "text": [
            "N: 21 --> 4\n",
            "R: 14 --> 4\n",
            "Chain score: 0.8571\n",
            "\n",
            " ---------------------------------------------------------------------------------------------------------------------------------------------------------------------------------------------------------------------------------------------------------------------------------------------------------------------------------------------------------------------------------------------------------------------------------------------------------------------------------------------------------------------------------------------------------------------------------------------------------------------------------------------------------------------------------------------------------------------------------------------------------------------------------------------------------------------------------------------------------------------------------------------------------------------------------------------------------------------------------------------------------------------------------------- \n",
            "\n",
            "/content/drive/MyDrive/FilteredNivkhTxt/a246_nd/n.txt /content/drive/MyDrive/FilteredNivkhTxt/a246_nd/r.txt\n",
            "Aligning without segments.\n",
            "tasks amount: 1\n",
            "batch: 0 (0)\n"
          ]
        },
        {
          "output_type": "stream",
          "name": "stderr",
          "text": [
            "WARNING:root:can not fetch index db\n"
          ]
        },
        {
          "output_type": "stream",
          "name": "stdout",
          "text": [
            "conflicts to solve: 2\n",
            "total conflicts: 5\n"
          ]
        },
        {
          "output_type": "stream",
          "name": "stderr",
          "text": [
            "\n",
            "  0%|          | 0/2 [00:00<?, ?it/s]\u001b[A\n",
            "100%|██████████| 2/2 [00:00<00:00, 15.36it/s]\n"
          ]
        },
        {
          "output_type": "stream",
          "name": "stdout",
          "text": [
            "conflicts to solve: 0\n",
            "total conflicts: 1\n"
          ]
        },
        {
          "output_type": "stream",
          "name": "stderr",
          "text": [
            "\n",
            "0it [00:00, ?it/s]\n"
          ]
        },
        {
          "output_type": "stream",
          "name": "stdout",
          "text": [
            "conflicts to solve: 1\n",
            "total conflicts: 1\n"
          ]
        },
        {
          "output_type": "stream",
          "name": "stderr",
          "text": [
            "\n",
            "  0%|          | 0/1 [00:00<?, ?it/s]\u001b[A\n",
            "100%|██████████| 1/1 [00:00<00:00,  1.64it/s]\n"
          ]
        },
        {
          "output_type": "stream",
          "name": "stdout",
          "text": [
            "conflicts to solve: 1\n",
            "total conflicts: 1\n"
          ]
        },
        {
          "output_type": "stream",
          "name": "stderr",
          "text": [
            "\n",
            "100%|██████████| 1/1 [00:00<00:00, 11.05it/s]\n"
          ]
        },
        {
          "output_type": "stream",
          "name": "stdout",
          "text": [
            "N: 36 --> 4\n",
            "R: 33 --> 4\n",
            "Chain score: 0.9167\n",
            "\n",
            " ---------------------------------------------------------------------------------------------------------------------------------------------------------------------------------------------------------------------------------------------------------------------------------------------------------------------------------------------------------------------------------------------------------------------------------------------------------------------------------------------------------------------------------------------------------------------------------------------------------------------------------------------------------------------------------------------------------------------------------------------------------------------------------------------------------------------------------------------------------------------------------------------------------------------------------------------------------------------------------------------------------------------------------------- \n",
            "\n",
            "/content/drive/MyDrive/FilteredNivkhTxt/a363_nd/n.txt /content/drive/MyDrive/FilteredNivkhTxt/a363_nd/r.txt\n"
          ]
        },
        {
          "output_type": "stream",
          "name": "stderr",
          "text": [
            "WARNING:root:can not fetch index db\n"
          ]
        },
        {
          "output_type": "stream",
          "name": "stdout",
          "text": [
            "Aligning without segments.\n",
            "tasks amount: 1\n",
            "batch: 0 (0)\n",
            "conflicts to solve: 1\n",
            "total conflicts: 2\n"
          ]
        },
        {
          "output_type": "stream",
          "name": "stderr",
          "text": [
            "\n",
            "100%|██████████| 1/1 [00:00<00:00, 18.56it/s]\n"
          ]
        },
        {
          "output_type": "stream",
          "name": "stdout",
          "text": [
            "conflicts to solve: 0\n",
            "total conflicts: 1\n"
          ]
        },
        {
          "output_type": "stream",
          "name": "stderr",
          "text": [
            "\n",
            "0it [00:00, ?it/s]\n"
          ]
        },
        {
          "output_type": "stream",
          "name": "stdout",
          "text": [
            "conflicts to solve: 0\n",
            "total conflicts: 0\n"
          ]
        },
        {
          "output_type": "stream",
          "name": "stderr",
          "text": [
            "\n",
            "0it [00:00, ?it/s]\n"
          ]
        },
        {
          "output_type": "stream",
          "name": "stdout",
          "text": [
            "conflicts to solve: 1\n",
            "total conflicts: 1\n"
          ]
        },
        {
          "output_type": "stream",
          "name": "stderr",
          "text": [
            "\n",
            "  0%|          | 0/1 [00:00<?, ?it/s]\u001b[A\n",
            "100%|██████████| 1/1 [00:00<00:00,  2.06it/s]\n"
          ]
        },
        {
          "output_type": "stream",
          "name": "stdout",
          "text": [
            "N: 23 --> 6\n",
            "R: 21 --> 6\n",
            "Chain score: 0.9048\n",
            "\n",
            " ---------------------------------------------------------------------------------------------------------------------------------------------------------------------------------------------------------------------------------------------------------------------------------------------------------------------------------------------------------------------------------------------------------------------------------------------------------------------------------------------------------------------------------------------------------------------------------------------------------------------------------------------------------------------------------------------------------------------------------------------------------------------------------------------------------------------------------------------------------------------------------------------------------------------------------------------------------------------------------------------------------------------------------------- \n",
            "\n",
            "/content/drive/MyDrive/FilteredNivkhTxt/a272_nd/n.txt /content/drive/MyDrive/FilteredNivkhTxt/a272_nd/r.txt\n"
          ]
        },
        {
          "output_type": "stream",
          "name": "stderr",
          "text": [
            "WARNING:root:can not fetch index db\n"
          ]
        },
        {
          "output_type": "stream",
          "name": "stdout",
          "text": [
            "Aligning without segments.\n",
            "tasks amount: 1\n",
            "batch: 0 (0)\n",
            "conflicts to solve: 0\n",
            "total conflicts: 1\n"
          ]
        },
        {
          "output_type": "stream",
          "name": "stderr",
          "text": [
            "\n",
            "0it [00:00, ?it/s]\n"
          ]
        },
        {
          "output_type": "stream",
          "name": "stdout",
          "text": [
            "conflicts to solve: 0\n",
            "total conflicts: 1\n"
          ]
        },
        {
          "output_type": "stream",
          "name": "stderr",
          "text": [
            "\n",
            "0it [00:00, ?it/s]\n"
          ]
        },
        {
          "output_type": "stream",
          "name": "stdout",
          "text": [
            "conflicts to solve: 0\n",
            "total conflicts: 1\n"
          ]
        },
        {
          "output_type": "stream",
          "name": "stderr",
          "text": [
            "\n",
            "0it [00:00, ?it/s]\n"
          ]
        },
        {
          "output_type": "stream",
          "name": "stdout",
          "text": [
            "conflicts to solve: 1\n",
            "total conflicts: 1\n"
          ]
        },
        {
          "output_type": "stream",
          "name": "stderr",
          "text": [
            "\n",
            "  0%|          | 0/1 [00:00<?, ?it/s]\u001b[A\n",
            "100%|██████████| 1/1 [00:13<00:00, 13.47s/it]\n"
          ]
        },
        {
          "output_type": "stream",
          "name": "stdout",
          "text": [
            "N: 16 --> 1\n",
            "R: 22 --> 1\n",
            "Chain score: 1.0000\n",
            "\n",
            " ---------------------------------------------------------------------------------------------------------------------------------------------------------------------------------------------------------------------------------------------------------------------------------------------------------------------------------------------------------------------------------------------------------------------------------------------------------------------------------------------------------------------------------------------------------------------------------------------------------------------------------------------------------------------------------------------------------------------------------------------------------------------------------------------------------------------------------------------------------------------------------------------------------------------------------------------------------------------------------------------------------------------------------------- \n",
            "\n",
            "/content/drive/MyDrive/FilteredNivkhTxt/a380_nd/n.txt /content/drive/MyDrive/FilteredNivkhTxt/a380_nd/r.txt\n"
          ]
        },
        {
          "output_type": "stream",
          "name": "stderr",
          "text": [
            "WARNING:root:can not fetch index db\n"
          ]
        },
        {
          "output_type": "stream",
          "name": "stdout",
          "text": [
            "Aligning without segments.\n",
            "tasks amount: 1\n",
            "batch: 0 (0)\n",
            "conflicts to solve: 2\n",
            "total conflicts: 3\n"
          ]
        },
        {
          "output_type": "stream",
          "name": "stderr",
          "text": [
            "\n",
            "  0%|          | 0/2 [00:00<?, ?it/s]\u001b[A\n",
            "100%|██████████| 2/2 [00:00<00:00, 12.64it/s]\n"
          ]
        },
        {
          "output_type": "stream",
          "name": "stdout",
          "text": [
            "conflicts to solve: 1\n",
            "total conflicts: 1\n"
          ]
        },
        {
          "output_type": "stream",
          "name": "stderr",
          "text": [
            "\n",
            "  0%|          | 0/1 [00:00<?, ?it/s]\u001b[A\n",
            "100%|██████████| 1/1 [00:00<00:00,  8.54it/s]\n"
          ]
        },
        {
          "output_type": "stream",
          "name": "stdout",
          "text": [
            "conflicts to solve: 0\n",
            "total conflicts: 0\n"
          ]
        },
        {
          "output_type": "stream",
          "name": "stderr",
          "text": [
            "\n",
            "0it [00:00, ?it/s]\n"
          ]
        },
        {
          "output_type": "stream",
          "name": "stdout",
          "text": [
            "N: 19 --> 9\n",
            "R: 17 --> 9\n",
            "Chain score: 1.0000\n",
            "\n",
            " ---------------------------------------------------------------------------------------------------------------------------------------------------------------------------------------------------------------------------------------------------------------------------------------------------------------------------------------------------------------------------------------------------------------------------------------------------------------------------------------------------------------------------------------------------------------------------------------------------------------------------------------------------------------------------------------------------------------------------------------------------------------------------------------------------------------------------------------------------------------------------------------------------------------------------------------------------------------------------------------------------------------------------------------- \n",
            "\n",
            "/content/drive/MyDrive/FilteredNivkhTxt/a332_nd/n.txt /content/drive/MyDrive/FilteredNivkhTxt/a332_nd/r.txt\n",
            "Aligning without segments.\n",
            "tasks amount: 1\n",
            "batch: 0 (0)\n"
          ]
        },
        {
          "output_type": "stream",
          "name": "stderr",
          "text": [
            "WARNING:root:can not fetch index db\n"
          ]
        },
        {
          "output_type": "stream",
          "name": "stdout",
          "text": [
            "conflicts to solve: 1\n",
            "total conflicts: 13\n"
          ]
        },
        {
          "output_type": "stream",
          "name": "stderr",
          "text": [
            "\n",
            "100%|██████████| 1/1 [00:00<00:00, 12.23it/s]\n"
          ]
        },
        {
          "output_type": "stream",
          "name": "stdout",
          "text": [
            "conflicts to solve: 0\n",
            "total conflicts: 1\n"
          ]
        },
        {
          "output_type": "stream",
          "name": "stderr",
          "text": [
            "\n",
            "0it [00:00, ?it/s]\n"
          ]
        },
        {
          "output_type": "stream",
          "name": "stdout",
          "text": [
            "conflicts to solve: 0\n",
            "total conflicts: 0\n"
          ]
        },
        {
          "output_type": "stream",
          "name": "stderr",
          "text": [
            "\n",
            "0it [00:00, ?it/s]\n"
          ]
        },
        {
          "output_type": "stream",
          "name": "stdout",
          "text": [
            "conflicts to solve: 10\n",
            "total conflicts: 12\n"
          ]
        },
        {
          "output_type": "stream",
          "name": "stderr",
          "text": [
            "\n",
            "  0%|          | 0/10 [00:00<?, ?it/s]\u001b[A\n",
            " 10%|█         | 1/10 [00:00<00:06,  1.31it/s]\u001b[A\n",
            " 20%|██        | 2/10 [00:08<00:36,  4.58s/it]\u001b[A\n",
            " 30%|███       | 3/10 [00:08<00:18,  2.58s/it]\u001b[A\n",
            " 40%|████      | 4/10 [00:12<00:19,  3.19s/it]\u001b[A\n",
            " 50%|█████     | 5/10 [00:13<00:11,  2.37s/it]\u001b[A\n",
            " 60%|██████    | 6/10 [00:22<00:18,  4.72s/it]\u001b[A\n",
            " 70%|███████   | 7/10 [00:22<00:09,  3.21s/it]\u001b[A\n",
            " 80%|████████  | 8/10 [00:22<00:04,  2.26s/it]\u001b[A\n",
            " 90%|█████████ | 9/10 [00:23<00:01,  1.72s/it]\u001b[A\n",
            "100%|██████████| 10/10 [00:23<00:00,  2.37s/it]\n"
          ]
        },
        {
          "output_type": "stream",
          "name": "stdout",
          "text": [
            "N: 134 --> 21\n",
            "R: 114 --> 21\n",
            "Chain score: 0.9360\n",
            "\n",
            " ---------------------------------------------------------------------------------------------------------------------------------------------------------------------------------------------------------------------------------------------------------------------------------------------------------------------------------------------------------------------------------------------------------------------------------------------------------------------------------------------------------------------------------------------------------------------------------------------------------------------------------------------------------------------------------------------------------------------------------------------------------------------------------------------------------------------------------------------------------------------------------------------------------------------------------------------------------------------------------------------------------------------------------------- \n",
            "\n",
            "/content/drive/MyDrive/FilteredNivkhTxt/a110_nd/n.txt /content/drive/MyDrive/FilteredNivkhTxt/a110_nd/r.txt\n"
          ]
        },
        {
          "output_type": "stream",
          "name": "stderr",
          "text": [
            "WARNING:root:can not fetch index db\n"
          ]
        },
        {
          "output_type": "stream",
          "name": "stdout",
          "text": [
            "Aligning without segments.\n",
            "tasks amount: 1\n",
            "batch: 0 (0)\n",
            "conflicts to solve: 0\n",
            "total conflicts: 1\n"
          ]
        },
        {
          "output_type": "stream",
          "name": "stderr",
          "text": [
            "\n",
            "0it [00:00, ?it/s]\n"
          ]
        },
        {
          "output_type": "stream",
          "name": "stdout",
          "text": [
            "conflicts to solve: 0\n",
            "total conflicts: 1\n"
          ]
        },
        {
          "output_type": "stream",
          "name": "stderr",
          "text": [
            "\n",
            "0it [00:00, ?it/s]\n"
          ]
        },
        {
          "output_type": "stream",
          "name": "stdout",
          "text": [
            "conflicts to solve: 0\n",
            "total conflicts: 1\n"
          ]
        },
        {
          "output_type": "stream",
          "name": "stderr",
          "text": [
            "\n",
            "0it [00:00, ?it/s]\n"
          ]
        },
        {
          "output_type": "stream",
          "name": "stdout",
          "text": [
            "conflicts to solve: 1\n",
            "total conflicts: 1\n"
          ]
        },
        {
          "output_type": "stream",
          "name": "stderr",
          "text": [
            "\n",
            "  0%|          | 0/1 [00:00<?, ?it/s]\u001b[A\n",
            "100%|██████████| 1/1 [01:15<00:00, 75.56s/it]\n"
          ]
        },
        {
          "output_type": "stream",
          "name": "stdout",
          "text": [
            "N: 23 --> 14\n",
            "R: 26 --> 14\n",
            "Chain score: 1.0000\n",
            "\n",
            " ---------------------------------------------------------------------------------------------------------------------------------------------------------------------------------------------------------------------------------------------------------------------------------------------------------------------------------------------------------------------------------------------------------------------------------------------------------------------------------------------------------------------------------------------------------------------------------------------------------------------------------------------------------------------------------------------------------------------------------------------------------------------------------------------------------------------------------------------------------------------------------------------------------------------------------------------------------------------------------------------------------------------------------------- \n",
            "\n",
            "/content/drive/MyDrive/FilteredNivkhTxt/50_nd/n.txt /content/drive/MyDrive/FilteredNivkhTxt/50_nd/r.txt\n",
            "Aligning without segments.\n",
            "tasks amount: 1\n",
            "batch: 0 (0)\n"
          ]
        },
        {
          "output_type": "stream",
          "name": "stderr",
          "text": [
            "WARNING:root:can not fetch index db\n"
          ]
        },
        {
          "output_type": "stream",
          "name": "stdout",
          "text": [
            "conflicts to solve: 2\n",
            "total conflicts: 3\n"
          ]
        },
        {
          "output_type": "stream",
          "name": "stderr",
          "text": [
            "\n",
            "  0%|          | 0/2 [00:00<?, ?it/s]\u001b[A\n",
            "100%|██████████| 2/2 [00:00<00:00, 13.56it/s]\n"
          ]
        },
        {
          "output_type": "stream",
          "name": "stdout",
          "text": [
            "conflicts to solve: 0\n",
            "total conflicts: 1\n"
          ]
        },
        {
          "output_type": "stream",
          "name": "stderr",
          "text": [
            "\n",
            "0it [00:00, ?it/s]\n"
          ]
        },
        {
          "output_type": "stream",
          "name": "stdout",
          "text": [
            "conflicts to solve: 0\n",
            "total conflicts: 1\n"
          ]
        },
        {
          "output_type": "stream",
          "name": "stderr",
          "text": [
            "\n",
            "0it [00:00, ?it/s]\n"
          ]
        },
        {
          "output_type": "stream",
          "name": "stdout",
          "text": [
            "conflicts to solve: 1\n",
            "total conflicts: 1\n"
          ]
        },
        {
          "output_type": "stream",
          "name": "stderr",
          "text": [
            "\n",
            "  0%|          | 0/1 [00:00<?, ?it/s]\u001b[A\n",
            "100%|██████████| 1/1 [00:10<00:00, 10.52s/it]\n"
          ]
        },
        {
          "output_type": "stream",
          "name": "stdout",
          "text": [
            "N: 33 --> 13\n",
            "R: 37 --> 13\n",
            "Chain score: 1.0000\n",
            "\n",
            " ---------------------------------------------------------------------------------------------------------------------------------------------------------------------------------------------------------------------------------------------------------------------------------------------------------------------------------------------------------------------------------------------------------------------------------------------------------------------------------------------------------------------------------------------------------------------------------------------------------------------------------------------------------------------------------------------------------------------------------------------------------------------------------------------------------------------------------------------------------------------------------------------------------------------------------------------------------------------------------------------------------------------------------------- \n",
            "\n",
            "/content/drive/MyDrive/FilteredNivkhTxt/a281_nd/n.txt /content/drive/MyDrive/FilteredNivkhTxt/a281_nd/r.txt\n"
          ]
        },
        {
          "output_type": "stream",
          "name": "stderr",
          "text": [
            "WARNING:root:can not fetch index db\n"
          ]
        },
        {
          "output_type": "stream",
          "name": "stdout",
          "text": [
            "Aligning without segments.\n",
            "tasks amount: 1\n",
            "batch: 0 (0)\n",
            "conflicts to solve: 3\n",
            "total conflicts: 4\n"
          ]
        },
        {
          "output_type": "stream",
          "name": "stderr",
          "text": [
            "\n",
            "  0%|          | 0/3 [00:00<?, ?it/s]\u001b[A\n",
            "100%|██████████| 3/3 [00:00<00:00, 15.99it/s]"
          ]
        },
        {
          "output_type": "stream",
          "name": "stdout",
          "text": [
            "conflicts to solve:"
          ]
        },
        {
          "output_type": "stream",
          "name": "stderr",
          "text": [
            "\n"
          ]
        },
        {
          "output_type": "stream",
          "name": "stdout",
          "text": [
            " 1\n",
            "total conflicts: 1\n"
          ]
        },
        {
          "output_type": "stream",
          "name": "stderr",
          "text": [
            "\n",
            "100%|██████████| 1/1 [00:00<00:00, 13.43it/s]\n"
          ]
        },
        {
          "output_type": "stream",
          "name": "stdout",
          "text": [
            "conflicts to solve: 0\n",
            "total conflicts: 0\n"
          ]
        },
        {
          "output_type": "stream",
          "name": "stderr",
          "text": [
            "\n",
            "0it [00:00, ?it/s]\n"
          ]
        },
        {
          "output_type": "stream",
          "name": "stdout",
          "text": [
            "N: 28 --> 8\n",
            "R: 23 --> 8\n",
            "Chain score: 0.8000\n",
            "\n",
            " ---------------------------------------------------------------------------------------------------------------------------------------------------------------------------------------------------------------------------------------------------------------------------------------------------------------------------------------------------------------------------------------------------------------------------------------------------------------------------------------------------------------------------------------------------------------------------------------------------------------------------------------------------------------------------------------------------------------------------------------------------------------------------------------------------------------------------------------------------------------------------------------------------------------------------------------------------------------------------------------------------------------------------------------- \n",
            "\n",
            "/content/drive/MyDrive/FilteredNivkhTxt/a291_nd/n.txt /content/drive/MyDrive/FilteredNivkhTxt/a291_nd/r.txt\n",
            "Aligning without segments.\n",
            "tasks amount: 1\n",
            "batch: 0 (0)\n"
          ]
        },
        {
          "output_type": "stream",
          "name": "stderr",
          "text": [
            "WARNING:root:can not fetch index db\n"
          ]
        },
        {
          "output_type": "stream",
          "name": "stdout",
          "text": [
            "conflicts to solve: 2\n",
            "total conflicts: 4\n"
          ]
        },
        {
          "output_type": "stream",
          "name": "stderr",
          "text": [
            "\n",
            "  0%|          | 0/2 [00:00<?, ?it/s]\u001b[A\n",
            "100%|██████████| 2/2 [00:00<00:00, 16.18it/s]\n"
          ]
        },
        {
          "output_type": "stream",
          "name": "stdout",
          "text": [
            "conflicts to solve: 2\n",
            "total conflicts: 2\n"
          ]
        },
        {
          "output_type": "stream",
          "name": "stderr",
          "text": [
            "\n",
            "  0%|          | 0/2 [00:00<?, ?it/s]\u001b[A\n",
            "100%|██████████| 2/2 [00:00<00:00,  8.03it/s]\n"
          ]
        },
        {
          "output_type": "stream",
          "name": "stdout",
          "text": [
            "conflicts to solve: 0\n",
            "total conflicts: 0\n"
          ]
        },
        {
          "output_type": "stream",
          "name": "stderr",
          "text": [
            "\n",
            "0it [00:00, ?it/s]\n"
          ]
        },
        {
          "output_type": "stream",
          "name": "stdout",
          "text": [
            "N: 27 --> 11\n",
            "R: 20 --> 11\n",
            "Chain score: 1.0000\n",
            "\n",
            " ---------------------------------------------------------------------------------------------------------------------------------------------------------------------------------------------------------------------------------------------------------------------------------------------------------------------------------------------------------------------------------------------------------------------------------------------------------------------------------------------------------------------------------------------------------------------------------------------------------------------------------------------------------------------------------------------------------------------------------------------------------------------------------------------------------------------------------------------------------------------------------------------------------------------------------------------------------------------------------------------------------------------------------------- \n",
            "\n",
            "/content/drive/MyDrive/FilteredNivkhTxt/a100_nd/n.txt /content/drive/MyDrive/FilteredNivkhTxt/a100_nd/r.txt\n"
          ]
        },
        {
          "output_type": "stream",
          "name": "stderr",
          "text": [
            "WARNING:root:can not fetch index db\n"
          ]
        },
        {
          "output_type": "stream",
          "name": "stdout",
          "text": [
            "Aligning without segments.\n",
            "tasks amount: 1\n",
            "batch: 0 (0)\n",
            "conflicts to solve: 2\n",
            "total conflicts: 2\n"
          ]
        },
        {
          "output_type": "stream",
          "name": "stderr",
          "text": [
            "\n",
            "  0%|          | 0/2 [00:00<?, ?it/s]\u001b[A\n",
            "100%|██████████| 2/2 [00:00<00:00, 15.17it/s]\n"
          ]
        },
        {
          "output_type": "stream",
          "name": "stdout",
          "text": [
            "conflicts to solve: 0\n",
            "total conflicts: 0\n"
          ]
        },
        {
          "output_type": "stream",
          "name": "stderr",
          "text": [
            "\n",
            "0it [00:00, ?it/s]\n"
          ]
        },
        {
          "output_type": "stream",
          "name": "stdout",
          "text": [
            "N: 12 --> 5\n",
            "R: 11 --> 5\n",
            "Chain score: 1.0000\n",
            "\n",
            " ---------------------------------------------------------------------------------------------------------------------------------------------------------------------------------------------------------------------------------------------------------------------------------------------------------------------------------------------------------------------------------------------------------------------------------------------------------------------------------------------------------------------------------------------------------------------------------------------------------------------------------------------------------------------------------------------------------------------------------------------------------------------------------------------------------------------------------------------------------------------------------------------------------------------------------------------------------------------------------------------------------------------------------------- \n",
            "\n",
            "/content/drive/MyDrive/FilteredNivkhTxt/a390_nd/n.txt /content/drive/MyDrive/FilteredNivkhTxt/a390_nd/r.txt\n",
            "Aligning without segments.\n",
            "tasks amount: 1\n",
            "batch: 0 (0)\n"
          ]
        },
        {
          "output_type": "stream",
          "name": "stderr",
          "text": [
            "WARNING:root:can not fetch index db\n"
          ]
        },
        {
          "output_type": "stream",
          "name": "stdout",
          "text": [
            "conflicts to solve: 0\n",
            "total conflicts: 1\n"
          ]
        },
        {
          "output_type": "stream",
          "name": "stderr",
          "text": [
            "\n",
            "0it [00:00, ?it/s]\n"
          ]
        },
        {
          "output_type": "stream",
          "name": "stdout",
          "text": [
            "conflicts to solve: 0\n",
            "total conflicts: 1\n"
          ]
        },
        {
          "output_type": "stream",
          "name": "stderr",
          "text": [
            "\n",
            "0it [00:00, ?it/s]\n"
          ]
        },
        {
          "output_type": "stream",
          "name": "stdout",
          "text": [
            "conflicts to solve: 0\n",
            "total conflicts: 1\n"
          ]
        },
        {
          "output_type": "stream",
          "name": "stderr",
          "text": [
            "\n",
            "0it [00:00, ?it/s]\n"
          ]
        },
        {
          "output_type": "stream",
          "name": "stdout",
          "text": [
            "conflicts to solve: 1\n",
            "total conflicts: 1\n"
          ]
        },
        {
          "output_type": "stream",
          "name": "stderr",
          "text": [
            "\n",
            "  0%|          | 0/1 [00:00<?, ?it/s]\u001b[A\n",
            "100%|██████████| 1/1 [00:01<00:00,  1.88s/it]\n"
          ]
        },
        {
          "output_type": "stream",
          "name": "stdout",
          "text": [
            "N: 19 --> 3\n",
            "R: 23 --> 3\n",
            "Chain score: 1.0000\n",
            "\n",
            " ---------------------------------------------------------------------------------------------------------------------------------------------------------------------------------------------------------------------------------------------------------------------------------------------------------------------------------------------------------------------------------------------------------------------------------------------------------------------------------------------------------------------------------------------------------------------------------------------------------------------------------------------------------------------------------------------------------------------------------------------------------------------------------------------------------------------------------------------------------------------------------------------------------------------------------------------------------------------------------------------------------------------------------------- \n",
            "\n",
            "/content/drive/MyDrive/FilteredNivkhTxt/a322_nd/n.txt /content/drive/MyDrive/FilteredNivkhTxt/a322_nd/r.txt\n"
          ]
        },
        {
          "output_type": "stream",
          "name": "stderr",
          "text": [
            "WARNING:root:can not fetch index db\n"
          ]
        },
        {
          "output_type": "stream",
          "name": "stdout",
          "text": [
            "Aligning without segments.\n",
            "tasks amount: 1\n",
            "batch: 0 (0)\n",
            "conflicts to solve: 3\n",
            "total conflicts: 3\n"
          ]
        },
        {
          "output_type": "stream",
          "name": "stderr",
          "text": [
            "\n",
            "  0%|          | 0/3 [00:00<?, ?it/s]\u001b[A\n",
            "100%|██████████| 3/3 [00:00<00:00, 14.75it/s]\n"
          ]
        },
        {
          "output_type": "stream",
          "name": "stdout",
          "text": [
            "conflicts to solve: 0\n",
            "total conflicts: 0\n"
          ]
        },
        {
          "output_type": "stream",
          "name": "stderr",
          "text": [
            "\n",
            "0it [00:00, ?it/s]\n"
          ]
        },
        {
          "output_type": "stream",
          "name": "stdout",
          "text": [
            "N: 12 --> 3\n",
            "R: 11 --> 3\n",
            "Chain score: 1.0000\n",
            "\n",
            " ---------------------------------------------------------------------------------------------------------------------------------------------------------------------------------------------------------------------------------------------------------------------------------------------------------------------------------------------------------------------------------------------------------------------------------------------------------------------------------------------------------------------------------------------------------------------------------------------------------------------------------------------------------------------------------------------------------------------------------------------------------------------------------------------------------------------------------------------------------------------------------------------------------------------------------------------------------------------------------------------------------------------------------------- \n",
            "\n",
            "/content/drive/MyDrive/FilteredNivkhTxt/a316_nd/n.txt /content/drive/MyDrive/FilteredNivkhTxt/a316_nd/r.txt\n"
          ]
        },
        {
          "output_type": "stream",
          "name": "stderr",
          "text": [
            "WARNING:root:can not fetch index db\n"
          ]
        },
        {
          "output_type": "stream",
          "name": "stdout",
          "text": [
            "Aligning without segments.\n",
            "tasks amount: 1\n",
            "batch: 0 (0)\n",
            "conflicts to solve: 0\n",
            "total conflicts: 1\n"
          ]
        },
        {
          "output_type": "stream",
          "name": "stderr",
          "text": [
            "\n",
            "0it [00:00, ?it/s]\n"
          ]
        },
        {
          "output_type": "stream",
          "name": "stdout",
          "text": [
            "conflicts to solve: 1\n",
            "total conflicts: 1\n"
          ]
        },
        {
          "output_type": "stream",
          "name": "stderr",
          "text": [
            "\n",
            "100%|██████████| 1/1 [00:00<00:00, 10.50it/s]\n"
          ]
        },
        {
          "output_type": "stream",
          "name": "stdout",
          "text": [
            "conflicts to solve: 0\n",
            "total conflicts: 0\n"
          ]
        },
        {
          "output_type": "stream",
          "name": "stderr",
          "text": [
            "\n",
            "0it [00:00, ?it/s]\n"
          ]
        },
        {
          "output_type": "stream",
          "name": "stdout",
          "text": [
            "Error in /content/drive/MyDrive/FilteredNivkhTxt/a316_nd: not enough values to unpack (expected 2, got 0)\n",
            "\n",
            " ---------------------------------------------------------------------------------------------------------------------------------------------------------------------------------------------------------------------------------------------------------------------------------------------------------------------------------------------------------------------------------------------------------------------------------------------------------------------------------------------------------------------------------------------------------------------------------------------------------------------------------------------------------------------------------------------------------------------------------------------------------------------------------------------------------------------------------------------------------------------------------------------------------------------------------------------------------------------------------------------------------------------------------------- \n",
            "\n",
            "/content/drive/MyDrive/FilteredNivkhTxt/a256_nd/n.txt /content/drive/MyDrive/FilteredNivkhTxt/a256_nd/r.txt\n",
            "Aligning without segments.\n",
            "tasks amount: 1\n",
            "batch: 0 (0)\n"
          ]
        },
        {
          "output_type": "stream",
          "name": "stderr",
          "text": [
            "WARNING:root:can not fetch index db\n"
          ]
        },
        {
          "output_type": "stream",
          "name": "stdout",
          "text": [
            "conflicts to solve: 0\n",
            "total conflicts: 0\n"
          ]
        },
        {
          "output_type": "stream",
          "name": "stderr",
          "text": [
            "\n",
            "0it [00:00, ?it/s]\n"
          ]
        },
        {
          "output_type": "stream",
          "name": "stdout",
          "text": [
            "conflicts to solve: 0\n",
            "total conflicts: 0\n"
          ]
        },
        {
          "output_type": "stream",
          "name": "stderr",
          "text": [
            "\n",
            "0it [00:00, ?it/s]\n"
          ]
        },
        {
          "output_type": "stream",
          "name": "stdout",
          "text": [
            "N: 15 --> 3\n",
            "R: 30 --> 3\n",
            "Chain score: 0.0714\n",
            "Skipping saving due to low chain_score: 0.0714\n",
            "\n",
            " ---------------------------------------------------------------------------------------------------------------------------------------------------------------------------------------------------------------------------------------------------------------------------------------------------------------------------------------------------------------------------------------------------------------------------------------------------------------------------------------------------------------------------------------------------------------------------------------------------------------------------------------------------------------------------------------------------------------------------------------------------------------------------------------------------------------------------------------------------------------------------------------------------------------------------------------------------------------------------------------------------------------------------------------- \n",
            "\n",
            "/content/drive/MyDrive/FilteredNivkhTxt/a347_nd/n.txt /content/drive/MyDrive/FilteredNivkhTxt/a347_nd/r.txt\n",
            "Aligning without segments.\n",
            "tasks amount: 1\n",
            "batch: 0 (0)\n"
          ]
        },
        {
          "output_type": "stream",
          "name": "stderr",
          "text": [
            "WARNING:root:can not fetch index db\n"
          ]
        },
        {
          "output_type": "stream",
          "name": "stdout",
          "text": [
            "conflicts to solve: 4\n",
            "total conflicts: 5\n"
          ]
        },
        {
          "output_type": "stream",
          "name": "stderr",
          "text": [
            "\n",
            "  0%|          | 0/4 [00:00<?, ?it/s]\u001b[A\n",
            " 25%|██▌       | 1/4 [00:00<00:00,  6.79it/s]\u001b[A\n",
            " 50%|█████     | 2/4 [00:00<00:00,  6.77it/s]\u001b[A\n",
            "100%|██████████| 4/4 [00:00<00:00,  7.67it/s]\n"
          ]
        },
        {
          "output_type": "stream",
          "name": "stdout",
          "text": [
            "conflicts to solve: 0\n",
            "total conflicts: 0\n"
          ]
        },
        {
          "output_type": "stream",
          "name": "stderr",
          "text": [
            "\n",
            "0it [00:00, ?it/s]\n"
          ]
        },
        {
          "output_type": "stream",
          "name": "stdout",
          "text": [
            "conflicts to solve: 1\n",
            "total conflicts: 1\n"
          ]
        },
        {
          "output_type": "stream",
          "name": "stderr",
          "text": [
            "\n",
            "  0%|          | 0/1 [00:00<?, ?it/s]\u001b[A\n",
            "100%|██████████| 1/1 [00:01<00:00,  1.26s/it]\n"
          ]
        },
        {
          "output_type": "stream",
          "name": "stdout",
          "text": [
            "N: 46 --> 15\n",
            "R: 43 --> 15\n",
            "Chain score: 0.9070\n",
            "\n",
            " ---------------------------------------------------------------------------------------------------------------------------------------------------------------------------------------------------------------------------------------------------------------------------------------------------------------------------------------------------------------------------------------------------------------------------------------------------------------------------------------------------------------------------------------------------------------------------------------------------------------------------------------------------------------------------------------------------------------------------------------------------------------------------------------------------------------------------------------------------------------------------------------------------------------------------------------------------------------------------------------------------------------------------------------- \n",
            "\n",
            "/content/drive/MyDrive/FilteredNivkhTxt/a262_nd/n.txt /content/drive/MyDrive/FilteredNivkhTxt/a262_nd/r.txt\n"
          ]
        },
        {
          "output_type": "stream",
          "name": "stderr",
          "text": [
            "WARNING:root:can not fetch index db\n"
          ]
        },
        {
          "output_type": "stream",
          "name": "stdout",
          "text": [
            "Aligning without segments.\n",
            "tasks amount: 1\n",
            "batch: 0 (0)\n",
            "conflicts to solve: 0\n",
            "total conflicts: 0\n"
          ]
        },
        {
          "output_type": "stream",
          "name": "stderr",
          "text": [
            "\n",
            "0it [00:00, ?it/s]\n"
          ]
        },
        {
          "output_type": "stream",
          "name": "stdout",
          "text": [
            "conflicts to solve: 0\n",
            "total conflicts: 0\n"
          ]
        },
        {
          "output_type": "stream",
          "name": "stderr",
          "text": [
            "\n",
            "0it [00:00, ?it/s]\n"
          ]
        },
        {
          "output_type": "stream",
          "name": "stdout",
          "text": [
            "N: 16 --> 5\n",
            "R: 19 --> 5\n",
            "Chain score: 0.0667\n",
            "Skipping saving due to low chain_score: 0.0667\n",
            "\n",
            " ---------------------------------------------------------------------------------------------------------------------------------------------------------------------------------------------------------------------------------------------------------------------------------------------------------------------------------------------------------------------------------------------------------------------------------------------------------------------------------------------------------------------------------------------------------------------------------------------------------------------------------------------------------------------------------------------------------------------------------------------------------------------------------------------------------------------------------------------------------------------------------------------------------------------------------------------------------------------------------------------------------------------------------------- \n",
            "\n",
            "/content/drive/MyDrive/FilteredNivkhTxt/87_nd/n.txt /content/drive/MyDrive/FilteredNivkhTxt/87_nd/r.txt\n",
            "Aligning without segments.\n",
            "tasks amount: 1\n",
            "batch: 0 (0)\n"
          ]
        },
        {
          "output_type": "stream",
          "name": "stderr",
          "text": [
            "WARNING:root:can not fetch index db\n"
          ]
        },
        {
          "output_type": "stream",
          "name": "stdout",
          "text": [
            "conflicts to solve: 3\n",
            "total conflicts: 4\n"
          ]
        },
        {
          "output_type": "stream",
          "name": "stderr",
          "text": [
            "\n",
            "  0%|          | 0/3 [00:00<?, ?it/s]\u001b[A\n",
            "100%|██████████| 3/3 [00:00<00:00,  8.59it/s]\n"
          ]
        },
        {
          "output_type": "stream",
          "name": "stdout",
          "text": [
            "conflicts to solve: 0\n",
            "total conflicts: 1\n"
          ]
        },
        {
          "output_type": "stream",
          "name": "stderr",
          "text": [
            "\n",
            "0it [00:00, ?it/s]\n"
          ]
        },
        {
          "output_type": "stream",
          "name": "stdout",
          "text": [
            "conflicts to solve: 0\n",
            "total conflicts: 1\n"
          ]
        },
        {
          "output_type": "stream",
          "name": "stderr",
          "text": [
            "\n",
            "0it [00:00, ?it/s]\n"
          ]
        },
        {
          "output_type": "stream",
          "name": "stdout",
          "text": [
            "conflicts to solve: 1\n",
            "total conflicts: 1\n"
          ]
        },
        {
          "output_type": "stream",
          "name": "stderr",
          "text": [
            "\n",
            "  0%|          | 0/1 [00:00<?, ?it/s]\u001b[A\n",
            "100%|██████████| 1/1 [00:10<00:00, 10.18s/it]\n"
          ]
        },
        {
          "output_type": "stream",
          "name": "stdout",
          "text": [
            "N: 39 --> 12\n",
            "R: 38 --> 12\n",
            "Chain score: 1.0000\n",
            "\n",
            " ---------------------------------------------------------------------------------------------------------------------------------------------------------------------------------------------------------------------------------------------------------------------------------------------------------------------------------------------------------------------------------------------------------------------------------------------------------------------------------------------------------------------------------------------------------------------------------------------------------------------------------------------------------------------------------------------------------------------------------------------------------------------------------------------------------------------------------------------------------------------------------------------------------------------------------------------------------------------------------------------------------------------------------------- \n",
            "\n",
            "/content/drive/MyDrive/FilteredNivkhTxt/74_nd/n.txt /content/drive/MyDrive/FilteredNivkhTxt/74_nd/r.txt\n",
            "Aligning without segments.\n",
            "tasks amount: 1\n",
            "batch: 0 (0)\n"
          ]
        },
        {
          "output_type": "stream",
          "name": "stderr",
          "text": [
            "WARNING:root:can not fetch index db\n"
          ]
        },
        {
          "output_type": "stream",
          "name": "stdout",
          "text": [
            "conflicts to solve: 0\n",
            "total conflicts: 3\n"
          ]
        },
        {
          "output_type": "stream",
          "name": "stderr",
          "text": [
            "\n",
            "0it [00:00, ?it/s]\n"
          ]
        },
        {
          "output_type": "stream",
          "name": "stdout",
          "text": [
            "conflicts to solve: 3\n",
            "total conflicts: 3\n"
          ]
        },
        {
          "output_type": "stream",
          "name": "stderr",
          "text": [
            "\n",
            "  0%|          | 0/3 [00:00<?, ?it/s]\u001b[A\n",
            " 33%|███▎      | 1/3 [00:00<00:00,  8.06it/s]\u001b[A\n",
            "100%|██████████| 3/3 [00:00<00:00,  8.13it/s]\n"
          ]
        },
        {
          "output_type": "stream",
          "name": "stdout",
          "text": [
            "conflicts to solve: 0\n",
            "total conflicts: 0\n"
          ]
        },
        {
          "output_type": "stream",
          "name": "stderr",
          "text": [
            "\n",
            "0it [00:00, ?it/s]\n"
          ]
        },
        {
          "output_type": "stream",
          "name": "stdout",
          "text": [
            "N: 32 --> 10\n",
            "R: 32 --> 10\n",
            "Chain score: 1.0000\n",
            "\n",
            " ---------------------------------------------------------------------------------------------------------------------------------------------------------------------------------------------------------------------------------------------------------------------------------------------------------------------------------------------------------------------------------------------------------------------------------------------------------------------------------------------------------------------------------------------------------------------------------------------------------------------------------------------------------------------------------------------------------------------------------------------------------------------------------------------------------------------------------------------------------------------------------------------------------------------------------------------------------------------------------------------------------------------------------------- \n",
            "\n",
            "/content/drive/MyDrive/FilteredNivkhTxt/a458_nd/n.txt /content/drive/MyDrive/FilteredNivkhTxt/a458_nd/r.txt\n"
          ]
        },
        {
          "output_type": "stream",
          "name": "stderr",
          "text": [
            "WARNING:root:can not fetch index db\n"
          ]
        },
        {
          "output_type": "stream",
          "name": "stdout",
          "text": [
            "Aligning without segments.\n",
            "tasks amount: 1\n",
            "batch: 0 (0)\n",
            "conflicts to solve: 3\n",
            "total conflicts: 3\n"
          ]
        },
        {
          "output_type": "stream",
          "name": "stderr",
          "text": [
            "\n",
            "  0%|          | 0/3 [00:00<?, ?it/s]\u001b[A\n",
            "100%|██████████| 3/3 [00:00<00:00, 14.22it/s]\n"
          ]
        },
        {
          "output_type": "stream",
          "name": "stdout",
          "text": [
            "conflicts to solve: 0\n",
            "total conflicts: 0\n"
          ]
        },
        {
          "output_type": "stream",
          "name": "stderr",
          "text": [
            "\n",
            "0it [00:00, ?it/s]\n"
          ]
        },
        {
          "output_type": "stream",
          "name": "stdout",
          "text": [
            "N: 17 --> 10\n",
            "R: 16 --> 10\n",
            "Chain score: 1.0000\n",
            "\n",
            " ---------------------------------------------------------------------------------------------------------------------------------------------------------------------------------------------------------------------------------------------------------------------------------------------------------------------------------------------------------------------------------------------------------------------------------------------------------------------------------------------------------------------------------------------------------------------------------------------------------------------------------------------------------------------------------------------------------------------------------------------------------------------------------------------------------------------------------------------------------------------------------------------------------------------------------------------------------------------------------------------------------------------------------------- \n",
            "\n",
            "/content/drive/MyDrive/FilteredNivkhTxt/a373_nd/n.txt /content/drive/MyDrive/FilteredNivkhTxt/a373_nd/r.txt\n"
          ]
        },
        {
          "output_type": "stream",
          "name": "stderr",
          "text": [
            "WARNING:root:can not fetch index db\n"
          ]
        },
        {
          "output_type": "stream",
          "name": "stdout",
          "text": [
            "Aligning without segments.\n",
            "tasks amount: 1\n",
            "batch: 0 (0)\n",
            "conflicts to solve: 0\n",
            "total conflicts: 1\n"
          ]
        },
        {
          "output_type": "stream",
          "name": "stderr",
          "text": [
            "\n",
            "0it [00:00, ?it/s]\n"
          ]
        },
        {
          "output_type": "stream",
          "name": "stdout",
          "text": [
            "conflicts to solve: 0\n",
            "total conflicts: 0\n"
          ]
        },
        {
          "output_type": "stream",
          "name": "stderr",
          "text": [
            "\n",
            "0it [00:00, ?it/s]\n"
          ]
        },
        {
          "output_type": "stream",
          "name": "stdout",
          "text": [
            "conflicts to solve: 1\n",
            "total conflicts: 1\n"
          ]
        },
        {
          "output_type": "stream",
          "name": "stderr",
          "text": [
            "\n",
            "  0%|          | 0/1 [00:00<?, ?it/s]\u001b[A\n",
            "100%|██████████| 1/1 [00:00<00:00,  2.47it/s]\n"
          ]
        },
        {
          "output_type": "stream",
          "name": "stdout",
          "text": [
            "N: 12 --> 2\n",
            "R: 9 --> 2\n",
            "Chain score: 0.9000\n",
            "\n",
            " ---------------------------------------------------------------------------------------------------------------------------------------------------------------------------------------------------------------------------------------------------------------------------------------------------------------------------------------------------------------------------------------------------------------------------------------------------------------------------------------------------------------------------------------------------------------------------------------------------------------------------------------------------------------------------------------------------------------------------------------------------------------------------------------------------------------------------------------------------------------------------------------------------------------------------------------------------------------------------------------------------------------------------------------- \n",
            "\n",
            "/content/drive/MyDrive/FilteredNivkhTxt/a165_bible/n_am.txt /content/drive/MyDrive/FilteredNivkhTxt/a165_bible/r.txt\n",
            "Aligning without segments.\n",
            "tasks amount: 1\n",
            "batch: 0 (0)\n"
          ]
        },
        {
          "output_type": "stream",
          "name": "stderr",
          "text": [
            "WARNING:root:can not fetch index db\n"
          ]
        },
        {
          "output_type": "stream",
          "name": "stdout",
          "text": [
            "conflicts to solve: 4\n",
            "total conflicts: 8\n"
          ]
        },
        {
          "output_type": "stream",
          "name": "stderr",
          "text": [
            "\n",
            "  0%|          | 0/4 [00:00<?, ?it/s]\u001b[A\n",
            " 50%|█████     | 2/4 [00:00<00:00, 16.96it/s]\u001b[A\n",
            "100%|██████████| 4/4 [00:00<00:00, 16.60it/s]\n"
          ]
        },
        {
          "output_type": "stream",
          "name": "stdout",
          "text": [
            "conflicts to solve: 3\n",
            "total conflicts: 3\n"
          ]
        },
        {
          "output_type": "stream",
          "name": "stderr",
          "text": [
            "\n",
            "  0%|          | 0/3 [00:00<?, ?it/s]\u001b[A\n",
            " 33%|███▎      | 1/3 [00:00<00:00,  5.41it/s]\u001b[A\n",
            "100%|██████████| 3/3 [00:00<00:00,  3.77it/s]\n"
          ]
        },
        {
          "output_type": "stream",
          "name": "stdout",
          "text": [
            "conflicts to solve: 0\n",
            "total conflicts: 1\n"
          ]
        },
        {
          "output_type": "stream",
          "name": "stderr",
          "text": [
            "\n",
            "0it [00:00, ?it/s]\n"
          ]
        },
        {
          "output_type": "stream",
          "name": "stdout",
          "text": [
            "N: 49 --> 28\n",
            "R: 41 --> 28\n",
            "Chain score: 0.9762\n",
            "\n",
            " ---------------------------------------------------------------------------------------------------------------------------------------------------------------------------------------------------------------------------------------------------------------------------------------------------------------------------------------------------------------------------------------------------------------------------------------------------------------------------------------------------------------------------------------------------------------------------------------------------------------------------------------------------------------------------------------------------------------------------------------------------------------------------------------------------------------------------------------------------------------------------------------------------------------------------------------------------------------------------------------------------------------------------------------- \n",
            "\n",
            "/content/drive/MyDrive/FilteredNivkhTxt/a285_nd/n.txt /content/drive/MyDrive/FilteredNivkhTxt/a285_nd/r.txt\n"
          ]
        },
        {
          "output_type": "stream",
          "name": "stderr",
          "text": [
            "WARNING:root:can not fetch index db\n"
          ]
        },
        {
          "output_type": "stream",
          "name": "stdout",
          "text": [
            "Aligning without segments.\n",
            "tasks amount: 1\n",
            "batch: 0 (0)\n",
            "conflicts to solve: 3\n",
            "total conflicts: 4\n"
          ]
        },
        {
          "output_type": "stream",
          "name": "stderr",
          "text": [
            "\n",
            "  0%|          | 0/3 [00:00<?, ?it/s]\u001b[A\n",
            "100%|██████████| 3/3 [00:00<00:00, 10.32it/s]\n"
          ]
        },
        {
          "output_type": "stream",
          "name": "stdout",
          "text": [
            "conflicts to solve: 1\n",
            "total conflicts: 1\n"
          ]
        },
        {
          "output_type": "stream",
          "name": "stderr",
          "text": [
            "\n",
            "  0%|          | 0/1 [00:00<?, ?it/s]\u001b[A\n",
            "100%|██████████| 1/1 [00:00<00:00,  4.19it/s]\n"
          ]
        },
        {
          "output_type": "stream",
          "name": "stdout",
          "text": [
            "conflicts to solve: 0\n",
            "total conflicts: 0\n"
          ]
        },
        {
          "output_type": "stream",
          "name": "stderr",
          "text": [
            "\n",
            "0it [00:00, ?it/s]\n"
          ]
        },
        {
          "output_type": "stream",
          "name": "stdout",
          "text": [
            "N: 20 --> 8\n",
            "R: 18 --> 8\n",
            "Chain score: 1.0000\n",
            "\n",
            " ---------------------------------------------------------------------------------------------------------------------------------------------------------------------------------------------------------------------------------------------------------------------------------------------------------------------------------------------------------------------------------------------------------------------------------------------------------------------------------------------------------------------------------------------------------------------------------------------------------------------------------------------------------------------------------------------------------------------------------------------------------------------------------------------------------------------------------------------------------------------------------------------------------------------------------------------------------------------------------------------------------------------------------------- \n",
            "\n",
            "/content/drive/MyDrive/FilteredNivkhTxt/a394_nd/n.txt /content/drive/MyDrive/FilteredNivkhTxt/a394_nd/r.txt\n"
          ]
        },
        {
          "output_type": "stream",
          "name": "stderr",
          "text": [
            "WARNING:root:can not fetch index db\n"
          ]
        },
        {
          "output_type": "stream",
          "name": "stdout",
          "text": [
            "Aligning without segments.\n",
            "tasks amount: 1\n",
            "batch: 0 (0)\n",
            "conflicts to solve: 2\n",
            "total conflicts: 4\n"
          ]
        },
        {
          "output_type": "stream",
          "name": "stderr",
          "text": [
            "\n",
            "  0%|          | 0/2 [00:00<?, ?it/s]\u001b[A\n",
            "100%|██████████| 2/2 [00:00<00:00, 12.01it/s]\n"
          ]
        },
        {
          "output_type": "stream",
          "name": "stdout",
          "text": [
            "conflicts to solve: 1\n",
            "total conflicts: 2\n"
          ]
        },
        {
          "output_type": "stream",
          "name": "stderr",
          "text": [
            "\n",
            "  0%|          | 0/1 [00:00<?, ?it/s]\u001b[A\n",
            "100%|██████████| 1/1 [00:00<00:00,  1.25it/s]\n"
          ]
        },
        {
          "output_type": "stream",
          "name": "stdout",
          "text": [
            "conflicts to solve: 0\n",
            "total conflicts: 1\n"
          ]
        },
        {
          "output_type": "stream",
          "name": "stderr",
          "text": [
            "\n",
            "0it [00:00, ?it/s]\n"
          ]
        },
        {
          "output_type": "stream",
          "name": "stdout",
          "text": [
            "conflicts to solve: 0\n",
            "total conflicts: 1\n"
          ]
        },
        {
          "output_type": "stream",
          "name": "stderr",
          "text": [
            "\n",
            "0it [00:00, ?it/s]\n"
          ]
        },
        {
          "output_type": "stream",
          "name": "stdout",
          "text": [
            "N: 32 --> 3\n",
            "R: 18 --> 3\n",
            "Chain score: 0.7391\n",
            "\n",
            " ---------------------------------------------------------------------------------------------------------------------------------------------------------------------------------------------------------------------------------------------------------------------------------------------------------------------------------------------------------------------------------------------------------------------------------------------------------------------------------------------------------------------------------------------------------------------------------------------------------------------------------------------------------------------------------------------------------------------------------------------------------------------------------------------------------------------------------------------------------------------------------------------------------------------------------------------------------------------------------------------------------------------------------------- \n",
            "\n",
            "/content/drive/MyDrive/FilteredNivkhTxt/a336_nd/n.txt /content/drive/MyDrive/FilteredNivkhTxt/a336_nd/r.txt\n"
          ]
        },
        {
          "output_type": "stream",
          "name": "stderr",
          "text": [
            "WARNING:root:can not fetch index db\n"
          ]
        },
        {
          "output_type": "stream",
          "name": "stdout",
          "text": [
            "Aligning without segments.\n",
            "tasks amount: 1\n",
            "batch: 0 (0)\n",
            "conflicts to solve: 1\n",
            "total conflicts: 1\n"
          ]
        },
        {
          "output_type": "stream",
          "name": "stderr",
          "text": [
            "\n",
            "  0%|          | 0/1 [00:00<?, ?it/s]\u001b[A\n",
            "100%|██████████| 1/1 [00:00<00:00,  7.58it/s]\n"
          ]
        },
        {
          "output_type": "stream",
          "name": "stdout",
          "text": [
            "conflicts to solve: 0\n",
            "total conflicts: 0\n"
          ]
        },
        {
          "output_type": "stream",
          "name": "stderr",
          "text": [
            "\n",
            "0it [00:00, ?it/s]\n"
          ]
        },
        {
          "output_type": "stream",
          "name": "stdout",
          "text": [
            "N: 12 --> 5\n",
            "R: 9 --> 5\n",
            "Chain score: 0.7000\n",
            "\n",
            " ---------------------------------------------------------------------------------------------------------------------------------------------------------------------------------------------------------------------------------------------------------------------------------------------------------------------------------------------------------------------------------------------------------------------------------------------------------------------------------------------------------------------------------------------------------------------------------------------------------------------------------------------------------------------------------------------------------------------------------------------------------------------------------------------------------------------------------------------------------------------------------------------------------------------------------------------------------------------------------------------------------------------------------------- \n",
            "\n",
            "/content/drive/MyDrive/FilteredNivkhTxt/a409_nd/n.txt /content/drive/MyDrive/FilteredNivkhTxt/a409_nd/r.txt\n"
          ]
        },
        {
          "output_type": "stream",
          "name": "stderr",
          "text": [
            "WARNING:root:can not fetch index db\n"
          ]
        },
        {
          "output_type": "stream",
          "name": "stdout",
          "text": [
            "Aligning without segments.\n",
            "tasks amount: 1\n",
            "batch: 0 (0)\n",
            "conflicts to solve: 3\n",
            "total conflicts: 3\n"
          ]
        },
        {
          "output_type": "stream",
          "name": "stderr",
          "text": [
            "\n",
            "  0%|          | 0/3 [00:00<?, ?it/s]\u001b[A\n",
            " 33%|███▎      | 1/3 [00:00<00:00,  8.81it/s]\u001b[A\n",
            "100%|██████████| 3/3 [00:00<00:00,  9.48it/s]\n"
          ]
        },
        {
          "output_type": "stream",
          "name": "stdout",
          "text": [
            "conflicts to solve: 0\n",
            "total conflicts: 0\n"
          ]
        },
        {
          "output_type": "stream",
          "name": "stderr",
          "text": [
            "\n",
            "0it [00:00, ?it/s]\n"
          ]
        },
        {
          "output_type": "stream",
          "name": "stdout",
          "text": [
            "N: 15 --> 6\n",
            "R: 12 --> 6\n",
            "Chain score: 1.0000\n",
            "\n",
            " ---------------------------------------------------------------------------------------------------------------------------------------------------------------------------------------------------------------------------------------------------------------------------------------------------------------------------------------------------------------------------------------------------------------------------------------------------------------------------------------------------------------------------------------------------------------------------------------------------------------------------------------------------------------------------------------------------------------------------------------------------------------------------------------------------------------------------------------------------------------------------------------------------------------------------------------------------------------------------------------------------------------------------------------- \n",
            "\n",
            "/content/drive/MyDrive/FilteredNivkhTxt/a167_bible/n_am.txt /content/drive/MyDrive/FilteredNivkhTxt/a167_bible/r.txt\n"
          ]
        },
        {
          "output_type": "stream",
          "name": "stderr",
          "text": [
            "WARNING:root:can not fetch index db\n"
          ]
        },
        {
          "output_type": "stream",
          "name": "stdout",
          "text": [
            "Aligning without segments.\n",
            "tasks amount: 1\n",
            "batch: 0 (0)\n",
            "conflicts to solve: 3\n",
            "total conflicts: 3\n"
          ]
        },
        {
          "output_type": "stream",
          "name": "stderr",
          "text": [
            "\n",
            "  0%|          | 0/3 [00:00<?, ?it/s]\u001b[A\n",
            "100%|██████████| 3/3 [00:00<00:00, 15.23it/s]\n"
          ]
        },
        {
          "output_type": "stream",
          "name": "stdout",
          "text": [
            "conflicts to solve: 0\n",
            "total conflicts: 0\n"
          ]
        },
        {
          "output_type": "stream",
          "name": "stderr",
          "text": [
            "\n",
            "0it [00:00, ?it/s]\n"
          ]
        },
        {
          "output_type": "stream",
          "name": "stdout",
          "text": [
            "N: 21 --> 17\n",
            "R: 21 --> 17\n",
            "Chain score: 0.8095\n",
            "\n",
            " ---------------------------------------------------------------------------------------------------------------------------------------------------------------------------------------------------------------------------------------------------------------------------------------------------------------------------------------------------------------------------------------------------------------------------------------------------------------------------------------------------------------------------------------------------------------------------------------------------------------------------------------------------------------------------------------------------------------------------------------------------------------------------------------------------------------------------------------------------------------------------------------------------------------------------------------------------------------------------------------------------------------------------------------- \n",
            "\n",
            "/content/drive/MyDrive/FilteredNivkhTxt/a276_nd/n.txt /content/drive/MyDrive/FilteredNivkhTxt/a276_nd/r.txt\n"
          ]
        },
        {
          "output_type": "stream",
          "name": "stderr",
          "text": [
            "WARNING:root:can not fetch index db\n"
          ]
        },
        {
          "output_type": "stream",
          "name": "stdout",
          "text": [
            "Aligning without segments.\n",
            "tasks amount: 1\n",
            "batch: 0 (0)\n",
            "conflicts to solve: 2\n",
            "total conflicts: 2\n"
          ]
        },
        {
          "output_type": "stream",
          "name": "stderr",
          "text": [
            "\n",
            "  0%|          | 0/2 [00:00<?, ?it/s]\u001b[A\n",
            "100%|██████████| 2/2 [00:00<00:00, 15.74it/s]\n"
          ]
        },
        {
          "output_type": "stream",
          "name": "stdout",
          "text": [
            "conflicts to solve: 0\n",
            "total conflicts: 0\n"
          ]
        },
        {
          "output_type": "stream",
          "name": "stderr",
          "text": [
            "\n",
            "0it [00:00, ?it/s]\n"
          ]
        },
        {
          "output_type": "stream",
          "name": "stdout",
          "text": [
            "N: 16 --> 3\n",
            "R: 13 --> 3\n",
            "Chain score: 0.4667\n",
            "Skipping saving due to low chain_score: 0.4667\n",
            "\n",
            " ---------------------------------------------------------------------------------------------------------------------------------------------------------------------------------------------------------------------------------------------------------------------------------------------------------------------------------------------------------------------------------------------------------------------------------------------------------------------------------------------------------------------------------------------------------------------------------------------------------------------------------------------------------------------------------------------------------------------------------------------------------------------------------------------------------------------------------------------------------------------------------------------------------------------------------------------------------------------------------------------------------------------------------------- \n",
            "\n",
            "/content/drive/MyDrive/FilteredNivkhTxt/a367_nd/n.txt /content/drive/MyDrive/FilteredNivkhTxt/a367_nd/r.txt\n"
          ]
        },
        {
          "output_type": "stream",
          "name": "stderr",
          "text": [
            "WARNING:root:can not fetch index db\n"
          ]
        },
        {
          "output_type": "stream",
          "name": "stdout",
          "text": [
            "Aligning without segments.\n",
            "tasks amount: 1\n",
            "batch: 0 (0)\n",
            "conflicts to solve: 0\n",
            "total conflicts: 2\n"
          ]
        },
        {
          "output_type": "stream",
          "name": "stderr",
          "text": [
            "\n",
            "0it [00:00, ?it/s]\n"
          ]
        },
        {
          "output_type": "stream",
          "name": "stdout",
          "text": [
            "conflicts to solve: 2\n",
            "total conflicts: 2\n"
          ]
        },
        {
          "output_type": "stream",
          "name": "stderr",
          "text": [
            "\n",
            "  0%|          | 0/2 [00:00<?, ?it/s]\u001b[A\n",
            "100%|██████████| 2/2 [00:00<00:00,  7.24it/s]\n"
          ]
        },
        {
          "output_type": "stream",
          "name": "stdout",
          "text": [
            "conflicts to solve: 0\n",
            "total conflicts: 0\n"
          ]
        },
        {
          "output_type": "stream",
          "name": "stderr",
          "text": [
            "\n",
            "0it [00:00, ?it/s]\n"
          ]
        },
        {
          "output_type": "stream",
          "name": "stdout",
          "text": [
            "N: 19 --> 1\n",
            "R: 18 --> 1\n",
            "Chain score: 1.0000\n",
            "\n",
            " ---------------------------------------------------------------------------------------------------------------------------------------------------------------------------------------------------------------------------------------------------------------------------------------------------------------------------------------------------------------------------------------------------------------------------------------------------------------------------------------------------------------------------------------------------------------------------------------------------------------------------------------------------------------------------------------------------------------------------------------------------------------------------------------------------------------------------------------------------------------------------------------------------------------------------------------------------------------------------------------------------------------------------------------- \n",
            "\n",
            "/content/drive/MyDrive/FilteredNivkhTxt/33_sng/n.txt /content/drive/MyDrive/FilteredNivkhTxt/33_sng/r.txt\n"
          ]
        },
        {
          "output_type": "stream",
          "name": "stderr",
          "text": [
            "WARNING:root:can not fetch index db\n"
          ]
        },
        {
          "output_type": "stream",
          "name": "stdout",
          "text": [
            "Aligning without segments.\n",
            "tasks amount: 1\n",
            "batch: 0 (0)\n",
            "conflicts to solve: 0\n",
            "total conflicts: 1\n"
          ]
        },
        {
          "output_type": "stream",
          "name": "stderr",
          "text": [
            "\n",
            "0it [00:00, ?it/s]\n"
          ]
        },
        {
          "output_type": "stream",
          "name": "stdout",
          "text": [
            "conflicts to solve: 0\n",
            "total conflicts: 1\n"
          ]
        },
        {
          "output_type": "stream",
          "name": "stderr",
          "text": [
            "\n",
            "0it [00:00, ?it/s]\n"
          ]
        },
        {
          "output_type": "stream",
          "name": "stdout",
          "text": [
            "conflicts to solve: 1\n",
            "total conflicts: 1\n"
          ]
        },
        {
          "output_type": "stream",
          "name": "stderr",
          "text": [
            "\n",
            "  0%|          | 0/1 [00:00<?, ?it/s]\u001b[A\n",
            "100%|██████████| 1/1 [00:00<00:00,  1.99it/s]\n"
          ]
        },
        {
          "output_type": "stream",
          "name": "stdout",
          "text": [
            "conflicts to solve: 0\n",
            "total conflicts: 0\n"
          ]
        },
        {
          "output_type": "stream",
          "name": "stderr",
          "text": [
            "\n",
            "0it [00:00, ?it/s]\n"
          ]
        },
        {
          "output_type": "stream",
          "name": "stdout",
          "text": [
            "N: 10 --> 4\n",
            "R: 13 --> 4\n",
            "Chain score: 1.0000\n",
            "\n",
            " ---------------------------------------------------------------------------------------------------------------------------------------------------------------------------------------------------------------------------------------------------------------------------------------------------------------------------------------------------------------------------------------------------------------------------------------------------------------------------------------------------------------------------------------------------------------------------------------------------------------------------------------------------------------------------------------------------------------------------------------------------------------------------------------------------------------------------------------------------------------------------------------------------------------------------------------------------------------------------------------------------------------------------------------- \n",
            "\n",
            "/content/drive/MyDrive/FilteredNivkhTxt/a429_nd/n.txt /content/drive/MyDrive/FilteredNivkhTxt/a429_nd/r.txt\n"
          ]
        },
        {
          "output_type": "stream",
          "name": "stderr",
          "text": [
            "WARNING:root:can not fetch index db\n"
          ]
        },
        {
          "output_type": "stream",
          "name": "stdout",
          "text": [
            "Aligning without segments.\n",
            "tasks amount: 1\n",
            "batch: 0 (0)\n",
            "conflicts to solve: 0\n",
            "total conflicts: 2\n"
          ]
        },
        {
          "output_type": "stream",
          "name": "stderr",
          "text": [
            "\n",
            "0it [00:00, ?it/s]\n"
          ]
        },
        {
          "output_type": "stream",
          "name": "stdout",
          "text": [
            "conflicts to solve: 0\n",
            "total conflicts: 1\n"
          ]
        },
        {
          "output_type": "stream",
          "name": "stderr",
          "text": [
            "\n",
            "0it [00:00, ?it/s]\n"
          ]
        },
        {
          "output_type": "stream",
          "name": "stdout",
          "text": [
            "conflicts to solve: 1\n",
            "total conflicts: 1\n"
          ]
        },
        {
          "output_type": "stream",
          "name": "stderr",
          "text": [
            "\n",
            "  0%|          | 0/1 [00:00<?, ?it/s]\u001b[A\n",
            "100%|██████████| 1/1 [00:00<00:00,  1.07it/s]\n"
          ]
        },
        {
          "output_type": "stream",
          "name": "stdout",
          "text": [
            "conflicts to solve: 0\n",
            "total conflicts: 0\n"
          ]
        },
        {
          "output_type": "stream",
          "name": "stderr",
          "text": [
            "\n",
            "0it [00:00, ?it/s]\n"
          ]
        },
        {
          "output_type": "stream",
          "name": "stdout",
          "text": [
            "N: 17 --> 4\n",
            "R: 14 --> 4\n",
            "Chain score: 1.0000\n",
            "\n",
            " ---------------------------------------------------------------------------------------------------------------------------------------------------------------------------------------------------------------------------------------------------------------------------------------------------------------------------------------------------------------------------------------------------------------------------------------------------------------------------------------------------------------------------------------------------------------------------------------------------------------------------------------------------------------------------------------------------------------------------------------------------------------------------------------------------------------------------------------------------------------------------------------------------------------------------------------------------------------------------------------------------------------------------------------- \n",
            "\n",
            "/content/drive/MyDrive/FilteredNivkhTxt/a158_bible/n.txt /content/drive/MyDrive/FilteredNivkhTxt/a158_bible/r.txt\n"
          ]
        },
        {
          "output_type": "stream",
          "name": "stderr",
          "text": [
            "WARNING:root:can not fetch index db\n"
          ]
        },
        {
          "output_type": "stream",
          "name": "stdout",
          "text": [
            "Aligning without segments.\n",
            "tasks amount: 1\n",
            "batch: 0 (0)\n",
            "conflicts to solve: 6\n",
            "total conflicts: 7\n"
          ]
        },
        {
          "output_type": "stream",
          "name": "stderr",
          "text": [
            "\n",
            "  0%|          | 0/6 [00:00<?, ?it/s]\u001b[A\n",
            " 33%|███▎      | 2/6 [00:00<00:00, 16.99it/s]\u001b[A\n",
            " 67%|██████▋   | 4/6 [00:00<00:00, 16.30it/s]\u001b[A\n",
            "100%|██████████| 6/6 [00:00<00:00, 15.87it/s]\n"
          ]
        },
        {
          "output_type": "stream",
          "name": "stdout",
          "text": [
            "conflicts to solve: 0\n",
            "total conflicts: 1\n"
          ]
        },
        {
          "output_type": "stream",
          "name": "stderr",
          "text": [
            "\n",
            "0it [00:00, ?it/s]\n"
          ]
        },
        {
          "output_type": "stream",
          "name": "stdout",
          "text": [
            "conflicts to solve: 0\n",
            "total conflicts: 0\n"
          ]
        },
        {
          "output_type": "stream",
          "name": "stderr",
          "text": [
            "\n",
            "0it [00:00, ?it/s]\n"
          ]
        },
        {
          "output_type": "stream",
          "name": "stdout",
          "text": [
            "conflicts to solve: 1\n",
            "total conflicts: 1\n"
          ]
        },
        {
          "output_type": "stream",
          "name": "stderr",
          "text": [
            "\n",
            "  0%|          | 0/1 [00:00<?, ?it/s]\u001b[A\n",
            "100%|██████████| 1/1 [00:00<00:00,  3.39it/s]\n"
          ]
        },
        {
          "output_type": "stream",
          "name": "stdout",
          "text": [
            "N: 34 --> 22\n",
            "R: 34 --> 22\n",
            "Chain score: 1.0000\n",
            "\n",
            " ---------------------------------------------------------------------------------------------------------------------------------------------------------------------------------------------------------------------------------------------------------------------------------------------------------------------------------------------------------------------------------------------------------------------------------------------------------------------------------------------------------------------------------------------------------------------------------------------------------------------------------------------------------------------------------------------------------------------------------------------------------------------------------------------------------------------------------------------------------------------------------------------------------------------------------------------------------------------------------------------------------------------------------------- \n",
            "\n",
            "/content/drive/MyDrive/FilteredNivkhTxt/a343_nd/n.txt /content/drive/MyDrive/FilteredNivkhTxt/a343_nd/r.txt\n"
          ]
        },
        {
          "output_type": "stream",
          "name": "stderr",
          "text": [
            "WARNING:root:can not fetch index db\n"
          ]
        },
        {
          "output_type": "stream",
          "name": "stdout",
          "text": [
            "Aligning without segments.\n",
            "tasks amount: 1\n",
            "batch: 0 (0)\n",
            "conflicts to solve: 3\n",
            "total conflicts: 3\n"
          ]
        },
        {
          "output_type": "stream",
          "name": "stderr",
          "text": [
            "\n",
            "  0%|          | 0/3 [00:00<?, ?it/s]\u001b[A\n",
            " 33%|███▎      | 1/3 [00:00<00:00,  9.62it/s]\u001b[A\n",
            "100%|██████████| 3/3 [00:00<00:00, 14.29it/s]\n"
          ]
        },
        {
          "output_type": "stream",
          "name": "stdout",
          "text": [
            "conflicts to solve: 0\n",
            "total conflicts: 0\n"
          ]
        },
        {
          "output_type": "stream",
          "name": "stderr",
          "text": [
            "\n",
            "0it [00:00, ?it/s]\n"
          ]
        },
        {
          "output_type": "stream",
          "name": "stdout",
          "text": [
            "N: 8 --> 2\n",
            "R: 5 --> 2\n",
            "Chain score: 1.0000\n",
            "\n",
            " ---------------------------------------------------------------------------------------------------------------------------------------------------------------------------------------------------------------------------------------------------------------------------------------------------------------------------------------------------------------------------------------------------------------------------------------------------------------------------------------------------------------------------------------------------------------------------------------------------------------------------------------------------------------------------------------------------------------------------------------------------------------------------------------------------------------------------------------------------------------------------------------------------------------------------------------------------------------------------------------------------------------------------------------- \n",
            "\n",
            "/content/drive/MyDrive/FilteredNivkhTxt/83_nd/n.txt /content/drive/MyDrive/FilteredNivkhTxt/83_nd/r.txt\n"
          ]
        },
        {
          "output_type": "stream",
          "name": "stderr",
          "text": [
            "WARNING:root:can not fetch index db\n"
          ]
        },
        {
          "output_type": "stream",
          "name": "stdout",
          "text": [
            "Aligning without segments.\n",
            "tasks amount: 1\n",
            "batch: 0 (0)\n",
            "conflicts to solve: 2\n",
            "total conflicts: 4\n"
          ]
        },
        {
          "output_type": "stream",
          "name": "stderr",
          "text": [
            "\n",
            "  0%|          | 0/2 [00:00<?, ?it/s]\u001b[A\n",
            "100%|██████████| 2/2 [00:00<00:00, 12.94it/s]\n"
          ]
        },
        {
          "output_type": "stream",
          "name": "stdout",
          "text": [
            "conflicts to solve: 2\n",
            "total conflicts: 2\n"
          ]
        },
        {
          "output_type": "stream",
          "name": "stderr",
          "text": [
            "\n",
            "  0%|          | 0/2 [00:00<?, ?it/s]\u001b[A\n",
            "100%|██████████| 2/2 [00:00<00:00,  6.24it/s]\n"
          ]
        },
        {
          "output_type": "stream",
          "name": "stdout",
          "text": [
            "conflicts to solve: 0\n",
            "total conflicts: 0\n"
          ]
        },
        {
          "output_type": "stream",
          "name": "stderr",
          "text": [
            "\n",
            "0it [00:00, ?it/s]\n"
          ]
        },
        {
          "output_type": "stream",
          "name": "stdout",
          "text": [
            "N: 24 --> 5\n",
            "R: 21 --> 5\n",
            "Chain score: 1.0000\n",
            "\n",
            " ---------------------------------------------------------------------------------------------------------------------------------------------------------------------------------------------------------------------------------------------------------------------------------------------------------------------------------------------------------------------------------------------------------------------------------------------------------------------------------------------------------------------------------------------------------------------------------------------------------------------------------------------------------------------------------------------------------------------------------------------------------------------------------------------------------------------------------------------------------------------------------------------------------------------------------------------------------------------------------------------------------------------------------------- \n",
            "\n",
            "/content/drive/MyDrive/FilteredNivkhTxt/a302_nd/n.txt /content/drive/MyDrive/FilteredNivkhTxt/a302_nd/r.txt\n"
          ]
        },
        {
          "output_type": "stream",
          "name": "stderr",
          "text": [
            "WARNING:root:can not fetch index db\n"
          ]
        },
        {
          "output_type": "stream",
          "name": "stdout",
          "text": [
            "Aligning without segments.\n",
            "tasks amount: 1\n",
            "batch: 0 (0)\n",
            "conflicts to solve: 0\n",
            "total conflicts: 1\n"
          ]
        },
        {
          "output_type": "stream",
          "name": "stderr",
          "text": [
            "\n",
            "0it [00:00, ?it/s]\n"
          ]
        },
        {
          "output_type": "stream",
          "name": "stdout",
          "text": [
            "conflicts to solve: 0\n",
            "total conflicts: 1\n"
          ]
        },
        {
          "output_type": "stream",
          "name": "stderr",
          "text": [
            "\n",
            "0it [00:00, ?it/s]\n"
          ]
        },
        {
          "output_type": "stream",
          "name": "stdout",
          "text": [
            "conflicts to solve: 1\n",
            "total conflicts: 1\n"
          ]
        },
        {
          "output_type": "stream",
          "name": "stderr",
          "text": [
            "\n",
            "  0%|          | 0/1 [00:00<?, ?it/s]\u001b[A\n",
            "100%|██████████| 1/1 [00:00<00:00,  1.37it/s]\n"
          ]
        },
        {
          "output_type": "stream",
          "name": "stdout",
          "text": [
            "conflicts to solve: 0\n",
            "total conflicts: 0\n"
          ]
        },
        {
          "output_type": "stream",
          "name": "stderr",
          "text": [
            "\n",
            "0it [00:00, ?it/s]\n"
          ]
        },
        {
          "output_type": "stream",
          "name": "stdout",
          "text": [
            "N: 9 --> 3\n",
            "R: 13 --> 3\n",
            "Chain score: 1.0000\n",
            "\n",
            " ---------------------------------------------------------------------------------------------------------------------------------------------------------------------------------------------------------------------------------------------------------------------------------------------------------------------------------------------------------------------------------------------------------------------------------------------------------------------------------------------------------------------------------------------------------------------------------------------------------------------------------------------------------------------------------------------------------------------------------------------------------------------------------------------------------------------------------------------------------------------------------------------------------------------------------------------------------------------------------------------------------------------------------------- \n",
            "\n",
            "/content/drive/MyDrive/FilteredNivkhTxt/a312_nd/n.txt /content/drive/MyDrive/FilteredNivkhTxt/a312_nd/r.txt\n"
          ]
        },
        {
          "output_type": "stream",
          "name": "stderr",
          "text": [
            "WARNING:root:can not fetch index db\n"
          ]
        },
        {
          "output_type": "stream",
          "name": "stdout",
          "text": [
            "Aligning without segments.\n",
            "tasks amount: 1\n",
            "batch: 0 (0)\n",
            "conflicts to solve: 0\n",
            "total conflicts: 1\n"
          ]
        },
        {
          "output_type": "stream",
          "name": "stderr",
          "text": [
            "\n",
            "0it [00:00, ?it/s]\n"
          ]
        },
        {
          "output_type": "stream",
          "name": "stdout",
          "text": [
            "conflicts to solve: 0\n",
            "total conflicts: 0\n"
          ]
        },
        {
          "output_type": "stream",
          "name": "stderr",
          "text": [
            "\n",
            "0it [00:00, ?it/s]\n"
          ]
        },
        {
          "output_type": "stream",
          "name": "stdout",
          "text": [
            "conflicts to solve: 1\n",
            "total conflicts: 1\n"
          ]
        },
        {
          "output_type": "stream",
          "name": "stderr",
          "text": [
            "\n",
            "  0%|          | 0/1 [00:00<?, ?it/s]\u001b[A\n",
            "100%|██████████| 1/1 [00:00<00:00,  3.86it/s]\n"
          ]
        },
        {
          "output_type": "stream",
          "name": "stdout",
          "text": [
            "N: 15 --> 5\n",
            "R: 16 --> 5\n",
            "Chain score: 0.7059\n",
            "\n",
            " ---------------------------------------------------------------------------------------------------------------------------------------------------------------------------------------------------------------------------------------------------------------------------------------------------------------------------------------------------------------------------------------------------------------------------------------------------------------------------------------------------------------------------------------------------------------------------------------------------------------------------------------------------------------------------------------------------------------------------------------------------------------------------------------------------------------------------------------------------------------------------------------------------------------------------------------------------------------------------------------------------------------------------------------- \n",
            "\n",
            "/content/drive/MyDrive/FilteredNivkhTxt/a353_nd/n.txt /content/drive/MyDrive/FilteredNivkhTxt/a353_nd/r.txt\n"
          ]
        },
        {
          "output_type": "stream",
          "name": "stderr",
          "text": [
            "WARNING:root:can not fetch index db\n"
          ]
        },
        {
          "output_type": "stream",
          "name": "stdout",
          "text": [
            "Aligning without segments.\n",
            "tasks amount: 1\n",
            "batch: 0 (0)\n",
            "conflicts to solve: 2\n",
            "total conflicts: 3\n"
          ]
        },
        {
          "output_type": "stream",
          "name": "stderr",
          "text": [
            "\n",
            "  0%|          | 0/2 [00:00<?, ?it/s]\u001b[A\n",
            "100%|██████████| 2/2 [00:00<00:00,  8.34it/s]\n"
          ]
        },
        {
          "output_type": "stream",
          "name": "stdout",
          "text": [
            "conflicts to solve: 1\n",
            "total conflicts: 1\n"
          ]
        },
        {
          "output_type": "stream",
          "name": "stderr",
          "text": [
            "\n",
            "  0%|          | 0/1 [00:00<?, ?it/s]\u001b[A\n",
            "100%|██████████| 1/1 [00:00<00:00,  6.40it/s]\n"
          ]
        },
        {
          "output_type": "stream",
          "name": "stdout",
          "text": [
            "conflicts to solve: 0\n",
            "total conflicts: 0\n"
          ]
        },
        {
          "output_type": "stream",
          "name": "stderr",
          "text": [
            "\n",
            "0it [00:00, ?it/s]\n"
          ]
        },
        {
          "output_type": "stream",
          "name": "stdout",
          "text": [
            "N: 20 --> 7\n",
            "R: 19 --> 7\n",
            "Chain score: 0.8947\n",
            "\n",
            " ---------------------------------------------------------------------------------------------------------------------------------------------------------------------------------------------------------------------------------------------------------------------------------------------------------------------------------------------------------------------------------------------------------------------------------------------------------------------------------------------------------------------------------------------------------------------------------------------------------------------------------------------------------------------------------------------------------------------------------------------------------------------------------------------------------------------------------------------------------------------------------------------------------------------------------------------------------------------------------------------------------------------------------------- \n",
            "\n",
            "/content/drive/MyDrive/FilteredNivkhTxt/a114_nd/n.txt /content/drive/MyDrive/FilteredNivkhTxt/a114_nd/r.txt\n"
          ]
        },
        {
          "output_type": "stream",
          "name": "stderr",
          "text": [
            "WARNING:root:can not fetch index db\n"
          ]
        },
        {
          "output_type": "stream",
          "name": "stdout",
          "text": [
            "Aligning without segments.\n",
            "tasks amount: 1\n",
            "batch: 0 (0)\n",
            "conflicts to solve: 0\n",
            "total conflicts: 1\n"
          ]
        },
        {
          "output_type": "stream",
          "name": "stderr",
          "text": [
            "\n",
            "0it [00:00, ?it/s]\n"
          ]
        },
        {
          "output_type": "stream",
          "name": "stdout",
          "text": [
            "conflicts to solve: 0\n",
            "total conflicts: 0\n"
          ]
        },
        {
          "output_type": "stream",
          "name": "stderr",
          "text": [
            "\n",
            "0it [00:00, ?it/s]\n"
          ]
        },
        {
          "output_type": "stream",
          "name": "stdout",
          "text": [
            "conflicts to solve: 1\n",
            "total conflicts: 1\n"
          ]
        },
        {
          "output_type": "stream",
          "name": "stderr",
          "text": [
            "\n",
            "  0%|          | 0/1 [00:00<?, ?it/s]\u001b[A\n",
            "100%|██████████| 1/1 [00:00<00:00,  2.23it/s]\n"
          ]
        },
        {
          "output_type": "stream",
          "name": "stdout",
          "text": [
            "N: 16 --> 6\n",
            "R: 14 --> 6\n",
            "Chain score: 1.0000\n",
            "\n",
            " ---------------------------------------------------------------------------------------------------------------------------------------------------------------------------------------------------------------------------------------------------------------------------------------------------------------------------------------------------------------------------------------------------------------------------------------------------------------------------------------------------------------------------------------------------------------------------------------------------------------------------------------------------------------------------------------------------------------------------------------------------------------------------------------------------------------------------------------------------------------------------------------------------------------------------------------------------------------------------------------------------------------------------------------- \n",
            "\n",
            "/content/drive/MyDrive/FilteredNivkhTxt/a252_nd/n.txt /content/drive/MyDrive/FilteredNivkhTxt/a252_nd/r.txt\n"
          ]
        },
        {
          "output_type": "stream",
          "name": "stderr",
          "text": [
            "WARNING:root:can not fetch index db\n"
          ]
        },
        {
          "output_type": "stream",
          "name": "stdout",
          "text": [
            "Aligning without segments.\n",
            "tasks amount: 1\n",
            "batch: 0 (0)\n",
            "conflicts to solve: 3\n",
            "total conflicts: 3\n"
          ]
        },
        {
          "output_type": "stream",
          "name": "stderr",
          "text": [
            "\n",
            "  0%|          | 0/3 [00:00<?, ?it/s]\u001b[A\n",
            "100%|██████████| 3/3 [00:00<00:00, 11.32it/s]\n"
          ]
        },
        {
          "output_type": "stream",
          "name": "stdout",
          "text": [
            "conflicts to solve: 0\n",
            "total conflicts: 0\n"
          ]
        },
        {
          "output_type": "stream",
          "name": "stderr",
          "text": [
            "\n",
            "0it [00:00, ?it/s]\n"
          ]
        },
        {
          "output_type": "stream",
          "name": "stdout",
          "text": [
            "N: 14 --> 6\n",
            "R: 12 --> 6\n",
            "Chain score: 1.0000\n",
            "\n",
            " ---------------------------------------------------------------------------------------------------------------------------------------------------------------------------------------------------------------------------------------------------------------------------------------------------------------------------------------------------------------------------------------------------------------------------------------------------------------------------------------------------------------------------------------------------------------------------------------------------------------------------------------------------------------------------------------------------------------------------------------------------------------------------------------------------------------------------------------------------------------------------------------------------------------------------------------------------------------------------------------------------------------------------------------- \n",
            "\n",
            "/content/drive/MyDrive/FilteredNivkhTxt/70_nd/n.txt /content/drive/MyDrive/FilteredNivkhTxt/70_nd/r.txt\n",
            "Aligning without segments.\n",
            "tasks amount: 1\n",
            "batch: 0 (0)\n"
          ]
        },
        {
          "output_type": "stream",
          "name": "stderr",
          "text": [
            "WARNING:root:can not fetch index db\n"
          ]
        },
        {
          "output_type": "stream",
          "name": "stdout",
          "text": [
            "conflicts to solve: 2\n",
            "total conflicts: 5\n"
          ]
        },
        {
          "output_type": "stream",
          "name": "stderr",
          "text": [
            "\n",
            "  0%|          | 0/2 [00:00<?, ?it/s]\u001b[A\n",
            "100%|██████████| 2/2 [00:00<00:00, 10.93it/s]\n"
          ]
        },
        {
          "output_type": "stream",
          "name": "stdout",
          "text": [
            "conflicts to solve: 0\n",
            "total conflicts: 1\n"
          ]
        },
        {
          "output_type": "stream",
          "name": "stderr",
          "text": [
            "\n",
            "0it [00:00, ?it/s]\n"
          ]
        },
        {
          "output_type": "stream",
          "name": "stdout",
          "text": [
            "conflicts to solve: 0\n",
            "total conflicts: 1\n"
          ]
        },
        {
          "output_type": "stream",
          "name": "stderr",
          "text": [
            "\n",
            "0it [00:00, ?it/s]\n"
          ]
        },
        {
          "output_type": "stream",
          "name": "stdout",
          "text": [
            "conflicts to solve: 3\n",
            "total conflicts: 3\n"
          ]
        },
        {
          "output_type": "stream",
          "name": "stderr",
          "text": [
            "\n",
            "  0%|          | 0/3 [00:00<?, ?it/s]\u001b[A\n",
            " 33%|███▎      | 1/3 [00:01<00:02,  1.48s/it]\u001b[A\n",
            " 67%|██████▋   | 2/3 [00:22<00:12, 12.95s/it]\u001b[A\n",
            "100%|██████████| 3/3 [00:22<00:00,  7.53s/it]\n"
          ]
        },
        {
          "output_type": "stream",
          "name": "stdout",
          "text": [
            "N: 51 --> 16\n",
            "R: 49 --> 16\n",
            "Chain score: 1.0000\n",
            "\n",
            " ---------------------------------------------------------------------------------------------------------------------------------------------------------------------------------------------------------------------------------------------------------------------------------------------------------------------------------------------------------------------------------------------------------------------------------------------------------------------------------------------------------------------------------------------------------------------------------------------------------------------------------------------------------------------------------------------------------------------------------------------------------------------------------------------------------------------------------------------------------------------------------------------------------------------------------------------------------------------------------------------------------------------------------------- \n",
            "\n",
            "/content/drive/MyDrive/FilteredNivkhTxt/93_nd/n.txt /content/drive/MyDrive/FilteredNivkhTxt/93_nd/r.txt\n",
            "Aligning without segments.\n",
            "tasks amount: 1\n",
            "batch: 0 (0)\n"
          ]
        },
        {
          "output_type": "stream",
          "name": "stderr",
          "text": [
            "WARNING:root:can not fetch index db\n"
          ]
        },
        {
          "output_type": "stream",
          "name": "stdout",
          "text": [
            "conflicts to solve: 3\n",
            "total conflicts: 5\n"
          ]
        },
        {
          "output_type": "stream",
          "name": "stderr",
          "text": [
            "\n",
            "  0%|          | 0/3 [00:00<?, ?it/s]\u001b[A\n",
            "100%|██████████| 3/3 [00:00<00:00, 18.89it/s]\n"
          ]
        },
        {
          "output_type": "stream",
          "name": "stdout",
          "text": [
            "conflicts to solve: 2\n",
            "total conflicts: 2\n"
          ]
        },
        {
          "output_type": "stream",
          "name": "stderr",
          "text": [
            "\n",
            "  0%|          | 0/2 [00:00<?, ?it/s]\u001b[A\n",
            " 50%|█████     | 1/2 [00:00<00:00,  7.80it/s]\u001b[A\n",
            "100%|██████████| 2/2 [00:00<00:00,  3.95it/s]\n"
          ]
        },
        {
          "output_type": "stream",
          "name": "stdout",
          "text": [
            "conflicts to solve: 0\n",
            "total conflicts: 0\n"
          ]
        },
        {
          "output_type": "stream",
          "name": "stderr",
          "text": [
            "\n",
            "0it [00:00, ?it/s]\n"
          ]
        },
        {
          "output_type": "stream",
          "name": "stdout",
          "text": [
            "N: 23 --> 4\n",
            "R: 23 --> 4\n",
            "Chain score: 1.0000\n",
            "\n",
            " ---------------------------------------------------------------------------------------------------------------------------------------------------------------------------------------------------------------------------------------------------------------------------------------------------------------------------------------------------------------------------------------------------------------------------------------------------------------------------------------------------------------------------------------------------------------------------------------------------------------------------------------------------------------------------------------------------------------------------------------------------------------------------------------------------------------------------------------------------------------------------------------------------------------------------------------------------------------------------------------------------------------------------------------- \n",
            "\n",
            "/content/drive/MyDrive/FilteredNivkhTxt/a242_nd/n.txt /content/drive/MyDrive/FilteredNivkhTxt/a242_nd/r.txt\n",
            "Aligning without segments.\n",
            "tasks amount: 1\n",
            "batch: 0 (0)\n"
          ]
        },
        {
          "output_type": "stream",
          "name": "stderr",
          "text": [
            "WARNING:root:can not fetch index db\n"
          ]
        },
        {
          "output_type": "stream",
          "name": "stdout",
          "text": [
            "conflicts to solve: 2\n",
            "total conflicts: 3\n"
          ]
        },
        {
          "output_type": "stream",
          "name": "stderr",
          "text": [
            "\n",
            "  0%|          | 0/2 [00:00<?, ?it/s]\u001b[A\n",
            "100%|██████████| 2/2 [00:00<00:00, 11.24it/s]\n"
          ]
        },
        {
          "output_type": "stream",
          "name": "stdout",
          "text": [
            "conflicts to solve: 1\n",
            "total conflicts: 1\n"
          ]
        },
        {
          "output_type": "stream",
          "name": "stderr",
          "text": [
            "\n",
            "  0%|          | 0/1 [00:00<?, ?it/s]\u001b[A\n",
            "100%|██████████| 1/1 [00:00<00:00,  6.62it/s]\n"
          ]
        },
        {
          "output_type": "stream",
          "name": "stdout",
          "text": [
            "conflicts to solve: 0\n",
            "total conflicts: 0\n"
          ]
        },
        {
          "output_type": "stream",
          "name": "stderr",
          "text": [
            "\n",
            "0it [00:00, ?it/s]\n"
          ]
        },
        {
          "output_type": "stream",
          "name": "stdout",
          "text": [
            "N: 28 --> 6\n",
            "R: 29 --> 6\n",
            "Chain score: 0.6786\n",
            "Skipping saving due to low chain_score: 0.6786\n",
            "\n",
            " ---------------------------------------------------------------------------------------------------------------------------------------------------------------------------------------------------------------------------------------------------------------------------------------------------------------------------------------------------------------------------------------------------------------------------------------------------------------------------------------------------------------------------------------------------------------------------------------------------------------------------------------------------------------------------------------------------------------------------------------------------------------------------------------------------------------------------------------------------------------------------------------------------------------------------------------------------------------------------------------------------------------------------------------- \n",
            "\n",
            "/content/drive/MyDrive/FilteredNivkhTxt/a377_nd/n.txt /content/drive/MyDrive/FilteredNivkhTxt/a377_nd/r.txt\n"
          ]
        },
        {
          "output_type": "stream",
          "name": "stderr",
          "text": [
            "WARNING:root:can not fetch index db\n"
          ]
        },
        {
          "output_type": "stream",
          "name": "stdout",
          "text": [
            "Aligning without segments.\n",
            "tasks amount: 1\n",
            "batch: 0 (0)\n",
            "conflicts to solve: 0\n",
            "total conflicts: 0\n"
          ]
        },
        {
          "output_type": "stream",
          "name": "stderr",
          "text": [
            "\n",
            "0it [00:00, ?it/s]\n"
          ]
        },
        {
          "output_type": "stream",
          "name": "stdout",
          "text": [
            "conflicts to solve: 0\n",
            "total conflicts: 0\n"
          ]
        },
        {
          "output_type": "stream",
          "name": "stderr",
          "text": [
            "\n",
            "0it [00:00, ?it/s]\n"
          ]
        },
        {
          "output_type": "stream",
          "name": "stdout",
          "text": [
            "N: 10 --> 1\n",
            "R: 9 --> 1\n",
            "Chain score: 0.1111\n",
            "Skipping saving due to low chain_score: 0.1111\n",
            "\n",
            " ---------------------------------------------------------------------------------------------------------------------------------------------------------------------------------------------------------------------------------------------------------------------------------------------------------------------------------------------------------------------------------------------------------------------------------------------------------------------------------------------------------------------------------------------------------------------------------------------------------------------------------------------------------------------------------------------------------------------------------------------------------------------------------------------------------------------------------------------------------------------------------------------------------------------------------------------------------------------------------------------------------------------------------------- \n",
            "\n",
            "/content/drive/MyDrive/FilteredNivkhTxt/a384_nd/n.txt /content/drive/MyDrive/FilteredNivkhTxt/a384_nd/r.txt\n"
          ]
        },
        {
          "output_type": "stream",
          "name": "stderr",
          "text": [
            "WARNING:root:can not fetch index db\n"
          ]
        },
        {
          "output_type": "stream",
          "name": "stdout",
          "text": [
            "Aligning without segments.\n",
            "tasks amount: 1\n",
            "batch: 0 (0)\n",
            "conflicts to solve: 1\n",
            "total conflicts: 1\n"
          ]
        },
        {
          "output_type": "stream",
          "name": "stderr",
          "text": [
            "\n",
            "100%|██████████| 1/1 [00:00<00:00, 18.11it/s]\n"
          ]
        },
        {
          "output_type": "stream",
          "name": "stdout",
          "text": [
            "conflicts to solve: 0\n",
            "total conflicts: 0\n"
          ]
        },
        {
          "output_type": "stream",
          "name": "stderr",
          "text": [
            "\n",
            "0it [00:00, ?it/s]\n"
          ]
        },
        {
          "output_type": "stream",
          "name": "stdout",
          "text": [
            "N: 8 --> 4\n",
            "R: 9 --> 4\n",
            "Chain score: 1.0000\n",
            "\n",
            " ---------------------------------------------------------------------------------------------------------------------------------------------------------------------------------------------------------------------------------------------------------------------------------------------------------------------------------------------------------------------------------------------------------------------------------------------------------------------------------------------------------------------------------------------------------------------------------------------------------------------------------------------------------------------------------------------------------------------------------------------------------------------------------------------------------------------------------------------------------------------------------------------------------------------------------------------------------------------------------------------------------------------------------------- \n",
            "\n",
            "/content/drive/MyDrive/FilteredNivkhTxt/a326_nd/n.txt /content/drive/MyDrive/FilteredNivkhTxt/a326_nd/r.txt\n",
            "Aligning without segments.\n",
            "tasks amount: 1\n",
            "batch: 0 (0)\n"
          ]
        },
        {
          "output_type": "stream",
          "name": "stderr",
          "text": [
            "WARNING:root:can not fetch index db\n"
          ]
        },
        {
          "output_type": "stream",
          "name": "stdout",
          "text": [
            "conflicts to solve: 4\n",
            "total conflicts: 4\n"
          ]
        },
        {
          "output_type": "stream",
          "name": "stderr",
          "text": [
            "\n",
            "  0%|          | 0/4 [00:00<?, ?it/s]\u001b[A\n",
            " 25%|██▌       | 1/4 [00:00<00:00,  8.40it/s]\u001b[A\n",
            " 50%|█████     | 2/4 [00:00<00:00,  9.06it/s]\u001b[A\n",
            "100%|██████████| 4/4 [00:00<00:00,  9.12it/s]\n"
          ]
        },
        {
          "output_type": "stream",
          "name": "stdout",
          "text": [
            "conflicts to solve: 0\n",
            "total conflicts: 0\n"
          ]
        },
        {
          "output_type": "stream",
          "name": "stderr",
          "text": [
            "\n",
            "0it [00:00, ?it/s]\n"
          ]
        },
        {
          "output_type": "stream",
          "name": "stdout",
          "text": [
            "N: 19 --> 7\n",
            "R: 19 --> 7\n",
            "Chain score: 1.0000\n",
            "\n",
            " ---------------------------------------------------------------------------------------------------------------------------------------------------------------------------------------------------------------------------------------------------------------------------------------------------------------------------------------------------------------------------------------------------------------------------------------------------------------------------------------------------------------------------------------------------------------------------------------------------------------------------------------------------------------------------------------------------------------------------------------------------------------------------------------------------------------------------------------------------------------------------------------------------------------------------------------------------------------------------------------------------------------------------------------- \n",
            "\n",
            "/content/drive/MyDrive/FilteredNivkhTxt/a439_nd/n.txt /content/drive/MyDrive/FilteredNivkhTxt/a439_nd/r.txt\n"
          ]
        },
        {
          "output_type": "stream",
          "name": "stderr",
          "text": [
            "WARNING:root:can not fetch index db\n"
          ]
        },
        {
          "output_type": "stream",
          "name": "stdout",
          "text": [
            "Aligning without segments.\n",
            "tasks amount: 1\n",
            "batch: 0 (0)\n",
            "conflicts to solve: 0\n",
            "total conflicts: 0\n"
          ]
        },
        {
          "output_type": "stream",
          "name": "stderr",
          "text": [
            "\n",
            "0it [00:00, ?it/s]\n"
          ]
        },
        {
          "output_type": "stream",
          "name": "stdout",
          "text": [
            "conflicts to solve: 0\n",
            "total conflicts: 0\n"
          ]
        },
        {
          "output_type": "stream",
          "name": "stderr",
          "text": [
            "\n",
            "0it [00:00, ?it/s]\n"
          ]
        },
        {
          "output_type": "stream",
          "name": "stdout",
          "text": [
            "N: 3 --> 2\n",
            "R: 4 --> 2\n",
            "Chain score: 1.0000\n",
            "\n",
            " ---------------------------------------------------------------------------------------------------------------------------------------------------------------------------------------------------------------------------------------------------------------------------------------------------------------------------------------------------------------------------------------------------------------------------------------------------------------------------------------------------------------------------------------------------------------------------------------------------------------------------------------------------------------------------------------------------------------------------------------------------------------------------------------------------------------------------------------------------------------------------------------------------------------------------------------------------------------------------------------------------------------------------------------- \n",
            "\n",
            "/content/drive/MyDrive/FilteredNivkhTxt/a295_nd/n.txt /content/drive/MyDrive/FilteredNivkhTxt/a295_nd/r.txt\n",
            "Aligning without segments.\n",
            "tasks amount: 1\n",
            "batch: 0 (0)\n"
          ]
        },
        {
          "output_type": "stream",
          "name": "stderr",
          "text": [
            "WARNING:root:can not fetch index db\n"
          ]
        },
        {
          "output_type": "stream",
          "name": "stdout",
          "text": [
            "conflicts to solve: 5\n",
            "total conflicts: 8\n"
          ]
        },
        {
          "output_type": "stream",
          "name": "stderr",
          "text": [
            "\n",
            "  0%|          | 0/5 [00:00<?, ?it/s]\u001b[A\n",
            " 40%|████      | 2/5 [00:00<00:00, 14.86it/s]\u001b[A\n",
            "100%|██████████| 5/5 [00:00<00:00, 11.96it/s]\n"
          ]
        },
        {
          "output_type": "stream",
          "name": "stdout",
          "text": [
            "conflicts to solve: 3\n",
            "total conflicts: 3\n"
          ]
        },
        {
          "output_type": "stream",
          "name": "stderr",
          "text": [
            "\n",
            "  0%|          | 0/3 [00:00<?, ?it/s]\u001b[A\n",
            " 33%|███▎      | 1/3 [00:00<00:00,  2.01it/s]\u001b[A\n",
            " 67%|██████▋   | 2/3 [00:00<00:00,  3.13it/s]\u001b[A\n",
            "100%|██████████| 3/3 [00:00<00:00,  3.26it/s]\n"
          ]
        },
        {
          "output_type": "stream",
          "name": "stdout",
          "text": [
            "conflicts to solve: 0\n",
            "total conflicts: 0\n"
          ]
        },
        {
          "output_type": "stream",
          "name": "stderr",
          "text": [
            "\n",
            "0it [00:00, ?it/s]\n"
          ]
        },
        {
          "output_type": "stream",
          "name": "stdout",
          "text": [
            "N: 51 --> 17\n",
            "R: 36 --> 17\n",
            "Chain score: 1.0000\n",
            "\n",
            " ---------------------------------------------------------------------------------------------------------------------------------------------------------------------------------------------------------------------------------------------------------------------------------------------------------------------------------------------------------------------------------------------------------------------------------------------------------------------------------------------------------------------------------------------------------------------------------------------------------------------------------------------------------------------------------------------------------------------------------------------------------------------------------------------------------------------------------------------------------------------------------------------------------------------------------------------------------------------------------------------------------------------------------------- \n",
            "\n",
            "/content/drive/MyDrive/FilteredNivkhTxt/a266_nd/n.txt /content/drive/MyDrive/FilteredNivkhTxt/a266_nd/r.txt\n"
          ]
        },
        {
          "output_type": "stream",
          "name": "stderr",
          "text": [
            "WARNING:root:can not fetch index db\n"
          ]
        },
        {
          "output_type": "stream",
          "name": "stdout",
          "text": [
            "Aligning without segments.\n",
            "tasks amount: 1\n",
            "batch: 0 (0)\n",
            "conflicts to solve: 0\n",
            "total conflicts: 1\n"
          ]
        },
        {
          "output_type": "stream",
          "name": "stderr",
          "text": [
            "\n",
            "0it [00:00, ?it/s]\n"
          ]
        },
        {
          "output_type": "stream",
          "name": "stdout",
          "text": [
            "conflicts to solve: 0\n",
            "total conflicts: 0\n"
          ]
        },
        {
          "output_type": "stream",
          "name": "stderr",
          "text": [
            "\n",
            "0it [00:00, ?it/s]\n"
          ]
        },
        {
          "output_type": "stream",
          "name": "stdout",
          "text": [
            "conflicts to solve: 1\n",
            "total conflicts: 1\n"
          ]
        },
        {
          "output_type": "stream",
          "name": "stderr",
          "text": [
            "\n",
            "  0%|          | 0/1 [00:00<?, ?it/s]\u001b[A\n",
            "100%|██████████| 1/1 [00:00<00:00,  5.65it/s]\n"
          ]
        },
        {
          "output_type": "stream",
          "name": "stdout",
          "text": [
            "N: 12 --> 5\n",
            "R: 12 --> 5\n",
            "Chain score: 0.9231\n",
            "\n",
            " ---------------------------------------------------------------------------------------------------------------------------------------------------------------------------------------------------------------------------------------------------------------------------------------------------------------------------------------------------------------------------------------------------------------------------------------------------------------------------------------------------------------------------------------------------------------------------------------------------------------------------------------------------------------------------------------------------------------------------------------------------------------------------------------------------------------------------------------------------------------------------------------------------------------------------------------------------------------------------------------------------------------------------------------- \n",
            "\n",
            "/content/drive/MyDrive/FilteredNivkhTxt/a104_nd/n.txt /content/drive/MyDrive/FilteredNivkhTxt/a104_nd/r.txt\n"
          ]
        },
        {
          "output_type": "stream",
          "name": "stderr",
          "text": [
            "WARNING:root:can not fetch index db\n"
          ]
        },
        {
          "output_type": "stream",
          "name": "stdout",
          "text": [
            "Aligning without segments.\n",
            "tasks amount: 1\n",
            "batch: 0 (0)\n",
            "conflicts to solve: 2\n",
            "total conflicts: 2\n"
          ]
        },
        {
          "output_type": "stream",
          "name": "stderr",
          "text": [
            "\n",
            "  0%|          | 0/2 [00:00<?, ?it/s]\u001b[A\n",
            "100%|██████████| 2/2 [00:00<00:00, 12.07it/s]\n"
          ]
        },
        {
          "output_type": "stream",
          "name": "stdout",
          "text": [
            "conflicts to solve: 0\n",
            "total conflicts: 0\n"
          ]
        },
        {
          "output_type": "stream",
          "name": "stderr",
          "text": [
            "\n",
            "0it [00:00, ?it/s]\n"
          ]
        },
        {
          "output_type": "stream",
          "name": "stdout",
          "text": [
            "N: 9 --> 2\n",
            "R: 8 --> 2\n",
            "Chain score: 1.0000\n",
            "\n",
            " ---------------------------------------------------------------------------------------------------------------------------------------------------------------------------------------------------------------------------------------------------------------------------------------------------------------------------------------------------------------------------------------------------------------------------------------------------------------------------------------------------------------------------------------------------------------------------------------------------------------------------------------------------------------------------------------------------------------------------------------------------------------------------------------------------------------------------------------------------------------------------------------------------------------------------------------------------------------------------------------------------------------------------------------- \n",
            "\n",
            "331\n",
            "N.0: 7956\n",
            "R.0: 7700\n",
            "--> N_R: 2067\n",
            "N.f: 5889 (74.0%)\n",
            "R.f: 5633 (73.2%)\n"
          ]
        }
      ],
      "source": [
        "total_raw_n = 0\n",
        "total_raw_r = 0\n",
        "total_filtered = 0\n",
        "valid_files = []\n",
        "\n",
        "for root, dirs, files in tqdm(list(os.walk(ROOT_FOLDER))):\n",
        "    src_file = find_file(files, r'(n(_am)?\\.txt)')\n",
        "    tgt_file = find_file(files, r'r\\.txt')\n",
        "    if src_file and tgt_file:\n",
        "        path_n = os.path.join(root, src_file)\n",
        "        path_r = os.path.join(root, tgt_file)\n",
        "        print(path_n, path_r)\n",
        "        try:\n",
        "            filtered, raw_n, raw_r, out_path = align_texts(path_n, path_r, root)\n",
        "            total_filtered += filtered\n",
        "            total_raw_n += raw_n\n",
        "            total_raw_r += raw_r\n",
        "            valid_files.append(out_path)\n",
        "        except Exception as e:\n",
        "            print(f'Error in {root}: {e}')\n",
        "    print('\\n', '-'*1000, '\\n')\n",
        "\n",
        "print(len(valid_files)) # 253/331 (338 -- 7 с ошибкой)\n",
        "print(f'N.0: {total_raw_n}') # 7956 -- изначально нивхских предложений\n",
        "print(f'R.0: {total_raw_r}') # 7700 -- изначально русских предложений\n",
        "print(f'--> N_R: {total_filtered}') # 2067 -- получившиеся пары\n",
        "print(f'N.f: {total_raw_n - total_filtered} ({(total_raw_n - total_filtered)/total_raw_n:.1%})') # 5889 (74.0%) -- отфильтровано нивхских\n",
        "print(f'R.f: {total_raw_r - total_filtered} ({(total_raw_r - total_filtered)/total_raw_r:.1%})') # 5633 (73.2%) -- отфильтровано русских"
      ]
    },
    {
      "cell_type": "code",
      "source": [
        "import json\n",
        "\n",
        "valid_files = [f for f in valid_files if f != '']\n",
        "print(len(valid_files))\n",
        "with open('/content/drive/MyDrive/FilteredNivkhTxt/valid.json', 'w') as f:\n",
        "    json.dump(valid_files, f)"
      ],
      "metadata": {
        "colab": {
          "base_uri": "https://localhost:8080/"
        },
        "id": "aRa4GDFFg461",
        "outputId": "6cc7aad2-3626-44a6-d0f4-9fe3725e8e0d"
      },
      "execution_count": null,
      "outputs": [
        {
          "output_type": "stream",
          "name": "stdout",
          "text": [
            "253\n"
          ]
        }
      ]
    },
    {
      "cell_type": "code",
      "source": [
        "from tqdm.auto import tqdm\n",
        "import json\n",
        "import shutil\n",
        "import os\n",
        "\n",
        "with open('/content/drive/MyDrive/FilteredNivkhTxt/valid.json', 'r') as f:\n",
        "    valid_files = json.load(f)\n",
        "target_dir = '/content/drive/MyDrive/FilteredNivkhTxt/valid_files'\n",
        "os.makedirs(target_dir, exist_ok=True)\n",
        "for file_path in tqdm(valid_files):\n",
        "    src_subfolder = os.path.basename(os.path.dirname(file_path))\n",
        "    new_name = f'{src_subfolder}.txt'\n",
        "    new_path = os.path.join(target_dir, new_name)\n",
        "    shutil.copy(file_path, new_path)"
      ],
      "metadata": {
        "colab": {
          "base_uri": "https://localhost:8080/",
          "height": 49,
          "referenced_widgets": [
            "a192230f93d74def9f8e53d173701140",
            "512a3265f4744e7bbd377d1090a53c5f",
            "7e0a6867167e49c898696f078a1f36cf",
            "1adb91f0711747fbb4e69ee2c7896d4f",
            "4551910f79114fa79ae65bd306a4442d",
            "33c9db74c23b40c79d88cb396f7a3bed",
            "6f98d51f51114503802db2ce76b9ff2e",
            "4614447663744a61aa5b4f1984e3dad7",
            "c0d594de697a474094ad9a69e836f137",
            "64e89ab4ad9a4353b7a08e2b8f744bff",
            "a89ff74fae704a70b34a5454995d0c74"
          ]
        },
        "id": "IVbmj0-Henyv",
        "outputId": "290cc33b-726e-46ae-9970-762df2e9a39e"
      },
      "execution_count": null,
      "outputs": [
        {
          "output_type": "display_data",
          "data": {
            "text/plain": [
              "  0%|          | 0/253 [00:00<?, ?it/s]"
            ],
            "application/vnd.jupyter.widget-view+json": {
              "version_major": 2,
              "version_minor": 0,
              "model_id": "a192230f93d74def9f8e53d173701140"
            }
          },
          "metadata": {}
        }
      ]
    }
  ],
  "metadata": {
    "colab": {
      "provenance": [],
      "toc_visible": true
    },
    "kernelspec": {
      "display_name": "Python 3",
      "name": "python3"
    },
    "language_info": {
      "name": "python"
    }
  },
  "nbformat": 4,
  "nbformat_minor": 0
}